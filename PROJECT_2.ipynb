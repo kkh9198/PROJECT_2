{
 "cells": [
  {
   "cell_type": "code",
   "execution_count": 53,
   "metadata": {},
   "outputs": [],
   "source": [
    "import numpy as np\n",
    "import pandas as pd\n",
    "import matplotlib as mpl\n",
    "import matplotlib.pyplot as plt\n",
    "import matplotlib.patches as mpatches\n",
    "import matplotlib.gridspec as gridspec\n",
    "\n",
    "from matplotlib.offsetbox import AnchoredText\n",
    "from mpl_toolkits.axes_grid1 import make_axes_locatable\n",
    "\n",
    "import seaborn as sns\n",
    "import warnings\n",
    "warnings.filterwarnings(action='ignore')\n",
    "\n",
    "plt.rc(\"font\", family=\"Malgun Gothic\")\n",
    "plt.rc(\"axes\", unicode_minus=False)"
   ]
  },
  {
   "cell_type": "markdown",
   "metadata": {},
   "source": [
    "# 디렉토리 확인 및 데이터 로드 "
   ]
  },
  {
   "cell_type": "code",
   "execution_count": 3,
   "metadata": {},
   "outputs": [
    {
     "data": {
      "text/plain": [
       "'C:\\\\Users\\\\김도연'"
      ]
     },
     "execution_count": 3,
     "metadata": {},
     "output_type": "execute_result"
    }
   ],
   "source": [
    "%pwd"
   ]
  },
  {
   "cell_type": "code",
   "execution_count": 4,
   "metadata": {},
   "outputs": [
    {
     "name": "stdout",
     "output_type": "stream",
     "text": [
      " C 드라이브의 볼륨: Windows\n",
      " 볼륨 일련 번호: 949E-3DEA\n",
      "\n",
      " C:\\Users\\김도연 디렉터리\n",
      "\n",
      "2021-02-14  오후 10:12         4,091,870  EDA of bookings and ML to predict cancelations.ipynb\n",
      "2021-02-24  오후 05:14    <DIR>          .\n",
      "2021-02-24  오후 05:14    <DIR>          ..\n",
      "2019-11-08  오후 10:04    <DIR>          .android\n",
      "2020-11-24  오후 10:39               260 .bash_history\n",
      "2021-02-01  오후 07:54    <DIR>          .conda\n",
      "2021-02-01  오후 07:47                43 .condarc\n",
      "2021-02-23  오후 04:00    <DIR>          .ipynb_checkpoints\n",
      "2020-11-10  오후 06:42    <DIR>          .ipython\n",
      "2021-02-01  오후 04:39    <DIR>          .jupyter\n",
      "2020-12-08  오후 01:27    <DIR>          .LdVirtualBox\n",
      "2021-02-03  오후 06:24    <DIR>          .matplotlib\n",
      "2021-02-13  오후 11:57         1,778,302 03-apt-price-eda-output.ipynb\n",
      "2021-02-14  오전 01:43           121,691 04-coffee-store-choropleth.html\n",
      "2021-02-14  오전 12:17            29,035 04-coffee-store-input.ipynb\n",
      "2021-02-14  오전 01:44         4,569,648 04-coffee-store-output.ipynb\n",
      "2021-02-18  오후 04:20         3,620,515 0601 plotly로 일별 시세 시각화-input.ipynb\n",
      "2021-02-17  오후 07:13            22,766 0601 plotly로 일별 시세 시각화-output.ipynb\n",
      "2021-02-18  오후 04:46         2,464,664 0602 이동평균과 볼린저 밴드.ipynb\n",
      "2021-02-18  오후 05:07            19,456 0603 mplfinance 로 기술적 분석하기.ipynb\n",
      "2021-02-17  오후 07:13             4,761 0604 cufflinks 로 QuantFig 그리기.ipynb\n",
      "2021-02-22  오후 04:58         1,014,202 07-RFM, Cohort Analysis and Customer Segmentation.ipynb\n",
      "2021-02-23  오후 03:15            27,212 0801-NHIS_medicine_exract.ipynb\n",
      "2021-02-23  오후 03:57            45,423 0802-NHIS_medicine_concat-input.ipynb\n",
      "2021-02-22  오전 06:15            23,945 0803-medicine-eda-input.ipynb\n",
      "2021-02-23  오후 04:52         1,333,803 0803-medicine-eda-output.ipynb\n",
      "2021-02-07  오후 03:19         2,028,783 2_data.csv\n",
      "2019-05-05  오후 10:14    <DIR>          3D Objects\n",
      "2020-07-25  오후 12:24    <DIR>          AppData\n",
      "2017-07-02  오후 06:25    <DIR>          Autodesk\n",
      "2021-02-14  오후 04:22    <DIR>          bike sharing demand\n",
      "2021-02-14  오후 05:51           480,561 Bike Sharing Demand.ipynb\n",
      "2020-07-03  오전 04:04     2,230,931,857 Card.csv\n",
      "2021-02-21  오후 10:36         1,077,170 Comprehensive data exploration with Python.ipynb\n",
      "2019-05-05  오후 10:14    <DIR>          Contacts\n",
      "2021-02-17  오후 07:47    <DIR>          credit_card\n",
      "2019-11-08  오후 11:38               300 d4ac4633ebd6440fa397b84f1bc94a3c.7z\n",
      "2021-02-23  오후 03:04    <DIR>          data\n",
      "2021-02-20  오후 08:03         4,002,104 Deep Reinforcement Learning on Stock Data.ipynb\n",
      "2021-02-23  오후 10:19    <DIR>          Desktop\n",
      "2021-02-01  오후 06:09    <DIR>          Documents\n",
      "2021-02-24  오후 01:54    <DIR>          Downloads\n",
      "2021-02-06  오후 11:27         1,033,841 EDA To Prediction(DieTanic).ipynb\n",
      "2019-05-05  오후 10:14    <DIR>          Favorites\n",
      "2021-02-17  오후 07:48    <DIR>          finance\n",
      "2021-02-04  오후 08:24            87,880 foo.csv\n",
      "2021-02-04  오후 08:25            47,240 foo.h5\n",
      "2020-02-14  오후 09:01                29 Foxit Reader SDK ActiveX.ini\n",
      "2021-02-17  오후 03:14           808,315 FRED 경기 선행지표.ipynb\n",
      "2021-02-06  오후 07:11             3,258 gender_submission.csv\n",
      "2021-02-07  오후 07:00         1,628,928 GIDCC_COVID19.ipynb\n",
      "2021-02-14  오후 07:11    <DIR>          hotel booking\n",
      "2021-02-20  오후 08:13    <DIR>          House Prices\n",
      "2019-09-19  오후 05:25                66 inittk.ini\n",
      "2021-02-18  오후 08:43    <DIR>          input\n",
      "2019-09-19  오후 05:25                41 inst.ini\n",
      "2020-11-17  오후 05:04        25,431,748 kaggle_survey_2020_responses.csv\n",
      "2021-02-04  오후 02:08         3,722,594 kaggle-2020-visualization-analysis.ipynb\n",
      "2020-06-06  오후 04:56            15,681 KCase.log\n",
      "2020-02-08  오전 01:54    <DIR>          Links\n",
      "2021-02-23  오후 03:45    <DIR>          medicine\n",
      "2021-02-16  오후 10:20            21,621 mpg\n",
      "2019-05-05  오후 10:14    <DIR>          Music\n",
      "2021-02-13  오후 09:45            19,303 ND-파이썬기초-과제1.ipynb\n",
      "2021-02-13  오후 10:56            43,328 ND-파이썬기초-과제2.ipynb\n",
      "2021-02-14  오후 06:22           154,873 ND-파이썬기초-과제3.ipynb\n",
      "2021-02-17  오후 02:04           106,141 ND-파이썬기초-과제4.ipynb\n",
      "2021-02-18  오후 08:34           140,508 ND-파이썬기초-과제5.ipynb\n",
      "2019-09-19  오후 05:25    <DIR>          Nox_share\n",
      "2019-09-19  오후 05:25                45 nuuid.ini\n",
      "2020-07-25  오후 12:40    <DIR>          OneDrive\n",
      "2019-05-05  오후 10:14    <DIR>          Pictures\n",
      "2021-02-24  오후 05:14           327,352 PROJECT_2.ipynb\n",
      "2021-02-23  오후 04:33           585,498 sample.csv\n",
      "2021-02-17  오후 04:58            41,539 samsung.png\n",
      "2021-01-30  오후 11:40    <DIR>          Saved Games\n",
      "2021-02-18  오후 05:12    <DIR>          seaborn-data\n",
      "2019-05-05  오후 10:14    <DIR>          Searches\n",
      "2019-02-02  오후 03:53            57,732 seoul_municipalities_geo_simple.json\n",
      "2021-02-04  오후 01:43           532,463 seoul-covid19-11_28_.csv\n",
      "2021-02-06  오후 07:11            28,629 test.csv\n",
      "2021-02-06  오후 07:11            61,194 train.csv\n",
      "2021-02-16  오후 05:27             2,034 Untitled.ipynb\n",
      "2021-02-17  오후 09:31           108,972 Untitled1.ipynb\n",
      "2021-02-18  오후 02:08         3,615,130 Untitled2.ipynb\n",
      "2019-09-19  오후 05:25                53 useruid.ini\n",
      "2021-02-24  오전 12:12    <DIR>          Videos\n",
      "2021-02-17  오후 03:56           397,431 VIX 지수와 관련 종목.ipynb\n",
      "2019-11-08  오후 10:04    <DIR>          vmlogs\n",
      "2021-02-17  오후 04:53             7,205 기간별수익률데이터(2019.12.30).xlsx\n",
      "2020-01-07  오후 11:18       264,920,940 상가업소정보_201912_01.csv\n",
      "2021-02-17  오후 04:54           146,303 섹터 평균 수익률과 개별 종목의 수익률 구하기.ipynb\n",
      "2021-02-17  오후 05:04            59,856 수정주가.ipynb\n",
      "2021-02-17  오후 05:19           414,434 여러 종목의 가격을 한번에.ipynb\n",
      "2019-04-09  오후 07:19            14,336 이력서.hwp\n",
      "2019-10-18  오전 12:40             2,163 전국 평균 분양가격(2013년 9월부터 2015년 8월까지).csv\n",
      "2021-02-15  오후 05:52            31,068 종목 뉴스 게시판 정보 가져오기.ipynb\n",
      "2020-02-28  오후 02:13           162,510 주택도시보증공사_전국 평균 분양가격(2019년 12월).csv\n",
      "2019-10-18  오전 12:42           149,663 주택도시보증공사_전국 평균 분양가격(2019년 8월)_20190917.csv\n",
      "2021-02-02  오후 02:35             1,187 주피터 노트북 사용법.ipynb\n",
      "2021-02-04  오후 08:26           308,771 판다스 10분 완성.ipynb\n",
      "              66개 파일       2,562,930,274 바이트\n",
      "              35개 디렉터리  12,296,015,872 바이트 남음\n"
     ]
    }
   ],
   "source": [
    "%ls "
   ]
  },
  {
   "cell_type": "code",
   "execution_count": 5,
   "metadata": {},
   "outputs": [
    {
     "data": {
      "text/plain": [
       "(24697792, 12)"
      ]
     },
     "execution_count": 5,
     "metadata": {},
     "output_type": "execute_result"
    }
   ],
   "source": [
    "df = pd.read_csv(\"Card.csv\")\n",
    "df.shape"
   ]
  },
  {
   "cell_type": "markdown",
   "metadata": {},
   "source": [
    "# 데이터 메모리 최소화 작업"
   ]
  },
  {
   "cell_type": "code",
   "execution_count": 6,
   "metadata": {},
   "outputs": [
    {
     "name": "stdout",
     "output_type": "stream",
     "text": [
      "<class 'pandas.core.frame.DataFrame'>\n",
      "RangeIndex: 24697792 entries, 0 to 24697791\n",
      "Data columns (total 12 columns):\n",
      " #   Column        Dtype \n",
      "---  ------        ----- \n",
      " 0   REG_YYMM      int64 \n",
      " 1   CARD_SIDO_NM  object\n",
      " 2   CARD_CCG_NM   object\n",
      " 3   STD_CLSS_NM   object\n",
      " 4   HOM_SIDO_NM   object\n",
      " 5   HOM_CCG_NM    object\n",
      " 6   AGE           object\n",
      " 7   SEX_CTGO_CD   int64 \n",
      " 8   FLC           int64 \n",
      " 9   CSTMR_CNT     int64 \n",
      " 10  AMT           int64 \n",
      " 11  CNT           int64 \n",
      "dtypes: int64(6), object(6)\n",
      "memory usage: 2.2+ GB\n"
     ]
    }
   ],
   "source": [
    "df.info()"
   ]
  },
  {
   "cell_type": "code",
   "execution_count": 7,
   "metadata": {},
   "outputs": [],
   "source": [
    "df['SEX_CTGO_CD']=df['SEX_CTGO_CD'].astype('category')"
   ]
  },
  {
   "cell_type": "code",
   "execution_count": 8,
   "metadata": {},
   "outputs": [],
   "source": [
    "df['CNT']=df['CNT'].astype('int32')"
   ]
  },
  {
   "cell_type": "code",
   "execution_count": 9,
   "metadata": {},
   "outputs": [],
   "source": [
    "df['FLC']=df['FLC'].astype('category')"
   ]
  },
  {
   "cell_type": "code",
   "execution_count": 10,
   "metadata": {},
   "outputs": [],
   "source": [
    "df['CSTMR_CNT']=df['CSTMR_CNT'].astype('int32')"
   ]
  },
  {
   "cell_type": "code",
   "execution_count": 11,
   "metadata": {},
   "outputs": [],
   "source": [
    "df['REG_YYMM']=df['REG_YYMM'].astype('int32')"
   ]
  },
  {
   "cell_type": "code",
   "execution_count": 12,
   "metadata": {},
   "outputs": [],
   "source": [
    "pd.options.display.float_format = '{:.2f}'.format"
   ]
  },
  {
   "cell_type": "code",
   "execution_count": 13,
   "metadata": {
    "scrolled": true
   },
   "outputs": [
    {
     "data": {
      "text/html": [
       "<div>\n",
       "<style scoped>\n",
       "    .dataframe tbody tr th:only-of-type {\n",
       "        vertical-align: middle;\n",
       "    }\n",
       "\n",
       "    .dataframe tbody tr th {\n",
       "        vertical-align: top;\n",
       "    }\n",
       "\n",
       "    .dataframe thead th {\n",
       "        text-align: right;\n",
       "    }\n",
       "</style>\n",
       "<table border=\"1\" class=\"dataframe\">\n",
       "  <thead>\n",
       "    <tr style=\"text-align: right;\">\n",
       "      <th></th>\n",
       "      <th>REG_YYMM</th>\n",
       "      <th>CSTMR_CNT</th>\n",
       "      <th>AMT</th>\n",
       "      <th>CNT</th>\n",
       "    </tr>\n",
       "  </thead>\n",
       "  <tbody>\n",
       "    <tr>\n",
       "      <th>count</th>\n",
       "      <td>24697792.00</td>\n",
       "      <td>24697792.00</td>\n",
       "      <td>24697792.00</td>\n",
       "      <td>24697792.00</td>\n",
       "    </tr>\n",
       "    <tr>\n",
       "      <th>mean</th>\n",
       "      <td>201923.06</td>\n",
       "      <td>61.97</td>\n",
       "      <td>2441352.94</td>\n",
       "      <td>126.04</td>\n",
       "    </tr>\n",
       "    <tr>\n",
       "      <th>std</th>\n",
       "      <td>36.20</td>\n",
       "      <td>355.92</td>\n",
       "      <td>17260959.04</td>\n",
       "      <td>966.94</td>\n",
       "    </tr>\n",
       "    <tr>\n",
       "      <th>min</th>\n",
       "      <td>201901.00</td>\n",
       "      <td>3.00</td>\n",
       "      <td>20.00</td>\n",
       "      <td>1.00</td>\n",
       "    </tr>\n",
       "    <tr>\n",
       "      <th>25%</th>\n",
       "      <td>201904.00</td>\n",
       "      <td>4.00</td>\n",
       "      <td>90200.00</td>\n",
       "      <td>5.00</td>\n",
       "    </tr>\n",
       "    <tr>\n",
       "      <th>50%</th>\n",
       "      <td>201908.00</td>\n",
       "      <td>8.00</td>\n",
       "      <td>252680.00</td>\n",
       "      <td>12.00</td>\n",
       "    </tr>\n",
       "    <tr>\n",
       "      <th>75%</th>\n",
       "      <td>201911.00</td>\n",
       "      <td>24.00</td>\n",
       "      <td>843337.25</td>\n",
       "      <td>40.00</td>\n",
       "    </tr>\n",
       "    <tr>\n",
       "      <th>max</th>\n",
       "      <td>202003.00</td>\n",
       "      <td>32813.00</td>\n",
       "      <td>2349523701.00</td>\n",
       "      <td>120357.00</td>\n",
       "    </tr>\n",
       "  </tbody>\n",
       "</table>\n",
       "</div>"
      ],
      "text/plain": [
       "         REG_YYMM   CSTMR_CNT           AMT         CNT\n",
       "count 24697792.00 24697792.00   24697792.00 24697792.00\n",
       "mean    201923.06       61.97    2441352.94      126.04\n",
       "std         36.20      355.92   17260959.04      966.94\n",
       "min     201901.00        3.00         20.00        1.00\n",
       "25%     201904.00        4.00      90200.00        5.00\n",
       "50%     201908.00        8.00     252680.00       12.00\n",
       "75%     201911.00       24.00     843337.25       40.00\n",
       "max     202003.00    32813.00 2349523701.00   120357.00"
      ]
     },
     "execution_count": 13,
     "metadata": {},
     "output_type": "execute_result"
    }
   ],
   "source": [
    "df.describe()"
   ]
  },
  {
   "cell_type": "code",
   "execution_count": 14,
   "metadata": {},
   "outputs": [
    {
     "name": "stdout",
     "output_type": "stream",
     "text": [
      "<class 'pandas.core.frame.DataFrame'>\n",
      "RangeIndex: 24697792 entries, 0 to 24697791\n",
      "Data columns (total 12 columns):\n",
      " #   Column        Dtype   \n",
      "---  ------        -----   \n",
      " 0   REG_YYMM      int32   \n",
      " 1   CARD_SIDO_NM  object  \n",
      " 2   CARD_CCG_NM   object  \n",
      " 3   STD_CLSS_NM   object  \n",
      " 4   HOM_SIDO_NM   object  \n",
      " 5   HOM_CCG_NM    object  \n",
      " 6   AGE           object  \n",
      " 7   SEX_CTGO_CD   category\n",
      " 8   FLC           category\n",
      " 9   CSTMR_CNT     int32   \n",
      " 10  AMT           int64   \n",
      " 11  CNT           int32   \n",
      "dtypes: category(2), int32(3), int64(1), object(6)\n",
      "memory usage: 1.6+ GB\n"
     ]
    }
   ],
   "source": [
    "df.info()"
   ]
  },
  {
   "cell_type": "markdown",
   "metadata": {},
   "source": [
    "# 결측치 처리 "
   ]
  },
  {
   "cell_type": "code",
   "execution_count": 15,
   "metadata": {
    "scrolled": true
   },
   "outputs": [
    {
     "data": {
      "text/plain": [
       "REG_YYMM             0\n",
       "CARD_SIDO_NM         0\n",
       "CARD_CCG_NM      87213\n",
       "STD_CLSS_NM          0\n",
       "HOM_SIDO_NM          0\n",
       "HOM_CCG_NM      147787\n",
       "AGE                  0\n",
       "SEX_CTGO_CD          0\n",
       "FLC                  0\n",
       "CSTMR_CNT            0\n",
       "AMT                  0\n",
       "CNT                  0\n",
       "dtype: int64"
      ]
     },
     "execution_count": 15,
     "metadata": {},
     "output_type": "execute_result"
    }
   ],
   "source": [
    "df.isnull().sum()"
   ]
  },
  {
   "cell_type": "code",
   "execution_count": 16,
   "metadata": {
    "scrolled": true
   },
   "outputs": [
    {
     "data": {
      "text/plain": [
       "<AxesSubplot:>"
      ]
     },
     "execution_count": 16,
     "metadata": {},
     "output_type": "execute_result"
    },
    {
     "data": {
      "image/png": "[encoded data removed]",
      "text/plain": [
       "<Figure size 432x288 with 1 Axes>"
      ]
     },
     "metadata": {
      "needs_background": "light"
     },
     "output_type": "display_data"
    }
   ],
   "source": [
    "df.isnull().sum().plot.barh()"
   ]
  },
  {
   "cell_type": "code",
   "execution_count": 17,
   "metadata": {},
   "outputs": [
    {
     "data": {
      "text/plain": [
       "세종    147787\n",
       "Name: HOM_SIDO_NM, dtype: int64"
      ]
     },
     "execution_count": 17,
     "metadata": {},
     "output_type": "execute_result"
    }
   ],
   "source": [
    "df[df['HOM_CCG_NM'].isnull()]['HOM_SIDO_NM'].value_counts()"
   ]
  },
  {
   "cell_type": "code",
   "execution_count": 18,
   "metadata": {},
   "outputs": [],
   "source": [
    "df['HOM_CCG_NM']=df['HOM_CCG_NM'].fillna('세종시')"
   ]
  },
  {
   "cell_type": "code",
   "execution_count": 19,
   "metadata": {},
   "outputs": [
    {
     "data": {
      "text/plain": [
       "REG_YYMM            0\n",
       "CARD_SIDO_NM        0\n",
       "CARD_CCG_NM     87213\n",
       "STD_CLSS_NM         0\n",
       "HOM_SIDO_NM         0\n",
       "HOM_CCG_NM          0\n",
       "AGE                 0\n",
       "SEX_CTGO_CD         0\n",
       "FLC                 0\n",
       "CSTMR_CNT           0\n",
       "AMT                 0\n",
       "CNT                 0\n",
       "dtype: int64"
      ]
     },
     "execution_count": 19,
     "metadata": {},
     "output_type": "execute_result"
    }
   ],
   "source": [
    "df.isnull().sum()"
   ]
  },
  {
   "cell_type": "code",
   "execution_count": 20,
   "metadata": {},
   "outputs": [
    {
     "data": {
      "text/plain": [
       "세종    87213\n",
       "Name: CARD_SIDO_NM, dtype: int64"
      ]
     },
     "execution_count": 20,
     "metadata": {},
     "output_type": "execute_result"
    }
   ],
   "source": [
    "df[df['CARD_CCG_NM'].isnull()]['CARD_SIDO_NM'].value_counts()"
   ]
  },
  {
   "cell_type": "code",
   "execution_count": 21,
   "metadata": {},
   "outputs": [],
   "source": [
    "df['CARD_CCG_NM']=df['CARD_CCG_NM'].fillna('세종시')"
   ]
  },
  {
   "cell_type": "code",
   "execution_count": 22,
   "metadata": {
    "scrolled": true
   },
   "outputs": [
    {
     "data": {
      "text/plain": [
       "REG_YYMM        0\n",
       "CARD_SIDO_NM    0\n",
       "CARD_CCG_NM     0\n",
       "STD_CLSS_NM     0\n",
       "HOM_SIDO_NM     0\n",
       "HOM_CCG_NM      0\n",
       "AGE             0\n",
       "SEX_CTGO_CD     0\n",
       "FLC             0\n",
       "CSTMR_CNT       0\n",
       "AMT             0\n",
       "CNT             0\n",
       "dtype: int64"
      ]
     },
     "execution_count": 22,
     "metadata": {},
     "output_type": "execute_result"
    }
   ],
   "source": [
    "df.isnull().sum()"
   ]
  },
  {
   "cell_type": "markdown",
   "metadata": {},
   "source": [
    "# 이상치 확인"
   ]
  },
  {
   "cell_type": "code",
   "execution_count": 23,
   "metadata": {
    "scrolled": true
   },
   "outputs": [
    {
     "data": {
      "text/html": [
       "<div>\n",
       "<style scoped>\n",
       "    .dataframe tbody tr th:only-of-type {\n",
       "        vertical-align: middle;\n",
       "    }\n",
       "\n",
       "    .dataframe tbody tr th {\n",
       "        vertical-align: top;\n",
       "    }\n",
       "\n",
       "    .dataframe thead th {\n",
       "        text-align: right;\n",
       "    }\n",
       "</style>\n",
       "<table border=\"1\" class=\"dataframe\">\n",
       "  <thead>\n",
       "    <tr style=\"text-align: right;\">\n",
       "      <th></th>\n",
       "      <th>REG_YYMM</th>\n",
       "      <th>CSTMR_CNT</th>\n",
       "      <th>AMT</th>\n",
       "      <th>CNT</th>\n",
       "    </tr>\n",
       "  </thead>\n",
       "  <tbody>\n",
       "    <tr>\n",
       "      <th>count</th>\n",
       "      <td>24697792.00</td>\n",
       "      <td>24697792.00</td>\n",
       "      <td>24697792.00</td>\n",
       "      <td>24697792.00</td>\n",
       "    </tr>\n",
       "    <tr>\n",
       "      <th>mean</th>\n",
       "      <td>201923.06</td>\n",
       "      <td>61.97</td>\n",
       "      <td>2441352.94</td>\n",
       "      <td>126.04</td>\n",
       "    </tr>\n",
       "    <tr>\n",
       "      <th>std</th>\n",
       "      <td>36.20</td>\n",
       "      <td>355.92</td>\n",
       "      <td>17260959.04</td>\n",
       "      <td>966.94</td>\n",
       "    </tr>\n",
       "    <tr>\n",
       "      <th>min</th>\n",
       "      <td>201901.00</td>\n",
       "      <td>3.00</td>\n",
       "      <td>20.00</td>\n",
       "      <td>1.00</td>\n",
       "    </tr>\n",
       "    <tr>\n",
       "      <th>25%</th>\n",
       "      <td>201904.00</td>\n",
       "      <td>4.00</td>\n",
       "      <td>90200.00</td>\n",
       "      <td>5.00</td>\n",
       "    </tr>\n",
       "    <tr>\n",
       "      <th>50%</th>\n",
       "      <td>201908.00</td>\n",
       "      <td>8.00</td>\n",
       "      <td>252680.00</td>\n",
       "      <td>12.00</td>\n",
       "    </tr>\n",
       "    <tr>\n",
       "      <th>75%</th>\n",
       "      <td>201911.00</td>\n",
       "      <td>24.00</td>\n",
       "      <td>843337.25</td>\n",
       "      <td>40.00</td>\n",
       "    </tr>\n",
       "    <tr>\n",
       "      <th>max</th>\n",
       "      <td>202003.00</td>\n",
       "      <td>32813.00</td>\n",
       "      <td>2349523701.00</td>\n",
       "      <td>120357.00</td>\n",
       "    </tr>\n",
       "  </tbody>\n",
       "</table>\n",
       "</div>"
      ],
      "text/plain": [
       "         REG_YYMM   CSTMR_CNT           AMT         CNT\n",
       "count 24697792.00 24697792.00   24697792.00 24697792.00\n",
       "mean    201923.06       61.97    2441352.94      126.04\n",
       "std         36.20      355.92   17260959.04      966.94\n",
       "min     201901.00        3.00         20.00        1.00\n",
       "25%     201904.00        4.00      90200.00        5.00\n",
       "50%     201908.00        8.00     252680.00       12.00\n",
       "75%     201911.00       24.00     843337.25       40.00\n",
       "max     202003.00    32813.00 2349523701.00   120357.00"
      ]
     },
     "execution_count": 23,
     "metadata": {},
     "output_type": "execute_result"
    }
   ],
   "source": [
    "df.describe()"
   ]
  },
  {
   "cell_type": "markdown",
   "metadata": {},
   "source": [
    "AMT와 CNT의 최대값이 3분위와 차이가 크다."
   ]
  },
  {
   "cell_type": "markdown",
   "metadata": {},
   "source": [
    "## AMT 기준 3분위수 이상 데이터 특이점"
   ]
  },
  {
   "cell_type": "code",
   "execution_count": 24,
   "metadata": {},
   "outputs": [
    {
     "data": {
      "image/png": "[encoded data removed]",
      "text/plain": [
       "<Figure size 432x288 with 1 Axes>"
      ]
     },
     "metadata": {
      "needs_background": "light"
     },
     "output_type": "display_data"
    }
   ],
   "source": [
    "sns.distplot(df['AMT']);"
   ]
  },
  {
   "cell_type": "code",
   "execution_count": 25,
   "metadata": {},
   "outputs": [
    {
     "data": {
      "text/html": [
       "<div>\n",
       "<style scoped>\n",
       "    .dataframe tbody tr th:only-of-type {\n",
       "        vertical-align: middle;\n",
       "    }\n",
       "\n",
       "    .dataframe tbody tr th {\n",
       "        vertical-align: top;\n",
       "    }\n",
       "\n",
       "    .dataframe thead th {\n",
       "        text-align: right;\n",
       "    }\n",
       "</style>\n",
       "<table border=\"1\" class=\"dataframe\">\n",
       "  <thead>\n",
       "    <tr style=\"text-align: right;\">\n",
       "      <th></th>\n",
       "      <th>REG_YYMM</th>\n",
       "      <th>CSTMR_CNT</th>\n",
       "      <th>AMT</th>\n",
       "      <th>CNT</th>\n",
       "    </tr>\n",
       "  </thead>\n",
       "  <tbody>\n",
       "    <tr>\n",
       "      <th>count</th>\n",
       "      <td>24697792.00</td>\n",
       "      <td>24697792.00</td>\n",
       "      <td>24697792.00</td>\n",
       "      <td>24697792.00</td>\n",
       "    </tr>\n",
       "    <tr>\n",
       "      <th>mean</th>\n",
       "      <td>201923.06</td>\n",
       "      <td>61.97</td>\n",
       "      <td>2441352.94</td>\n",
       "      <td>126.04</td>\n",
       "    </tr>\n",
       "    <tr>\n",
       "      <th>std</th>\n",
       "      <td>36.20</td>\n",
       "      <td>355.92</td>\n",
       "      <td>17260959.04</td>\n",
       "      <td>966.94</td>\n",
       "    </tr>\n",
       "    <tr>\n",
       "      <th>min</th>\n",
       "      <td>201901.00</td>\n",
       "      <td>3.00</td>\n",
       "      <td>20.00</td>\n",
       "      <td>1.00</td>\n",
       "    </tr>\n",
       "    <tr>\n",
       "      <th>25%</th>\n",
       "      <td>201904.00</td>\n",
       "      <td>4.00</td>\n",
       "      <td>90200.00</td>\n",
       "      <td>5.00</td>\n",
       "    </tr>\n",
       "    <tr>\n",
       "      <th>50%</th>\n",
       "      <td>201908.00</td>\n",
       "      <td>8.00</td>\n",
       "      <td>252680.00</td>\n",
       "      <td>12.00</td>\n",
       "    </tr>\n",
       "    <tr>\n",
       "      <th>75%</th>\n",
       "      <td>201911.00</td>\n",
       "      <td>24.00</td>\n",
       "      <td>843337.25</td>\n",
       "      <td>40.00</td>\n",
       "    </tr>\n",
       "    <tr>\n",
       "      <th>max</th>\n",
       "      <td>202003.00</td>\n",
       "      <td>32813.00</td>\n",
       "      <td>2349523701.00</td>\n",
       "      <td>120357.00</td>\n",
       "    </tr>\n",
       "  </tbody>\n",
       "</table>\n",
       "</div>"
      ],
      "text/plain": [
       "         REG_YYMM   CSTMR_CNT           AMT         CNT\n",
       "count 24697792.00 24697792.00   24697792.00 24697792.00\n",
       "mean    201923.06       61.97    2441352.94      126.04\n",
       "std         36.20      355.92   17260959.04      966.94\n",
       "min     201901.00        3.00         20.00        1.00\n",
       "25%     201904.00        4.00      90200.00        5.00\n",
       "50%     201908.00        8.00     252680.00       12.00\n",
       "75%     201911.00       24.00     843337.25       40.00\n",
       "max     202003.00    32813.00 2349523701.00   120357.00"
      ]
     },
     "execution_count": 25,
     "metadata": {},
     "output_type": "execute_result"
    }
   ],
   "source": [
    "df.describe()"
   ]
  },
  {
   "cell_type": "code",
   "execution_count": 26,
   "metadata": {},
   "outputs": [
    {
     "data": {
      "text/html": [
       "<div>\n",
       "<style scoped>\n",
       "    .dataframe tbody tr th:only-of-type {\n",
       "        vertical-align: middle;\n",
       "    }\n",
       "\n",
       "    .dataframe tbody tr th {\n",
       "        vertical-align: top;\n",
       "    }\n",
       "\n",
       "    .dataframe thead th {\n",
       "        text-align: right;\n",
       "    }\n",
       "</style>\n",
       "<table border=\"1\" class=\"dataframe\">\n",
       "  <thead>\n",
       "    <tr style=\"text-align: right;\">\n",
       "      <th></th>\n",
       "      <th>REG_YYMM</th>\n",
       "      <th>CARD_SIDO_NM</th>\n",
       "      <th>CARD_CCG_NM</th>\n",
       "      <th>STD_CLSS_NM</th>\n",
       "      <th>HOM_SIDO_NM</th>\n",
       "      <th>HOM_CCG_NM</th>\n",
       "      <th>AGE</th>\n",
       "      <th>SEX_CTGO_CD</th>\n",
       "      <th>FLC</th>\n",
       "      <th>CSTMR_CNT</th>\n",
       "      <th>AMT</th>\n",
       "      <th>CNT</th>\n",
       "    </tr>\n",
       "  </thead>\n",
       "  <tbody>\n",
       "    <tr>\n",
       "      <th>1</th>\n",
       "      <td>201901</td>\n",
       "      <td>강원</td>\n",
       "      <td>강릉시</td>\n",
       "      <td>건강보조식품 소매업</td>\n",
       "      <td>강원</td>\n",
       "      <td>강릉시</td>\n",
       "      <td>30s</td>\n",
       "      <td>1</td>\n",
       "      <td>2</td>\n",
       "      <td>7</td>\n",
       "      <td>1374500</td>\n",
       "      <td>8</td>\n",
       "    </tr>\n",
       "    <tr>\n",
       "      <th>3</th>\n",
       "      <td>201901</td>\n",
       "      <td>강원</td>\n",
       "      <td>강릉시</td>\n",
       "      <td>건강보조식품 소매업</td>\n",
       "      <td>강원</td>\n",
       "      <td>강릉시</td>\n",
       "      <td>40s</td>\n",
       "      <td>1</td>\n",
       "      <td>3</td>\n",
       "      <td>4</td>\n",
       "      <td>1717000</td>\n",
       "      <td>5</td>\n",
       "    </tr>\n",
       "    <tr>\n",
       "      <th>4</th>\n",
       "      <td>201901</td>\n",
       "      <td>강원</td>\n",
       "      <td>강릉시</td>\n",
       "      <td>건강보조식품 소매업</td>\n",
       "      <td>강원</td>\n",
       "      <td>강릉시</td>\n",
       "      <td>40s</td>\n",
       "      <td>1</td>\n",
       "      <td>4</td>\n",
       "      <td>3</td>\n",
       "      <td>1047300</td>\n",
       "      <td>3</td>\n",
       "    </tr>\n",
       "    <tr>\n",
       "      <th>6</th>\n",
       "      <td>201901</td>\n",
       "      <td>강원</td>\n",
       "      <td>강릉시</td>\n",
       "      <td>건강보조식품 소매업</td>\n",
       "      <td>강원</td>\n",
       "      <td>강릉시</td>\n",
       "      <td>50s</td>\n",
       "      <td>1</td>\n",
       "      <td>4</td>\n",
       "      <td>21</td>\n",
       "      <td>3690830</td>\n",
       "      <td>21</td>\n",
       "    </tr>\n",
       "    <tr>\n",
       "      <th>7</th>\n",
       "      <td>201901</td>\n",
       "      <td>강원</td>\n",
       "      <td>강릉시</td>\n",
       "      <td>건강보조식품 소매업</td>\n",
       "      <td>강원</td>\n",
       "      <td>강릉시</td>\n",
       "      <td>50s</td>\n",
       "      <td>2</td>\n",
       "      <td>4</td>\n",
       "      <td>21</td>\n",
       "      <td>3573300</td>\n",
       "      <td>20</td>\n",
       "    </tr>\n",
       "    <tr>\n",
       "      <th>...</th>\n",
       "      <td>...</td>\n",
       "      <td>...</td>\n",
       "      <td>...</td>\n",
       "      <td>...</td>\n",
       "      <td>...</td>\n",
       "      <td>...</td>\n",
       "      <td>...</td>\n",
       "      <td>...</td>\n",
       "      <td>...</td>\n",
       "      <td>...</td>\n",
       "      <td>...</td>\n",
       "      <td>...</td>\n",
       "    </tr>\n",
       "    <tr>\n",
       "      <th>24697780</th>\n",
       "      <td>202003</td>\n",
       "      <td>충북</td>\n",
       "      <td>충주시</td>\n",
       "      <td>화장품 및 방향제 소매업</td>\n",
       "      <td>충북</td>\n",
       "      <td>충주시</td>\n",
       "      <td>50s</td>\n",
       "      <td>1</td>\n",
       "      <td>4</td>\n",
       "      <td>66</td>\n",
       "      <td>5187100</td>\n",
       "      <td>79</td>\n",
       "    </tr>\n",
       "    <tr>\n",
       "      <th>24697781</th>\n",
       "      <td>202003</td>\n",
       "      <td>충북</td>\n",
       "      <td>충주시</td>\n",
       "      <td>화장품 및 방향제 소매업</td>\n",
       "      <td>충북</td>\n",
       "      <td>충주시</td>\n",
       "      <td>50s</td>\n",
       "      <td>2</td>\n",
       "      <td>4</td>\n",
       "      <td>166</td>\n",
       "      <td>16603400</td>\n",
       "      <td>189</td>\n",
       "    </tr>\n",
       "    <tr>\n",
       "      <th>24697782</th>\n",
       "      <td>202003</td>\n",
       "      <td>충북</td>\n",
       "      <td>충주시</td>\n",
       "      <td>화장품 및 방향제 소매업</td>\n",
       "      <td>충북</td>\n",
       "      <td>충주시</td>\n",
       "      <td>60s</td>\n",
       "      <td>1</td>\n",
       "      <td>5</td>\n",
       "      <td>45</td>\n",
       "      <td>5078720</td>\n",
       "      <td>52</td>\n",
       "    </tr>\n",
       "    <tr>\n",
       "      <th>24697783</th>\n",
       "      <td>202003</td>\n",
       "      <td>충북</td>\n",
       "      <td>충주시</td>\n",
       "      <td>화장품 및 방향제 소매업</td>\n",
       "      <td>충북</td>\n",
       "      <td>충주시</td>\n",
       "      <td>60s</td>\n",
       "      <td>2</td>\n",
       "      <td>5</td>\n",
       "      <td>102</td>\n",
       "      <td>9341125</td>\n",
       "      <td>106</td>\n",
       "    </tr>\n",
       "    <tr>\n",
       "      <th>24697785</th>\n",
       "      <td>202003</td>\n",
       "      <td>충북</td>\n",
       "      <td>충주시</td>\n",
       "      <td>화장품 및 방향제 소매업</td>\n",
       "      <td>충북</td>\n",
       "      <td>충주시</td>\n",
       "      <td>70s</td>\n",
       "      <td>2</td>\n",
       "      <td>5</td>\n",
       "      <td>40</td>\n",
       "      <td>3172500</td>\n",
       "      <td>40</td>\n",
       "    </tr>\n",
       "  </tbody>\n",
       "</table>\n",
       "<p>6174448 rows × 12 columns</p>\n",
       "</div>"
      ],
      "text/plain": [
       "          REG_YYMM CARD_SIDO_NM CARD_CCG_NM    STD_CLSS_NM HOM_SIDO_NM  \\\n",
       "1           201901           강원         강릉시     건강보조식품 소매업          강원   \n",
       "3           201901           강원         강릉시     건강보조식품 소매업          강원   \n",
       "4           201901           강원         강릉시     건강보조식품 소매업          강원   \n",
       "6           201901           강원         강릉시     건강보조식품 소매업          강원   \n",
       "7           201901           강원         강릉시     건강보조식품 소매업          강원   \n",
       "...            ...          ...         ...            ...         ...   \n",
       "24697780    202003           충북         충주시  화장품 및 방향제 소매업          충북   \n",
       "24697781    202003           충북         충주시  화장품 및 방향제 소매업          충북   \n",
       "24697782    202003           충북         충주시  화장품 및 방향제 소매업          충북   \n",
       "24697783    202003           충북         충주시  화장품 및 방향제 소매업          충북   \n",
       "24697785    202003           충북         충주시  화장품 및 방향제 소매업          충북   \n",
       "\n",
       "         HOM_CCG_NM  AGE SEX_CTGO_CD FLC  CSTMR_CNT       AMT  CNT  \n",
       "1               강릉시  30s           1   2          7   1374500    8  \n",
       "3               강릉시  40s           1   3          4   1717000    5  \n",
       "4               강릉시  40s           1   4          3   1047300    3  \n",
       "6               강릉시  50s           1   4         21   3690830   21  \n",
       "7               강릉시  50s           2   4         21   3573300   20  \n",
       "...             ...  ...         ...  ..        ...       ...  ...  \n",
       "24697780        충주시  50s           1   4         66   5187100   79  \n",
       "24697781        충주시  50s           2   4        166  16603400  189  \n",
       "24697782        충주시  60s           1   5         45   5078720   52  \n",
       "24697783        충주시  60s           2   5        102   9341125  106  \n",
       "24697785        충주시  70s           2   5         40   3172500   40  \n",
       "\n",
       "[6174448 rows x 12 columns]"
      ]
     },
     "execution_count": 26,
     "metadata": {},
     "output_type": "execute_result"
    }
   ],
   "source": [
    "df_high=df[df['AMT']>=843337.25]\n",
    "df_high"
   ]
  },
  {
   "cell_type": "markdown",
   "metadata": {},
   "source": [
    "3분위 이상 AMT 분포"
   ]
  },
  {
   "cell_type": "code",
   "execution_count": 27,
   "metadata": {},
   "outputs": [],
   "source": [
    "df_high=df[df['AMT']>=843337.25]"
   ]
  },
  {
   "cell_type": "code",
   "execution_count": 28,
   "metadata": {
    "scrolled": true
   },
   "outputs": [
    {
     "data": {
      "image/png": "[encoded data removed]",
      "text/plain": [
       "<Figure size 432x288 with 1 Axes>"
      ]
     },
     "metadata": {
      "needs_background": "light"
     },
     "output_type": "display_data"
    }
   ],
   "source": [
    "sns.distplot(df_high['AMT']);"
   ]
  },
  {
   "cell_type": "markdown",
   "metadata": {},
   "source": [
    "3분위 이하 AMT 데이터 분포"
   ]
  },
  {
   "cell_type": "code",
   "execution_count": 29,
   "metadata": {},
   "outputs": [],
   "source": [
    "df_low=df[df['AMT']<843337.25]"
   ]
  },
  {
   "cell_type": "code",
   "execution_count": 30,
   "metadata": {
    "scrolled": true
   },
   "outputs": [
    {
     "data": {
      "text/plain": [
       "<AxesSubplot:xlabel='AMT', ylabel='Density'>"
      ]
     },
     "execution_count": 30,
     "metadata": {},
     "output_type": "execute_result"
    },
    {
     "data": {
      "image/png": "[encoded data removed]",
      "text/plain": [
       "<Figure size 432x288 with 1 Axes>"
      ]
     },
     "metadata": {
      "needs_background": "light"
     },
     "output_type": "display_data"
    }
   ],
   "source": [
    "sns.distplot(df_low['AMT'])"
   ]
  },
  {
   "cell_type": "markdown",
   "metadata": {},
   "source": [
    "AMT가 대부분 0~20000 값 사이에 분포하고 있음을 알 수 있다. "
   ]
  },
  {
   "cell_type": "markdown",
   "metadata": {},
   "source": [
    "영업점 시도 기준 AMT 3분위 이상 데이터 분포"
   ]
  },
  {
   "cell_type": "code",
   "execution_count": null,
   "metadata": {},
   "outputs": [],
   "source": []
  },
  {
   "cell_type": "code",
   "execution_count": 31,
   "metadata": {},
   "outputs": [
    {
     "data": {
      "image/png": "[encoded data removed]",
      "text/plain": [
       "<Figure size 1440x720 with 1 Axes>"
      ]
     },
     "metadata": {
      "needs_background": "light"
     },
     "output_type": "display_data"
    }
   ],
   "source": [
    "var='CARD_SIDO_NM'\n",
    "data=pd.concat([df_high['AMT'],df_high[var]],axis=1)\n",
    "f, ax= plt.subplots(figsize=(20,10))\n",
    "fig= sns.boxplot(x=var, y='AMT',data=data)\n"
   ]
  },
  {
   "cell_type": "markdown",
   "metadata": {},
   "source": [
    "영업점 시도 기준 AMT 3분위 이하 데이터 분포"
   ]
  },
  {
   "cell_type": "code",
   "execution_count": 32,
   "metadata": {},
   "outputs": [
    {
     "data": {
      "image/png": "[encoded data removed]",
      "text/plain": [
       "<Figure size 1440x720 with 1 Axes>"
      ]
     },
     "metadata": {
      "needs_background": "light"
     },
     "output_type": "display_data"
    }
   ],
   "source": [
    "var='CARD_SIDO_NM'\n",
    "data=pd.concat([df_low['AMT'],df_low[var]],axis=1)\n",
    "f, ax= plt.subplots(figsize=(20,10))\n",
    "fig= sns.boxplot(x=var, y='AMT',data=data)\n"
   ]
  },
  {
   "cell_type": "markdown",
   "metadata": {},
   "source": [
    "고객 주소지 시도 기준 AMT 3분위 이상 데이터 분포"
   ]
  },
  {
   "cell_type": "code",
   "execution_count": 33,
   "metadata": {},
   "outputs": [
    {
     "data": {
      "image/png": "[encoded data removed]",
      "text/plain": [
       "<Figure size 1440x720 with 1 Axes>"
      ]
     },
     "metadata": {
      "needs_background": "light"
     },
     "output_type": "display_data"
    }
   ],
   "source": [
    "var='HOM_SIDO_NM'\n",
    "data=pd.concat([df_high['AMT'],df_high[var]],axis=1)\n",
    "f, ax= plt.subplots(figsize=(20,10))\n",
    "fig= sns.boxplot(x=var, y='AMT',data=data)\n"
   ]
  },
  {
   "cell_type": "markdown",
   "metadata": {},
   "source": [
    "고객 주소지 시도 기준 AMT 3분위 이하 데이터 분포"
   ]
  },
  {
   "cell_type": "code",
   "execution_count": 34,
   "metadata": {},
   "outputs": [
    {
     "data": {
      "image/png": "[encoded data removed]",
      "text/plain": [
       "<Figure size 1440x720 with 1 Axes>"
      ]
     },
     "metadata": {
      "needs_background": "light"
     },
     "output_type": "display_data"
    }
   ],
   "source": [
    "var='HOM_SIDO_NM'\n",
    "data=pd.concat([df_low['AMT'],df_low[var]],axis=1)\n",
    "f, ax= plt.subplots(figsize=(20,10))\n",
    "fig= sns.boxplot(x=var, y='AMT',data=data)"
   ]
  },
  {
   "cell_type": "markdown",
   "metadata": {},
   "source": [
    "제주도에 거주지를 갖고 있는 고객이 제주도 내에 영업점에서  AMT가 가장 높게 나타났다. "
   ]
  },
  {
   "cell_type": "code",
   "execution_count": 35,
   "metadata": {},
   "outputs": [
    {
     "data": {
      "text/html": [
       "<div>\n",
       "<style scoped>\n",
       "    .dataframe tbody tr th:only-of-type {\n",
       "        vertical-align: middle;\n",
       "    }\n",
       "\n",
       "    .dataframe tbody tr th {\n",
       "        vertical-align: top;\n",
       "    }\n",
       "\n",
       "    .dataframe thead th {\n",
       "        text-align: right;\n",
       "    }\n",
       "</style>\n",
       "<table border=\"1\" class=\"dataframe\">\n",
       "  <thead>\n",
       "    <tr style=\"text-align: right;\">\n",
       "      <th></th>\n",
       "      <th>REG_YYMM</th>\n",
       "      <th>CARD_SIDO_NM</th>\n",
       "      <th>CARD_CCG_NM</th>\n",
       "      <th>STD_CLSS_NM</th>\n",
       "      <th>HOM_SIDO_NM</th>\n",
       "      <th>HOM_CCG_NM</th>\n",
       "      <th>AGE</th>\n",
       "      <th>SEX_CTGO_CD</th>\n",
       "      <th>FLC</th>\n",
       "      <th>CSTMR_CNT</th>\n",
       "      <th>AMT</th>\n",
       "      <th>CNT</th>\n",
       "    </tr>\n",
       "  </thead>\n",
       "  <tbody>\n",
       "    <tr>\n",
       "      <th>13451048</th>\n",
       "      <td>201908</td>\n",
       "      <td>제주</td>\n",
       "      <td>제주시</td>\n",
       "      <td>한식 음식점업</td>\n",
       "      <td>제주</td>\n",
       "      <td>제주시</td>\n",
       "      <td>50s</td>\n",
       "      <td>1</td>\n",
       "      <td>4</td>\n",
       "      <td>32813</td>\n",
       "      <td>2349523701</td>\n",
       "      <td>59062</td>\n",
       "    </tr>\n",
       "    <tr>\n",
       "      <th>20295408</th>\n",
       "      <td>201912</td>\n",
       "      <td>제주</td>\n",
       "      <td>제주시</td>\n",
       "      <td>한식 음식점업</td>\n",
       "      <td>제주</td>\n",
       "      <td>제주시</td>\n",
       "      <td>50s</td>\n",
       "      <td>1</td>\n",
       "      <td>4</td>\n",
       "      <td>31378</td>\n",
       "      <td>2328668609</td>\n",
       "      <td>56556</td>\n",
       "    </tr>\n",
       "    <tr>\n",
       "      <th>8146986</th>\n",
       "      <td>201905</td>\n",
       "      <td>제주</td>\n",
       "      <td>제주시</td>\n",
       "      <td>한식 음식점업</td>\n",
       "      <td>제주</td>\n",
       "      <td>제주시</td>\n",
       "      <td>50s</td>\n",
       "      <td>1</td>\n",
       "      <td>4</td>\n",
       "      <td>31932</td>\n",
       "      <td>2314765651</td>\n",
       "      <td>57064</td>\n",
       "    </tr>\n",
       "    <tr>\n",
       "      <th>1488125</th>\n",
       "      <td>201901</td>\n",
       "      <td>제주</td>\n",
       "      <td>제주시</td>\n",
       "      <td>한식 음식점업</td>\n",
       "      <td>제주</td>\n",
       "      <td>제주시</td>\n",
       "      <td>50s</td>\n",
       "      <td>1</td>\n",
       "      <td>4</td>\n",
       "      <td>30513</td>\n",
       "      <td>2293735545</td>\n",
       "      <td>55470</td>\n",
       "    </tr>\n",
       "    <tr>\n",
       "      <th>11592263</th>\n",
       "      <td>201907</td>\n",
       "      <td>제주</td>\n",
       "      <td>제주시</td>\n",
       "      <td>한식 음식점업</td>\n",
       "      <td>제주</td>\n",
       "      <td>제주시</td>\n",
       "      <td>50s</td>\n",
       "      <td>1</td>\n",
       "      <td>4</td>\n",
       "      <td>31609</td>\n",
       "      <td>2242949391</td>\n",
       "      <td>56776</td>\n",
       "    </tr>\n",
       "    <tr>\n",
       "      <th>4734109</th>\n",
       "      <td>201903</td>\n",
       "      <td>제주</td>\n",
       "      <td>제주시</td>\n",
       "      <td>한식 음식점업</td>\n",
       "      <td>제주</td>\n",
       "      <td>제주시</td>\n",
       "      <td>50s</td>\n",
       "      <td>1</td>\n",
       "      <td>4</td>\n",
       "      <td>30985</td>\n",
       "      <td>2214022562</td>\n",
       "      <td>55085</td>\n",
       "    </tr>\n",
       "    <tr>\n",
       "      <th>21964388</th>\n",
       "      <td>202001</td>\n",
       "      <td>제주</td>\n",
       "      <td>제주시</td>\n",
       "      <td>한식 음식점업</td>\n",
       "      <td>제주</td>\n",
       "      <td>제주시</td>\n",
       "      <td>50s</td>\n",
       "      <td>1</td>\n",
       "      <td>4</td>\n",
       "      <td>29610</td>\n",
       "      <td>2170470327</td>\n",
       "      <td>52722</td>\n",
       "    </tr>\n",
       "    <tr>\n",
       "      <th>16947263</th>\n",
       "      <td>201910</td>\n",
       "      <td>제주</td>\n",
       "      <td>제주시</td>\n",
       "      <td>한식 음식점업</td>\n",
       "      <td>제주</td>\n",
       "      <td>제주시</td>\n",
       "      <td>50s</td>\n",
       "      <td>1</td>\n",
       "      <td>4</td>\n",
       "      <td>31265</td>\n",
       "      <td>2162859129</td>\n",
       "      <td>57105</td>\n",
       "    </tr>\n",
       "    <tr>\n",
       "      <th>9867226</th>\n",
       "      <td>201906</td>\n",
       "      <td>제주</td>\n",
       "      <td>제주시</td>\n",
       "      <td>한식 음식점업</td>\n",
       "      <td>제주</td>\n",
       "      <td>제주시</td>\n",
       "      <td>50s</td>\n",
       "      <td>1</td>\n",
       "      <td>4</td>\n",
       "      <td>31060</td>\n",
       "      <td>2153175872</td>\n",
       "      <td>55044</td>\n",
       "    </tr>\n",
       "    <tr>\n",
       "      <th>6385785</th>\n",
       "      <td>201904</td>\n",
       "      <td>제주</td>\n",
       "      <td>제주시</td>\n",
       "      <td>한식 음식점업</td>\n",
       "      <td>제주</td>\n",
       "      <td>제주시</td>\n",
       "      <td>50s</td>\n",
       "      <td>1</td>\n",
       "      <td>4</td>\n",
       "      <td>30641</td>\n",
       "      <td>2149619954</td>\n",
       "      <td>53793</td>\n",
       "    </tr>\n",
       "  </tbody>\n",
       "</table>\n",
       "</div>"
      ],
      "text/plain": [
       "          REG_YYMM CARD_SIDO_NM CARD_CCG_NM STD_CLSS_NM HOM_SIDO_NM  \\\n",
       "13451048    201908           제주         제주시     한식 음식점업          제주   \n",
       "20295408    201912           제주         제주시     한식 음식점업          제주   \n",
       "8146986     201905           제주         제주시     한식 음식점업          제주   \n",
       "1488125     201901           제주         제주시     한식 음식점업          제주   \n",
       "11592263    201907           제주         제주시     한식 음식점업          제주   \n",
       "4734109     201903           제주         제주시     한식 음식점업          제주   \n",
       "21964388    202001           제주         제주시     한식 음식점업          제주   \n",
       "16947263    201910           제주         제주시     한식 음식점업          제주   \n",
       "9867226     201906           제주         제주시     한식 음식점업          제주   \n",
       "6385785     201904           제주         제주시     한식 음식점업          제주   \n",
       "\n",
       "         HOM_CCG_NM  AGE SEX_CTGO_CD FLC  CSTMR_CNT         AMT    CNT  \n",
       "13451048        제주시  50s           1   4      32813  2349523701  59062  \n",
       "20295408        제주시  50s           1   4      31378  2328668609  56556  \n",
       "8146986         제주시  50s           1   4      31932  2314765651  57064  \n",
       "1488125         제주시  50s           1   4      30513  2293735545  55470  \n",
       "11592263        제주시  50s           1   4      31609  2242949391  56776  \n",
       "4734109         제주시  50s           1   4      30985  2214022562  55085  \n",
       "21964388        제주시  50s           1   4      29610  2170470327  52722  \n",
       "16947263        제주시  50s           1   4      31265  2162859129  57105  \n",
       "9867226         제주시  50s           1   4      31060  2153175872  55044  \n",
       "6385785         제주시  50s           1   4      30641  2149619954  53793  "
      ]
     },
     "execution_count": 35,
     "metadata": {},
     "output_type": "execute_result"
    }
   ],
   "source": [
    "df[df['CARD_SIDO_NM']=='제주'].sort_values('AMT',ascending=False).head(10)"
   ]
  },
  {
   "cell_type": "code",
   "execution_count": 36,
   "metadata": {
    "scrolled": true
   },
   "outputs": [
    {
     "data": {
      "image/png": "[encoded data removed]",
      "text/plain": [
       "<Figure size 2160x1440 with 1 Axes>"
      ]
     },
     "metadata": {
      "needs_background": "light"
     },
     "output_type": "display_data"
    }
   ],
   "source": [
    "var='STD_CLSS_NM'\n",
    "data=pd.concat([df_high['AMT'],df_high[var]],axis=1)\n",
    "f, ax= plt.subplots(figsize=(30,20))\n",
    "fig= sns.boxplot(x=var, y='AMT',data=data)\n"
   ]
  },
  {
   "cell_type": "code",
   "execution_count": 37,
   "metadata": {},
   "outputs": [
    {
     "data": {
      "text/html": [
       "<div>\n",
       "<style scoped>\n",
       "    .dataframe tbody tr th:only-of-type {\n",
       "        vertical-align: middle;\n",
       "    }\n",
       "\n",
       "    .dataframe tbody tr th {\n",
       "        vertical-align: top;\n",
       "    }\n",
       "\n",
       "    .dataframe thead th {\n",
       "        text-align: right;\n",
       "    }\n",
       "</style>\n",
       "<table border=\"1\" class=\"dataframe\">\n",
       "  <thead>\n",
       "    <tr style=\"text-align: right;\">\n",
       "      <th></th>\n",
       "      <th>AMT</th>\n",
       "      <th>STD_CLSS_NM</th>\n",
       "    </tr>\n",
       "  </thead>\n",
       "  <tbody>\n",
       "    <tr>\n",
       "      <th>13451048</th>\n",
       "      <td>2349523701</td>\n",
       "      <td>한식 음식점업</td>\n",
       "    </tr>\n",
       "    <tr>\n",
       "      <th>20295408</th>\n",
       "      <td>2328668609</td>\n",
       "      <td>한식 음식점업</td>\n",
       "    </tr>\n",
       "    <tr>\n",
       "      <th>8146986</th>\n",
       "      <td>2314765651</td>\n",
       "      <td>한식 음식점업</td>\n",
       "    </tr>\n",
       "    <tr>\n",
       "      <th>1488125</th>\n",
       "      <td>2293735545</td>\n",
       "      <td>한식 음식점업</td>\n",
       "    </tr>\n",
       "    <tr>\n",
       "      <th>11592263</th>\n",
       "      <td>2242949391</td>\n",
       "      <td>한식 음식점업</td>\n",
       "    </tr>\n",
       "    <tr>\n",
       "      <th>...</th>\n",
       "      <td>...</td>\n",
       "      <td>...</td>\n",
       "    </tr>\n",
       "    <tr>\n",
       "      <th>11053783</th>\n",
       "      <td>843340</td>\n",
       "      <td>그외 기타 종합 소매업</td>\n",
       "    </tr>\n",
       "    <tr>\n",
       "      <th>5401000</th>\n",
       "      <td>843339</td>\n",
       "      <td>차량용 주유소 운영업</td>\n",
       "    </tr>\n",
       "    <tr>\n",
       "      <th>22207332</th>\n",
       "      <td>843339</td>\n",
       "      <td>차량용 주유소 운영업</td>\n",
       "    </tr>\n",
       "    <tr>\n",
       "      <th>1482270</th>\n",
       "      <td>843338</td>\n",
       "      <td>차량용 가스 충전업</td>\n",
       "    </tr>\n",
       "    <tr>\n",
       "      <th>5353850</th>\n",
       "      <td>843338</td>\n",
       "      <td>차량용 주유소 운영업</td>\n",
       "    </tr>\n",
       "  </tbody>\n",
       "</table>\n",
       "<p>6174448 rows × 2 columns</p>\n",
       "</div>"
      ],
      "text/plain": [
       "                 AMT   STD_CLSS_NM\n",
       "13451048  2349523701       한식 음식점업\n",
       "20295408  2328668609       한식 음식점업\n",
       "8146986   2314765651       한식 음식점업\n",
       "1488125   2293735545       한식 음식점업\n",
       "11592263  2242949391       한식 음식점업\n",
       "...              ...           ...\n",
       "11053783      843340  그외 기타 종합 소매업\n",
       "5401000       843339   차량용 주유소 운영업\n",
       "22207332      843339   차량용 주유소 운영업\n",
       "1482270       843338    차량용 가스 충전업\n",
       "5353850       843338   차량용 주유소 운영업\n",
       "\n",
       "[6174448 rows x 2 columns]"
      ]
     },
     "execution_count": 37,
     "metadata": {},
     "output_type": "execute_result"
    }
   ],
   "source": [
    "data.sort_values(by='AMT',ascending=False)"
   ]
  },
  {
   "cell_type": "markdown",
   "metadata": {},
   "source": [
    "가장 AMT가 높았던 업종은 한식 음식점업이었다."
   ]
  },
  {
   "cell_type": "code",
   "execution_count": 77,
   "metadata": {},
   "outputs": [
    {
     "data": {
      "text/html": [
       "<div>\n",
       "<style scoped>\n",
       "    .dataframe tbody tr th:only-of-type {\n",
       "        vertical-align: middle;\n",
       "    }\n",
       "\n",
       "    .dataframe tbody tr th {\n",
       "        vertical-align: top;\n",
       "    }\n",
       "\n",
       "    .dataframe thead th {\n",
       "        text-align: right;\n",
       "    }\n",
       "</style>\n",
       "<table border=\"1\" class=\"dataframe\">\n",
       "  <thead>\n",
       "    <tr style=\"text-align: right;\">\n",
       "      <th></th>\n",
       "      <th>REG_YYMM</th>\n",
       "      <th>AMT</th>\n",
       "    </tr>\n",
       "  </thead>\n",
       "  <tbody>\n",
       "    <tr>\n",
       "      <th>0</th>\n",
       "      <td>201901</td>\n",
       "      <td>4052317259025</td>\n",
       "    </tr>\n",
       "    <tr>\n",
       "      <th>1</th>\n",
       "      <td>201902</td>\n",
       "      <td>3634345832156</td>\n",
       "    </tr>\n",
       "    <tr>\n",
       "      <th>2</th>\n",
       "      <td>201903</td>\n",
       "      <td>4105409759731</td>\n",
       "    </tr>\n",
       "    <tr>\n",
       "      <th>3</th>\n",
       "      <td>201904</td>\n",
       "      <td>4006698507386</td>\n",
       "    </tr>\n",
       "    <tr>\n",
       "      <th>4</th>\n",
       "      <td>201905</td>\n",
       "      <td>4345471235813</td>\n",
       "    </tr>\n",
       "    <tr>\n",
       "      <th>5</th>\n",
       "      <td>201906</td>\n",
       "      <td>4122105394194</td>\n",
       "    </tr>\n",
       "    <tr>\n",
       "      <th>6</th>\n",
       "      <td>201907</td>\n",
       "      <td>4187299694709</td>\n",
       "    </tr>\n",
       "    <tr>\n",
       "      <th>7</th>\n",
       "      <td>201908</td>\n",
       "      <td>4268655968810</td>\n",
       "    </tr>\n",
       "    <tr>\n",
       "      <th>8</th>\n",
       "      <td>201909</td>\n",
       "      <td>4123348058794</td>\n",
       "    </tr>\n",
       "    <tr>\n",
       "      <th>9</th>\n",
       "      <td>201910</td>\n",
       "      <td>4176583723584</td>\n",
       "    </tr>\n",
       "    <tr>\n",
       "      <th>10</th>\n",
       "      <td>201911</td>\n",
       "      <td>4047721898575</td>\n",
       "    </tr>\n",
       "    <tr>\n",
       "      <th>11</th>\n",
       "      <td>201912</td>\n",
       "      <td>4292549731776</td>\n",
       "    </tr>\n",
       "    <tr>\n",
       "      <th>12</th>\n",
       "      <td>202001</td>\n",
       "      <td>4124940612820</td>\n",
       "    </tr>\n",
       "    <tr>\n",
       "      <th>13</th>\n",
       "      <td>202002</td>\n",
       "      <td>3370694945536</td>\n",
       "    </tr>\n",
       "    <tr>\n",
       "      <th>14</th>\n",
       "      <td>202003</td>\n",
       "      <td>3437884426097</td>\n",
       "    </tr>\n",
       "  </tbody>\n",
       "</table>\n",
       "</div>"
      ],
      "text/plain": [
       "    REG_YYMM            AMT\n",
       "0     201901  4052317259025\n",
       "1     201902  3634345832156\n",
       "2     201903  4105409759731\n",
       "3     201904  4006698507386\n",
       "4     201905  4345471235813\n",
       "5     201906  4122105394194\n",
       "6     201907  4187299694709\n",
       "7     201908  4268655968810\n",
       "8     201909  4123348058794\n",
       "9     201910  4176583723584\n",
       "10    201911  4047721898575\n",
       "11    201912  4292549731776\n",
       "12    202001  4124940612820\n",
       "13    202002  3370694945536\n",
       "14    202003  3437884426097"
      ]
     },
     "execution_count": 77,
     "metadata": {},
     "output_type": "execute_result"
    }
   ],
   "source": [
    "pd.DataFrame(df.groupby('REG_YYMM')['AMT'].sum()).reset_index()"
   ]
  },
  {
   "cell_type": "markdown",
   "metadata": {},
   "source": [
    "# EDA"
   ]
  },
  {
   "cell_type": "code",
   "execution_count": 78,
   "metadata": {},
   "outputs": [
    {
     "data": {
      "text/plain": [
       "<AxesSubplot:xlabel='REG_YYMM', ylabel='AMT'>"
      ]
     },
     "execution_count": 78,
     "metadata": {},
     "output_type": "execute_result"
    },
    {
     "data": {
      "image/png": "[encoded data removed]",
      "text/plain": [
       "<Figure size 1440x720 with 1 Axes>"
      ]
     },
     "metadata": {},
     "output_type": "display_data"
    }
   ],
   "source": [
    "plt.figure(figsize=(20,10))\n",
    "sns.barplot(data=pd.DataFrame(df.groupby('REG_YYMM')['AMT'].sum()).reset_index(),x='REG_YYMM',y='AMT',ci=None)"
   ]
  },
  {
   "cell_type": "markdown",
   "metadata": {},
   "source": [
    "코로나 (2020년 02월)이후로 감소했지만 이외 뚜렷한 특징은 찾기 힘들다"
   ]
  },
  {
   "cell_type": "code",
   "execution_count": 67,
   "metadata": {
    "scrolled": true
   },
   "outputs": [
    {
     "data": {
      "text/plain": [
       "<AxesSubplot:xlabel='CARD_SIDO_NM', ylabel='AMT'>"
      ]
     },
     "execution_count": 67,
     "metadata": {},
     "output_type": "execute_result"
    },
    {
     "data": {
      "image/png": "[encoded data removed]",
      "text/plain": [
       "<Figure size 1440x720 with 1 Axes>"
      ]
     },
     "metadata": {},
     "output_type": "display_data"
    }
   ],
   "source": [
    "#성별별 지역별 총매출 \n",
    "\n",
    "plt.figure(figsize=(20,10))\n",
    "sns.barplot(x='CARD_SIDO_NM',y='AMT',hue='SEX_CTGO_CD',data=df,ci=None)"
   ]
  },
  {
   "cell_type": "code",
   "execution_count": 54,
   "metadata": {
    "scrolled": false
   },
   "outputs": [
    {
     "data": {
      "text/plain": [
       "<AxesSubplot:xlabel='CARD_SIDO_NM'>"
      ]
     },
     "execution_count": 54,
     "metadata": {},
     "output_type": "execute_result"
    },
    {
     "data": {
      "image/png": "[encoded data removed]",
      "text/plain": [
       "<Figure size 1440x720 with 1 Axes>"
      ]
     },
     "metadata": {},
     "output_type": "display_data"
    }
   ],
   "source": [
    "#매장 주소지 별 카드 사용총액\n",
    "df.groupby('CARD_SIDO_NM')['AMT'].sum().plot.bar(figsize=(20,10),rot=0)"
   ]
  },
  {
   "cell_type": "code",
   "execution_count": 55,
   "metadata": {},
   "outputs": [
    {
     "data": {
      "text/plain": [
       "<AxesSubplot:xlabel='HOM_SIDO_NM'>"
      ]
     },
     "execution_count": 55,
     "metadata": {},
     "output_type": "execute_result"
    },
    {
     "data": {
      "image/png": "[encoded data removed]",
      "text/plain": [
       "<Figure size 1440x720 with 1 Axes>"
      ]
     },
     "metadata": {},
     "output_type": "display_data"
    }
   ],
   "source": [
    "#고객 주소지 별 카드 사용총액\n",
    "df.groupby('HOM_SIDO_NM')['AMT'].sum().plot.bar(figsize=(20,10),rot=0)"
   ]
  },
  {
   "cell_type": "markdown",
   "metadata": {},
   "source": [
    "주소지가 경기인사람이 서울에가서 오프라인 신용카드 결제를 많이 한다. "
   ]
  },
  {
   "cell_type": "code",
   "execution_count": 39,
   "metadata": {
    "scrolled": true
   },
   "outputs": [
    {
     "data": {
      "text/plain": [
       "<AxesSubplot:xlabel='CARD_SIDO_NM', ylabel='count'>"
      ]
     },
     "execution_count": 39,
     "metadata": {},
     "output_type": "execute_result"
    },
    {
     "data": {
      "image/png": "[encoded data removed]",
      "text/plain": [
       "<Figure size 432x288 with 1 Axes>"
      ]
     },
     "metadata": {
      "needs_background": "light"
     },
     "output_type": "display_data"
    }
   ],
   "source": [
    "sns.countplot(x='CARD_SIDO_NM',hue='SEX_CTGO_CD',data=df)"
   ]
  },
  {
   "cell_type": "code",
   "execution_count": 56,
   "metadata": {},
   "outputs": [
    {
     "ename": "KeyboardInterrupt",
     "evalue": "",
     "output_type": "error",
     "traceback": [
      "\u001b[1;31m---------------------------------------------------------------------------\u001b[0m",
      "\u001b[1;31mKeyboardInterrupt\u001b[0m                         Traceback (most recent call last)",
      "\u001b[1;32m<ipython-input-56-0e458874f7b9>\u001b[0m in \u001b[0;36m<module>\u001b[1;34m\u001b[0m\n\u001b[1;32m----> 1\u001b[1;33m \u001b[0max\u001b[0m\u001b[1;33m=\u001b[0m\u001b[0msns\u001b[0m\u001b[1;33m.\u001b[0m\u001b[0mbarplot\u001b[0m\u001b[1;33m(\u001b[0m\u001b[0mx\u001b[0m\u001b[1;33m=\u001b[0m\u001b[1;34m'CARD_SIDO_NM'\u001b[0m\u001b[1;33m,\u001b[0m\u001b[0my\u001b[0m\u001b[1;33m=\u001b[0m\u001b[1;34m'AMT'\u001b[0m\u001b[1;33m,\u001b[0m\u001b[0mdata\u001b[0m\u001b[1;33m=\u001b[0m\u001b[0mdf\u001b[0m\u001b[1;33m)\u001b[0m\u001b[1;33m\u001b[0m\u001b[1;33m\u001b[0m\u001b[0m\n\u001b[0m",
      "\u001b[1;32mC:\\ProgramData\\Anaconda3\\lib\\site-packages\\seaborn\\_decorators.py\u001b[0m in \u001b[0;36minner_f\u001b[1;34m(*args, **kwargs)\u001b[0m\n\u001b[0;32m     44\u001b[0m             )\n\u001b[0;32m     45\u001b[0m         \u001b[0mkwargs\u001b[0m\u001b[1;33m.\u001b[0m\u001b[0mupdate\u001b[0m\u001b[1;33m(\u001b[0m\u001b[1;33m{\u001b[0m\u001b[0mk\u001b[0m\u001b[1;33m:\u001b[0m \u001b[0marg\u001b[0m \u001b[1;32mfor\u001b[0m \u001b[0mk\u001b[0m\u001b[1;33m,\u001b[0m \u001b[0marg\u001b[0m \u001b[1;32min\u001b[0m \u001b[0mzip\u001b[0m\u001b[1;33m(\u001b[0m\u001b[0msig\u001b[0m\u001b[1;33m.\u001b[0m\u001b[0mparameters\u001b[0m\u001b[1;33m,\u001b[0m \u001b[0margs\u001b[0m\u001b[1;33m)\u001b[0m\u001b[1;33m}\u001b[0m\u001b[1;33m)\u001b[0m\u001b[1;33m\u001b[0m\u001b[1;33m\u001b[0m\u001b[0m\n\u001b[1;32m---> 46\u001b[1;33m         \u001b[1;32mreturn\u001b[0m \u001b[0mf\u001b[0m\u001b[1;33m(\u001b[0m\u001b[1;33m**\u001b[0m\u001b[0mkwargs\u001b[0m\u001b[1;33m)\u001b[0m\u001b[1;33m\u001b[0m\u001b[1;33m\u001b[0m\u001b[0m\n\u001b[0m\u001b[0;32m     47\u001b[0m     \u001b[1;32mreturn\u001b[0m \u001b[0minner_f\u001b[0m\u001b[1;33m\u001b[0m\u001b[1;33m\u001b[0m\u001b[0m\n\u001b[0;32m     48\u001b[0m \u001b[1;33m\u001b[0m\u001b[0m\n",
      "\u001b[1;32mC:\\ProgramData\\Anaconda3\\lib\\site-packages\\seaborn\\categorical.py\u001b[0m in \u001b[0;36mbarplot\u001b[1;34m(x, y, hue, data, order, hue_order, estimator, ci, n_boot, units, seed, orient, color, palette, saturation, errcolor, errwidth, capsize, dodge, ax, **kwargs)\u001b[0m\n\u001b[0;32m   3167\u001b[0m ):\n\u001b[0;32m   3168\u001b[0m \u001b[1;33m\u001b[0m\u001b[0m\n\u001b[1;32m-> 3169\u001b[1;33m     plotter = _BarPlotter(x, y, hue, data, order, hue_order,\n\u001b[0m\u001b[0;32m   3170\u001b[0m                           \u001b[0mestimator\u001b[0m\u001b[1;33m,\u001b[0m \u001b[0mci\u001b[0m\u001b[1;33m,\u001b[0m \u001b[0mn_boot\u001b[0m\u001b[1;33m,\u001b[0m \u001b[0munits\u001b[0m\u001b[1;33m,\u001b[0m \u001b[0mseed\u001b[0m\u001b[1;33m,\u001b[0m\u001b[1;33m\u001b[0m\u001b[1;33m\u001b[0m\u001b[0m\n\u001b[0;32m   3171\u001b[0m                           \u001b[0morient\u001b[0m\u001b[1;33m,\u001b[0m \u001b[0mcolor\u001b[0m\u001b[1;33m,\u001b[0m \u001b[0mpalette\u001b[0m\u001b[1;33m,\u001b[0m \u001b[0msaturation\u001b[0m\u001b[1;33m,\u001b[0m\u001b[1;33m\u001b[0m\u001b[1;33m\u001b[0m\u001b[0m\n",
      "\u001b[1;32mC:\\ProgramData\\Anaconda3\\lib\\site-packages\\seaborn\\categorical.py\u001b[0m in \u001b[0;36m__init__\u001b[1;34m(self, x, y, hue, data, order, hue_order, estimator, ci, n_boot, units, seed, orient, color, palette, saturation, errcolor, errwidth, capsize, dodge)\u001b[0m\n\u001b[0;32m   1585\u001b[0m                                  order, hue_order, units)\n\u001b[0;32m   1586\u001b[0m         \u001b[0mself\u001b[0m\u001b[1;33m.\u001b[0m\u001b[0mestablish_colors\u001b[0m\u001b[1;33m(\u001b[0m\u001b[0mcolor\u001b[0m\u001b[1;33m,\u001b[0m \u001b[0mpalette\u001b[0m\u001b[1;33m,\u001b[0m \u001b[0msaturation\u001b[0m\u001b[1;33m)\u001b[0m\u001b[1;33m\u001b[0m\u001b[1;33m\u001b[0m\u001b[0m\n\u001b[1;32m-> 1587\u001b[1;33m         \u001b[0mself\u001b[0m\u001b[1;33m.\u001b[0m\u001b[0mestimate_statistic\u001b[0m\u001b[1;33m(\u001b[0m\u001b[0mestimator\u001b[0m\u001b[1;33m,\u001b[0m \u001b[0mci\u001b[0m\u001b[1;33m,\u001b[0m \u001b[0mn_boot\u001b[0m\u001b[1;33m,\u001b[0m \u001b[0mseed\u001b[0m\u001b[1;33m)\u001b[0m\u001b[1;33m\u001b[0m\u001b[1;33m\u001b[0m\u001b[0m\n\u001b[0m\u001b[0;32m   1588\u001b[0m \u001b[1;33m\u001b[0m\u001b[0m\n\u001b[0;32m   1589\u001b[0m         \u001b[0mself\u001b[0m\u001b[1;33m.\u001b[0m\u001b[0mdodge\u001b[0m \u001b[1;33m=\u001b[0m \u001b[0mdodge\u001b[0m\u001b[1;33m\u001b[0m\u001b[1;33m\u001b[0m\u001b[0m\n",
      "\u001b[1;32mC:\\ProgramData\\Anaconda3\\lib\\site-packages\\seaborn\\categorical.py\u001b[0m in \u001b[0;36mestimate_statistic\u001b[1;34m(self, estimator, ci, n_boot, seed)\u001b[0m\n\u001b[0;32m   1484\u001b[0m                     \u001b[1;32melse\u001b[0m\u001b[1;33m:\u001b[0m\u001b[1;33m\u001b[0m\u001b[1;33m\u001b[0m\u001b[0m\n\u001b[0;32m   1485\u001b[0m \u001b[1;33m\u001b[0m\u001b[0m\n\u001b[1;32m-> 1486\u001b[1;33m                         boots = bootstrap(stat_data, func=estimator,\n\u001b[0m\u001b[0;32m   1487\u001b[0m                                           \u001b[0mn_boot\u001b[0m\u001b[1;33m=\u001b[0m\u001b[0mn_boot\u001b[0m\u001b[1;33m,\u001b[0m\u001b[1;33m\u001b[0m\u001b[1;33m\u001b[0m\u001b[0m\n\u001b[0;32m   1488\u001b[0m                                           \u001b[0munits\u001b[0m\u001b[1;33m=\u001b[0m\u001b[0munit_data\u001b[0m\u001b[1;33m,\u001b[0m\u001b[1;33m\u001b[0m\u001b[1;33m\u001b[0m\u001b[0m\n",
      "\u001b[1;32mC:\\ProgramData\\Anaconda3\\lib\\site-packages\\seaborn\\algorithms.py\u001b[0m in \u001b[0;36mbootstrap\u001b[1;34m(*args, **kwargs)\u001b[0m\n\u001b[0;32m     82\u001b[0m     \u001b[1;32mfor\u001b[0m \u001b[0mi\u001b[0m \u001b[1;32min\u001b[0m \u001b[0mrange\u001b[0m\u001b[1;33m(\u001b[0m\u001b[0mint\u001b[0m\u001b[1;33m(\u001b[0m\u001b[0mn_boot\u001b[0m\u001b[1;33m)\u001b[0m\u001b[1;33m)\u001b[0m\u001b[1;33m:\u001b[0m\u001b[1;33m\u001b[0m\u001b[1;33m\u001b[0m\u001b[0m\n\u001b[0;32m     83\u001b[0m         \u001b[0mresampler\u001b[0m \u001b[1;33m=\u001b[0m \u001b[0mintegers\u001b[0m\u001b[1;33m(\u001b[0m\u001b[1;36m0\u001b[0m\u001b[1;33m,\u001b[0m \u001b[0mn\u001b[0m\u001b[1;33m,\u001b[0m \u001b[0mn\u001b[0m\u001b[1;33m,\u001b[0m \u001b[0mdtype\u001b[0m\u001b[1;33m=\u001b[0m\u001b[0mnp\u001b[0m\u001b[1;33m.\u001b[0m\u001b[0mintp\u001b[0m\u001b[1;33m)\u001b[0m  \u001b[1;31m# intp is indexing dtype\u001b[0m\u001b[1;33m\u001b[0m\u001b[1;33m\u001b[0m\u001b[0m\n\u001b[1;32m---> 84\u001b[1;33m         \u001b[0msample\u001b[0m \u001b[1;33m=\u001b[0m \u001b[1;33m[\u001b[0m\u001b[0ma\u001b[0m\u001b[1;33m.\u001b[0m\u001b[0mtake\u001b[0m\u001b[1;33m(\u001b[0m\u001b[0mresampler\u001b[0m\u001b[1;33m,\u001b[0m \u001b[0maxis\u001b[0m\u001b[1;33m=\u001b[0m\u001b[1;36m0\u001b[0m\u001b[1;33m)\u001b[0m \u001b[1;32mfor\u001b[0m \u001b[0ma\u001b[0m \u001b[1;32min\u001b[0m \u001b[0margs\u001b[0m\u001b[1;33m]\u001b[0m\u001b[1;33m\u001b[0m\u001b[1;33m\u001b[0m\u001b[0m\n\u001b[0m\u001b[0;32m     85\u001b[0m         \u001b[0mboot_dist\u001b[0m\u001b[1;33m.\u001b[0m\u001b[0mappend\u001b[0m\u001b[1;33m(\u001b[0m\u001b[0mf\u001b[0m\u001b[1;33m(\u001b[0m\u001b[1;33m*\u001b[0m\u001b[0msample\u001b[0m\u001b[1;33m,\u001b[0m \u001b[1;33m**\u001b[0m\u001b[0mfunc_kwargs\u001b[0m\u001b[1;33m)\u001b[0m\u001b[1;33m)\u001b[0m\u001b[1;33m\u001b[0m\u001b[1;33m\u001b[0m\u001b[0m\n\u001b[0;32m     86\u001b[0m     \u001b[1;32mreturn\u001b[0m \u001b[0mnp\u001b[0m\u001b[1;33m.\u001b[0m\u001b[0marray\u001b[0m\u001b[1;33m(\u001b[0m\u001b[0mboot_dist\u001b[0m\u001b[1;33m)\u001b[0m\u001b[1;33m\u001b[0m\u001b[1;33m\u001b[0m\u001b[0m\n",
      "\u001b[1;32mC:\\ProgramData\\Anaconda3\\lib\\site-packages\\seaborn\\algorithms.py\u001b[0m in \u001b[0;36m<listcomp>\u001b[1;34m(.0)\u001b[0m\n\u001b[0;32m     82\u001b[0m     \u001b[1;32mfor\u001b[0m \u001b[0mi\u001b[0m \u001b[1;32min\u001b[0m \u001b[0mrange\u001b[0m\u001b[1;33m(\u001b[0m\u001b[0mint\u001b[0m\u001b[1;33m(\u001b[0m\u001b[0mn_boot\u001b[0m\u001b[1;33m)\u001b[0m\u001b[1;33m)\u001b[0m\u001b[1;33m:\u001b[0m\u001b[1;33m\u001b[0m\u001b[1;33m\u001b[0m\u001b[0m\n\u001b[0;32m     83\u001b[0m         \u001b[0mresampler\u001b[0m \u001b[1;33m=\u001b[0m \u001b[0mintegers\u001b[0m\u001b[1;33m(\u001b[0m\u001b[1;36m0\u001b[0m\u001b[1;33m,\u001b[0m \u001b[0mn\u001b[0m\u001b[1;33m,\u001b[0m \u001b[0mn\u001b[0m\u001b[1;33m,\u001b[0m \u001b[0mdtype\u001b[0m\u001b[1;33m=\u001b[0m\u001b[0mnp\u001b[0m\u001b[1;33m.\u001b[0m\u001b[0mintp\u001b[0m\u001b[1;33m)\u001b[0m  \u001b[1;31m# intp is indexing dtype\u001b[0m\u001b[1;33m\u001b[0m\u001b[1;33m\u001b[0m\u001b[0m\n\u001b[1;32m---> 84\u001b[1;33m         \u001b[0msample\u001b[0m \u001b[1;33m=\u001b[0m \u001b[1;33m[\u001b[0m\u001b[0ma\u001b[0m\u001b[1;33m.\u001b[0m\u001b[0mtake\u001b[0m\u001b[1;33m(\u001b[0m\u001b[0mresampler\u001b[0m\u001b[1;33m,\u001b[0m \u001b[0maxis\u001b[0m\u001b[1;33m=\u001b[0m\u001b[1;36m0\u001b[0m\u001b[1;33m)\u001b[0m \u001b[1;32mfor\u001b[0m \u001b[0ma\u001b[0m \u001b[1;32min\u001b[0m \u001b[0margs\u001b[0m\u001b[1;33m]\u001b[0m\u001b[1;33m\u001b[0m\u001b[1;33m\u001b[0m\u001b[0m\n\u001b[0m\u001b[0;32m     85\u001b[0m         \u001b[0mboot_dist\u001b[0m\u001b[1;33m.\u001b[0m\u001b[0mappend\u001b[0m\u001b[1;33m(\u001b[0m\u001b[0mf\u001b[0m\u001b[1;33m(\u001b[0m\u001b[1;33m*\u001b[0m\u001b[0msample\u001b[0m\u001b[1;33m,\u001b[0m \u001b[1;33m**\u001b[0m\u001b[0mfunc_kwargs\u001b[0m\u001b[1;33m)\u001b[0m\u001b[1;33m)\u001b[0m\u001b[1;33m\u001b[0m\u001b[1;33m\u001b[0m\u001b[0m\n\u001b[0;32m     86\u001b[0m     \u001b[1;32mreturn\u001b[0m \u001b[0mnp\u001b[0m\u001b[1;33m.\u001b[0m\u001b[0marray\u001b[0m\u001b[1;33m(\u001b[0m\u001b[0mboot_dist\u001b[0m\u001b[1;33m)\u001b[0m\u001b[1;33m\u001b[0m\u001b[1;33m\u001b[0m\u001b[0m\n",
      "\u001b[1;31mKeyboardInterrupt\u001b[0m: "
     ]
    }
   ],
   "source": []
  },
  {
   "cell_type": "code",
   "execution_count": 42,
   "metadata": {},
   "outputs": [
    {
     "data": {
      "text/plain": [
       "<AxesSubplot:xlabel='AGE'>"
      ]
     },
     "execution_count": 42,
     "metadata": {},
     "output_type": "execute_result"
    },
    {
     "data": {
      "image/png": "[encoded data removed]",
      "text/plain": [
       "<Figure size 432x288 with 1 Axes>"
      ]
     },
     "metadata": {
      "needs_background": "light"
     },
     "output_type": "display_data"
    }
   ],
   "source": [
    "#연령대별 신용카드 이용 건수 \n",
    "\n",
    "df.groupby('AGE')['CNT'].sum().plot.bar(rot=0)"
   ]
  },
  {
   "cell_type": "code",
   "execution_count": 41,
   "metadata": {
    "scrolled": false
   },
   "outputs": [
    {
     "data": {
      "text/plain": [
       "<AxesSubplot:xlabel='AGE'>"
      ]
     },
     "execution_count": 41,
     "metadata": {},
     "output_type": "execute_result"
    },
    {
     "data": {
      "image/png": "[encoded data removed]",
      "text/plain": [
       "<Figure size 432x288 with 1 Axes>"
      ]
     },
     "metadata": {
      "needs_background": "light"
     },
     "output_type": "display_data"
    }
   ],
   "source": [
    "#연령대 별 AMT총액\n",
    "\n",
    "df.groupby('AGE')['AMT'].sum().plot.bar(rot=0)"
   ]
  },
  {
   "cell_type": "code",
   "execution_count": 49,
   "metadata": {},
   "outputs": [
    {
     "data": {
      "image/png": "[encoded data removed]",
      "text/plain": [
       "<Figure size 432x288 with 1 Axes>"
      ]
     },
     "metadata": {},
     "output_type": "display_data"
    }
   ],
   "source": [
    "# df로 violinplot을 그리면 최대값 때문에 해석하기 힘든 그래프가 그려진다. \n",
    "# 따라서, df_low로 그리는 방향도 고민해 봐야한다. \n",
    "\n",
    "\n",
    "sns.set_theme(style=\"whitegrid\")\n",
    "\n",
    "# Draw a nested violinplot and split the violins for easier comparison\n",
    "sns.violinplot(data=df, x=\"AGE\", y=\"AMT\", hue=\"SEX_CTGO_CD\",\n",
    "               split=True, inner=\"quart\", linewidth=1,order=['10s','20s','30s','40s','50s','60s','70s',])\n",
    "sns.despine(left=True)"
   ]
  },
  {
   "cell_type": "code",
   "execution_count": null,
   "metadata": {},
   "outputs": [],
   "source": []
  },
  {
   "cell_type": "code",
   "execution_count": null,
   "metadata": {},
   "outputs": [],
   "source": []
  },
  {
   "cell_type": "code",
   "execution_count": null,
   "metadata": {},
   "outputs": [],
   "source": []
  },
  {
   "cell_type": "code",
   "execution_count": null,
   "metadata": {},
   "outputs": [],
   "source": []
  },
  {
   "cell_type": "code",
   "execution_count": null,
   "metadata": {},
   "outputs": [],
   "source": []
  },
  {
   "cell_type": "code",
   "execution_count": 54,
   "metadata": {},
   "outputs": [
    {
     "data": {
      "text/plain": [
       "<AxesSubplot:>"
      ]
     },
     "execution_count": 54,
     "metadata": {},
     "output_type": "execute_result"
    },
    {
     "data": {
      "image/png": "[encoded data removed]",
      "text/plain": [
       "<Figure size 864x648 with 2 Axes>"
      ]
     },
     "metadata": {
      "needs_background": "light"
     },
     "output_type": "display_data"
    }
   ],
   "source": [
    "corrmat = df.corr()\n",
    "f, ax = plt.subplots(figsize=(12, 9))\n",
    "sns.heatmap(corrmat, vmax=.8, square=True,cmap='summer_r',annot=True)"
   ]
  },
  {
   "cell_type": "code",
   "execution_count": null,
   "metadata": {},
   "outputs": [],
   "source": []
  },
  {
   "cell_type": "code",
   "execution_count": null,
   "metadata": {},
   "outputs": [],
   "source": []
  },
  {
   "cell_type": "code",
   "execution_count": null,
   "metadata": {},
   "outputs": [],
   "source": []
  },
  {
   "cell_type": "code",
   "execution_count": null,
   "metadata": {},
   "outputs": [],
   "source": []
  },
  {
   "cell_type": "code",
   "execution_count": null,
   "metadata": {},
   "outputs": [],
   "source": []
  }
 ],
 "metadata": {
  "kernelspec": {
   "display_name": "Python 3",
   "language": "python",
   "name": "python3"
  },
  "language_info": {
   "codemirror_mode": {
    "name": "ipython",
    "version": 3
   },
   "file_extension": ".py",
   "mimetype": "text/x-python",
   "name": "python",
   "nbconvert_exporter": "python",
   "pygments_lexer": "ipython3",
   "version": "3.8.5"
  },
  "toc": {
   "base_numbering": 1,
   "nav_menu": {},
   "number_sections": true,
   "sideBar": true,
   "skip_h1_title": false,
   "title_cell": "Table of Contents",
   "title_sidebar": "Contents",
   "toc_cell": false,
   "toc_position": {},
   "toc_section_display": true,
   "toc_window_display": false
  }
 },
 "nbformat": 4,
 "nbformat_minor": 4
}
