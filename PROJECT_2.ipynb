{
 "cells": [
  {
   "cell_type": "code",
   "execution_count": 1,
   "metadata": {},
   "outputs": [],
   "source": [
    "import numpy as np\n",
    "import pandas as pd\n",
    "import matplotlib as mpl\n",
    "import matplotlib.pyplot as plt\n",
    "import matplotlib.patches as mpatches\n",
    "import matplotlib.gridspec as gridspec\n",
    "import statsmodels.api as sm\n",
    "\n",
    "import sklearn\n",
    "from sklearn.ensemble import RandomForestRegressor\n",
    "from sklearn.preprocessing import LabelEncoder\n",
    "\n",
    "from matplotlib.offsetbox import AnchoredText\n",
    "from mpl_toolkits.axes_grid1 import make_axes_locatable\n",
    "\n",
    "import seaborn as sns\n",
    "import warnings\n",
    "warnings.filterwarnings(action='ignore')\n",
    "\n",
    "plt.rc(\"font\", family=\"Malgun Gothic\")\n",
    "plt.rc(\"axes\", unicode_minus=False)"
   ]
  },
  {
   "cell_type": "markdown",
   "metadata": {},
   "source": [
    "# 디렉토리 확인 및 데이터 로드 "
   ]
  },
  {
   "cell_type": "code",
   "execution_count": 2,
   "metadata": {},
   "outputs": [
    {
     "data": {
      "text/plain": [
       "'C:\\\\Users\\\\김도연'"
      ]
     },
     "execution_count": 2,
     "metadata": {},
     "output_type": "execute_result"
    }
   ],
   "source": [
    "%pwd"
   ]
  },
  {
   "cell_type": "code",
   "execution_count": 3,
   "metadata": {},
   "outputs": [
    {
     "name": "stdout",
     "output_type": "stream",
     "text": [
      " C 드라이브의 볼륨: Windows\n",
      " 볼륨 일련 번호: 949E-3DEA\n",
      "\n",
      " C:\\Users\\김도연 디렉터리\n",
      "\n",
      "2021-02-14  오후 10:12         4,091,870  EDA of bookings and ML to predict cancelations.ipynb\n",
      "2021-03-02  오후 08:13    <DIR>          .\n",
      "2021-03-02  오후 08:13    <DIR>          ..\n",
      "2019-11-08  오후 10:04    <DIR>          .android\n",
      "2020-11-24  오후 10:39               260 .bash_history\n",
      "2021-03-03  오전 12:20    <DIR>          .conda\n",
      "2021-03-02  오후 09:57                43 .condarc\n",
      "2021-03-01  오전 01:28             1,831 .gitignore\n",
      "2021-03-02  오후 08:11    <DIR>          .ipynb_checkpoints\n",
      "2020-11-10  오후 06:42    <DIR>          .ipython\n",
      "2021-03-02  오후 08:28    <DIR>          .jupyter\n",
      "2020-12-08  오후 01:27    <DIR>          .LdVirtualBox\n",
      "2021-02-03  오후 06:24    <DIR>          .matplotlib\n",
      "2021-02-13  오후 11:57         1,778,302 03-apt-price-eda-output.ipynb\n",
      "2021-02-14  오전 01:43           121,691 04-coffee-store-choropleth.html\n",
      "2021-02-14  오전 12:17            29,035 04-coffee-store-input.ipynb\n",
      "2021-02-14  오전 01:44         4,569,648 04-coffee-store-output.ipynb\n",
      "2021-02-18  오후 04:20         3,620,515 0601 plotly로 일별 시세 시각화-input.ipynb\n",
      "2021-02-17  오후 07:13            22,766 0601 plotly로 일별 시세 시각화-output.ipynb\n",
      "2021-02-18  오후 04:46         2,464,664 0602 이동평균과 볼린저 밴드.ipynb\n",
      "2021-02-18  오후 05:07            19,456 0603 mplfinance 로 기술적 분석하기.ipynb\n",
      "2021-02-17  오후 07:13             4,761 0604 cufflinks 로 QuantFig 그리기.ipynb\n",
      "2021-02-22  오후 04:58         1,014,202 07-RFM, Cohort Analysis and Customer Segmentation.ipynb\n",
      "2021-02-23  오후 03:15            27,212 0801-NHIS_medicine_exract.ipynb\n",
      "2021-02-23  오후 03:57            45,423 0802-NHIS_medicine_concat-input.ipynb\n",
      "2021-02-22  오전 06:15            23,945 0803-medicine-eda-input.ipynb\n",
      "2021-02-23  오후 04:52         1,333,803 0803-medicine-eda-output.ipynb\n",
      "2021-02-07  오후 03:19         2,028,783 2_data.csv\n",
      "2019-05-05  오후 10:14    <DIR>          3D Objects\n",
      "2020-07-25  오후 12:24    <DIR>          AppData\n",
      "2017-07-02  오후 06:25    <DIR>          Autodesk\n",
      "2021-02-14  오후 04:22    <DIR>          bike sharing demand\n",
      "2021-02-14  오후 05:51           480,561 Bike Sharing Demand.ipynb\n",
      "2021-02-21  오후 10:36         1,077,170 Comprehensive data exploration with Python.ipynb\n",
      "2019-05-05  오후 10:14    <DIR>          Contacts\n",
      "2019-11-08  오후 11:38               300 d4ac4633ebd6440fa397b84f1bc94a3c.7z\n",
      "2021-02-20  오후 08:03         4,002,104 Deep Reinforcement Learning on Stock Data.ipynb\n",
      "2021-02-23  오후 10:19    <DIR>          Desktop\n",
      "2021-02-01  오후 06:09    <DIR>          Documents\n",
      "2021-03-03  오전 01:24    <DIR>          Downloads\n",
      "2021-02-06  오후 11:27         1,033,841 EDA To Prediction(DieTanic).ipynb\n",
      "2019-05-05  오후 10:14    <DIR>          Favorites\n",
      "2021-02-17  오후 07:48    <DIR>          finance\n",
      "2021-02-04  오후 08:24            87,880 foo.csv\n",
      "2021-02-04  오후 08:25            47,240 foo.h5\n",
      "2020-02-14  오후 09:01                29 Foxit Reader SDK ActiveX.ini\n",
      "2021-02-17  오후 03:14           808,315 FRED 경기 선행지표.ipynb\n",
      "2021-02-06  오후 07:11             3,258 gender_submission.csv\n",
      "2021-02-07  오후 07:00         1,628,928 GIDCC_COVID19.ipynb\n",
      "2021-02-14  오후 07:11    <DIR>          hotel booking\n",
      "2021-02-20  오후 08:13    <DIR>          House Prices\n",
      "2019-09-19  오후 05:25                66 inittk.ini\n",
      "2019-09-19  오후 05:25                41 inst.ini\n",
      "2020-11-17  오후 05:04        25,431,748 kaggle_survey_2020_responses.csv\n",
      "2021-02-04  오후 02:08         3,722,594 kaggle-2020-visualization-analysis.ipynb\n",
      "2020-06-06  오후 04:56            15,681 KCase.log\n",
      "2021-03-02  오후 09:52    <DIR>          lecture1\n",
      "2021-03-02  오후 08:02    <DIR>          lecture2\n",
      "2021-03-03  오전 01:10    <DIR>          lecture3\n",
      "2021-03-02  오후 08:02    <DIR>          lecture4\n",
      "2021-03-02  오후 08:02    <DIR>          lecture5\n",
      "2021-03-02  오후 08:02    <DIR>          lecture6\n",
      "2020-02-08  오전 01:54    <DIR>          Links\n",
      "2021-02-16  오후 10:20            21,621 mpg\n",
      "2019-05-05  오후 10:14    <DIR>          Music\n",
      "2021-02-13  오후 09:45            19,303 ND-파이썬기초-과제1.ipynb\n",
      "2021-02-13  오후 10:56            43,328 ND-파이썬기초-과제2.ipynb\n",
      "2021-02-14  오후 06:22           154,873 ND-파이썬기초-과제3.ipynb\n",
      "2021-02-17  오후 02:04           106,141 ND-파이썬기초-과제4.ipynb\n",
      "2021-02-18  오후 08:34           140,508 ND-파이썬기초-과제5.ipynb\n",
      "2019-09-19  오후 05:25    <DIR>          Nox_share\n",
      "2019-09-19  오후 05:25                45 nuuid.ini\n",
      "2020-07-25  오후 12:40    <DIR>          OneDrive\n",
      "2019-05-05  오후 10:14    <DIR>          Pictures\n",
      "2021-03-02  오후 06:49           761,606 PROJECT_2.ipynb\n",
      "2021-03-02  오후 03:28    <DIR>          project2\n",
      "2021-03-01  오전 01:28               376 README.md\n",
      "2021-02-23  오후 04:33           585,498 sample.csv\n",
      "2021-02-17  오후 04:58            41,539 samsung.png\n",
      "2021-01-30  오후 11:40    <DIR>          Saved Games\n",
      "2021-02-18  오후 05:12    <DIR>          seaborn-data\n",
      "2019-05-05  오후 10:14    <DIR>          Searches\n",
      "2019-02-02  오후 03:53            57,732 seoul_municipalities_geo_simple.json\n",
      "2021-02-04  오후 01:43           532,463 seoul-covid19-11_28_.csv\n",
      "2021-02-06  오후 07:11            28,629 test.csv\n",
      "2021-02-06  오후 07:11            61,194 train.csv\n",
      "2021-02-16  오후 05:27             2,034 Untitled.ipynb\n",
      "2021-02-17  오후 09:31           108,972 Untitled1.ipynb\n",
      "2021-02-18  오후 02:08         3,615,130 Untitled2.ipynb\n",
      "2021-03-02  오후 08:13               867 Untitled3.ipynb\n",
      "2019-09-19  오후 05:25                53 useruid.ini\n",
      "2021-03-03  오전 12:19    <DIR>          Videos\n",
      "2021-02-17  오후 03:56           397,431 VIX 지수와 관련 종목.ipynb\n",
      "2019-11-08  오후 10:04    <DIR>          vmlogs\n",
      "2021-02-17  오후 04:53             7,205 기간별수익률데이터(2019.12.30).xlsx\n",
      "2020-01-07  오후 11:18       264,920,940 상가업소정보_201912_01.csv\n",
      "2021-02-17  오후 04:54           146,303 섹터 평균 수익률과 개별 종목의 수익률 구하기.ipynb\n",
      "2021-02-17  오후 05:04            59,856 수정주가.ipynb\n",
      "2021-02-17  오후 05:19           414,434 여러 종목의 가격을 한번에.ipynb\n",
      "2019-04-09  오후 07:19            14,336 이력서.hwp\n",
      "2019-10-18  오전 12:40             2,163 전국 평균 분양가격(2013년 9월부터 2015년 8월까지).csv\n",
      "2021-02-15  오후 05:52            31,068 종목 뉴스 게시판 정보 가져오기.ipynb\n",
      "2020-02-28  오후 02:13           162,510 주택도시보증공사_전국 평균 분양가격(2019년 12월).csv\n",
      "2019-10-18  오전 12:42           149,663 주택도시보증공사_전국 평균 분양가격(2019년 8월)_20190917.csv\n",
      "2021-02-02  오후 02:35             1,187 주피터 노트북 사용법.ipynb\n",
      "2021-02-04  오후 08:26           308,771 판다스 10분 완성.ipynb\n",
      "              68개 파일         332,435,745 바이트\n",
      "              38개 디렉터리  13,023,117,312 바이트 남음\n"
     ]
    }
   ],
   "source": [
    "%ls "
   ]
  },
  {
   "cell_type": "code",
   "execution_count": 2,
   "metadata": {},
   "outputs": [
    {
     "data": {
      "text/plain": [
       "(24697792, 12)"
      ]
     },
     "execution_count": 2,
     "metadata": {},
     "output_type": "execute_result"
    }
   ],
   "source": [
    "df = pd.read_csv(\"project2\\Card.csv\")\n",
    "df.shape"
   ]
  },
  {
   "cell_type": "markdown",
   "metadata": {},
   "source": [
    "# 데이터 메모리 최소화 작업"
   ]
  },
  {
   "cell_type": "code",
   "execution_count": 5,
   "metadata": {},
   "outputs": [
    {
     "name": "stdout",
     "output_type": "stream",
     "text": [
      "<class 'pandas.core.frame.DataFrame'>\n",
      "RangeIndex: 24697792 entries, 0 to 24697791\n",
      "Data columns (total 12 columns):\n",
      " #   Column        Dtype \n",
      "---  ------        ----- \n",
      " 0   REG_YYMM      int64 \n",
      " 1   CARD_SIDO_NM  object\n",
      " 2   CARD_CCG_NM   object\n",
      " 3   STD_CLSS_NM   object\n",
      " 4   HOM_SIDO_NM   object\n",
      " 5   HOM_CCG_NM    object\n",
      " 6   AGE           object\n",
      " 7   SEX_CTGO_CD   int64 \n",
      " 8   FLC           int64 \n",
      " 9   CSTMR_CNT     int64 \n",
      " 10  AMT           int64 \n",
      " 11  CNT           int64 \n",
      "dtypes: int64(6), object(6)\n",
      "memory usage: 2.2+ GB\n"
     ]
    }
   ],
   "source": [
    "df.info()"
   ]
  },
  {
   "cell_type": "code",
   "execution_count": 3,
   "metadata": {},
   "outputs": [],
   "source": [
    "df['SEX_CTGO_CD']=df['SEX_CTGO_CD'].astype('category')"
   ]
  },
  {
   "cell_type": "code",
   "execution_count": 4,
   "metadata": {},
   "outputs": [],
   "source": [
    "df['CNT']=df['CNT'].astype('int32')"
   ]
  },
  {
   "cell_type": "code",
   "execution_count": 5,
   "metadata": {},
   "outputs": [],
   "source": [
    "df['FLC']=df['FLC'].astype('category')"
   ]
  },
  {
   "cell_type": "code",
   "execution_count": 29,
   "metadata": {},
   "outputs": [],
   "source": [
    "df['CSTMR_CNT']=df['CSTMR_CNT'].astype('int32')"
   ]
  },
  {
   "cell_type": "code",
   "execution_count": 30,
   "metadata": {},
   "outputs": [],
   "source": [
    "df['REG_YYMM']=df['REG_YYMM'].astype('int32')"
   ]
  },
  {
   "cell_type": "code",
   "execution_count": 71,
   "metadata": {},
   "outputs": [
    {
     "name": "stdout",
     "output_type": "stream",
     "text": [
      "<class 'pandas.core.frame.DataFrame'>\n",
      "RangeIndex: 24697792 entries, 0 to 24697791\n",
      "Data columns (total 11 columns):\n",
      " #   Column  Dtype   \n",
      "---  ------  -----   \n",
      " 0   매장_시도   object  \n",
      " 1   업종명     object  \n",
      " 2   고객_시도   object  \n",
      " 3   연령대     int32   \n",
      " 4   성별      category\n",
      " 5   가구생애주기  category\n",
      " 6   이용고객수   int32   \n",
      " 7   이용금액    int64   \n",
      " 8   이용건수    int32   \n",
      " 9   년       int64   \n",
      " 10  월       int64   \n",
      "dtypes: category(2), int32(3), int64(3), object(3)\n",
      "memory usage: 1.4+ GB\n"
     ]
    }
   ],
   "source": []
  },
  {
   "cell_type": "code",
   "execution_count": 11,
   "metadata": {},
   "outputs": [],
   "source": [
    "pd.options.display.float_format = '{:.2f}'.format"
   ]
  },
  {
   "cell_type": "code",
   "execution_count": 12,
   "metadata": {
    "scrolled": true
   },
   "outputs": [
    {
     "data": {
      "text/html": [
       "<div>\n",
       "<style scoped>\n",
       "    .dataframe tbody tr th:only-of-type {\n",
       "        vertical-align: middle;\n",
       "    }\n",
       "\n",
       "    .dataframe tbody tr th {\n",
       "        vertical-align: top;\n",
       "    }\n",
       "\n",
       "    .dataframe thead th {\n",
       "        text-align: right;\n",
       "    }\n",
       "</style>\n",
       "<table border=\"1\" class=\"dataframe\">\n",
       "  <thead>\n",
       "    <tr style=\"text-align: right;\">\n",
       "      <th></th>\n",
       "      <th>REG_YYMM</th>\n",
       "      <th>CSTMR_CNT</th>\n",
       "      <th>AMT</th>\n",
       "      <th>CNT</th>\n",
       "    </tr>\n",
       "  </thead>\n",
       "  <tbody>\n",
       "    <tr>\n",
       "      <th>count</th>\n",
       "      <td>24697792.00</td>\n",
       "      <td>24697792.00</td>\n",
       "      <td>24697792.00</td>\n",
       "      <td>24697792.00</td>\n",
       "    </tr>\n",
       "    <tr>\n",
       "      <th>mean</th>\n",
       "      <td>201923.06</td>\n",
       "      <td>61.97</td>\n",
       "      <td>2441352.94</td>\n",
       "      <td>126.04</td>\n",
       "    </tr>\n",
       "    <tr>\n",
       "      <th>std</th>\n",
       "      <td>36.20</td>\n",
       "      <td>355.92</td>\n",
       "      <td>17260959.04</td>\n",
       "      <td>966.94</td>\n",
       "    </tr>\n",
       "    <tr>\n",
       "      <th>min</th>\n",
       "      <td>201901.00</td>\n",
       "      <td>3.00</td>\n",
       "      <td>20.00</td>\n",
       "      <td>1.00</td>\n",
       "    </tr>\n",
       "    <tr>\n",
       "      <th>25%</th>\n",
       "      <td>201904.00</td>\n",
       "      <td>4.00</td>\n",
       "      <td>90200.00</td>\n",
       "      <td>5.00</td>\n",
       "    </tr>\n",
       "    <tr>\n",
       "      <th>50%</th>\n",
       "      <td>201908.00</td>\n",
       "      <td>8.00</td>\n",
       "      <td>252680.00</td>\n",
       "      <td>12.00</td>\n",
       "    </tr>\n",
       "    <tr>\n",
       "      <th>75%</th>\n",
       "      <td>201911.00</td>\n",
       "      <td>24.00</td>\n",
       "      <td>843337.25</td>\n",
       "      <td>40.00</td>\n",
       "    </tr>\n",
       "    <tr>\n",
       "      <th>max</th>\n",
       "      <td>202003.00</td>\n",
       "      <td>32813.00</td>\n",
       "      <td>2349523701.00</td>\n",
       "      <td>120357.00</td>\n",
       "    </tr>\n",
       "  </tbody>\n",
       "</table>\n",
       "</div>"
      ],
      "text/plain": [
       "         REG_YYMM   CSTMR_CNT           AMT         CNT\n",
       "count 24697792.00 24697792.00   24697792.00 24697792.00\n",
       "mean    201923.06       61.97    2441352.94      126.04\n",
       "std         36.20      355.92   17260959.04      966.94\n",
       "min     201901.00        3.00         20.00        1.00\n",
       "25%     201904.00        4.00      90200.00        5.00\n",
       "50%     201908.00        8.00     252680.00       12.00\n",
       "75%     201911.00       24.00     843337.25       40.00\n",
       "max     202003.00    32813.00 2349523701.00   120357.00"
      ]
     },
     "execution_count": 12,
     "metadata": {},
     "output_type": "execute_result"
    }
   ],
   "source": [
    "df.describe()"
   ]
  },
  {
   "cell_type": "code",
   "execution_count": 13,
   "metadata": {
    "scrolled": true
   },
   "outputs": [
    {
     "name": "stdout",
     "output_type": "stream",
     "text": [
      "<class 'pandas.core.frame.DataFrame'>\n",
      "RangeIndex: 24697792 entries, 0 to 24697791\n",
      "Data columns (total 12 columns):\n",
      " #   Column        Dtype   \n",
      "---  ------        -----   \n",
      " 0   REG_YYMM      int32   \n",
      " 1   CARD_SIDO_NM  object  \n",
      " 2   CARD_CCG_NM   object  \n",
      " 3   STD_CLSS_NM   object  \n",
      " 4   HOM_SIDO_NM   object  \n",
      " 5   HOM_CCG_NM    object  \n",
      " 6   AGE           object  \n",
      " 7   SEX_CTGO_CD   category\n",
      " 8   FLC           category\n",
      " 9   CSTMR_CNT     int32   \n",
      " 10  AMT           int64   \n",
      " 11  CNT           int32   \n",
      "dtypes: category(2), int32(3), int64(1), object(6)\n",
      "memory usage: 1.6+ GB\n"
     ]
    }
   ],
   "source": [
    "df.info()"
   ]
  },
  {
   "cell_type": "code",
   "execution_count": 31,
   "metadata": {},
   "outputs": [
    {
     "data": {
      "text/html": [
       "<div>\n",
       "<style scoped>\n",
       "    .dataframe tbody tr th:only-of-type {\n",
       "        vertical-align: middle;\n",
       "    }\n",
       "\n",
       "    .dataframe tbody tr th {\n",
       "        vertical-align: top;\n",
       "    }\n",
       "\n",
       "    .dataframe thead th {\n",
       "        text-align: right;\n",
       "    }\n",
       "</style>\n",
       "<table border=\"1\" class=\"dataframe\">\n",
       "  <thead>\n",
       "    <tr style=\"text-align: right;\">\n",
       "      <th></th>\n",
       "      <th>REG_YYMM</th>\n",
       "      <th>CARD_SIDO_NM</th>\n",
       "      <th>CARD_CCG_NM</th>\n",
       "      <th>STD_CLSS_NM</th>\n",
       "      <th>HOM_SIDO_NM</th>\n",
       "      <th>HOM_CCG_NM</th>\n",
       "      <th>AGE</th>\n",
       "      <th>SEX_CTGO_CD</th>\n",
       "      <th>FLC</th>\n",
       "      <th>CSTMR_CNT</th>\n",
       "      <th>AMT</th>\n",
       "      <th>CNT</th>\n",
       "    </tr>\n",
       "  </thead>\n",
       "  <tbody>\n",
       "    <tr>\n",
       "      <th>0</th>\n",
       "      <td>201901</td>\n",
       "      <td>강원</td>\n",
       "      <td>강릉시</td>\n",
       "      <td>건강보조식품 소매업</td>\n",
       "      <td>강원</td>\n",
       "      <td>강릉시</td>\n",
       "      <td>20</td>\n",
       "      <td>1</td>\n",
       "      <td>1</td>\n",
       "      <td>4</td>\n",
       "      <td>311200</td>\n",
       "      <td>4</td>\n",
       "    </tr>\n",
       "    <tr>\n",
       "      <th>1</th>\n",
       "      <td>201901</td>\n",
       "      <td>강원</td>\n",
       "      <td>강릉시</td>\n",
       "      <td>건강보조식품 소매업</td>\n",
       "      <td>강원</td>\n",
       "      <td>강릉시</td>\n",
       "      <td>30</td>\n",
       "      <td>1</td>\n",
       "      <td>2</td>\n",
       "      <td>7</td>\n",
       "      <td>1374500</td>\n",
       "      <td>8</td>\n",
       "    </tr>\n",
       "    <tr>\n",
       "      <th>2</th>\n",
       "      <td>201901</td>\n",
       "      <td>강원</td>\n",
       "      <td>강릉시</td>\n",
       "      <td>건강보조식품 소매업</td>\n",
       "      <td>강원</td>\n",
       "      <td>강릉시</td>\n",
       "      <td>30</td>\n",
       "      <td>2</td>\n",
       "      <td>2</td>\n",
       "      <td>6</td>\n",
       "      <td>818700</td>\n",
       "      <td>6</td>\n",
       "    </tr>\n",
       "    <tr>\n",
       "      <th>3</th>\n",
       "      <td>201901</td>\n",
       "      <td>강원</td>\n",
       "      <td>강릉시</td>\n",
       "      <td>건강보조식품 소매업</td>\n",
       "      <td>강원</td>\n",
       "      <td>강릉시</td>\n",
       "      <td>40</td>\n",
       "      <td>1</td>\n",
       "      <td>3</td>\n",
       "      <td>4</td>\n",
       "      <td>1717000</td>\n",
       "      <td>5</td>\n",
       "    </tr>\n",
       "    <tr>\n",
       "      <th>4</th>\n",
       "      <td>201901</td>\n",
       "      <td>강원</td>\n",
       "      <td>강릉시</td>\n",
       "      <td>건강보조식품 소매업</td>\n",
       "      <td>강원</td>\n",
       "      <td>강릉시</td>\n",
       "      <td>40</td>\n",
       "      <td>1</td>\n",
       "      <td>4</td>\n",
       "      <td>3</td>\n",
       "      <td>1047300</td>\n",
       "      <td>3</td>\n",
       "    </tr>\n",
       "  </tbody>\n",
       "</table>\n",
       "</div>"
      ],
      "text/plain": [
       "   REG_YYMM CARD_SIDO_NM CARD_CCG_NM STD_CLSS_NM HOM_SIDO_NM HOM_CCG_NM  AGE  \\\n",
       "0    201901           강원         강릉시  건강보조식품 소매업          강원        강릉시   20   \n",
       "1    201901           강원         강릉시  건강보조식품 소매업          강원        강릉시   30   \n",
       "2    201901           강원         강릉시  건강보조식품 소매업          강원        강릉시   30   \n",
       "3    201901           강원         강릉시  건강보조식품 소매업          강원        강릉시   40   \n",
       "4    201901           강원         강릉시  건강보조식품 소매업          강원        강릉시   40   \n",
       "\n",
       "   SEX_CTGO_CD  FLC  CSTMR_CNT      AMT  CNT  \n",
       "0            1    1          4   311200    4  \n",
       "1            1    2          7  1374500    8  \n",
       "2            2    2          6   818700    6  \n",
       "3            1    3          4  1717000    5  \n",
       "4            1    4          3  1047300    3  "
      ]
     },
     "execution_count": 31,
     "metadata": {},
     "output_type": "execute_result"
    }
   ],
   "source": [
    "# 연령대 숫자형으로 변환 \n",
    "df['AGE'] = df['AGE'].str.rstrip('s').astype('int')\n",
    "df.head()"
   ]
  },
  {
   "cell_type": "code",
   "execution_count": 3,
   "metadata": {},
   "outputs": [
    {
     "data": {
      "text/html": [
       "<div>\n",
       "<style scoped>\n",
       "    .dataframe tbody tr th:only-of-type {\n",
       "        vertical-align: middle;\n",
       "    }\n",
       "\n",
       "    .dataframe tbody tr th {\n",
       "        vertical-align: top;\n",
       "    }\n",
       "\n",
       "    .dataframe thead th {\n",
       "        text-align: right;\n",
       "    }\n",
       "</style>\n",
       "<table border=\"1\" class=\"dataframe\">\n",
       "  <thead>\n",
       "    <tr style=\"text-align: right;\">\n",
       "      <th></th>\n",
       "      <th>연월</th>\n",
       "      <th>매장_시도</th>\n",
       "      <th>매장_시군구</th>\n",
       "      <th>업종명</th>\n",
       "      <th>고객_시도</th>\n",
       "      <th>고객_시군구</th>\n",
       "      <th>연령대</th>\n",
       "      <th>성별</th>\n",
       "      <th>가구생애주기</th>\n",
       "      <th>이용고객수</th>\n",
       "      <th>이용금액</th>\n",
       "      <th>이용건수</th>\n",
       "    </tr>\n",
       "  </thead>\n",
       "  <tbody>\n",
       "    <tr>\n",
       "      <th>0</th>\n",
       "      <td>201901</td>\n",
       "      <td>강원</td>\n",
       "      <td>강릉시</td>\n",
       "      <td>건강보조식품 소매업</td>\n",
       "      <td>강원</td>\n",
       "      <td>강릉시</td>\n",
       "      <td>20s</td>\n",
       "      <td>1</td>\n",
       "      <td>1</td>\n",
       "      <td>4</td>\n",
       "      <td>311200</td>\n",
       "      <td>4</td>\n",
       "    </tr>\n",
       "    <tr>\n",
       "      <th>1</th>\n",
       "      <td>201901</td>\n",
       "      <td>강원</td>\n",
       "      <td>강릉시</td>\n",
       "      <td>건강보조식품 소매업</td>\n",
       "      <td>강원</td>\n",
       "      <td>강릉시</td>\n",
       "      <td>30s</td>\n",
       "      <td>1</td>\n",
       "      <td>2</td>\n",
       "      <td>7</td>\n",
       "      <td>1374500</td>\n",
       "      <td>8</td>\n",
       "    </tr>\n",
       "    <tr>\n",
       "      <th>2</th>\n",
       "      <td>201901</td>\n",
       "      <td>강원</td>\n",
       "      <td>강릉시</td>\n",
       "      <td>건강보조식품 소매업</td>\n",
       "      <td>강원</td>\n",
       "      <td>강릉시</td>\n",
       "      <td>30s</td>\n",
       "      <td>2</td>\n",
       "      <td>2</td>\n",
       "      <td>6</td>\n",
       "      <td>818700</td>\n",
       "      <td>6</td>\n",
       "    </tr>\n",
       "    <tr>\n",
       "      <th>3</th>\n",
       "      <td>201901</td>\n",
       "      <td>강원</td>\n",
       "      <td>강릉시</td>\n",
       "      <td>건강보조식품 소매업</td>\n",
       "      <td>강원</td>\n",
       "      <td>강릉시</td>\n",
       "      <td>40s</td>\n",
       "      <td>1</td>\n",
       "      <td>3</td>\n",
       "      <td>4</td>\n",
       "      <td>1717000</td>\n",
       "      <td>5</td>\n",
       "    </tr>\n",
       "    <tr>\n",
       "      <th>4</th>\n",
       "      <td>201901</td>\n",
       "      <td>강원</td>\n",
       "      <td>강릉시</td>\n",
       "      <td>건강보조식품 소매업</td>\n",
       "      <td>강원</td>\n",
       "      <td>강릉시</td>\n",
       "      <td>40s</td>\n",
       "      <td>1</td>\n",
       "      <td>4</td>\n",
       "      <td>3</td>\n",
       "      <td>1047300</td>\n",
       "      <td>3</td>\n",
       "    </tr>\n",
       "  </tbody>\n",
       "</table>\n",
       "</div>"
      ],
      "text/plain": [
       "       연월 매장_시도 매장_시군구         업종명 고객_시도 고객_시군구  연령대  성별  가구생애주기  이용고객수  \\\n",
       "0  201901    강원    강릉시  건강보조식품 소매업    강원    강릉시  20s   1       1      4   \n",
       "1  201901    강원    강릉시  건강보조식품 소매업    강원    강릉시  30s   1       2      7   \n",
       "2  201901    강원    강릉시  건강보조식품 소매업    강원    강릉시  30s   2       2      6   \n",
       "3  201901    강원    강릉시  건강보조식품 소매업    강원    강릉시  40s   1       3      4   \n",
       "4  201901    강원    강릉시  건강보조식품 소매업    강원    강릉시  40s   1       4      3   \n",
       "\n",
       "      이용금액  이용건수  \n",
       "0   311200     4  \n",
       "1  1374500     8  \n",
       "2   818700     6  \n",
       "3  1717000     5  \n",
       "4  1047300     3  "
      ]
     },
     "execution_count": 3,
     "metadata": {},
     "output_type": "execute_result"
    }
   ],
   "source": [
    "# 열 이름 변경\n",
    "df.columns = ['연월','매장_시도','매장_시군구','업종명','고객_시도','고객_시군구','연령대','성별','가구생애주기','이용고객수','이용금액','이용건수']\n",
    "df.head()"
   ]
  },
  {
   "cell_type": "code",
   "execution_count": 17,
   "metadata": {
    "scrolled": true
   },
   "outputs": [
    {
     "name": "stdout",
     "output_type": "stream",
     "text": [
      "<class 'pandas.core.frame.DataFrame'>\n",
      "RangeIndex: 24697792 entries, 0 to 24697791\n",
      "Data columns (total 12 columns):\n",
      " #   Column  Dtype         \n",
      "---  ------  -----         \n",
      " 0   연월      datetime64[ns]\n",
      " 1   매장_시도   object        \n",
      " 2   매장_시군구  object        \n",
      " 3   업종명     object        \n",
      " 4   고객_시도   object        \n",
      " 5   고객_시군구  object        \n",
      " 6   연령대     int32         \n",
      " 7   성별      category      \n",
      " 8   가구생애주기  category      \n",
      " 9   이용고객수   int32         \n",
      " 10  이용금액    int64         \n",
      " 11  이용건수    int32         \n",
      "dtypes: category(2), datetime64[ns](1), int32(3), int64(1), object(5)\n",
      "memory usage: 1.6+ GB\n"
     ]
    }
   ],
   "source": [
    "df.info()"
   ]
  },
  {
   "cell_type": "code",
   "execution_count": 18,
   "metadata": {},
   "outputs": [
    {
     "data": {
      "text/html": [
       "<div>\n",
       "<style scoped>\n",
       "    .dataframe tbody tr th:only-of-type {\n",
       "        vertical-align: middle;\n",
       "    }\n",
       "\n",
       "    .dataframe tbody tr th {\n",
       "        vertical-align: top;\n",
       "    }\n",
       "\n",
       "    .dataframe thead th {\n",
       "        text-align: right;\n",
       "    }\n",
       "</style>\n",
       "<table border=\"1\" class=\"dataframe\">\n",
       "  <thead>\n",
       "    <tr style=\"text-align: right;\">\n",
       "      <th></th>\n",
       "      <th>연월</th>\n",
       "      <th>매장_시도</th>\n",
       "      <th>매장_시군구</th>\n",
       "      <th>업종명</th>\n",
       "      <th>고객_시도</th>\n",
       "      <th>고객_시군구</th>\n",
       "      <th>연령대</th>\n",
       "      <th>성별</th>\n",
       "      <th>가구생애주기</th>\n",
       "      <th>이용고객수</th>\n",
       "      <th>이용금액</th>\n",
       "      <th>이용건수</th>\n",
       "    </tr>\n",
       "  </thead>\n",
       "  <tbody>\n",
       "    <tr>\n",
       "      <th>0</th>\n",
       "      <td>2019-01-01</td>\n",
       "      <td>강원</td>\n",
       "      <td>강릉시</td>\n",
       "      <td>건강보조식품 소매업</td>\n",
       "      <td>강원</td>\n",
       "      <td>강릉시</td>\n",
       "      <td>20</td>\n",
       "      <td>1</td>\n",
       "      <td>1</td>\n",
       "      <td>4</td>\n",
       "      <td>311200</td>\n",
       "      <td>4</td>\n",
       "    </tr>\n",
       "  </tbody>\n",
       "</table>\n",
       "</div>"
      ],
      "text/plain": [
       "          연월 매장_시도 매장_시군구         업종명 고객_시도 고객_시군구  연령대 성별 가구생애주기  이용고객수  \\\n",
       "0 2019-01-01    강원    강릉시  건강보조식품 소매업    강원    강릉시   20  1      1      4   \n",
       "\n",
       "     이용금액  이용건수  \n",
       "0  311200     4  "
      ]
     },
     "execution_count": 18,
     "metadata": {},
     "output_type": "execute_result"
    }
   ],
   "source": [
    "df.head(1)"
   ]
  },
  {
   "cell_type": "markdown",
   "metadata": {},
   "source": [
    "# 결측치 처리 "
   ]
  },
  {
   "cell_type": "code",
   "execution_count": 19,
   "metadata": {
    "scrolled": true
   },
   "outputs": [
    {
     "data": {
      "text/plain": [
       "연월             0\n",
       "매장_시도          0\n",
       "매장_시군구     87213\n",
       "업종명            0\n",
       "고객_시도          0\n",
       "고객_시군구    147787\n",
       "연령대            0\n",
       "성별             0\n",
       "가구생애주기         0\n",
       "이용고객수          0\n",
       "이용금액           0\n",
       "이용건수           0\n",
       "dtype: int64"
      ]
     },
     "execution_count": 19,
     "metadata": {},
     "output_type": "execute_result"
    }
   ],
   "source": [
    "df.isnull().sum()"
   ]
  },
  {
   "cell_type": "code",
   "execution_count": 20,
   "metadata": {
    "scrolled": true
   },
   "outputs": [
    {
     "data": {
      "text/plain": [
       "<AxesSubplot:>"
      ]
     },
     "execution_count": 20,
     "metadata": {},
     "output_type": "execute_result"
    },
    {
     "data": {
      "image/png": "[encoded data removed]",
      "text/plain": [
       "<Figure size 432x288 with 1 Axes>"
      ]
     },
     "metadata": {
      "needs_background": "light"
     },
     "output_type": "display_data"
    }
   ],
   "source": [
    "df.isnull().sum().plot.barh()"
   ]
  },
  {
   "cell_type": "code",
   "execution_count": 21,
   "metadata": {},
   "outputs": [
    {
     "data": {
      "text/plain": [
       "세종    147787\n",
       "Name: 고객_시도, dtype: int64"
      ]
     },
     "execution_count": 21,
     "metadata": {},
     "output_type": "execute_result"
    }
   ],
   "source": [
    "df[df['고객_시군구'].isnull()]['고객_시도'].value_counts()"
   ]
  },
  {
   "cell_type": "code",
   "execution_count": 4,
   "metadata": {},
   "outputs": [],
   "source": [
    "df['고객_시군구']=df['고객_시도'].fillna('세종시')"
   ]
  },
  {
   "cell_type": "code",
   "execution_count": 23,
   "metadata": {},
   "outputs": [
    {
     "data": {
      "text/plain": [
       "연월            0\n",
       "매장_시도         0\n",
       "매장_시군구    87213\n",
       "업종명           0\n",
       "고객_시도         0\n",
       "고객_시군구        0\n",
       "연령대           0\n",
       "성별            0\n",
       "가구생애주기        0\n",
       "이용고객수         0\n",
       "이용금액          0\n",
       "이용건수          0\n",
       "dtype: int64"
      ]
     },
     "execution_count": 23,
     "metadata": {},
     "output_type": "execute_result"
    }
   ],
   "source": [
    "df.isnull().sum()"
   ]
  },
  {
   "cell_type": "code",
   "execution_count": 24,
   "metadata": {},
   "outputs": [
    {
     "data": {
      "text/plain": [
       "세종    87213\n",
       "Name: 매장_시도, dtype: int64"
      ]
     },
     "execution_count": 24,
     "metadata": {},
     "output_type": "execute_result"
    }
   ],
   "source": [
    "df[df['매장_시군구'].isnull()]['매장_시도'].value_counts()"
   ]
  },
  {
   "cell_type": "code",
   "execution_count": 5,
   "metadata": {},
   "outputs": [],
   "source": [
    "df['매장_시군구']=df['매장_시도'].fillna('세종시')"
   ]
  },
  {
   "cell_type": "code",
   "execution_count": 26,
   "metadata": {
    "scrolled": false
   },
   "outputs": [
    {
     "data": {
      "text/plain": [
       "연월        0\n",
       "매장_시도     0\n",
       "매장_시군구    0\n",
       "업종명       0\n",
       "고객_시도     0\n",
       "고객_시군구    0\n",
       "연령대       0\n",
       "성별        0\n",
       "가구생애주기    0\n",
       "이용고객수     0\n",
       "이용금액      0\n",
       "이용건수      0\n",
       "dtype: int64"
      ]
     },
     "execution_count": 26,
     "metadata": {},
     "output_type": "execute_result"
    }
   ],
   "source": [
    "df.isnull().sum()"
   ]
  },
  {
   "cell_type": "markdown",
   "metadata": {},
   "source": [
    "# 이상치 확인"
   ]
  },
  {
   "cell_type": "code",
   "execution_count": 27,
   "metadata": {
    "scrolled": false
   },
   "outputs": [
    {
     "data": {
      "text/html": [
       "<div>\n",
       "<style scoped>\n",
       "    .dataframe tbody tr th:only-of-type {\n",
       "        vertical-align: middle;\n",
       "    }\n",
       "\n",
       "    .dataframe tbody tr th {\n",
       "        vertical-align: top;\n",
       "    }\n",
       "\n",
       "    .dataframe thead th {\n",
       "        text-align: right;\n",
       "    }\n",
       "</style>\n",
       "<table border=\"1\" class=\"dataframe\">\n",
       "  <thead>\n",
       "    <tr style=\"text-align: right;\">\n",
       "      <th></th>\n",
       "      <th>연령대</th>\n",
       "      <th>이용고객수</th>\n",
       "      <th>이용금액</th>\n",
       "      <th>이용건수</th>\n",
       "    </tr>\n",
       "  </thead>\n",
       "  <tbody>\n",
       "    <tr>\n",
       "      <th>count</th>\n",
       "      <td>24697792.00</td>\n",
       "      <td>24697792.00</td>\n",
       "      <td>24697792.00</td>\n",
       "      <td>24697792.00</td>\n",
       "    </tr>\n",
       "    <tr>\n",
       "      <th>mean</th>\n",
       "      <td>38.23</td>\n",
       "      <td>61.97</td>\n",
       "      <td>2441352.94</td>\n",
       "      <td>126.04</td>\n",
       "    </tr>\n",
       "    <tr>\n",
       "      <th>std</th>\n",
       "      <td>14.33</td>\n",
       "      <td>355.92</td>\n",
       "      <td>17260959.04</td>\n",
       "      <td>966.94</td>\n",
       "    </tr>\n",
       "    <tr>\n",
       "      <th>min</th>\n",
       "      <td>10.00</td>\n",
       "      <td>3.00</td>\n",
       "      <td>20.00</td>\n",
       "      <td>1.00</td>\n",
       "    </tr>\n",
       "    <tr>\n",
       "      <th>25%</th>\n",
       "      <td>30.00</td>\n",
       "      <td>4.00</td>\n",
       "      <td>90200.00</td>\n",
       "      <td>5.00</td>\n",
       "    </tr>\n",
       "    <tr>\n",
       "      <th>50%</th>\n",
       "      <td>40.00</td>\n",
       "      <td>8.00</td>\n",
       "      <td>252680.00</td>\n",
       "      <td>12.00</td>\n",
       "    </tr>\n",
       "    <tr>\n",
       "      <th>75%</th>\n",
       "      <td>50.00</td>\n",
       "      <td>24.00</td>\n",
       "      <td>843337.25</td>\n",
       "      <td>40.00</td>\n",
       "    </tr>\n",
       "    <tr>\n",
       "      <th>max</th>\n",
       "      <td>70.00</td>\n",
       "      <td>32813.00</td>\n",
       "      <td>2349523701.00</td>\n",
       "      <td>120357.00</td>\n",
       "    </tr>\n",
       "  </tbody>\n",
       "</table>\n",
       "</div>"
      ],
      "text/plain": [
       "              연령대       이용고객수          이용금액        이용건수\n",
       "count 24697792.00 24697792.00   24697792.00 24697792.00\n",
       "mean        38.23       61.97    2441352.94      126.04\n",
       "std         14.33      355.92   17260959.04      966.94\n",
       "min         10.00        3.00         20.00        1.00\n",
       "25%         30.00        4.00      90200.00        5.00\n",
       "50%         40.00        8.00     252680.00       12.00\n",
       "75%         50.00       24.00     843337.25       40.00\n",
       "max         70.00    32813.00 2349523701.00   120357.00"
      ]
     },
     "execution_count": 27,
     "metadata": {},
     "output_type": "execute_result"
    }
   ],
   "source": [
    "df.describe()"
   ]
  },
  {
   "cell_type": "markdown",
   "metadata": {},
   "source": [
    "이용금액과 이용건수의 최대값이 3분위와 차이가 크다."
   ]
  },
  {
   "cell_type": "markdown",
   "metadata": {},
   "source": [
    "## 이용금액 기준 3분위수 이상 데이터 특이점"
   ]
  },
  {
   "cell_type": "code",
   "execution_count": 28,
   "metadata": {},
   "outputs": [
    {
     "data": {
      "image/png": "[encoded data removed]",
      "text/plain": [
       "<Figure size 432x288 with 1 Axes>"
      ]
     },
     "metadata": {
      "needs_background": "light"
     },
     "output_type": "display_data"
    }
   ],
   "source": [
    "sns.distplot(df['이용금액']);"
   ]
  },
  {
   "cell_type": "code",
   "execution_count": 29,
   "metadata": {},
   "outputs": [
    {
     "data": {
      "text/html": [
       "<div>\n",
       "<style scoped>\n",
       "    .dataframe tbody tr th:only-of-type {\n",
       "        vertical-align: middle;\n",
       "    }\n",
       "\n",
       "    .dataframe tbody tr th {\n",
       "        vertical-align: top;\n",
       "    }\n",
       "\n",
       "    .dataframe thead th {\n",
       "        text-align: right;\n",
       "    }\n",
       "</style>\n",
       "<table border=\"1\" class=\"dataframe\">\n",
       "  <thead>\n",
       "    <tr style=\"text-align: right;\">\n",
       "      <th></th>\n",
       "      <th>연령대</th>\n",
       "      <th>이용고객수</th>\n",
       "      <th>이용금액</th>\n",
       "      <th>이용건수</th>\n",
       "    </tr>\n",
       "  </thead>\n",
       "  <tbody>\n",
       "    <tr>\n",
       "      <th>count</th>\n",
       "      <td>24697792.00</td>\n",
       "      <td>24697792.00</td>\n",
       "      <td>24697792.00</td>\n",
       "      <td>24697792.00</td>\n",
       "    </tr>\n",
       "    <tr>\n",
       "      <th>mean</th>\n",
       "      <td>38.23</td>\n",
       "      <td>61.97</td>\n",
       "      <td>2441352.94</td>\n",
       "      <td>126.04</td>\n",
       "    </tr>\n",
       "    <tr>\n",
       "      <th>std</th>\n",
       "      <td>14.33</td>\n",
       "      <td>355.92</td>\n",
       "      <td>17260959.04</td>\n",
       "      <td>966.94</td>\n",
       "    </tr>\n",
       "    <tr>\n",
       "      <th>min</th>\n",
       "      <td>10.00</td>\n",
       "      <td>3.00</td>\n",
       "      <td>20.00</td>\n",
       "      <td>1.00</td>\n",
       "    </tr>\n",
       "    <tr>\n",
       "      <th>25%</th>\n",
       "      <td>30.00</td>\n",
       "      <td>4.00</td>\n",
       "      <td>90200.00</td>\n",
       "      <td>5.00</td>\n",
       "    </tr>\n",
       "    <tr>\n",
       "      <th>50%</th>\n",
       "      <td>40.00</td>\n",
       "      <td>8.00</td>\n",
       "      <td>252680.00</td>\n",
       "      <td>12.00</td>\n",
       "    </tr>\n",
       "    <tr>\n",
       "      <th>75%</th>\n",
       "      <td>50.00</td>\n",
       "      <td>24.00</td>\n",
       "      <td>843337.25</td>\n",
       "      <td>40.00</td>\n",
       "    </tr>\n",
       "    <tr>\n",
       "      <th>max</th>\n",
       "      <td>70.00</td>\n",
       "      <td>32813.00</td>\n",
       "      <td>2349523701.00</td>\n",
       "      <td>120357.00</td>\n",
       "    </tr>\n",
       "  </tbody>\n",
       "</table>\n",
       "</div>"
      ],
      "text/plain": [
       "              연령대       이용고객수          이용금액        이용건수\n",
       "count 24697792.00 24697792.00   24697792.00 24697792.00\n",
       "mean        38.23       61.97    2441352.94      126.04\n",
       "std         14.33      355.92   17260959.04      966.94\n",
       "min         10.00        3.00         20.00        1.00\n",
       "25%         30.00        4.00      90200.00        5.00\n",
       "50%         40.00        8.00     252680.00       12.00\n",
       "75%         50.00       24.00     843337.25       40.00\n",
       "max         70.00    32813.00 2349523701.00   120357.00"
      ]
     },
     "execution_count": 29,
     "metadata": {},
     "output_type": "execute_result"
    }
   ],
   "source": [
    "df.describe()"
   ]
  },
  {
   "cell_type": "code",
   "execution_count": 35,
   "metadata": {},
   "outputs": [
    {
     "data": {
      "text/html": [
       "<div>\n",
       "<style scoped>\n",
       "    .dataframe tbody tr th:only-of-type {\n",
       "        vertical-align: middle;\n",
       "    }\n",
       "\n",
       "    .dataframe tbody tr th {\n",
       "        vertical-align: top;\n",
       "    }\n",
       "\n",
       "    .dataframe thead th {\n",
       "        text-align: right;\n",
       "    }\n",
       "</style>\n",
       "<table border=\"1\" class=\"dataframe\">\n",
       "  <thead>\n",
       "    <tr style=\"text-align: right;\">\n",
       "      <th></th>\n",
       "      <th>연월</th>\n",
       "      <th>매장_시도</th>\n",
       "      <th>매장_시군구</th>\n",
       "      <th>업종명</th>\n",
       "      <th>고객_시도</th>\n",
       "      <th>고객_시군구</th>\n",
       "      <th>연령대</th>\n",
       "      <th>성별</th>\n",
       "      <th>가구생애주기</th>\n",
       "      <th>이용고객수</th>\n",
       "      <th>이용금액</th>\n",
       "      <th>이용건수</th>\n",
       "    </tr>\n",
       "  </thead>\n",
       "  <tbody>\n",
       "    <tr>\n",
       "      <th>1</th>\n",
       "      <td>201901</td>\n",
       "      <td>강원</td>\n",
       "      <td>강원</td>\n",
       "      <td>건강보조식품 소매업</td>\n",
       "      <td>강원</td>\n",
       "      <td>강원</td>\n",
       "      <td>30</td>\n",
       "      <td>1</td>\n",
       "      <td>2</td>\n",
       "      <td>7</td>\n",
       "      <td>1374500</td>\n",
       "      <td>8</td>\n",
       "    </tr>\n",
       "    <tr>\n",
       "      <th>3</th>\n",
       "      <td>201901</td>\n",
       "      <td>강원</td>\n",
       "      <td>강원</td>\n",
       "      <td>건강보조식품 소매업</td>\n",
       "      <td>강원</td>\n",
       "      <td>강원</td>\n",
       "      <td>40</td>\n",
       "      <td>1</td>\n",
       "      <td>3</td>\n",
       "      <td>4</td>\n",
       "      <td>1717000</td>\n",
       "      <td>5</td>\n",
       "    </tr>\n",
       "    <tr>\n",
       "      <th>4</th>\n",
       "      <td>201901</td>\n",
       "      <td>강원</td>\n",
       "      <td>강원</td>\n",
       "      <td>건강보조식품 소매업</td>\n",
       "      <td>강원</td>\n",
       "      <td>강원</td>\n",
       "      <td>40</td>\n",
       "      <td>1</td>\n",
       "      <td>4</td>\n",
       "      <td>3</td>\n",
       "      <td>1047300</td>\n",
       "      <td>3</td>\n",
       "    </tr>\n",
       "    <tr>\n",
       "      <th>6</th>\n",
       "      <td>201901</td>\n",
       "      <td>강원</td>\n",
       "      <td>강원</td>\n",
       "      <td>건강보조식품 소매업</td>\n",
       "      <td>강원</td>\n",
       "      <td>강원</td>\n",
       "      <td>50</td>\n",
       "      <td>1</td>\n",
       "      <td>4</td>\n",
       "      <td>21</td>\n",
       "      <td>3690830</td>\n",
       "      <td>21</td>\n",
       "    </tr>\n",
       "    <tr>\n",
       "      <th>7</th>\n",
       "      <td>201901</td>\n",
       "      <td>강원</td>\n",
       "      <td>강원</td>\n",
       "      <td>건강보조식품 소매업</td>\n",
       "      <td>강원</td>\n",
       "      <td>강원</td>\n",
       "      <td>50</td>\n",
       "      <td>2</td>\n",
       "      <td>4</td>\n",
       "      <td>21</td>\n",
       "      <td>3573300</td>\n",
       "      <td>20</td>\n",
       "    </tr>\n",
       "    <tr>\n",
       "      <th>...</th>\n",
       "      <td>...</td>\n",
       "      <td>...</td>\n",
       "      <td>...</td>\n",
       "      <td>...</td>\n",
       "      <td>...</td>\n",
       "      <td>...</td>\n",
       "      <td>...</td>\n",
       "      <td>...</td>\n",
       "      <td>...</td>\n",
       "      <td>...</td>\n",
       "      <td>...</td>\n",
       "      <td>...</td>\n",
       "    </tr>\n",
       "    <tr>\n",
       "      <th>24697780</th>\n",
       "      <td>202003</td>\n",
       "      <td>충북</td>\n",
       "      <td>충북</td>\n",
       "      <td>화장품 및 방향제 소매업</td>\n",
       "      <td>충북</td>\n",
       "      <td>충북</td>\n",
       "      <td>50</td>\n",
       "      <td>1</td>\n",
       "      <td>4</td>\n",
       "      <td>66</td>\n",
       "      <td>5187100</td>\n",
       "      <td>79</td>\n",
       "    </tr>\n",
       "    <tr>\n",
       "      <th>24697781</th>\n",
       "      <td>202003</td>\n",
       "      <td>충북</td>\n",
       "      <td>충북</td>\n",
       "      <td>화장품 및 방향제 소매업</td>\n",
       "      <td>충북</td>\n",
       "      <td>충북</td>\n",
       "      <td>50</td>\n",
       "      <td>2</td>\n",
       "      <td>4</td>\n",
       "      <td>166</td>\n",
       "      <td>16603400</td>\n",
       "      <td>189</td>\n",
       "    </tr>\n",
       "    <tr>\n",
       "      <th>24697782</th>\n",
       "      <td>202003</td>\n",
       "      <td>충북</td>\n",
       "      <td>충북</td>\n",
       "      <td>화장품 및 방향제 소매업</td>\n",
       "      <td>충북</td>\n",
       "      <td>충북</td>\n",
       "      <td>60</td>\n",
       "      <td>1</td>\n",
       "      <td>5</td>\n",
       "      <td>45</td>\n",
       "      <td>5078720</td>\n",
       "      <td>52</td>\n",
       "    </tr>\n",
       "    <tr>\n",
       "      <th>24697783</th>\n",
       "      <td>202003</td>\n",
       "      <td>충북</td>\n",
       "      <td>충북</td>\n",
       "      <td>화장품 및 방향제 소매업</td>\n",
       "      <td>충북</td>\n",
       "      <td>충북</td>\n",
       "      <td>60</td>\n",
       "      <td>2</td>\n",
       "      <td>5</td>\n",
       "      <td>102</td>\n",
       "      <td>9341125</td>\n",
       "      <td>106</td>\n",
       "    </tr>\n",
       "    <tr>\n",
       "      <th>24697785</th>\n",
       "      <td>202003</td>\n",
       "      <td>충북</td>\n",
       "      <td>충북</td>\n",
       "      <td>화장품 및 방향제 소매업</td>\n",
       "      <td>충북</td>\n",
       "      <td>충북</td>\n",
       "      <td>70</td>\n",
       "      <td>2</td>\n",
       "      <td>5</td>\n",
       "      <td>40</td>\n",
       "      <td>3172500</td>\n",
       "      <td>40</td>\n",
       "    </tr>\n",
       "  </tbody>\n",
       "</table>\n",
       "<p>6174448 rows × 12 columns</p>\n",
       "</div>"
      ],
      "text/plain": [
       "              연월 매장_시도 매장_시군구            업종명 고객_시도 고객_시군구  연령대  성별  가구생애주기  \\\n",
       "1         201901    강원     강원     건강보조식품 소매업    강원     강원   30   1       2   \n",
       "3         201901    강원     강원     건강보조식품 소매업    강원     강원   40   1       3   \n",
       "4         201901    강원     강원     건강보조식품 소매업    강원     강원   40   1       4   \n",
       "6         201901    강원     강원     건강보조식품 소매업    강원     강원   50   1       4   \n",
       "7         201901    강원     강원     건강보조식품 소매업    강원     강원   50   2       4   \n",
       "...          ...   ...    ...            ...   ...    ...  ...  ..     ...   \n",
       "24697780  202003    충북     충북  화장품 및 방향제 소매업    충북     충북   50   1       4   \n",
       "24697781  202003    충북     충북  화장품 및 방향제 소매업    충북     충북   50   2       4   \n",
       "24697782  202003    충북     충북  화장품 및 방향제 소매업    충북     충북   60   1       5   \n",
       "24697783  202003    충북     충북  화장품 및 방향제 소매업    충북     충북   60   2       5   \n",
       "24697785  202003    충북     충북  화장품 및 방향제 소매업    충북     충북   70   2       5   \n",
       "\n",
       "          이용고객수      이용금액  이용건수  \n",
       "1             7   1374500     8  \n",
       "3             4   1717000     5  \n",
       "4             3   1047300     3  \n",
       "6            21   3690830    21  \n",
       "7            21   3573300    20  \n",
       "...         ...       ...   ...  \n",
       "24697780     66   5187100    79  \n",
       "24697781    166  16603400   189  \n",
       "24697782     45   5078720    52  \n",
       "24697783    102   9341125   106  \n",
       "24697785     40   3172500    40  \n",
       "\n",
       "[6174448 rows x 12 columns]"
      ]
     },
     "execution_count": 35,
     "metadata": {},
     "output_type": "execute_result"
    }
   ],
   "source": [
    "df_high=df[df['이용금액']>=843337.25]\n",
    "df_high"
   ]
  },
  {
   "cell_type": "markdown",
   "metadata": {},
   "source": [
    "3분위 이상 이용금액 분포"
   ]
  },
  {
   "cell_type": "code",
   "execution_count": 31,
   "metadata": {},
   "outputs": [],
   "source": [
    "df_high=df[df['이용금액']>=843337.25]"
   ]
  },
  {
   "cell_type": "code",
   "execution_count": 32,
   "metadata": {
    "scrolled": false
   },
   "outputs": [
    {
     "data": {
      "image/png": "[encoded data removed]",
      "text/plain": [
       "<Figure size 432x288 with 1 Axes>"
      ]
     },
     "metadata": {
      "needs_background": "light"
     },
     "output_type": "display_data"
    }
   ],
   "source": [
    "sns.distplot(df_high['이용금액']);"
   ]
  },
  {
   "cell_type": "code",
   "execution_count": null,
   "metadata": {},
   "outputs": [],
   "source": [
    "plt.style.use( 'tableau-colorblind10' )\n",
    "df.groupby('연령대')['이용금액'].mean().plot( kind = 'bar', figsize = ( 20, 10 ), width = 0.8 )\n",
    "plt.xticks( rotation = 'horizontal' )\n",
    "plt.xlabel('연령대')\n",
    "plt.title( '연령대 별 카드 평균 이용 금액 ', size = 30 )\n",
    "plt.show()"
   ]
  },
  {
   "cell_type": "code",
   "execution_count": 68,
   "metadata": {},
   "outputs": [
    {
     "ename": "TypeError",
     "evalue": "'DataFrame' object is not callable",
     "output_type": "error",
     "traceback": [
      "\u001b[1;31m---------------------------------------------------------------------------\u001b[0m",
      "\u001b[1;31mTypeError\u001b[0m                                 Traceback (most recent call last)",
      "\u001b[1;32m<ipython-input-68-f9a533d451e1>\u001b[0m in \u001b[0;36m<module>\u001b[1;34m\u001b[0m\n\u001b[1;32m----> 1\u001b[1;33m \u001b[0mdf_high_j\u001b[0m\u001b[1;33m=\u001b[0m\u001b[0mdf_high\u001b[0m\u001b[1;33m[\u001b[0m\u001b[0mdf_high\u001b[0m\u001b[1;33m(\u001b[0m\u001b[1;33m[\u001b[0m\u001b[1;34m'매장_시도'\u001b[0m\u001b[1;33m]\u001b[0m\u001b[1;33m==\u001b[0m\u001b[1;34m'제주'\u001b[0m\u001b[1;33m)\u001b[0m\u001b[1;33m&\u001b[0m\u001b[1;33m(\u001b[0m\u001b[1;33m[\u001b[0m\u001b[1;34m'업종명'\u001b[0m\u001b[1;33m]\u001b[0m\u001b[1;33m==\u001b[0m\u001b[1;34m'한식 음식점업'\u001b[0m\u001b[1;33m)\u001b[0m\u001b[1;33m]\u001b[0m\u001b[1;33m\u001b[0m\u001b[1;33m\u001b[0m\u001b[0m\n\u001b[0m\u001b[0;32m      2\u001b[0m \u001b[0mdf_high_j\u001b[0m\u001b[1;33m\u001b[0m\u001b[1;33m\u001b[0m\u001b[0m\n",
      "\u001b[1;31mTypeError\u001b[0m: 'DataFrame' object is not callable"
     ]
    }
   ],
   "source": [
    "df_high_j=df_high[df_high(['매장_시도']=='제주')&(['업종명']=='한식 음식점업')]\n",
    "df_high_j"
   ]
  },
  {
   "cell_type": "code",
   "execution_count": 64,
   "metadata": {
    "scrolled": true
   },
   "outputs": [
    {
     "data": {
      "text/plain": [
       "<AxesSubplot:xlabel='가구생애주기'>"
      ]
     },
     "execution_count": 64,
     "metadata": {},
     "output_type": "execute_result"
    },
    {
     "data": {
      "image/png": "[encoded data removed]",
      "text/plain": [
       "<Figure size 432x288 with 1 Axes>"
      ]
     },
     "metadata": {
      "needs_background": "light"
     },
     "output_type": "display_data"
    }
   ],
   "source": [
    "df_high_j.groupby('가구생애주기')['가구생애주기'].count().plot.bar(rot=0)"
   ]
  },
  {
   "cell_type": "code",
   "execution_count": 66,
   "metadata": {},
   "outputs": [
    {
     "data": {
      "text/plain": [
       "<AxesSubplot:xlabel='가구생애주기'>"
      ]
     },
     "execution_count": 66,
     "metadata": {},
     "output_type": "execute_result"
    },
    {
     "data": {
      "image/png": "[encoded data removed]",
      "text/plain": [
       "<Figure size 432x288 with 1 Axes>"
      ]
     },
     "metadata": {
      "needs_background": "light"
     },
     "output_type": "display_data"
    }
   ],
   "source": [
    "df_high.groupby('가구생애주기')['가구생애주기'].count().plot.bar(rot=0)"
   ]
  },
  {
   "cell_type": "code",
   "execution_count": 65,
   "metadata": {
    "scrolled": true
   },
   "outputs": [
    {
     "data": {
      "text/plain": [
       "<AxesSubplot:xlabel='연령대'>"
      ]
     },
     "execution_count": 65,
     "metadata": {},
     "output_type": "execute_result"
    },
    {
     "data": {
      "image/png": "[encoded data removed]",
      "text/plain": [
       "<Figure size 432x288 with 1 Axes>"
      ]
     },
     "metadata": {
      "needs_background": "light"
     },
     "output_type": "display_data"
    }
   ],
   "source": [
    "df_high_j.groupby('연령대')['연령대'].count().plot.bar(rot=0)"
   ]
  },
  {
   "cell_type": "code",
   "execution_count": 67,
   "metadata": {},
   "outputs": [
    {
     "data": {
      "text/plain": [
       "<AxesSubplot:xlabel='연령대'>"
      ]
     },
     "execution_count": 67,
     "metadata": {},
     "output_type": "execute_result"
    },
    {
     "data": {
      "image/png": "[encoded data removed]",
      "text/plain": [
       "<Figure size 432x288 with 1 Axes>"
      ]
     },
     "metadata": {
      "needs_background": "light"
     },
     "output_type": "display_data"
    }
   ],
   "source": [
    "df_high.groupby('연령대')['연령대'].count().plot.bar(rot=0)"
   ]
  },
  {
   "cell_type": "code",
   "execution_count": null,
   "metadata": {},
   "outputs": [],
   "source": []
  },
  {
   "cell_type": "code",
   "execution_count": null,
   "metadata": {},
   "outputs": [],
   "source": []
  },
  {
   "cell_type": "code",
   "execution_count": null,
   "metadata": {},
   "outputs": [],
   "source": []
  },
  {
   "cell_type": "markdown",
   "metadata": {},
   "source": [
    "3분위 이하 이용금액 데이터 분포"
   ]
  },
  {
   "cell_type": "code",
   "execution_count": 33,
   "metadata": {},
   "outputs": [],
   "source": [
    "df_low=df[df['이용금액']<843337.25]"
   ]
  },
  {
   "cell_type": "code",
   "execution_count": 34,
   "metadata": {
    "scrolled": true
   },
   "outputs": [
    {
     "data": {
      "text/plain": [
       "<AxesSubplot:xlabel='이용금액', ylabel='Density'>"
      ]
     },
     "execution_count": 34,
     "metadata": {},
     "output_type": "execute_result"
    },
    {
     "data": {
      "image/png": "[encoded data removed]",
      "text/plain": [
       "<Figure size 432x288 with 1 Axes>"
      ]
     },
     "metadata": {
      "needs_background": "light"
     },
     "output_type": "display_data"
    }
   ],
   "source": [
    "sns.distplot(df_low['이용금액'])"
   ]
  },
  {
   "cell_type": "markdown",
   "metadata": {},
   "source": [
    "이용금액이 대부분 0~20000 값 사이에 분포하고 있음을 알 수 있다. "
   ]
  },
  {
   "cell_type": "markdown",
   "metadata": {},
   "source": [
    "* 영업점 시도 기준 이용금액 3분위 이상 데이터 분포"
   ]
  },
  {
   "cell_type": "code",
   "execution_count": null,
   "metadata": {},
   "outputs": [],
   "source": []
  },
  {
   "cell_type": "code",
   "execution_count": 35,
   "metadata": {},
   "outputs": [
    {
     "data": {
      "image/png": "[encoded data removed]",
      "text/plain": [
       "<Figure size 1440x720 with 1 Axes>"
      ]
     },
     "metadata": {
      "needs_background": "light"
     },
     "output_type": "display_data"
    }
   ],
   "source": [
    "var='매장_시도'\n",
    "data=pd.concat([df_high['이용금액'],df_high[var]],axis=1)\n",
    "f, ax= plt.subplots(figsize=(20,10))\n",
    "fig= sns.boxplot(x=var, y='이용금액',data=data)\n"
   ]
  },
  {
   "cell_type": "markdown",
   "metadata": {},
   "source": [
    "영업점 시도 기준 이용금액 3분위 이하 데이터 분포"
   ]
  },
  {
   "cell_type": "code",
   "execution_count": 36,
   "metadata": {},
   "outputs": [
    {
     "data": {
      "image/png": "[encoded data removed]",
      "text/plain": [
       "<Figure size 1440x720 with 1 Axes>"
      ]
     },
     "metadata": {
      "needs_background": "light"
     },
     "output_type": "display_data"
    }
   ],
   "source": [
    "var='매장_시도'\n",
    "data=pd.concat([df_low['이용금액'],df_low[var]],axis=1)\n",
    "f, ax= plt.subplots(figsize=(20,10))\n",
    "fig= sns.boxplot(x=var, y='이용금액',data=data)\n"
   ]
  },
  {
   "cell_type": "markdown",
   "metadata": {},
   "source": [
    "고객 주소지 시도 기준 이용금액 3분위 이상 데이터 분포"
   ]
  },
  {
   "cell_type": "code",
   "execution_count": 37,
   "metadata": {},
   "outputs": [
    {
     "data": {
      "image/png": "[encoded data removed]",
      "text/plain": [
       "<Figure size 1440x720 with 1 Axes>"
      ]
     },
     "metadata": {
      "needs_background": "light"
     },
     "output_type": "display_data"
    }
   ],
   "source": [
    "var='고객_시도'\n",
    "data=pd.concat([df_high['이용금액'],df_high[var]],axis=1)\n",
    "f, ax= plt.subplots(figsize=(20,10))\n",
    "fig= sns.boxplot(x=var, y='이용금액',data=data)\n"
   ]
  },
  {
   "cell_type": "markdown",
   "metadata": {},
   "source": [
    "고객 주소지 시도 기준 이용금액 3분위 이하 데이터 분포"
   ]
  },
  {
   "cell_type": "code",
   "execution_count": 38,
   "metadata": {},
   "outputs": [
    {
     "data": {
      "image/png": "[encoded data removed]",
      "text/plain": [
       "<Figure size 1440x720 with 1 Axes>"
      ]
     },
     "metadata": {
      "needs_background": "light"
     },
     "output_type": "display_data"
    }
   ],
   "source": [
    "var='고객_시도'\n",
    "data=pd.concat([df_low['이용금액'],df_low[var]],axis=1)\n",
    "f, ax= plt.subplots(figsize=(20,10))\n",
    "fig= sns.boxplot(x=var, y='이용금액',data=data)"
   ]
  },
  {
   "cell_type": "markdown",
   "metadata": {},
   "source": [
    "제주도에 거주지를 갖고 있는 고객이 제주도 내에 영업점에서  이용금액가 가장 높게 나타났다. "
   ]
  },
  {
   "cell_type": "code",
   "execution_count": 39,
   "metadata": {},
   "outputs": [
    {
     "data": {
      "text/html": [
       "<div>\n",
       "<style scoped>\n",
       "    .dataframe tbody tr th:only-of-type {\n",
       "        vertical-align: middle;\n",
       "    }\n",
       "\n",
       "    .dataframe tbody tr th {\n",
       "        vertical-align: top;\n",
       "    }\n",
       "\n",
       "    .dataframe thead th {\n",
       "        text-align: right;\n",
       "    }\n",
       "</style>\n",
       "<table border=\"1\" class=\"dataframe\">\n",
       "  <thead>\n",
       "    <tr style=\"text-align: right;\">\n",
       "      <th></th>\n",
       "      <th>연월</th>\n",
       "      <th>매장_시도</th>\n",
       "      <th>매장_시군구</th>\n",
       "      <th>업종명</th>\n",
       "      <th>고객_시도</th>\n",
       "      <th>고객_시군구</th>\n",
       "      <th>연령대</th>\n",
       "      <th>성별</th>\n",
       "      <th>가구생애주기</th>\n",
       "      <th>이용고객수</th>\n",
       "      <th>이용금액</th>\n",
       "      <th>이용건수</th>\n",
       "    </tr>\n",
       "  </thead>\n",
       "  <tbody>\n",
       "    <tr>\n",
       "      <th>13451048</th>\n",
       "      <td>2019-08-01</td>\n",
       "      <td>제주</td>\n",
       "      <td>제주</td>\n",
       "      <td>한식 음식점업</td>\n",
       "      <td>제주</td>\n",
       "      <td>제주</td>\n",
       "      <td>50</td>\n",
       "      <td>1</td>\n",
       "      <td>4</td>\n",
       "      <td>32813</td>\n",
       "      <td>2349523701</td>\n",
       "      <td>59062</td>\n",
       "    </tr>\n",
       "    <tr>\n",
       "      <th>20295408</th>\n",
       "      <td>2019-12-01</td>\n",
       "      <td>제주</td>\n",
       "      <td>제주</td>\n",
       "      <td>한식 음식점업</td>\n",
       "      <td>제주</td>\n",
       "      <td>제주</td>\n",
       "      <td>50</td>\n",
       "      <td>1</td>\n",
       "      <td>4</td>\n",
       "      <td>31378</td>\n",
       "      <td>2328668609</td>\n",
       "      <td>56556</td>\n",
       "    </tr>\n",
       "    <tr>\n",
       "      <th>8146986</th>\n",
       "      <td>2019-05-01</td>\n",
       "      <td>제주</td>\n",
       "      <td>제주</td>\n",
       "      <td>한식 음식점업</td>\n",
       "      <td>제주</td>\n",
       "      <td>제주</td>\n",
       "      <td>50</td>\n",
       "      <td>1</td>\n",
       "      <td>4</td>\n",
       "      <td>31932</td>\n",
       "      <td>2314765651</td>\n",
       "      <td>57064</td>\n",
       "    </tr>\n",
       "    <tr>\n",
       "      <th>1488125</th>\n",
       "      <td>2019-01-01</td>\n",
       "      <td>제주</td>\n",
       "      <td>제주</td>\n",
       "      <td>한식 음식점업</td>\n",
       "      <td>제주</td>\n",
       "      <td>제주</td>\n",
       "      <td>50</td>\n",
       "      <td>1</td>\n",
       "      <td>4</td>\n",
       "      <td>30513</td>\n",
       "      <td>2293735545</td>\n",
       "      <td>55470</td>\n",
       "    </tr>\n",
       "    <tr>\n",
       "      <th>11592263</th>\n",
       "      <td>2019-07-01</td>\n",
       "      <td>제주</td>\n",
       "      <td>제주</td>\n",
       "      <td>한식 음식점업</td>\n",
       "      <td>제주</td>\n",
       "      <td>제주</td>\n",
       "      <td>50</td>\n",
       "      <td>1</td>\n",
       "      <td>4</td>\n",
       "      <td>31609</td>\n",
       "      <td>2242949391</td>\n",
       "      <td>56776</td>\n",
       "    </tr>\n",
       "    <tr>\n",
       "      <th>4734109</th>\n",
       "      <td>2019-03-01</td>\n",
       "      <td>제주</td>\n",
       "      <td>제주</td>\n",
       "      <td>한식 음식점업</td>\n",
       "      <td>제주</td>\n",
       "      <td>제주</td>\n",
       "      <td>50</td>\n",
       "      <td>1</td>\n",
       "      <td>4</td>\n",
       "      <td>30985</td>\n",
       "      <td>2214022562</td>\n",
       "      <td>55085</td>\n",
       "    </tr>\n",
       "    <tr>\n",
       "      <th>21964388</th>\n",
       "      <td>2020-01-01</td>\n",
       "      <td>제주</td>\n",
       "      <td>제주</td>\n",
       "      <td>한식 음식점업</td>\n",
       "      <td>제주</td>\n",
       "      <td>제주</td>\n",
       "      <td>50</td>\n",
       "      <td>1</td>\n",
       "      <td>4</td>\n",
       "      <td>29610</td>\n",
       "      <td>2170470327</td>\n",
       "      <td>52722</td>\n",
       "    </tr>\n",
       "    <tr>\n",
       "      <th>16947263</th>\n",
       "      <td>2019-10-01</td>\n",
       "      <td>제주</td>\n",
       "      <td>제주</td>\n",
       "      <td>한식 음식점업</td>\n",
       "      <td>제주</td>\n",
       "      <td>제주</td>\n",
       "      <td>50</td>\n",
       "      <td>1</td>\n",
       "      <td>4</td>\n",
       "      <td>31265</td>\n",
       "      <td>2162859129</td>\n",
       "      <td>57105</td>\n",
       "    </tr>\n",
       "    <tr>\n",
       "      <th>9867226</th>\n",
       "      <td>2019-06-01</td>\n",
       "      <td>제주</td>\n",
       "      <td>제주</td>\n",
       "      <td>한식 음식점업</td>\n",
       "      <td>제주</td>\n",
       "      <td>제주</td>\n",
       "      <td>50</td>\n",
       "      <td>1</td>\n",
       "      <td>4</td>\n",
       "      <td>31060</td>\n",
       "      <td>2153175872</td>\n",
       "      <td>55044</td>\n",
       "    </tr>\n",
       "    <tr>\n",
       "      <th>6385785</th>\n",
       "      <td>2019-04-01</td>\n",
       "      <td>제주</td>\n",
       "      <td>제주</td>\n",
       "      <td>한식 음식점업</td>\n",
       "      <td>제주</td>\n",
       "      <td>제주</td>\n",
       "      <td>50</td>\n",
       "      <td>1</td>\n",
       "      <td>4</td>\n",
       "      <td>30641</td>\n",
       "      <td>2149619954</td>\n",
       "      <td>53793</td>\n",
       "    </tr>\n",
       "  </tbody>\n",
       "</table>\n",
       "</div>"
      ],
      "text/plain": [
       "                 연월 매장_시도 매장_시군구      업종명 고객_시도 고객_시군구  연령대 성별 가구생애주기  이용고객수  \\\n",
       "13451048 2019-08-01    제주     제주  한식 음식점업    제주     제주   50  1      4  32813   \n",
       "20295408 2019-12-01    제주     제주  한식 음식점업    제주     제주   50  1      4  31378   \n",
       "8146986  2019-05-01    제주     제주  한식 음식점업    제주     제주   50  1      4  31932   \n",
       "1488125  2019-01-01    제주     제주  한식 음식점업    제주     제주   50  1      4  30513   \n",
       "11592263 2019-07-01    제주     제주  한식 음식점업    제주     제주   50  1      4  31609   \n",
       "4734109  2019-03-01    제주     제주  한식 음식점업    제주     제주   50  1      4  30985   \n",
       "21964388 2020-01-01    제주     제주  한식 음식점업    제주     제주   50  1      4  29610   \n",
       "16947263 2019-10-01    제주     제주  한식 음식점업    제주     제주   50  1      4  31265   \n",
       "9867226  2019-06-01    제주     제주  한식 음식점업    제주     제주   50  1      4  31060   \n",
       "6385785  2019-04-01    제주     제주  한식 음식점업    제주     제주   50  1      4  30641   \n",
       "\n",
       "                이용금액   이용건수  \n",
       "13451048  2349523701  59062  \n",
       "20295408  2328668609  56556  \n",
       "8146986   2314765651  57064  \n",
       "1488125   2293735545  55470  \n",
       "11592263  2242949391  56776  \n",
       "4734109   2214022562  55085  \n",
       "21964388  2170470327  52722  \n",
       "16947263  2162859129  57105  \n",
       "9867226   2153175872  55044  \n",
       "6385785   2149619954  53793  "
      ]
     },
     "execution_count": 39,
     "metadata": {},
     "output_type": "execute_result"
    }
   ],
   "source": [
    "df[df['매장_시도']=='제주'].sort_values('이용금액',ascending=False).head(10)"
   ]
  },
  {
   "cell_type": "code",
   "execution_count": 40,
   "metadata": {
    "scrolled": true
   },
   "outputs": [
    {
     "data": {
      "image/png": "[encoded data removed]",
      "text/plain": [
       "<Figure size 2160x1440 with 1 Axes>"
      ]
     },
     "metadata": {
      "needs_background": "light"
     },
     "output_type": "display_data"
    }
   ],
   "source": [
    "var='업종명'\n",
    "data=pd.concat([df_high['이용금액'],df_high[var]],axis=1)\n",
    "f, ax= plt.subplots(figsize=(30,20))\n",
    "fig= sns.boxplot(x=var, y='이용금액',data=data)\n"
   ]
  },
  {
   "cell_type": "code",
   "execution_count": 41,
   "metadata": {},
   "outputs": [
    {
     "data": {
      "text/html": [
       "<div>\n",
       "<style scoped>\n",
       "    .dataframe tbody tr th:only-of-type {\n",
       "        vertical-align: middle;\n",
       "    }\n",
       "\n",
       "    .dataframe tbody tr th {\n",
       "        vertical-align: top;\n",
       "    }\n",
       "\n",
       "    .dataframe thead th {\n",
       "        text-align: right;\n",
       "    }\n",
       "</style>\n",
       "<table border=\"1\" class=\"dataframe\">\n",
       "  <thead>\n",
       "    <tr style=\"text-align: right;\">\n",
       "      <th></th>\n",
       "      <th>이용금액</th>\n",
       "      <th>업종명</th>\n",
       "    </tr>\n",
       "  </thead>\n",
       "  <tbody>\n",
       "    <tr>\n",
       "      <th>13451048</th>\n",
       "      <td>2349523701</td>\n",
       "      <td>한식 음식점업</td>\n",
       "    </tr>\n",
       "    <tr>\n",
       "      <th>20295408</th>\n",
       "      <td>2328668609</td>\n",
       "      <td>한식 음식점업</td>\n",
       "    </tr>\n",
       "    <tr>\n",
       "      <th>8146986</th>\n",
       "      <td>2314765651</td>\n",
       "      <td>한식 음식점업</td>\n",
       "    </tr>\n",
       "    <tr>\n",
       "      <th>1488125</th>\n",
       "      <td>2293735545</td>\n",
       "      <td>한식 음식점업</td>\n",
       "    </tr>\n",
       "    <tr>\n",
       "      <th>11592263</th>\n",
       "      <td>2242949391</td>\n",
       "      <td>한식 음식점업</td>\n",
       "    </tr>\n",
       "    <tr>\n",
       "      <th>...</th>\n",
       "      <td>...</td>\n",
       "      <td>...</td>\n",
       "    </tr>\n",
       "    <tr>\n",
       "      <th>11053783</th>\n",
       "      <td>843340</td>\n",
       "      <td>그외 기타 종합 소매업</td>\n",
       "    </tr>\n",
       "    <tr>\n",
       "      <th>5401000</th>\n",
       "      <td>843339</td>\n",
       "      <td>차량용 주유소 운영업</td>\n",
       "    </tr>\n",
       "    <tr>\n",
       "      <th>22207332</th>\n",
       "      <td>843339</td>\n",
       "      <td>차량용 주유소 운영업</td>\n",
       "    </tr>\n",
       "    <tr>\n",
       "      <th>1482270</th>\n",
       "      <td>843338</td>\n",
       "      <td>차량용 가스 충전업</td>\n",
       "    </tr>\n",
       "    <tr>\n",
       "      <th>5353850</th>\n",
       "      <td>843338</td>\n",
       "      <td>차량용 주유소 운영업</td>\n",
       "    </tr>\n",
       "  </tbody>\n",
       "</table>\n",
       "<p>6174448 rows × 2 columns</p>\n",
       "</div>"
      ],
      "text/plain": [
       "                이용금액           업종명\n",
       "13451048  2349523701       한식 음식점업\n",
       "20295408  2328668609       한식 음식점업\n",
       "8146986   2314765651       한식 음식점업\n",
       "1488125   2293735545       한식 음식점업\n",
       "11592263  2242949391       한식 음식점업\n",
       "...              ...           ...\n",
       "11053783      843340  그외 기타 종합 소매업\n",
       "5401000       843339   차량용 주유소 운영업\n",
       "22207332      843339   차량용 주유소 운영업\n",
       "1482270       843338    차량용 가스 충전업\n",
       "5353850       843338   차량용 주유소 운영업\n",
       "\n",
       "[6174448 rows x 2 columns]"
      ]
     },
     "execution_count": 41,
     "metadata": {},
     "output_type": "execute_result"
    }
   ],
   "source": [
    "data.sort_values(by='이용금액',ascending=False)"
   ]
  },
  {
   "cell_type": "markdown",
   "metadata": {},
   "source": [
    "가장 이용금액가 높았던 업종은 한식 음식점업이었다."
   ]
  },
  {
   "cell_type": "code",
   "execution_count": 42,
   "metadata": {},
   "outputs": [
    {
     "data": {
      "text/html": [
       "<div>\n",
       "<style scoped>\n",
       "    .dataframe tbody tr th:only-of-type {\n",
       "        vertical-align: middle;\n",
       "    }\n",
       "\n",
       "    .dataframe tbody tr th {\n",
       "        vertical-align: top;\n",
       "    }\n",
       "\n",
       "    .dataframe thead th {\n",
       "        text-align: right;\n",
       "    }\n",
       "</style>\n",
       "<table border=\"1\" class=\"dataframe\">\n",
       "  <thead>\n",
       "    <tr style=\"text-align: right;\">\n",
       "      <th></th>\n",
       "      <th>연월</th>\n",
       "      <th>이용금액</th>\n",
       "    </tr>\n",
       "  </thead>\n",
       "  <tbody>\n",
       "    <tr>\n",
       "      <th>0</th>\n",
       "      <td>2019-01-01</td>\n",
       "      <td>4052317259025</td>\n",
       "    </tr>\n",
       "    <tr>\n",
       "      <th>1</th>\n",
       "      <td>2019-02-01</td>\n",
       "      <td>3634345832156</td>\n",
       "    </tr>\n",
       "    <tr>\n",
       "      <th>2</th>\n",
       "      <td>2019-03-01</td>\n",
       "      <td>4105409759731</td>\n",
       "    </tr>\n",
       "    <tr>\n",
       "      <th>3</th>\n",
       "      <td>2019-04-01</td>\n",
       "      <td>4006698507386</td>\n",
       "    </tr>\n",
       "    <tr>\n",
       "      <th>4</th>\n",
       "      <td>2019-05-01</td>\n",
       "      <td>4345471235813</td>\n",
       "    </tr>\n",
       "    <tr>\n",
       "      <th>5</th>\n",
       "      <td>2019-06-01</td>\n",
       "      <td>4122105394194</td>\n",
       "    </tr>\n",
       "    <tr>\n",
       "      <th>6</th>\n",
       "      <td>2019-07-01</td>\n",
       "      <td>4187299694709</td>\n",
       "    </tr>\n",
       "    <tr>\n",
       "      <th>7</th>\n",
       "      <td>2019-08-01</td>\n",
       "      <td>4268655968810</td>\n",
       "    </tr>\n",
       "    <tr>\n",
       "      <th>8</th>\n",
       "      <td>2019-09-01</td>\n",
       "      <td>4123348058794</td>\n",
       "    </tr>\n",
       "    <tr>\n",
       "      <th>9</th>\n",
       "      <td>2019-10-01</td>\n",
       "      <td>4176583723584</td>\n",
       "    </tr>\n",
       "    <tr>\n",
       "      <th>10</th>\n",
       "      <td>2019-11-01</td>\n",
       "      <td>4047721898575</td>\n",
       "    </tr>\n",
       "    <tr>\n",
       "      <th>11</th>\n",
       "      <td>2019-12-01</td>\n",
       "      <td>4292549731776</td>\n",
       "    </tr>\n",
       "    <tr>\n",
       "      <th>12</th>\n",
       "      <td>2020-01-01</td>\n",
       "      <td>4124940612820</td>\n",
       "    </tr>\n",
       "    <tr>\n",
       "      <th>13</th>\n",
       "      <td>2020-02-01</td>\n",
       "      <td>3370694945536</td>\n",
       "    </tr>\n",
       "    <tr>\n",
       "      <th>14</th>\n",
       "      <td>2020-03-01</td>\n",
       "      <td>3437884426097</td>\n",
       "    </tr>\n",
       "  </tbody>\n",
       "</table>\n",
       "</div>"
      ],
      "text/plain": [
       "           연월           이용금액\n",
       "0  2019-01-01  4052317259025\n",
       "1  2019-02-01  3634345832156\n",
       "2  2019-03-01  4105409759731\n",
       "3  2019-04-01  4006698507386\n",
       "4  2019-05-01  4345471235813\n",
       "5  2019-06-01  4122105394194\n",
       "6  2019-07-01  4187299694709\n",
       "7  2019-08-01  4268655968810\n",
       "8  2019-09-01  4123348058794\n",
       "9  2019-10-01  4176583723584\n",
       "10 2019-11-01  4047721898575\n",
       "11 2019-12-01  4292549731776\n",
       "12 2020-01-01  4124940612820\n",
       "13 2020-02-01  3370694945536\n",
       "14 2020-03-01  3437884426097"
      ]
     },
     "execution_count": 42,
     "metadata": {},
     "output_type": "execute_result"
    }
   ],
   "source": [
    "pd.DataFrame(df.groupby('연월')['이용금액'].sum()).reset_index()"
   ]
  },
  {
   "cell_type": "markdown",
   "metadata": {},
   "source": [
    "# 데이터 제거"
   ]
  },
  {
   "cell_type": "code",
   "execution_count": 43,
   "metadata": {},
   "outputs": [
    {
     "data": {
      "text/html": [
       "<div>\n",
       "<style scoped>\n",
       "    .dataframe tbody tr th:only-of-type {\n",
       "        vertical-align: middle;\n",
       "    }\n",
       "\n",
       "    .dataframe tbody tr th {\n",
       "        vertical-align: top;\n",
       "    }\n",
       "\n",
       "    .dataframe thead th {\n",
       "        text-align: right;\n",
       "    }\n",
       "</style>\n",
       "<table border=\"1\" class=\"dataframe\">\n",
       "  <thead>\n",
       "    <tr style=\"text-align: right;\">\n",
       "      <th></th>\n",
       "      <th>연월</th>\n",
       "      <th>매장_시도</th>\n",
       "      <th>매장_시군구</th>\n",
       "      <th>업종명</th>\n",
       "      <th>고객_시도</th>\n",
       "      <th>고객_시군구</th>\n",
       "      <th>연령대</th>\n",
       "      <th>성별</th>\n",
       "      <th>가구생애주기</th>\n",
       "      <th>이용고객수</th>\n",
       "      <th>이용금액</th>\n",
       "      <th>이용건수</th>\n",
       "    </tr>\n",
       "  </thead>\n",
       "  <tbody>\n",
       "    <tr>\n",
       "      <th>0</th>\n",
       "      <td>2019-01-01</td>\n",
       "      <td>강원</td>\n",
       "      <td>강원</td>\n",
       "      <td>건강보조식품 소매업</td>\n",
       "      <td>강원</td>\n",
       "      <td>강원</td>\n",
       "      <td>20</td>\n",
       "      <td>1</td>\n",
       "      <td>1</td>\n",
       "      <td>4</td>\n",
       "      <td>311200</td>\n",
       "      <td>4</td>\n",
       "    </tr>\n",
       "    <tr>\n",
       "      <th>1</th>\n",
       "      <td>2019-01-01</td>\n",
       "      <td>강원</td>\n",
       "      <td>강원</td>\n",
       "      <td>건강보조식품 소매업</td>\n",
       "      <td>강원</td>\n",
       "      <td>강원</td>\n",
       "      <td>30</td>\n",
       "      <td>1</td>\n",
       "      <td>2</td>\n",
       "      <td>7</td>\n",
       "      <td>1374500</td>\n",
       "      <td>8</td>\n",
       "    </tr>\n",
       "    <tr>\n",
       "      <th>2</th>\n",
       "      <td>2019-01-01</td>\n",
       "      <td>강원</td>\n",
       "      <td>강원</td>\n",
       "      <td>건강보조식품 소매업</td>\n",
       "      <td>강원</td>\n",
       "      <td>강원</td>\n",
       "      <td>30</td>\n",
       "      <td>2</td>\n",
       "      <td>2</td>\n",
       "      <td>6</td>\n",
       "      <td>818700</td>\n",
       "      <td>6</td>\n",
       "    </tr>\n",
       "    <tr>\n",
       "      <th>3</th>\n",
       "      <td>2019-01-01</td>\n",
       "      <td>강원</td>\n",
       "      <td>강원</td>\n",
       "      <td>건강보조식품 소매업</td>\n",
       "      <td>강원</td>\n",
       "      <td>강원</td>\n",
       "      <td>40</td>\n",
       "      <td>1</td>\n",
       "      <td>3</td>\n",
       "      <td>4</td>\n",
       "      <td>1717000</td>\n",
       "      <td>5</td>\n",
       "    </tr>\n",
       "    <tr>\n",
       "      <th>4</th>\n",
       "      <td>2019-01-01</td>\n",
       "      <td>강원</td>\n",
       "      <td>강원</td>\n",
       "      <td>건강보조식품 소매업</td>\n",
       "      <td>강원</td>\n",
       "      <td>강원</td>\n",
       "      <td>40</td>\n",
       "      <td>1</td>\n",
       "      <td>4</td>\n",
       "      <td>3</td>\n",
       "      <td>1047300</td>\n",
       "      <td>3</td>\n",
       "    </tr>\n",
       "  </tbody>\n",
       "</table>\n",
       "</div>"
      ],
      "text/plain": [
       "          연월 매장_시도 매장_시군구         업종명 고객_시도 고객_시군구  연령대 성별 가구생애주기  이용고객수  \\\n",
       "0 2019-01-01    강원     강원  건강보조식품 소매업    강원     강원   20  1      1      4   \n",
       "1 2019-01-01    강원     강원  건강보조식품 소매업    강원     강원   30  1      2      7   \n",
       "2 2019-01-01    강원     강원  건강보조식품 소매업    강원     강원   30  2      2      6   \n",
       "3 2019-01-01    강원     강원  건강보조식품 소매업    강원     강원   40  1      3      4   \n",
       "4 2019-01-01    강원     강원  건강보조식품 소매업    강원     강원   40  1      4      3   \n",
       "\n",
       "      이용금액  이용건수  \n",
       "0   311200     4  \n",
       "1  1374500     8  \n",
       "2   818700     6  \n",
       "3  1717000     5  \n",
       "4  1047300     3  "
      ]
     },
     "execution_count": 43,
     "metadata": {},
     "output_type": "execute_result"
    }
   ],
   "source": [
    "df.head()"
   ]
  },
  {
   "cell_type": "code",
   "execution_count": 6,
   "metadata": {
    "scrolled": true
   },
   "outputs": [
    {
     "data": {
      "text/html": [
       "<div>\n",
       "<style scoped>\n",
       "    .dataframe tbody tr th:only-of-type {\n",
       "        vertical-align: middle;\n",
       "    }\n",
       "\n",
       "    .dataframe tbody tr th {\n",
       "        vertical-align: top;\n",
       "    }\n",
       "\n",
       "    .dataframe thead th {\n",
       "        text-align: right;\n",
       "    }\n",
       "</style>\n",
       "<table border=\"1\" class=\"dataframe\">\n",
       "  <thead>\n",
       "    <tr style=\"text-align: right;\">\n",
       "      <th></th>\n",
       "      <th>연월</th>\n",
       "      <th>매장_시도</th>\n",
       "      <th>업종명</th>\n",
       "      <th>고객_시도</th>\n",
       "      <th>연령대</th>\n",
       "      <th>성별</th>\n",
       "      <th>가구생애주기</th>\n",
       "      <th>이용고객수</th>\n",
       "      <th>이용금액</th>\n",
       "      <th>이용건수</th>\n",
       "    </tr>\n",
       "  </thead>\n",
       "  <tbody>\n",
       "    <tr>\n",
       "      <th>0</th>\n",
       "      <td>201901</td>\n",
       "      <td>강원</td>\n",
       "      <td>건강보조식품 소매업</td>\n",
       "      <td>강원</td>\n",
       "      <td>20s</td>\n",
       "      <td>1</td>\n",
       "      <td>1</td>\n",
       "      <td>4</td>\n",
       "      <td>311200</td>\n",
       "      <td>4</td>\n",
       "    </tr>\n",
       "    <tr>\n",
       "      <th>1</th>\n",
       "      <td>201901</td>\n",
       "      <td>강원</td>\n",
       "      <td>건강보조식품 소매업</td>\n",
       "      <td>강원</td>\n",
       "      <td>30s</td>\n",
       "      <td>1</td>\n",
       "      <td>2</td>\n",
       "      <td>7</td>\n",
       "      <td>1374500</td>\n",
       "      <td>8</td>\n",
       "    </tr>\n",
       "    <tr>\n",
       "      <th>2</th>\n",
       "      <td>201901</td>\n",
       "      <td>강원</td>\n",
       "      <td>건강보조식품 소매업</td>\n",
       "      <td>강원</td>\n",
       "      <td>30s</td>\n",
       "      <td>2</td>\n",
       "      <td>2</td>\n",
       "      <td>6</td>\n",
       "      <td>818700</td>\n",
       "      <td>6</td>\n",
       "    </tr>\n",
       "    <tr>\n",
       "      <th>3</th>\n",
       "      <td>201901</td>\n",
       "      <td>강원</td>\n",
       "      <td>건강보조식품 소매업</td>\n",
       "      <td>강원</td>\n",
       "      <td>40s</td>\n",
       "      <td>1</td>\n",
       "      <td>3</td>\n",
       "      <td>4</td>\n",
       "      <td>1717000</td>\n",
       "      <td>5</td>\n",
       "    </tr>\n",
       "    <tr>\n",
       "      <th>4</th>\n",
       "      <td>201901</td>\n",
       "      <td>강원</td>\n",
       "      <td>건강보조식품 소매업</td>\n",
       "      <td>강원</td>\n",
       "      <td>40s</td>\n",
       "      <td>1</td>\n",
       "      <td>4</td>\n",
       "      <td>3</td>\n",
       "      <td>1047300</td>\n",
       "      <td>3</td>\n",
       "    </tr>\n",
       "  </tbody>\n",
       "</table>\n",
       "</div>"
      ],
      "text/plain": [
       "       연월 매장_시도         업종명 고객_시도  연령대  성별  가구생애주기  이용고객수     이용금액  이용건수\n",
       "0  201901    강원  건강보조식품 소매업    강원  20s   1       1      4   311200     4\n",
       "1  201901    강원  건강보조식품 소매업    강원  30s   1       2      7  1374500     8\n",
       "2  201901    강원  건강보조식품 소매업    강원  30s   2       2      6   818700     6\n",
       "3  201901    강원  건강보조식품 소매업    강원  40s   1       3      4  1717000     5\n",
       "4  201901    강원  건강보조식품 소매업    강원  40s   1       4      3  1047300     3"
      ]
     },
     "execution_count": 6,
     "metadata": {},
     "output_type": "execute_result"
    }
   ],
   "source": [
    "df=df.drop(['매장_시군구','고객_시군구'],axis=1)\n",
    "df.head()"
   ]
  },
  {
   "cell_type": "code",
   "execution_count": null,
   "metadata": {},
   "outputs": [],
   "source": []
  },
  {
   "cell_type": "code",
   "execution_count": null,
   "metadata": {},
   "outputs": [],
   "source": []
  },
  {
   "cell_type": "code",
   "execution_count": null,
   "metadata": {},
   "outputs": [],
   "source": []
  },
  {
   "cell_type": "code",
   "execution_count": null,
   "metadata": {},
   "outputs": [],
   "source": []
  },
  {
   "cell_type": "markdown",
   "metadata": {},
   "source": [
    "# EDA"
   ]
  },
  {
   "cell_type": "code",
   "execution_count": 46,
   "metadata": {},
   "outputs": [
    {
     "data": {
      "text/html": [
       "<div>\n",
       "<style scoped>\n",
       "    .dataframe tbody tr th:only-of-type {\n",
       "        vertical-align: middle;\n",
       "    }\n",
       "\n",
       "    .dataframe tbody tr th {\n",
       "        vertical-align: top;\n",
       "    }\n",
       "\n",
       "    .dataframe thead th {\n",
       "        text-align: right;\n",
       "    }\n",
       "</style>\n",
       "<table border=\"1\" class=\"dataframe\">\n",
       "  <thead>\n",
       "    <tr style=\"text-align: right;\">\n",
       "      <th></th>\n",
       "      <th>연령대</th>\n",
       "      <th>이용고객수</th>\n",
       "      <th>이용금액</th>\n",
       "      <th>이용건수</th>\n",
       "    </tr>\n",
       "  </thead>\n",
       "  <tbody>\n",
       "    <tr>\n",
       "      <th>count</th>\n",
       "      <td>24697792.00</td>\n",
       "      <td>24697792.00</td>\n",
       "      <td>24697792.00</td>\n",
       "      <td>24697792.00</td>\n",
       "    </tr>\n",
       "    <tr>\n",
       "      <th>mean</th>\n",
       "      <td>38.23</td>\n",
       "      <td>61.97</td>\n",
       "      <td>2441352.94</td>\n",
       "      <td>126.04</td>\n",
       "    </tr>\n",
       "    <tr>\n",
       "      <th>std</th>\n",
       "      <td>14.33</td>\n",
       "      <td>355.92</td>\n",
       "      <td>17260959.04</td>\n",
       "      <td>966.94</td>\n",
       "    </tr>\n",
       "    <tr>\n",
       "      <th>min</th>\n",
       "      <td>10.00</td>\n",
       "      <td>3.00</td>\n",
       "      <td>20.00</td>\n",
       "      <td>1.00</td>\n",
       "    </tr>\n",
       "    <tr>\n",
       "      <th>25%</th>\n",
       "      <td>30.00</td>\n",
       "      <td>4.00</td>\n",
       "      <td>90200.00</td>\n",
       "      <td>5.00</td>\n",
       "    </tr>\n",
       "    <tr>\n",
       "      <th>50%</th>\n",
       "      <td>40.00</td>\n",
       "      <td>8.00</td>\n",
       "      <td>252680.00</td>\n",
       "      <td>12.00</td>\n",
       "    </tr>\n",
       "    <tr>\n",
       "      <th>75%</th>\n",
       "      <td>50.00</td>\n",
       "      <td>24.00</td>\n",
       "      <td>843337.25</td>\n",
       "      <td>40.00</td>\n",
       "    </tr>\n",
       "    <tr>\n",
       "      <th>max</th>\n",
       "      <td>70.00</td>\n",
       "      <td>32813.00</td>\n",
       "      <td>2349523701.00</td>\n",
       "      <td>120357.00</td>\n",
       "    </tr>\n",
       "  </tbody>\n",
       "</table>\n",
       "</div>"
      ],
      "text/plain": [
       "              연령대       이용고객수          이용금액        이용건수\n",
       "count 24697792.00 24697792.00   24697792.00 24697792.00\n",
       "mean        38.23       61.97    2441352.94      126.04\n",
       "std         14.33      355.92   17260959.04      966.94\n",
       "min         10.00        3.00         20.00        1.00\n",
       "25%         30.00        4.00      90200.00        5.00\n",
       "50%         40.00        8.00     252680.00       12.00\n",
       "75%         50.00       24.00     843337.25       40.00\n",
       "max         70.00    32813.00 2349523701.00   120357.00"
      ]
     },
     "execution_count": 46,
     "metadata": {},
     "output_type": "execute_result"
    }
   ],
   "source": [
    "df.describe().round(2)"
   ]
  },
  {
   "cell_type": "code",
   "execution_count": 47,
   "metadata": {},
   "outputs": [
    {
     "name": "stdout",
     "output_type": "stream",
     "text": [
      "['강원' '경기' '경남' '경북' '광주' '대구' '대전' '부산' '서울' '세종' '울산' '인천' '전남' '전북'\n",
      " '제주' '충남' '충북']\n"
     ]
    },
    {
     "data": {
      "text/html": [
       "<div>\n",
       "<style scoped>\n",
       "    .dataframe tbody tr th:only-of-type {\n",
       "        vertical-align: middle;\n",
       "    }\n",
       "\n",
       "    .dataframe tbody tr th {\n",
       "        vertical-align: top;\n",
       "    }\n",
       "\n",
       "    .dataframe thead th {\n",
       "        text-align: right;\n",
       "    }\n",
       "</style>\n",
       "<table border=\"1\" class=\"dataframe\">\n",
       "  <thead>\n",
       "    <tr style=\"text-align: right;\">\n",
       "      <th></th>\n",
       "      <th>매장_시도</th>\n",
       "    </tr>\n",
       "  </thead>\n",
       "  <tbody>\n",
       "    <tr>\n",
       "      <th>강원</th>\n",
       "      <td>1230355</td>\n",
       "    </tr>\n",
       "    <tr>\n",
       "      <th>경기</th>\n",
       "      <td>5188230</td>\n",
       "    </tr>\n",
       "    <tr>\n",
       "      <th>경남</th>\n",
       "      <td>1222818</td>\n",
       "    </tr>\n",
       "    <tr>\n",
       "      <th>경북</th>\n",
       "      <td>1204831</td>\n",
       "    </tr>\n",
       "    <tr>\n",
       "      <th>광주</th>\n",
       "      <td>432150</td>\n",
       "    </tr>\n",
       "    <tr>\n",
       "      <th>대구</th>\n",
       "      <td>758424</td>\n",
       "    </tr>\n",
       "    <tr>\n",
       "      <th>대전</th>\n",
       "      <td>523121</td>\n",
       "    </tr>\n",
       "    <tr>\n",
       "      <th>부산</th>\n",
       "      <td>2030810</td>\n",
       "    </tr>\n",
       "    <tr>\n",
       "      <th>서울</th>\n",
       "      <td>6259502</td>\n",
       "    </tr>\n",
       "    <tr>\n",
       "      <th>세종</th>\n",
       "      <td>87213</td>\n",
       "    </tr>\n",
       "    <tr>\n",
       "      <th>울산</th>\n",
       "      <td>322802</td>\n",
       "    </tr>\n",
       "    <tr>\n",
       "      <th>인천</th>\n",
       "      <td>1278410</td>\n",
       "    </tr>\n",
       "    <tr>\n",
       "      <th>전남</th>\n",
       "      <td>819291</td>\n",
       "    </tr>\n",
       "    <tr>\n",
       "      <th>전북</th>\n",
       "      <td>829466</td>\n",
       "    </tr>\n",
       "    <tr>\n",
       "      <th>제주</th>\n",
       "      <td>497503</td>\n",
       "    </tr>\n",
       "    <tr>\n",
       "      <th>충남</th>\n",
       "      <td>1178159</td>\n",
       "    </tr>\n",
       "    <tr>\n",
       "      <th>충북</th>\n",
       "      <td>834707</td>\n",
       "    </tr>\n",
       "  </tbody>\n",
       "</table>\n",
       "</div>"
      ],
      "text/plain": [
       "      매장_시도\n",
       "강원  1230355\n",
       "경기  5188230\n",
       "경남  1222818\n",
       "경북  1204831\n",
       "광주   432150\n",
       "대구   758424\n",
       "대전   523121\n",
       "부산  2030810\n",
       "서울  6259502\n",
       "세종    87213\n",
       "울산   322802\n",
       "인천  1278410\n",
       "전남   819291\n",
       "전북   829466\n",
       "제주   497503\n",
       "충남  1178159\n",
       "충북   834707"
      ]
     },
     "execution_count": 47,
     "metadata": {},
     "output_type": "execute_result"
    }
   ],
   "source": [
    "print( df.매장_시도.unique() )\n",
    "df_card_sido= pd.DataFrame( df.매장_시도.value_counts().sort_index(ascending=True)  )\n",
    "df_card_sido\n",
    "\n"
   ]
  },
  {
   "cell_type": "code",
   "execution_count": 48,
   "metadata": {},
   "outputs": [
    {
     "name": "stdout",
     "output_type": "stream",
     "text": [
      "['강원' '경기' '서울' '경남' '경북' '대구' '대전' '세종' '인천' '충남' '충북' '광주' '부산' '울산'\n",
      " '전남' '전북' '제주']\n"
     ]
    },
    {
     "data": {
      "text/html": [
       "<div>\n",
       "<style scoped>\n",
       "    .dataframe tbody tr th:only-of-type {\n",
       "        vertical-align: middle;\n",
       "    }\n",
       "\n",
       "    .dataframe tbody tr th {\n",
       "        vertical-align: top;\n",
       "    }\n",
       "\n",
       "    .dataframe thead th {\n",
       "        text-align: right;\n",
       "    }\n",
       "</style>\n",
       "<table border=\"1\" class=\"dataframe\">\n",
       "  <thead>\n",
       "    <tr style=\"text-align: right;\">\n",
       "      <th></th>\n",
       "      <th>고객_시도</th>\n",
       "    </tr>\n",
       "  </thead>\n",
       "  <tbody>\n",
       "    <tr>\n",
       "      <th>강원</th>\n",
       "      <td>602004</td>\n",
       "    </tr>\n",
       "    <tr>\n",
       "      <th>경기</th>\n",
       "      <td>6614016</td>\n",
       "    </tr>\n",
       "    <tr>\n",
       "      <th>경남</th>\n",
       "      <td>1463499</td>\n",
       "    </tr>\n",
       "    <tr>\n",
       "      <th>경북</th>\n",
       "      <td>1068082</td>\n",
       "    </tr>\n",
       "    <tr>\n",
       "      <th>광주</th>\n",
       "      <td>667626</td>\n",
       "    </tr>\n",
       "    <tr>\n",
       "      <th>대구</th>\n",
       "      <td>1077209</td>\n",
       "    </tr>\n",
       "    <tr>\n",
       "      <th>대전</th>\n",
       "      <td>586938</td>\n",
       "    </tr>\n",
       "    <tr>\n",
       "      <th>부산</th>\n",
       "      <td>1960951</td>\n",
       "    </tr>\n",
       "    <tr>\n",
       "      <th>서울</th>\n",
       "      <td>5387540</td>\n",
       "    </tr>\n",
       "    <tr>\n",
       "      <th>세종</th>\n",
       "      <td>147787</td>\n",
       "    </tr>\n",
       "    <tr>\n",
       "      <th>울산</th>\n",
       "      <td>502297</td>\n",
       "    </tr>\n",
       "    <tr>\n",
       "      <th>인천</th>\n",
       "      <td>1350921</td>\n",
       "    </tr>\n",
       "    <tr>\n",
       "      <th>전남</th>\n",
       "      <td>765499</td>\n",
       "    </tr>\n",
       "    <tr>\n",
       "      <th>전북</th>\n",
       "      <td>741515</td>\n",
       "    </tr>\n",
       "    <tr>\n",
       "      <th>제주</th>\n",
       "      <td>165250</td>\n",
       "    </tr>\n",
       "    <tr>\n",
       "      <th>충남</th>\n",
       "      <td>909568</td>\n",
       "    </tr>\n",
       "    <tr>\n",
       "      <th>충북</th>\n",
       "      <td>687090</td>\n",
       "    </tr>\n",
       "  </tbody>\n",
       "</table>\n",
       "</div>"
      ],
      "text/plain": [
       "      고객_시도\n",
       "강원   602004\n",
       "경기  6614016\n",
       "경남  1463499\n",
       "경북  1068082\n",
       "광주   667626\n",
       "대구  1077209\n",
       "대전   586938\n",
       "부산  1960951\n",
       "서울  5387540\n",
       "세종   147787\n",
       "울산   502297\n",
       "인천  1350921\n",
       "전남   765499\n",
       "전북   741515\n",
       "제주   165250\n",
       "충남   909568\n",
       "충북   687090"
      ]
     },
     "execution_count": 48,
     "metadata": {},
     "output_type": "execute_result"
    }
   ],
   "source": [
    "print( df.고객_시도.unique() )\n",
    "df_sido= pd.DataFrame( df.고객_시도.value_counts().sort_index(ascending=True)  )\n",
    "df_sido"
   ]
  },
  {
   "cell_type": "code",
   "execution_count": 49,
   "metadata": {},
   "outputs": [
    {
     "data": {
      "image/png": "[encoded data removed]",
      "text/plain": [
       "<Figure size 1440x720 with 1 Axes>"
      ]
     },
     "metadata": {
      "needs_background": "light"
     },
     "output_type": "display_data"
    }
   ],
   "source": [
    "plt.style.use( 'bmh' )\n",
    "df_card_sido.plot( kind = 'bar', figsize = ( 20,10 ), width = 0.8 )\n",
    "plt.xticks( rotation = 'horizontal' ) \n",
    "plt.title( '카드이용 지역 확인', size = 30 )\n",
    "plt.show()\n",
    "\n"
   ]
  },
  {
   "cell_type": "code",
   "execution_count": 50,
   "metadata": {},
   "outputs": [
    {
     "data": {
      "image/png": "[encoded data removed]",
      "text/plain": [
       "<Figure size 1440x720 with 1 Axes>"
      ]
     },
     "metadata": {
      "needs_background": "light"
     },
     "output_type": "display_data"
    }
   ],
   "source": [
    "plt.style.use( 'bmh' )\n",
    "df_sido.plot( kind = 'bar', figsize = ( 20, 10 ), width = 0.8 )\n",
    "plt.xticks( rotation = 'horizontal' ) \n",
    "plt.title( '카드사용 고객거주 지역 확인', size = 30 )\n",
    "plt.show()"
   ]
  },
  {
   "cell_type": "markdown",
   "metadata": {},
   "source": [
    "경기에 사는 고객이 서울에서 오프라인 신용카드 결제를 많이 한다는 것을 알 수 있다."
   ]
  },
  {
   "cell_type": "code",
   "execution_count": 51,
   "metadata": {},
   "outputs": [
    {
     "data": {
      "text/plain": [
       "<AxesSubplot:xlabel='연월', ylabel='이용금액'>"
      ]
     },
     "execution_count": 51,
     "metadata": {},
     "output_type": "execute_result"
    },
    {
     "data": {
      "image/png": "[encoded data removed]",
      "text/plain": [
       "<Figure size 1440x720 with 1 Axes>"
      ]
     },
     "metadata": {
      "needs_background": "light"
     },
     "output_type": "display_data"
    }
   ],
   "source": [
    "plt.figure(figsize=(20,10))\n",
    "sns.barplot(data=pd.DataFrame(df.groupby('연월')['이용금액'].sum()).reset_index(),x='연월',y='이용금액',ci=None)"
   ]
  },
  {
   "cell_type": "markdown",
   "metadata": {},
   "source": [
    "코로나 (2020년 02월)이후로 감소했지만 이외 뚜렷한 특징은 찾기 힘들다"
   ]
  },
  {
   "cell_type": "code",
   "execution_count": 7,
   "metadata": {},
   "outputs": [],
   "source": [
    "# 날짜데이터를 년과 월로 분리 \n",
    "# 사용자 함수 정의 \n",
    "def grap_year(data):\n",
    "    data = str(data)\n",
    "    return int(data[:4])\n",
    "\n",
    "def grap_month(data):\n",
    "    data = str(data)\n",
    "    return int(data[4:])"
   ]
  },
  {
   "cell_type": "code",
   "execution_count": 8,
   "metadata": {},
   "outputs": [],
   "source": [
    "df['년']=df['연월'].apply(lambda x:grap_year(x))\n",
    "df['월']=df['연월'].apply(lambda x:grap_month(x))\n",
    "df=df.drop(['연월'],axis=1)\n",
    "\n"
   ]
  },
  {
   "cell_type": "code",
   "execution_count": 78,
   "metadata": {},
   "outputs": [
    {
     "name": "stdout",
     "output_type": "stream",
     "text": [
      "<class 'pandas.core.frame.DataFrame'>\n",
      "RangeIndex: 24697792 entries, 0 to 24697791\n",
      "Data columns (total 11 columns):\n",
      " #   Column  Dtype   \n",
      "---  ------  -----   \n",
      " 0   매장_시도   object  \n",
      " 1   업종명     object  \n",
      " 2   고객_시도   object  \n",
      " 3   연령대     int32   \n",
      " 4   성별      category\n",
      " 5   가구생애주기  category\n",
      " 6   이용고객수   int32   \n",
      " 7   이용금액    int64   \n",
      " 8   이용건수    int32   \n",
      " 9   년       int64   \n",
      " 10  월       int64   \n",
      "dtypes: category(2), int32(3), int64(3), object(3)\n",
      "memory usage: 1.4+ GB\n"
     ]
    }
   ],
   "source": [
    "df.info()"
   ]
  },
  {
   "cell_type": "code",
   "execution_count": 109,
   "metadata": {},
   "outputs": [
    {
     "data": {
      "text/plain": [
       "<AxesSubplot:xlabel='년,월'>"
      ]
     },
     "execution_count": 109,
     "metadata": {},
     "output_type": "execute_result"
    },
    {
     "data": {
      "image/png": "[encoded data removed]",
      "text/plain": [
       "<Figure size 432x288 with 1 Axes>"
      ]
     },
     "metadata": {
      "needs_background": "light"
     },
     "output_type": "display_data"
    }
   ],
   "source": [
    "# 2020년 02월 이후 \n",
    "# 전년도 해당월과 카드이용총액 비교 \n",
    "\n",
    "df_co=df[(df['월'] ==2) | (df['월']==3)]\n",
    "df_co.groupby(['년','월'])['이용금액'].sum().plot.bar(rot=0)"
   ]
  },
  {
   "cell_type": "code",
   "execution_count": 119,
   "metadata": {
    "scrolled": true
   },
   "outputs": [
    {
     "data": {
      "text/plain": [
       "년     월\n",
       "2019  2          NaN\n",
       "      3          NaN\n",
       "2020  2    -7.254425\n",
       "      3   -16.259652\n",
       "Name: 이용금액, dtype: float64"
      ]
     },
     "execution_count": 119,
     "metadata": {},
     "output_type": "execute_result"
    }
   ],
   "source": [
    "##코로나 이후 카드사용총액 증감율\n",
    "\n",
    "df_co.groupby(['년','월'])['이용금액'].sum().pct_change(periods=2)*100"
   ]
  },
  {
   "cell_type": "code",
   "execution_count": 207,
   "metadata": {},
   "outputs": [],
   "source": [
    "#업종별 \n",
    "df_store=df_co.groupby(['년','월','업종명'])['이용금액'].sum().pct_change(periods=82)*100\n"
   ]
  },
  {
   "cell_type": "code",
   "execution_count": 212,
   "metadata": {},
   "outputs": [],
   "source": [
    "df_store=df_store.to_frame().reset_index()\n"
   ]
  },
  {
   "cell_type": "code",
   "execution_count": 217,
   "metadata": {},
   "outputs": [
    {
     "data": {
      "text/html": [
       "<div>\n",
       "<style scoped>\n",
       "    .dataframe tbody tr th:only-of-type {\n",
       "        vertical-align: middle;\n",
       "    }\n",
       "\n",
       "    .dataframe tbody tr th {\n",
       "        vertical-align: top;\n",
       "    }\n",
       "\n",
       "    .dataframe thead th {\n",
       "        text-align: right;\n",
       "    }\n",
       "</style>\n",
       "<table border=\"1\" class=\"dataframe\">\n",
       "  <thead>\n",
       "    <tr style=\"text-align: right;\">\n",
       "      <th></th>\n",
       "      <th>년</th>\n",
       "      <th>월</th>\n",
       "      <th>업종명</th>\n",
       "      <th>증감률</th>\n",
       "    </tr>\n",
       "  </thead>\n",
       "  <tbody>\n",
       "    <tr>\n",
       "      <th>0</th>\n",
       "      <td>2019</td>\n",
       "      <td>2</td>\n",
       "      <td>건강보조식품 소매업</td>\n",
       "      <td>NaN</td>\n",
       "    </tr>\n",
       "    <tr>\n",
       "      <th>1</th>\n",
       "      <td>2019</td>\n",
       "      <td>2</td>\n",
       "      <td>골프장 운영업</td>\n",
       "      <td>NaN</td>\n",
       "    </tr>\n",
       "    <tr>\n",
       "      <th>2</th>\n",
       "      <td>2019</td>\n",
       "      <td>2</td>\n",
       "      <td>과실 및 채소 소매업</td>\n",
       "      <td>NaN</td>\n",
       "    </tr>\n",
       "    <tr>\n",
       "      <th>3</th>\n",
       "      <td>2019</td>\n",
       "      <td>2</td>\n",
       "      <td>관광 민예품 및 선물용품 소매업</td>\n",
       "      <td>NaN</td>\n",
       "    </tr>\n",
       "    <tr>\n",
       "      <th>4</th>\n",
       "      <td>2019</td>\n",
       "      <td>2</td>\n",
       "      <td>그외 기타 분류안된 오락관련 서비스업</td>\n",
       "      <td>NaN</td>\n",
       "    </tr>\n",
       "    <tr>\n",
       "      <th>...</th>\n",
       "      <td>...</td>\n",
       "      <td>...</td>\n",
       "      <td>...</td>\n",
       "      <td>...</td>\n",
       "    </tr>\n",
       "    <tr>\n",
       "      <th>159</th>\n",
       "      <td>2020</td>\n",
       "      <td>3</td>\n",
       "      <td>피자 햄버거 샌드위치 및 유사 음식점업</td>\n",
       "      <td>-12.852178</td>\n",
       "    </tr>\n",
       "    <tr>\n",
       "      <th>160</th>\n",
       "      <td>2020</td>\n",
       "      <td>3</td>\n",
       "      <td>한식 음식점업</td>\n",
       "      <td>-31.967545</td>\n",
       "    </tr>\n",
       "    <tr>\n",
       "      <th>161</th>\n",
       "      <td>2020</td>\n",
       "      <td>3</td>\n",
       "      <td>호텔업</td>\n",
       "      <td>-63.280926</td>\n",
       "    </tr>\n",
       "    <tr>\n",
       "      <th>162</th>\n",
       "      <td>2020</td>\n",
       "      <td>3</td>\n",
       "      <td>화장품 및 방향제 소매업</td>\n",
       "      <td>-36.333087</td>\n",
       "    </tr>\n",
       "    <tr>\n",
       "      <th>163</th>\n",
       "      <td>2020</td>\n",
       "      <td>3</td>\n",
       "      <td>휴양콘도 운영업</td>\n",
       "      <td>-67.630526</td>\n",
       "    </tr>\n",
       "  </tbody>\n",
       "</table>\n",
       "<p>164 rows × 4 columns</p>\n",
       "</div>"
      ],
      "text/plain": [
       "        년  월                    업종명        증감률\n",
       "0    2019  2             건강보조식품 소매업        NaN\n",
       "1    2019  2                골프장 운영업        NaN\n",
       "2    2019  2            과실 및 채소 소매업        NaN\n",
       "3    2019  2      관광 민예품 및 선물용품 소매업        NaN\n",
       "4    2019  2   그외 기타 분류안된 오락관련 서비스업        NaN\n",
       "..    ... ..                    ...        ...\n",
       "159  2020  3  피자 햄버거 샌드위치 및 유사 음식점업 -12.852178\n",
       "160  2020  3                한식 음식점업 -31.967545\n",
       "161  2020  3                    호텔업 -63.280926\n",
       "162  2020  3          화장품 및 방향제 소매업 -36.333087\n",
       "163  2020  3               휴양콘도 운영업 -67.630526\n",
       "\n",
       "[164 rows x 4 columns]"
      ]
     },
     "execution_count": 217,
     "metadata": {},
     "output_type": "execute_result"
    }
   ],
   "source": [
    "df_store.columns=['년','월','업종명','증감률']\n",
    "df_store"
   ]
  },
  {
   "cell_type": "code",
   "execution_count": 186,
   "metadata": {},
   "outputs": [
    {
     "data": {
      "text/html": [
       "<div>\n",
       "<style scoped>\n",
       "    .dataframe tbody tr th:only-of-type {\n",
       "        vertical-align: middle;\n",
       "    }\n",
       "\n",
       "    .dataframe tbody tr th {\n",
       "        vertical-align: top;\n",
       "    }\n",
       "\n",
       "    .dataframe thead th {\n",
       "        text-align: right;\n",
       "    }\n",
       "</style>\n",
       "<table border=\"1\" class=\"dataframe\">\n",
       "  <thead>\n",
       "    <tr style=\"text-align: right;\">\n",
       "      <th></th>\n",
       "      <th>년</th>\n",
       "      <th>월</th>\n",
       "      <th>업종명</th>\n",
       "      <th>이용금액</th>\n",
       "    </tr>\n",
       "  </thead>\n",
       "  <tbody>\n",
       "    <tr>\n",
       "      <th>82</th>\n",
       "      <td>2020</td>\n",
       "      <td>2</td>\n",
       "      <td>건강보조식품 소매업</td>\n",
       "      <td>-30.612045</td>\n",
       "    </tr>\n",
       "    <tr>\n",
       "      <th>83</th>\n",
       "      <td>2020</td>\n",
       "      <td>2</td>\n",
       "      <td>골프장 운영업</td>\n",
       "      <td>12.712805</td>\n",
       "    </tr>\n",
       "    <tr>\n",
       "      <th>84</th>\n",
       "      <td>2020</td>\n",
       "      <td>2</td>\n",
       "      <td>과실 및 채소 소매업</td>\n",
       "      <td>-15.791247</td>\n",
       "    </tr>\n",
       "    <tr>\n",
       "      <th>85</th>\n",
       "      <td>2020</td>\n",
       "      <td>2</td>\n",
       "      <td>관광 민예품 및 선물용품 소매업</td>\n",
       "      <td>-36.410127</td>\n",
       "    </tr>\n",
       "    <tr>\n",
       "      <th>86</th>\n",
       "      <td>2020</td>\n",
       "      <td>2</td>\n",
       "      <td>그외 기타 분류안된 오락관련 서비스업</td>\n",
       "      <td>-36.452192</td>\n",
       "    </tr>\n",
       "    <tr>\n",
       "      <th>...</th>\n",
       "      <td>...</td>\n",
       "      <td>...</td>\n",
       "      <td>...</td>\n",
       "      <td>...</td>\n",
       "    </tr>\n",
       "    <tr>\n",
       "      <th>159</th>\n",
       "      <td>2020</td>\n",
       "      <td>3</td>\n",
       "      <td>피자 햄버거 샌드위치 및 유사 음식점업</td>\n",
       "      <td>-12.852178</td>\n",
       "    </tr>\n",
       "    <tr>\n",
       "      <th>160</th>\n",
       "      <td>2020</td>\n",
       "      <td>3</td>\n",
       "      <td>한식 음식점업</td>\n",
       "      <td>-31.967545</td>\n",
       "    </tr>\n",
       "    <tr>\n",
       "      <th>161</th>\n",
       "      <td>2020</td>\n",
       "      <td>3</td>\n",
       "      <td>호텔업</td>\n",
       "      <td>-63.280926</td>\n",
       "    </tr>\n",
       "    <tr>\n",
       "      <th>162</th>\n",
       "      <td>2020</td>\n",
       "      <td>3</td>\n",
       "      <td>화장품 및 방향제 소매업</td>\n",
       "      <td>-36.333087</td>\n",
       "    </tr>\n",
       "    <tr>\n",
       "      <th>163</th>\n",
       "      <td>2020</td>\n",
       "      <td>3</td>\n",
       "      <td>휴양콘도 운영업</td>\n",
       "      <td>-67.630526</td>\n",
       "    </tr>\n",
       "  </tbody>\n",
       "</table>\n",
       "<p>82 rows × 4 columns</p>\n",
       "</div>"
      ],
      "text/plain": [
       "        년  월                    업종명       이용금액\n",
       "82   2020  2             건강보조식품 소매업 -30.612045\n",
       "83   2020  2                골프장 운영업  12.712805\n",
       "84   2020  2            과실 및 채소 소매업 -15.791247\n",
       "85   2020  2      관광 민예품 및 선물용품 소매업 -36.410127\n",
       "86   2020  2   그외 기타 분류안된 오락관련 서비스업 -36.452192\n",
       "..    ... ..                    ...        ...\n",
       "159  2020  3  피자 햄버거 샌드위치 및 유사 음식점업 -12.852178\n",
       "160  2020  3                한식 음식점업 -31.967545\n",
       "161  2020  3                    호텔업 -63.280926\n",
       "162  2020  3          화장품 및 방향제 소매업 -36.333087\n",
       "163  2020  3               휴양콘도 운영업 -67.630526\n",
       "\n",
       "[82 rows x 4 columns]"
      ]
     },
     "execution_count": 186,
     "metadata": {},
     "output_type": "execute_result"
    }
   ],
   "source": [
    "df_store=df_store.to_frame().reset_index()\n",
    "df_store[df_store['년']==2020]"
   ]
  },
  {
   "cell_type": "code",
   "execution_count": null,
   "metadata": {},
   "outputs": [],
   "source": []
  },
  {
   "cell_type": "code",
   "execution_count": null,
   "metadata": {
    "scrolled": true
   },
   "outputs": [],
   "source": []
  },
  {
   "cell_type": "code",
   "execution_count": 52,
   "metadata": {
    "scrolled": true
   },
   "outputs": [
    {
     "name": "stdout",
     "output_type": "stream",
     "text": [
      "['건강보조식품 소매업' '골프장 운영업' '과실 및 채소 소매업' '관광 민예품 및 선물용품 소매업'\n",
      " '그외 기타 스포츠시설 운영업' '그외 기타 종합 소매업' '기타 대형 종합 소매업' '기타 외국식 음식점업' '기타 주점업'\n",
      " '기타음식료품위주종합소매업' '마사지업' '비알콜 음료점업' '빵 및 과자류 소매업' '서양식 음식점업' '수산물 소매업'\n",
      " '슈퍼마켓' '스포츠 및 레크레이션 용품 임대업' '여관업' '욕탕업' '육류 소매업' '일반유흥 주점업' '일식 음식점업'\n",
      " '전시 및 행사 대행업' '중식 음식점업' '차량용 가스 충전업' '차량용 주유소 운영업' '체인화 편의점'\n",
      " '피자 햄버거 샌드위치 및 유사 음식점업' '한식 음식점업' '호텔업' '화장품 및 방향제 소매업' '휴양콘도 운영업' '여행사업'\n",
      " '자동차 임대업' '면세점' '버스 운송업' '택시 운송업' '기타 수상오락 서비스업' '내항 여객 운송업'\n",
      " '그외 기타 분류안된 오락관련 서비스업' '정기 항공 운송업']\n",
      "업종수 :  41\n"
     ]
    }
   ],
   "source": [
    "print(df.업종명.unique())\n",
    "print('업종수 : ',len(df.업종명.unique()))"
   ]
  },
  {
   "cell_type": "code",
   "execution_count": 53,
   "metadata": {
    "scrolled": true
   },
   "outputs": [
    {
     "data": {
      "text/plain": [
       "13737489719551"
      ]
     },
     "execution_count": 53,
     "metadata": {},
     "output_type": "execute_result"
    }
   ],
   "source": [
    "df[df['업종명']=='한식 음식점업']['이용금액'].sum()"
   ]
  },
  {
   "cell_type": "code",
   "execution_count": 54,
   "metadata": {},
   "outputs": [
    {
     "data": {
      "text/html": [
       "<div>\n",
       "<style scoped>\n",
       "    .dataframe tbody tr th:only-of-type {\n",
       "        vertical-align: middle;\n",
       "    }\n",
       "\n",
       "    .dataframe tbody tr th {\n",
       "        vertical-align: top;\n",
       "    }\n",
       "\n",
       "    .dataframe thead th {\n",
       "        text-align: right;\n",
       "    }\n",
       "</style>\n",
       "<table border=\"1\" class=\"dataframe\">\n",
       "  <thead>\n",
       "    <tr style=\"text-align: right;\">\n",
       "      <th></th>\n",
       "      <th>이용금액</th>\n",
       "    </tr>\n",
       "    <tr>\n",
       "      <th>업종명</th>\n",
       "      <th></th>\n",
       "    </tr>\n",
       "  </thead>\n",
       "  <tbody>\n",
       "    <tr>\n",
       "      <th>한식 음식점업</th>\n",
       "      <td>13737489719551</td>\n",
       "    </tr>\n",
       "    <tr>\n",
       "      <th>차량용 주유소 운영업</th>\n",
       "      <td>7708652073883</td>\n",
       "    </tr>\n",
       "    <tr>\n",
       "      <th>기타 대형 종합 소매업</th>\n",
       "      <td>7328854819388</td>\n",
       "    </tr>\n",
       "    <tr>\n",
       "      <th>슈퍼마켓</th>\n",
       "      <td>6730329364274</td>\n",
       "    </tr>\n",
       "    <tr>\n",
       "      <th>체인화 편의점</th>\n",
       "      <td>5303958703193</td>\n",
       "    </tr>\n",
       "    <tr>\n",
       "      <th>서양식 음식점업</th>\n",
       "      <td>1748358904526</td>\n",
       "    </tr>\n",
       "    <tr>\n",
       "      <th>택시 운송업</th>\n",
       "      <td>1733409541974</td>\n",
       "    </tr>\n",
       "    <tr>\n",
       "      <th>기타음식료품위주종합소매업</th>\n",
       "      <td>1569246626978</td>\n",
       "    </tr>\n",
       "    <tr>\n",
       "      <th>스포츠 및 레크레이션 용품 임대업</th>\n",
       "      <td>1245725426753</td>\n",
       "    </tr>\n",
       "    <tr>\n",
       "      <th>육류 소매업</th>\n",
       "      <td>1166039087386</td>\n",
       "    </tr>\n",
       "    <tr>\n",
       "      <th>비알콜 음료점업</th>\n",
       "      <td>1143497863742</td>\n",
       "    </tr>\n",
       "    <tr>\n",
       "      <th>피자 햄버거 샌드위치 및 유사 음식점업</th>\n",
       "      <td>1100581283937</td>\n",
       "    </tr>\n",
       "    <tr>\n",
       "      <th>그외 기타 종합 소매업</th>\n",
       "      <td>1025691118171</td>\n",
       "    </tr>\n",
       "    <tr>\n",
       "      <th>중식 음식점업</th>\n",
       "      <td>952361423580</td>\n",
       "    </tr>\n",
       "    <tr>\n",
       "      <th>빵 및 과자류 소매업</th>\n",
       "      <td>893591674917</td>\n",
       "    </tr>\n",
       "    <tr>\n",
       "      <th>일식 음식점업</th>\n",
       "      <td>792341708115</td>\n",
       "    </tr>\n",
       "    <tr>\n",
       "      <th>화장품 및 방향제 소매업</th>\n",
       "      <td>639380260823</td>\n",
       "    </tr>\n",
       "    <tr>\n",
       "      <th>기타 외국식 음식점업</th>\n",
       "      <td>623167678948</td>\n",
       "    </tr>\n",
       "    <tr>\n",
       "      <th>과실 및 채소 소매업</th>\n",
       "      <td>618928801283</td>\n",
       "    </tr>\n",
       "    <tr>\n",
       "      <th>골프장 운영업</th>\n",
       "      <td>595701968828</td>\n",
       "    </tr>\n",
       "    <tr>\n",
       "      <th>정기 항공 운송업</th>\n",
       "      <td>581098689779</td>\n",
       "    </tr>\n",
       "    <tr>\n",
       "      <th>일반유흥 주점업</th>\n",
       "      <td>541315173187</td>\n",
       "    </tr>\n",
       "    <tr>\n",
       "      <th>면세점</th>\n",
       "      <td>404512192532</td>\n",
       "    </tr>\n",
       "    <tr>\n",
       "      <th>수산물 소매업</th>\n",
       "      <td>297031773253</td>\n",
       "    </tr>\n",
       "    <tr>\n",
       "      <th>여관업</th>\n",
       "      <td>258904036530</td>\n",
       "    </tr>\n",
       "    <tr>\n",
       "      <th>차량용 가스 충전업</th>\n",
       "      <td>237066002143</td>\n",
       "    </tr>\n",
       "    <tr>\n",
       "      <th>버스 운송업</th>\n",
       "      <td>230236675997</td>\n",
       "    </tr>\n",
       "    <tr>\n",
       "      <th>호텔업</th>\n",
       "      <td>225020352517</td>\n",
       "    </tr>\n",
       "    <tr>\n",
       "      <th>욕탕업</th>\n",
       "      <td>190084640107</td>\n",
       "    </tr>\n",
       "    <tr>\n",
       "      <th>기타 주점업</th>\n",
       "      <td>164753620805</td>\n",
       "    </tr>\n",
       "    <tr>\n",
       "      <th>여행사업</th>\n",
       "      <td>109016697282</td>\n",
       "    </tr>\n",
       "    <tr>\n",
       "      <th>건강보조식품 소매업</th>\n",
       "      <td>105126364380</td>\n",
       "    </tr>\n",
       "    <tr>\n",
       "      <th>전시 및 행사 대행업</th>\n",
       "      <td>104507444246</td>\n",
       "    </tr>\n",
       "    <tr>\n",
       "      <th>휴양콘도 운영업</th>\n",
       "      <td>79881859506</td>\n",
       "    </tr>\n",
       "    <tr>\n",
       "      <th>내항 여객 운송업</th>\n",
       "      <td>42015061681</td>\n",
       "    </tr>\n",
       "    <tr>\n",
       "      <th>자동차 임대업</th>\n",
       "      <td>28378647000</td>\n",
       "    </tr>\n",
       "    <tr>\n",
       "      <th>마사지업</th>\n",
       "      <td>20199890964</td>\n",
       "    </tr>\n",
       "    <tr>\n",
       "      <th>관광 민예품 및 선물용품 소매업</th>\n",
       "      <td>15129406137</td>\n",
       "    </tr>\n",
       "    <tr>\n",
       "      <th>그외 기타 스포츠시설 운영업</th>\n",
       "      <td>2731915234</td>\n",
       "    </tr>\n",
       "    <tr>\n",
       "      <th>기타 수상오락 서비스업</th>\n",
       "      <td>1671308986</td>\n",
       "    </tr>\n",
       "    <tr>\n",
       "      <th>그외 기타 분류안된 오락관련 서비스업</th>\n",
       "      <td>37246490</td>\n",
       "    </tr>\n",
       "  </tbody>\n",
       "</table>\n",
       "</div>"
      ],
      "text/plain": [
       "                                 이용금액\n",
       "업종명                                  \n",
       "한식 음식점업                13737489719551\n",
       "차량용 주유소 운영업             7708652073883\n",
       "기타 대형 종합 소매업            7328854819388\n",
       "슈퍼마켓                    6730329364274\n",
       "체인화 편의점                 5303958703193\n",
       "서양식 음식점업                1748358904526\n",
       "택시 운송업                  1733409541974\n",
       "기타음식료품위주종합소매업           1569246626978\n",
       "스포츠 및 레크레이션 용품 임대업      1245725426753\n",
       "육류 소매업                  1166039087386\n",
       "비알콜 음료점업                1143497863742\n",
       "피자 햄버거 샌드위치 및 유사 음식점업   1100581283937\n",
       "그외 기타 종합 소매업            1025691118171\n",
       "중식 음식점업                  952361423580\n",
       "빵 및 과자류 소매업              893591674917\n",
       "일식 음식점업                  792341708115\n",
       "화장품 및 방향제 소매업            639380260823\n",
       "기타 외국식 음식점업              623167678948\n",
       "과실 및 채소 소매업              618928801283\n",
       "골프장 운영업                  595701968828\n",
       "정기 항공 운송업                581098689779\n",
       "일반유흥 주점업                 541315173187\n",
       "면세점                      404512192532\n",
       "수산물 소매업                  297031773253\n",
       "여관업                      258904036530\n",
       "차량용 가스 충전업               237066002143\n",
       "버스 운송업                   230236675997\n",
       "호텔업                      225020352517\n",
       "욕탕업                      190084640107\n",
       "기타 주점업                   164753620805\n",
       "여행사업                     109016697282\n",
       "건강보조식품 소매업               105126364380\n",
       "전시 및 행사 대행업              104507444246\n",
       "휴양콘도 운영업                  79881859506\n",
       "내항 여객 운송업                 42015061681\n",
       "자동차 임대업                   28378647000\n",
       "마사지업                      20199890964\n",
       "관광 민예품 및 선물용품 소매업         15129406137\n",
       "그외 기타 스포츠시설 운영업            2731915234\n",
       "기타 수상오락 서비스업               1671308986\n",
       "그외 기타 분류안된 오락관련 서비스업         37246490"
      ]
     },
     "execution_count": 54,
     "metadata": {},
     "output_type": "execute_result"
    }
   ],
   "source": [
    "df_store=pd.DataFrame(df.groupby('업종명')['이용금액'].sum().sort_values(ascending=False))\n",
    "df_store"
   ]
  },
  {
   "cell_type": "code",
   "execution_count": 55,
   "metadata": {},
   "outputs": [
    {
     "data": {
      "image/png": "[encoded data removed]",
      "text/plain": [
       "<Figure size 1440x720 with 1 Axes>"
      ]
     },
     "metadata": {
      "needs_background": "light"
     },
     "output_type": "display_data"
    }
   ],
   "source": [
    "plt.style.use( 'bmh' )\n",
    "df_store.head(10).plot( kind = 'bar', figsize = ( 20, 10 ), width = 0.8 )\n",
    "plt.xticks( rotation = 'horizontal' )\n",
    "plt.xlabel('업종명')\n",
    "plt.ylabel('사용 총액')\n",
    "plt.title( '업종별 카드 사용 상위 10개 ', size = 30 )\n",
    "plt.show()"
   ]
  },
  {
   "cell_type": "code",
   "execution_count": 56,
   "metadata": {},
   "outputs": [
    {
     "name": "stdout",
     "output_type": "stream",
     "text": [
      "['Solarize_Light2', '_classic_test_patch', 'bmh', 'classic', 'dark_background', 'fast', 'fivethirtyeight', 'ggplot', 'grayscale', 'seaborn', 'seaborn-bright', 'seaborn-colorblind', 'seaborn-dark', 'seaborn-dark-palette', 'seaborn-darkgrid', 'seaborn-deep', 'seaborn-muted', 'seaborn-notebook', 'seaborn-paper', 'seaborn-pastel', 'seaborn-poster', 'seaborn-talk', 'seaborn-ticks', 'seaborn-white', 'seaborn-whitegrid', 'tableau-colorblind10']\n"
     ]
    }
   ],
   "source": [
    "print(plt.style.available)"
   ]
  },
  {
   "cell_type": "code",
   "execution_count": 57,
   "metadata": {},
   "outputs": [
    {
     "data": {
      "image/png": "[encoded data removed]",
      "text/plain": [
       "<Figure size 1440x720 with 1 Axes>"
      ]
     },
     "metadata": {
      "needs_background": "light"
     },
     "output_type": "display_data"
    }
   ],
   "source": [
    "#연령대별 신용카드 이용 건수 합\n",
    "plt.style.use('tableau-colorblind10' )\n",
    "df.groupby('연령대')['이용건수'].sum().plot( kind = 'bar', figsize = ( 20, 10 ), width = 0.8 )\n",
    "plt.xticks( rotation = 'horizontal' )\n",
    "plt.xlabel('연령대')\n",
    "plt.title( '연령대 별 카드 이용 건수', size = 30 )\n",
    "plt.show()"
   ]
  },
  {
   "cell_type": "code",
   "execution_count": 58,
   "metadata": {
    "scrolled": true
   },
   "outputs": [
    {
     "data": {
      "image/png": "[encoded data removed]",
      "text/plain": [
       "<Figure size 1440x720 with 1 Axes>"
      ]
     },
     "metadata": {
      "needs_background": "light"
     },
     "output_type": "display_data"
    }
   ],
   "source": [
    "#연령대별 신용카드 이용금액 합 \n",
    "plt.style.use( 'tableau-colorblind10' )\n",
    "df.groupby('연령대')['이용금액'].sum().plot( kind = 'bar', figsize = ( 20, 10 ), width = 0.8 )\n",
    "plt.xticks( rotation = 'horizontal' )\n",
    "plt.xlabel('연령대')\n",
    "plt.title( '연령대 별 카드 이용 금액 합', size = 30 )\n",
    "plt.show()"
   ]
  },
  {
   "cell_type": "code",
   "execution_count": 35,
   "metadata": {},
   "outputs": [
    {
     "data": {
      "image/png": "[encoded data removed]",
      "text/plain": [
       "<Figure size 1440x720 with 1 Axes>"
      ]
     },
     "metadata": {
      "needs_background": "light"
     },
     "output_type": "display_data"
    }
   ],
   "source": [
    "#연령대별 신용카드 평균이용금액  \n",
    "plt.style.use( 'tableau-colorblind10' )\n",
    "df.groupby('연령대')['이용금액'].mean().plot( kind = 'bar', figsize = ( 20, 10 ), width = 0.8 )\n",
    "plt.xticks( rotation = 'horizontal' )\n",
    "plt.xlabel('연령대')\n",
    "plt.title( '연령대 별 카드 평균 이용 금액 ', size = 30 )\n",
    "plt.show()"
   ]
  },
  {
   "cell_type": "code",
   "execution_count": 59,
   "metadata": {
    "scrolled": true
   },
   "outputs": [
    {
     "data": {
      "image/png": "[encoded data removed]",
      "text/plain": [
       "<Figure size 720x720 with 1 Axes>"
      ]
     },
     "metadata": {},
     "output_type": "display_data"
    }
   ],
   "source": [
    "# 성별별 카드 사용비율\n",
    "plt.style.use( 'tableau-colorblind10' )\n",
    "df.groupby('성별')['이용금액'].sum().plot( kind = 'pie', figsize = ( 10, 10 ),autopct='%1.1f%%')\n",
    "plt.title( '성별 별 카드 사용비율', size = 30 )\n",
    "plt.legend(labels=('남성','여성'))\n",
    "plt.show()"
   ]
  },
  {
   "cell_type": "code",
   "execution_count": 55,
   "metadata": {},
   "outputs": [
    {
     "data": {
      "image/png": "[encoded data removed]",
      "text/plain": [
       "<Figure size 1440x720 with 1 Axes>"
      ]
     },
     "metadata": {
      "needs_background": "light"
     },
     "output_type": "display_data"
    },
    {
     "name": "stdout",
     "output_type": "stream",
     "text": [
      "            0\n",
      "연령대          \n",
      "10    5649.82\n",
      "20   10669.12\n",
      "30   16630.85\n",
      "40   20852.52\n",
      "50   24735.72\n",
      "60   28401.50\n",
      "70   28550.26\n"
     ]
    }
   ],
   "source": [
    "a=df.groupby('연령대')['이용금액'].sum()\n",
    "b=df.groupby('연령대')['이용건수'].sum()\n",
    "plt.style.use( 'tableau-colorblind10' )\n",
    "(a/b).round(2).to_frame().plot( kind = 'bar',figsize = ( 20, 10 ), width = 0.8 )\n",
    "plt.xticks( rotation = 'horizontal' )\n",
    "plt.xlabel('연령대')\n",
    "plt.title( '연령대 별 이용건당 이용금액', size = 30 )\n",
    "plt.show()\n",
    "print((a/b).round(2).to_frame())"
   ]
  },
  {
   "cell_type": "code",
   "execution_count": 46,
   "metadata": {
    "scrolled": true
   },
   "outputs": [
    {
     "data": {
      "image/png": "[encoded data removed]",
      "text/plain": [
       "<Figure size 1440x720 with 1 Axes>"
      ]
     },
     "metadata": {
      "needs_background": "light"
     },
     "output_type": "display_data"
    }
   ],
   "source": [
    "#생애 주기별 분포\n",
    "plt.style.use( 'tableau-colorblind10' )\n",
    "df.groupby('가구생애주기')['이용금액'].sum().plot( kind = 'bar',figsize = ( 20, 10 ), width = 0.8 )\n",
    "plt.xticks( rotation = 'horizontal' )\n",
    "plt.xlabel('가구생애주기')\n",
    "plt.title( '생애주기별 카드 이용금액 합', size = 30 )\n",
    "plt.show()"
   ]
  },
  {
   "cell_type": "code",
   "execution_count": 47,
   "metadata": {},
   "outputs": [
    {
     "data": {
      "image/png": "[encoded data removed]",
      "text/plain": [
       "<Figure size 1440x720 with 1 Axes>"
      ]
     },
     "metadata": {
      "needs_background": "light"
     },
     "output_type": "display_data"
    }
   ],
   "source": [
    "#연령대별 신용카드 이용금액 합 \n",
    "plt.style.use( 'tableau-colorblind10' )\n",
    "df.groupby('가구생애주기')['이용금액'].mean().plot( kind = 'bar',figsize = ( 20, 10 ), width = 0.8 )\n",
    "plt.xticks( rotation = 'horizontal' )\n",
    "plt.xlabel('가구생애주기')\n",
    "plt.title( '생애주기별 카드 평균 이용금액', size = 30 )\n",
    "plt.show()"
   ]
  },
  {
   "cell_type": "code",
   "execution_count": 17,
   "metadata": {},
   "outputs": [
    {
     "data": {
      "text/plain": [
       "매장_시도  성별\n",
       "강원     1     1019422567091\n",
       "       2      570188732828\n",
       "경기     1     8661794600756\n",
       "       2     5540090634113\n",
       "경남     1     2304178777303\n",
       "       2     1180951252561\n",
       "경북     1     1877196231321\n",
       "       2      890424363927\n",
       "광주     1     1023179710022\n",
       "       2      682470650912\n",
       "대구     1     1694554554632\n",
       "       2     1325509797972\n",
       "대전     1      694241163056\n",
       "       2      434672297660\n",
       "부산     1     2578969699475\n",
       "       2     1912336332066\n",
       "서울     1     8190687845791\n",
       "       2     6486443203240\n",
       "세종     1      129540371792\n",
       "       2       74505445556\n",
       "울산     1      837354436562\n",
       "       2      417859169178\n",
       "인천     1     1848771565416\n",
       "       2     1207475897497\n",
       "전남     1     1263550774461\n",
       "       2      576210002678\n",
       "전북     1     1242817889230\n",
       "       2      718412296111\n",
       "제주     1      797625219172\n",
       "       2      545957005596\n",
       "충남     1     1418238579560\n",
       "       2      684958795548\n",
       "충북     1      971440019642\n",
       "       2      493997166281\n",
       "Name: 이용금액, dtype: int64"
      ]
     },
     "execution_count": 17,
     "metadata": {},
     "output_type": "execute_result"
    }
   ],
   "source": [
    "df.groupby(['매장_시도','성별'])['이용금액'].sum()"
   ]
  },
  {
   "cell_type": "code",
   "execution_count": 18,
   "metadata": {},
   "outputs": [
    {
     "data": {
      "text/plain": [
       "고객_시도  성별\n",
       "강원     1      868385317969\n",
       "       2      527648214350\n",
       "경기     1     9448487819744\n",
       "       2     6181306042098\n",
       "경남     1     2487841899533\n",
       "       2     1354373182642\n",
       "경북     1     1762736548722\n",
       "       2      904943604910\n",
       "광주     1     1216375816633\n",
       "       2      793259645350\n",
       "대구     1     1973244020578\n",
       "       2     1456166647292\n",
       "대전     1      792424864352\n",
       "       2      482424965007\n",
       "부산     1     2647888258533\n",
       "       2     1890021558562\n",
       "서울     1     6819307805224\n",
       "       2     5318304976636\n",
       "세종     1      178083394415\n",
       "       2      102995584632\n",
       "울산     1      927373342357\n",
       "       2      476050109323\n",
       "인천     1     1956484438691\n",
       "       2     1287409881364\n",
       "전남     1     1231381030480\n",
       "       2      571075202974\n",
       "전북     1     1271332451927\n",
       "       2      748857695656\n",
       "제주     1      679348270769\n",
       "       2      451268384791\n",
       "충남     1     1366392341647\n",
       "       2      679319873395\n",
       "충북     1      926476383708\n",
       "       2      517037474742\n",
       "Name: 이용금액, dtype: int64"
      ]
     },
     "execution_count": 18,
     "metadata": {},
     "output_type": "execute_result"
    }
   ],
   "source": [
    "df.groupby(['고객_시도','성별'])['이용금액'].sum()"
   ]
  },
  {
   "cell_type": "code",
   "execution_count": null,
   "metadata": {},
   "outputs": [],
   "source": [
    "#연령대별 신용카드 이용금액 합 \n",
    "plt.style.use( 'tableau-colorblind10' )\n",
    "df.groupby('연령대')['이용금액'].sum().plot( kind = 'bar', figsize = ( 20, 10 ), width = 0.8 )\n",
    "plt.xticks( rotation = 'horizontal' )\n",
    "plt.xlabel('연령대')\n",
    "plt.title( '연령대 별 카드 이용 금액 합', size = 30 )\n",
    "plt.show()"
   ]
  },
  {
   "cell_type": "code",
   "execution_count": 28,
   "metadata": {},
   "outputs": [
    {
     "data": {
      "text/plain": [
       "14677131049031"
      ]
     },
     "execution_count": 28,
     "metadata": {},
     "output_type": "execute_result"
    }
   ],
   "source": [
    "max(df.groupby('매장_시도')['이용금액'].sum())"
   ]
  },
  {
   "cell_type": "code",
   "execution_count": 23,
   "metadata": {},
   "outputs": [
    {
     "data": {
      "text/plain": [
       "14677131049031"
      ]
     },
     "execution_count": 23,
     "metadata": {},
     "output_type": "execute_result"
    }
   ],
   "source": [
    "df[df['매장_시도']=='서울']['이용금액'].sum()"
   ]
  },
  {
   "cell_type": "code",
   "execution_count": 20,
   "metadata": {
    "scrolled": false
   },
   "outputs": [
    {
     "data": {
      "text/plain": [
       "<AxesSubplot:xlabel='매장_시도', ylabel='이용금액'>"
      ]
     },
     "execution_count": 20,
     "metadata": {},
     "output_type": "execute_result"
    },
    {
     "data": {
      "image/png": "[encoded data removed]",
      "text/plain": [
       "<Figure size 1440x720 with 1 Axes>"
      ]
     },
     "metadata": {
      "needs_background": "light"
     },
     "output_type": "display_data"
    }
   ],
   "source": [
    "# 매장 주소지 별 성별별 카드 사용총액 \n",
    "\n",
    "plt.figure(figsize=(20,10))\n",
    "sns.barplot(x='매장_시도',y='이용금액',hue='성별',data=df,ci=None)"
   ]
  },
  {
   "cell_type": "code",
   "execution_count": 60,
   "metadata": {},
   "outputs": [
    {
     "data": {
      "text/plain": [
       "<AxesSubplot:xlabel='고객_시도', ylabel='이용금액'>"
      ]
     },
     "execution_count": 60,
     "metadata": {},
     "output_type": "execute_result"
    },
    {
     "data": {
      "image/png": "[encoded data removed]",
      "text/plain": [
       "<Figure size 1440x720 with 1 Axes>"
      ]
     },
     "metadata": {
      "needs_background": "light"
     },
     "output_type": "display_data"
    }
   ],
   "source": [
    "# 고객주소지 별 성별별 카드 사용총액 \n",
    "\n",
    "plt.figure(figsize=(20,10))\n",
    "sns.barplot(x='고객_시도',y='이용금액',hue='성별',data=df,ci=None)"
   ]
  },
  {
   "cell_type": "code",
   "execution_count": 16,
   "metadata": {},
   "outputs": [
    {
     "data": {
      "text/plain": [
       "<AxesSubplot:xlabel='매장_시도,성별'>"
      ]
     },
     "execution_count": 16,
     "metadata": {},
     "output_type": "execute_result"
    },
    {
     "data": {
      "image/png": "[encoded data removed]",
      "text/plain": [
       "<Figure size 1440x720 with 1 Axes>"
      ]
     },
     "metadata": {
      "needs_background": "light"
     },
     "output_type": "display_data"
    }
   ],
   "source": [
    "plt.figure(figsize=(20,10))\n",
    "df.groupby(['매장_시도','성별'])['이용금액'].sum().plot.bar(rot=0)"
   ]
  },
  {
   "cell_type": "code",
   "execution_count": 67,
   "metadata": {},
   "outputs": [
    {
     "data": {
      "text/plain": [
       "<AxesSubplot:xlabel='고객_시도,성별'>"
      ]
     },
     "execution_count": 67,
     "metadata": {},
     "output_type": "execute_result"
    },
    {
     "data": {
      "image/png": "[encoded data removed]",
      "text/plain": [
       "<Figure size 432x288 with 1 Axes>"
      ]
     },
     "metadata": {
      "needs_background": "light"
     },
     "output_type": "display_data"
    }
   ],
   "source": [
    "df.groupby(['고객_시도','성별'])['이용금액'].sum().plot.bar()"
   ]
  },
  {
   "cell_type": "markdown",
   "metadata": {},
   "source": [
    "# 인코딩"
   ]
  },
  {
   "cell_type": "code",
   "execution_count": 9,
   "metadata": {},
   "outputs": [],
   "source": [
    "# 인코딩\n",
    "dtypes = df.dtypes\n",
    "encoders = {}\n",
    "for column in df.columns:\n",
    "    if str(dtypes[column]) == 'object':\n",
    "        encoder = LabelEncoder()\n",
    "        encoder.fit(df[column])\n",
    "        encoders[column] = encoder\n",
    "        \n",
    "df_num = df.copy()        \n",
    "for column in encoders.keys():\n",
    "    encoder = encoders[column]\n",
    "    df_num[column] = encoder.transform(df[column])"
   ]
  },
  {
   "cell_type": "code",
   "execution_count": 49,
   "metadata": {},
   "outputs": [
    {
     "data": {
      "text/plain": [
       "<AxesSubplot:>"
      ]
     },
     "execution_count": 49,
     "metadata": {},
     "output_type": "execute_result"
    },
    {
     "data": {
      "image/png": "[encoded data removed]",
      "text/plain": [
       "<Figure size 720x720 with 2 Axes>"
      ]
     },
     "metadata": {
      "needs_background": "light"
     },
     "output_type": "display_data"
    }
   ],
   "source": [
    "plt.figure(figsize=(10,10))\n",
    "sns.heatmap(data = df_num.corr(), annot=True, \n",
    "fmt = '.2f', linewidths=.5, cmap='Blues')"
   ]
  },
  {
   "cell_type": "markdown",
   "metadata": {},
   "source": [
    "# 모델학습 "
   ]
  },
  {
   "cell_type": "code",
   "execution_count": 53,
   "metadata": {},
   "outputs": [],
   "source": [
    "df_test=pd.read_csv('project2\\Test.csv')"
   ]
  },
  {
   "cell_type": "code",
   "execution_count": 10,
   "metadata": {},
   "outputs": [],
   "source": [
    "# feature, target 설정\n",
    "train_num = df_num.sample(frac=1, random_state=0)\n",
    "train_features = train_num.drop(['이용고객수', '이용금액', '이용건수'], axis=1)\n",
    "train_target = np.log1p(train_num['이용금액'])"
   ]
  },
  {
   "cell_type": "code",
   "execution_count": null,
   "metadata": {
    "scrolled": true
   },
   "outputs": [],
   "source": []
  },
  {
   "cell_type": "code",
   "execution_count": 11,
   "metadata": {},
   "outputs": [
    {
     "ename": "KeyboardInterrupt",
     "evalue": "",
     "output_type": "error",
     "traceback": [
      "\u001b[1;31m---------------------------------------------------------------------------\u001b[0m",
      "\u001b[1;31mKeyboardInterrupt\u001b[0m                         Traceback (most recent call last)",
      "\u001b[1;32m<ipython-input-11-d03b1296a8cf>\u001b[0m in \u001b[0;36m<module>\u001b[1;34m\u001b[0m\n\u001b[0;32m      1\u001b[0m \u001b[1;31m# 훈련\u001b[0m\u001b[1;33m\u001b[0m\u001b[1;33m\u001b[0m\u001b[1;33m\u001b[0m\u001b[0m\n\u001b[0;32m      2\u001b[0m \u001b[0mmodel\u001b[0m \u001b[1;33m=\u001b[0m \u001b[0mRandomForestRegressor\u001b[0m\u001b[1;33m(\u001b[0m\u001b[0mn_jobs\u001b[0m\u001b[1;33m=\u001b[0m\u001b[1;33m-\u001b[0m\u001b[1;36m1\u001b[0m\u001b[1;33m,\u001b[0m \u001b[0mrandom_state\u001b[0m\u001b[1;33m=\u001b[0m\u001b[1;36m0\u001b[0m\u001b[1;33m)\u001b[0m\u001b[1;33m\u001b[0m\u001b[1;33m\u001b[0m\u001b[0m\n\u001b[1;32m----> 3\u001b[1;33m \u001b[0mmodel\u001b[0m\u001b[1;33m.\u001b[0m\u001b[0mfit\u001b[0m\u001b[1;33m(\u001b[0m\u001b[0mtrain_features\u001b[0m\u001b[1;33m,\u001b[0m \u001b[0mtrain_target\u001b[0m\u001b[1;33m)\u001b[0m\u001b[1;33m\u001b[0m\u001b[1;33m\u001b[0m\u001b[0m\n\u001b[0m",
      "\u001b[1;32mC:\\ProgramData\\Anaconda3\\lib\\site-packages\\sklearn\\ensemble\\_forest.py\u001b[0m in \u001b[0;36mfit\u001b[1;34m(self, X, y, sample_weight)\u001b[0m\n\u001b[0;32m    384\u001b[0m             \u001b[1;31m# parallel_backend contexts set at a higher level,\u001b[0m\u001b[1;33m\u001b[0m\u001b[1;33m\u001b[0m\u001b[1;33m\u001b[0m\u001b[0m\n\u001b[0;32m    385\u001b[0m             \u001b[1;31m# since correctness does not rely on using threads.\u001b[0m\u001b[1;33m\u001b[0m\u001b[1;33m\u001b[0m\u001b[1;33m\u001b[0m\u001b[0m\n\u001b[1;32m--> 386\u001b[1;33m             trees = Parallel(n_jobs=self.n_jobs, verbose=self.verbose,\n\u001b[0m\u001b[0;32m    387\u001b[0m                              \u001b[1;33m**\u001b[0m\u001b[0m_joblib_parallel_args\u001b[0m\u001b[1;33m(\u001b[0m\u001b[0mprefer\u001b[0m\u001b[1;33m=\u001b[0m\u001b[1;34m'threads'\u001b[0m\u001b[1;33m)\u001b[0m\u001b[1;33m)\u001b[0m\u001b[1;33m(\u001b[0m\u001b[1;33m\u001b[0m\u001b[1;33m\u001b[0m\u001b[0m\n\u001b[0;32m    388\u001b[0m                 delayed(_parallel_build_trees)(\n",
      "\u001b[1;32mC:\\ProgramData\\Anaconda3\\lib\\site-packages\\joblib\\parallel.py\u001b[0m in \u001b[0;36m__call__\u001b[1;34m(self, iterable)\u001b[0m\n\u001b[0;32m   1059\u001b[0m \u001b[1;33m\u001b[0m\u001b[0m\n\u001b[0;32m   1060\u001b[0m             \u001b[1;32mwith\u001b[0m \u001b[0mself\u001b[0m\u001b[1;33m.\u001b[0m\u001b[0m_backend\u001b[0m\u001b[1;33m.\u001b[0m\u001b[0mretrieval_context\u001b[0m\u001b[1;33m(\u001b[0m\u001b[1;33m)\u001b[0m\u001b[1;33m:\u001b[0m\u001b[1;33m\u001b[0m\u001b[1;33m\u001b[0m\u001b[0m\n\u001b[1;32m-> 1061\u001b[1;33m                 \u001b[0mself\u001b[0m\u001b[1;33m.\u001b[0m\u001b[0mretrieve\u001b[0m\u001b[1;33m(\u001b[0m\u001b[1;33m)\u001b[0m\u001b[1;33m\u001b[0m\u001b[1;33m\u001b[0m\u001b[0m\n\u001b[0m\u001b[0;32m   1062\u001b[0m             \u001b[1;31m# Make sure that we get a last message telling us we are done\u001b[0m\u001b[1;33m\u001b[0m\u001b[1;33m\u001b[0m\u001b[1;33m\u001b[0m\u001b[0m\n\u001b[0;32m   1063\u001b[0m             \u001b[0melapsed_time\u001b[0m \u001b[1;33m=\u001b[0m \u001b[0mtime\u001b[0m\u001b[1;33m.\u001b[0m\u001b[0mtime\u001b[0m\u001b[1;33m(\u001b[0m\u001b[1;33m)\u001b[0m \u001b[1;33m-\u001b[0m \u001b[0mself\u001b[0m\u001b[1;33m.\u001b[0m\u001b[0m_start_time\u001b[0m\u001b[1;33m\u001b[0m\u001b[1;33m\u001b[0m\u001b[0m\n",
      "\u001b[1;32mC:\\ProgramData\\Anaconda3\\lib\\site-packages\\joblib\\parallel.py\u001b[0m in \u001b[0;36mretrieve\u001b[1;34m(self)\u001b[0m\n\u001b[0;32m    938\u001b[0m             \u001b[1;32mtry\u001b[0m\u001b[1;33m:\u001b[0m\u001b[1;33m\u001b[0m\u001b[1;33m\u001b[0m\u001b[0m\n\u001b[0;32m    939\u001b[0m                 \u001b[1;32mif\u001b[0m \u001b[0mgetattr\u001b[0m\u001b[1;33m(\u001b[0m\u001b[0mself\u001b[0m\u001b[1;33m.\u001b[0m\u001b[0m_backend\u001b[0m\u001b[1;33m,\u001b[0m \u001b[1;34m'supports_timeout'\u001b[0m\u001b[1;33m,\u001b[0m \u001b[1;32mFalse\u001b[0m\u001b[1;33m)\u001b[0m\u001b[1;33m:\u001b[0m\u001b[1;33m\u001b[0m\u001b[1;33m\u001b[0m\u001b[0m\n\u001b[1;32m--> 940\u001b[1;33m                     \u001b[0mself\u001b[0m\u001b[1;33m.\u001b[0m\u001b[0m_output\u001b[0m\u001b[1;33m.\u001b[0m\u001b[0mextend\u001b[0m\u001b[1;33m(\u001b[0m\u001b[0mjob\u001b[0m\u001b[1;33m.\u001b[0m\u001b[0mget\u001b[0m\u001b[1;33m(\u001b[0m\u001b[0mtimeout\u001b[0m\u001b[1;33m=\u001b[0m\u001b[0mself\u001b[0m\u001b[1;33m.\u001b[0m\u001b[0mtimeout\u001b[0m\u001b[1;33m)\u001b[0m\u001b[1;33m)\u001b[0m\u001b[1;33m\u001b[0m\u001b[1;33m\u001b[0m\u001b[0m\n\u001b[0m\u001b[0;32m    941\u001b[0m                 \u001b[1;32melse\u001b[0m\u001b[1;33m:\u001b[0m\u001b[1;33m\u001b[0m\u001b[1;33m\u001b[0m\u001b[0m\n\u001b[0;32m    942\u001b[0m                     \u001b[0mself\u001b[0m\u001b[1;33m.\u001b[0m\u001b[0m_output\u001b[0m\u001b[1;33m.\u001b[0m\u001b[0mextend\u001b[0m\u001b[1;33m(\u001b[0m\u001b[0mjob\u001b[0m\u001b[1;33m.\u001b[0m\u001b[0mget\u001b[0m\u001b[1;33m(\u001b[0m\u001b[1;33m)\u001b[0m\u001b[1;33m)\u001b[0m\u001b[1;33m\u001b[0m\u001b[1;33m\u001b[0m\u001b[0m\n",
      "\u001b[1;32mC:\\ProgramData\\Anaconda3\\lib\\multiprocessing\\pool.py\u001b[0m in \u001b[0;36mget\u001b[1;34m(self, timeout)\u001b[0m\n\u001b[0;32m    763\u001b[0m \u001b[1;33m\u001b[0m\u001b[0m\n\u001b[0;32m    764\u001b[0m     \u001b[1;32mdef\u001b[0m \u001b[0mget\u001b[0m\u001b[1;33m(\u001b[0m\u001b[0mself\u001b[0m\u001b[1;33m,\u001b[0m \u001b[0mtimeout\u001b[0m\u001b[1;33m=\u001b[0m\u001b[1;32mNone\u001b[0m\u001b[1;33m)\u001b[0m\u001b[1;33m:\u001b[0m\u001b[1;33m\u001b[0m\u001b[1;33m\u001b[0m\u001b[0m\n\u001b[1;32m--> 765\u001b[1;33m         \u001b[0mself\u001b[0m\u001b[1;33m.\u001b[0m\u001b[0mwait\u001b[0m\u001b[1;33m(\u001b[0m\u001b[0mtimeout\u001b[0m\u001b[1;33m)\u001b[0m\u001b[1;33m\u001b[0m\u001b[1;33m\u001b[0m\u001b[0m\n\u001b[0m\u001b[0;32m    766\u001b[0m         \u001b[1;32mif\u001b[0m \u001b[1;32mnot\u001b[0m \u001b[0mself\u001b[0m\u001b[1;33m.\u001b[0m\u001b[0mready\u001b[0m\u001b[1;33m(\u001b[0m\u001b[1;33m)\u001b[0m\u001b[1;33m:\u001b[0m\u001b[1;33m\u001b[0m\u001b[1;33m\u001b[0m\u001b[0m\n\u001b[0;32m    767\u001b[0m             \u001b[1;32mraise\u001b[0m \u001b[0mTimeoutError\u001b[0m\u001b[1;33m\u001b[0m\u001b[1;33m\u001b[0m\u001b[0m\n",
      "\u001b[1;32mC:\\ProgramData\\Anaconda3\\lib\\multiprocessing\\pool.py\u001b[0m in \u001b[0;36mwait\u001b[1;34m(self, timeout)\u001b[0m\n\u001b[0;32m    760\u001b[0m \u001b[1;33m\u001b[0m\u001b[0m\n\u001b[0;32m    761\u001b[0m     \u001b[1;32mdef\u001b[0m \u001b[0mwait\u001b[0m\u001b[1;33m(\u001b[0m\u001b[0mself\u001b[0m\u001b[1;33m,\u001b[0m \u001b[0mtimeout\u001b[0m\u001b[1;33m=\u001b[0m\u001b[1;32mNone\u001b[0m\u001b[1;33m)\u001b[0m\u001b[1;33m:\u001b[0m\u001b[1;33m\u001b[0m\u001b[1;33m\u001b[0m\u001b[0m\n\u001b[1;32m--> 762\u001b[1;33m         \u001b[0mself\u001b[0m\u001b[1;33m.\u001b[0m\u001b[0m_event\u001b[0m\u001b[1;33m.\u001b[0m\u001b[0mwait\u001b[0m\u001b[1;33m(\u001b[0m\u001b[0mtimeout\u001b[0m\u001b[1;33m)\u001b[0m\u001b[1;33m\u001b[0m\u001b[1;33m\u001b[0m\u001b[0m\n\u001b[0m\u001b[0;32m    763\u001b[0m \u001b[1;33m\u001b[0m\u001b[0m\n\u001b[0;32m    764\u001b[0m     \u001b[1;32mdef\u001b[0m \u001b[0mget\u001b[0m\u001b[1;33m(\u001b[0m\u001b[0mself\u001b[0m\u001b[1;33m,\u001b[0m \u001b[0mtimeout\u001b[0m\u001b[1;33m=\u001b[0m\u001b[1;32mNone\u001b[0m\u001b[1;33m)\u001b[0m\u001b[1;33m:\u001b[0m\u001b[1;33m\u001b[0m\u001b[1;33m\u001b[0m\u001b[0m\n",
      "\u001b[1;32mC:\\ProgramData\\Anaconda3\\lib\\threading.py\u001b[0m in \u001b[0;36mwait\u001b[1;34m(self, timeout)\u001b[0m\n\u001b[0;32m    556\u001b[0m             \u001b[0msignaled\u001b[0m \u001b[1;33m=\u001b[0m \u001b[0mself\u001b[0m\u001b[1;33m.\u001b[0m\u001b[0m_flag\u001b[0m\u001b[1;33m\u001b[0m\u001b[1;33m\u001b[0m\u001b[0m\n\u001b[0;32m    557\u001b[0m             \u001b[1;32mif\u001b[0m \u001b[1;32mnot\u001b[0m \u001b[0msignaled\u001b[0m\u001b[1;33m:\u001b[0m\u001b[1;33m\u001b[0m\u001b[1;33m\u001b[0m\u001b[0m\n\u001b[1;32m--> 558\u001b[1;33m                 \u001b[0msignaled\u001b[0m \u001b[1;33m=\u001b[0m \u001b[0mself\u001b[0m\u001b[1;33m.\u001b[0m\u001b[0m_cond\u001b[0m\u001b[1;33m.\u001b[0m\u001b[0mwait\u001b[0m\u001b[1;33m(\u001b[0m\u001b[0mtimeout\u001b[0m\u001b[1;33m)\u001b[0m\u001b[1;33m\u001b[0m\u001b[1;33m\u001b[0m\u001b[0m\n\u001b[0m\u001b[0;32m    559\u001b[0m             \u001b[1;32mreturn\u001b[0m \u001b[0msignaled\u001b[0m\u001b[1;33m\u001b[0m\u001b[1;33m\u001b[0m\u001b[0m\n\u001b[0;32m    560\u001b[0m \u001b[1;33m\u001b[0m\u001b[0m\n",
      "\u001b[1;32mC:\\ProgramData\\Anaconda3\\lib\\threading.py\u001b[0m in \u001b[0;36mwait\u001b[1;34m(self, timeout)\u001b[0m\n\u001b[0;32m    300\u001b[0m         \u001b[1;32mtry\u001b[0m\u001b[1;33m:\u001b[0m    \u001b[1;31m# restore state no matter what (e.g., KeyboardInterrupt)\u001b[0m\u001b[1;33m\u001b[0m\u001b[1;33m\u001b[0m\u001b[0m\n\u001b[0;32m    301\u001b[0m             \u001b[1;32mif\u001b[0m \u001b[0mtimeout\u001b[0m \u001b[1;32mis\u001b[0m \u001b[1;32mNone\u001b[0m\u001b[1;33m:\u001b[0m\u001b[1;33m\u001b[0m\u001b[1;33m\u001b[0m\u001b[0m\n\u001b[1;32m--> 302\u001b[1;33m                 \u001b[0mwaiter\u001b[0m\u001b[1;33m.\u001b[0m\u001b[0macquire\u001b[0m\u001b[1;33m(\u001b[0m\u001b[1;33m)\u001b[0m\u001b[1;33m\u001b[0m\u001b[1;33m\u001b[0m\u001b[0m\n\u001b[0m\u001b[0;32m    303\u001b[0m                 \u001b[0mgotit\u001b[0m \u001b[1;33m=\u001b[0m \u001b[1;32mTrue\u001b[0m\u001b[1;33m\u001b[0m\u001b[1;33m\u001b[0m\u001b[0m\n\u001b[0;32m    304\u001b[0m             \u001b[1;32melse\u001b[0m\u001b[1;33m:\u001b[0m\u001b[1;33m\u001b[0m\u001b[1;33m\u001b[0m\u001b[0m\n",
      "\u001b[1;31mKeyboardInterrupt\u001b[0m: "
     ]
    }
   ],
   "source": [
    "# 훈련\n",
    "model = RandomForestRegressor(n_jobs=-1, random_state=0)\n",
    "model.fit(train_features, train_target)"
   ]
  },
  {
   "cell_type": "code",
   "execution_count": null,
   "metadata": {},
   "outputs": [],
   "source": [
    "CARD_SIDO_NMs = df_num['CARD_SIDO_NM'].unique()\n",
    "STD_CLSS_NMs  = df_num['STD_CLSS_NM'].unique()\n",
    "HOM_SIDO_NMs  = df_num['HOM_SIDO_NM'].unique()\n",
    "AGEs          = df_num['AGE'].unique()\n",
    "SEX_CTGO_CDs  = df_num['SEX_CTGO_CD'].unique()\n",
    "FLCs          = df_num['FLC'].unique()\n",
    "years         = [2020]\n",
    "months        = [4, 7]\n",
    "\n",
    "temp = []\n",
    "for CARD_SIDO_NM in CARD_SIDO_NMs:\n",
    "    for STD_CLSS_NM in STD_CLSS_NMs:\n",
    "        for HOM_SIDO_NM in HOM_SIDO_NMs:\n",
    "            for AGE in AGEs:\n",
    "                for SEX_CTGO_CD in SEX_CTGO_CDs:\n",
    "                    for FLC in FLCs:\n",
    "                        for year in years:\n",
    "                            for month in months:\n",
    "                                temp.append([CARD_SIDO_NM, STD_CLSS_NM, HOM_SIDO_NM, AGE, SEX_CTGO_CD, FLC, year, month])\n",
    "temp = np.array(temp)\n",
    "temp = pd.DataFrame(data=temp, columns=train_features.columns)"
   ]
  },
  {
   "cell_type": "code",
   "execution_count": null,
   "metadata": {},
   "outputs": [],
   "source": []
  },
  {
   "cell_type": "code",
   "execution_count": null,
   "metadata": {},
   "outputs": [],
   "source": []
  },
  {
   "cell_type": "code",
   "execution_count": null,
   "metadata": {},
   "outputs": [],
   "source": []
  },
  {
   "cell_type": "code",
   "execution_count": null,
   "metadata": {},
   "outputs": [],
   "source": []
  },
  {
   "cell_type": "code",
   "execution_count": null,
   "metadata": {},
   "outputs": [],
   "source": []
  },
  {
   "cell_type": "code",
   "execution_count": null,
   "metadata": {},
   "outputs": [],
   "source": []
  },
  {
   "cell_type": "code",
   "execution_count": null,
   "metadata": {},
   "outputs": [],
   "source": []
  },
  {
   "cell_type": "code",
   "execution_count": null,
   "metadata": {},
   "outputs": [],
   "source": []
  }
 ],
 "metadata": {
  "kernelspec": {
   "display_name": "Python 3",
   "language": "python",
   "name": "python3"
  },
  "language_info": {
   "codemirror_mode": {
    "name": "ipython",
    "version": 3
   },
   "file_extension": ".py",
   "mimetype": "text/x-python",
   "name": "python",
   "nbconvert_exporter": "python",
   "pygments_lexer": "ipython3",
   "version": "3.8.5"
  },
  "toc": {
   "base_numbering": 1,
   "nav_menu": {},
   "number_sections": true,
   "sideBar": true,
   "skip_h1_title": false,
   "title_cell": "Table of Contents",
   "title_sidebar": "Contents",
   "toc_cell": false,
   "toc_position": {
    "height": "calc(100% - 180px)",
    "left": "10px",
    "top": "150px",
    "width": "191.594px"
   },
   "toc_section_display": true,
   "toc_window_display": true
  }
 },
 "nbformat": 4,
 "nbformat_minor": 4
}
