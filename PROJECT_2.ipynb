{
 "cells": [
  {
   "cell_type": "code",
   "execution_count": 47,
   "metadata": {},
   "outputs": [],
   "source": [
    "import numpy as np\n",
    "import pandas as pd\n",
    "import matplotlib as mpl\n",
    "import matplotlib.pyplot as plt\n",
    "import matplotlib.patches as mpatches\n",
    "import matplotlib.gridspec as gridspec\n",
    "\n",
    "from matplotlib.offsetbox import AnchoredText\n",
    "from mpl_toolkits.axes_grid1 import make_axes_locatable\n",
    "\n",
    "import seaborn as sns\n",
    "import warnings\n",
    "warnings.filterwarnings(action='ignore')\n",
    "\n",
    "plt.rc(\"font\", family=\"Malgun Gothic\")"
   ]
  },
  {
   "cell_type": "markdown",
   "metadata": {},
   "source": [
    "# 디렉토리 확인 및 데이터 로드 "
   ]
  },
  {
   "cell_type": "code",
   "execution_count": 2,
   "metadata": {},
   "outputs": [
    {
     "data": {
      "text/plain": [
       "'C:\\\\Users\\\\김도연'"
      ]
     },
     "execution_count": 2,
     "metadata": {},
     "output_type": "execute_result"
    }
   ],
   "source": [
    "%pwd"
   ]
  },
  {
   "cell_type": "code",
   "execution_count": 3,
   "metadata": {},
   "outputs": [
    {
     "name": "stdout",
     "output_type": "stream",
     "text": [
      " C 드라이브의 볼륨: Windows\n",
      " 볼륨 일련 번호: 949E-3DEA\n",
      "\n",
      " C:\\Users\\김도연 디렉터리\n",
      "\n",
      "2021-02-14  오후 10:12         4,091,870  EDA of bookings and ML to predict cancelations.ipynb\n",
      "2021-02-22  오후 07:29    <DIR>          .\n",
      "2021-02-22  오후 07:29    <DIR>          ..\n",
      "2019-11-08  오후 10:04    <DIR>          .android\n",
      "2020-11-24  오후 10:39               260 .bash_history\n",
      "2021-02-01  오후 07:54    <DIR>          .conda\n",
      "2021-02-01  오후 07:47                43 .condarc\n",
      "2021-02-22  오후 02:02    <DIR>          .ipynb_checkpoints\n",
      "2020-11-10  오후 06:42    <DIR>          .ipython\n",
      "2021-02-01  오후 04:39    <DIR>          .jupyter\n",
      "2020-12-08  오후 01:27    <DIR>          .LdVirtualBox\n",
      "2021-02-03  오후 06:24    <DIR>          .matplotlib\n",
      "2021-02-13  오후 11:57         1,778,302 03-apt-price-eda-output.ipynb\n",
      "2021-02-14  오전 01:43           121,691 04-coffee-store-choropleth.html\n",
      "2021-02-14  오전 12:17            29,035 04-coffee-store-input.ipynb\n",
      "2021-02-14  오전 01:44         4,569,648 04-coffee-store-output.ipynb\n",
      "2021-02-18  오후 04:20         3,620,515 0601 plotly로 일별 시세 시각화-input.ipynb\n",
      "2021-02-17  오후 07:13            22,766 0601 plotly로 일별 시세 시각화-output.ipynb\n",
      "2021-02-18  오후 04:46         2,464,664 0602 이동평균과 볼린저 밴드.ipynb\n",
      "2021-02-18  오후 05:07            19,456 0603 mplfinance 로 기술적 분석하기.ipynb\n",
      "2021-02-17  오후 07:13             4,761 0604 cufflinks 로 QuantFig 그리기.ipynb\n",
      "2021-02-22  오후 04:58         1,014,202 07-RFM, Cohort Analysis and Customer Segmentation.ipynb\n",
      "2021-02-07  오후 03:19         2,028,783 2_data.csv\n",
      "2019-05-05  오후 10:14    <DIR>          3D Objects\n",
      "2020-07-25  오후 12:24    <DIR>          AppData\n",
      "2017-07-02  오후 06:25    <DIR>          Autodesk\n",
      "2021-02-14  오후 04:22    <DIR>          bike sharing demand\n",
      "2021-02-14  오후 05:51           480,561 Bike Sharing Demand.ipynb\n",
      "2020-07-03  오전 04:04     2,230,931,857 Card.csv\n",
      "2021-02-21  오후 10:36         1,077,170 Comprehensive data exploration with Python.ipynb\n",
      "2019-05-05  오후 10:14    <DIR>          Contacts\n",
      "2021-02-17  오후 07:47    <DIR>          credit_card\n",
      "2019-11-08  오후 11:38               300 d4ac4633ebd6440fa397b84f1bc94a3c.7z\n",
      "2021-02-08  오후 01:06    <DIR>          data\n",
      "2021-02-20  오후 08:03         4,002,104 Deep Reinforcement Learning on Stock Data.ipynb\n",
      "2021-02-17  오후 07:41    <DIR>          Desktop\n",
      "2021-02-01  오후 06:09    <DIR>          Documents\n",
      "2021-02-22  오후 02:07    <DIR>          Downloads\n",
      "2021-02-06  오후 11:27         1,033,841 EDA To Prediction(DieTanic).ipynb\n",
      "2019-05-05  오후 10:14    <DIR>          Favorites\n",
      "2021-02-17  오후 07:48    <DIR>          finance\n",
      "2021-02-04  오후 08:24            87,880 foo.csv\n",
      "2021-02-04  오후 08:25            47,240 foo.h5\n",
      "2020-02-14  오후 09:01                29 Foxit Reader SDK ActiveX.ini\n",
      "2021-02-17  오후 03:14           808,315 FRED 경기 선행지표.ipynb\n",
      "2021-02-06  오후 07:11             3,258 gender_submission.csv\n",
      "2021-02-07  오후 07:00         1,628,928 GIDCC_COVID19.ipynb\n",
      "2021-02-14  오후 07:11    <DIR>          hotel booking\n",
      "2021-02-20  오후 08:13    <DIR>          House Prices\n",
      "2019-09-19  오후 05:25                66 inittk.ini\n",
      "2021-02-18  오후 08:43    <DIR>          input\n",
      "2019-09-19  오후 05:25                41 inst.ini\n",
      "2020-11-17  오후 05:04        25,431,748 kaggle_survey_2020_responses.csv\n",
      "2021-02-04  오후 02:08         3,722,594 kaggle-2020-visualization-analysis.ipynb\n",
      "2020-06-06  오후 04:56            15,681 KCase.log\n",
      "2020-02-08  오전 01:54    <DIR>          Links\n",
      "2021-02-16  오후 10:20            21,621 mpg\n",
      "2019-05-05  오후 10:14    <DIR>          Music\n",
      "2021-02-13  오후 09:45            19,303 ND-파이썬기초-과제1.ipynb\n",
      "2021-02-13  오후 10:56            43,328 ND-파이썬기초-과제2.ipynb\n",
      "2021-02-14  오후 06:22           154,873 ND-파이썬기초-과제3.ipynb\n",
      "2021-02-17  오후 02:04           106,141 ND-파이썬기초-과제4.ipynb\n",
      "2021-02-18  오후 08:34           140,508 ND-파이썬기초-과제5.ipynb\n",
      "2019-09-19  오후 05:25    <DIR>          Nox_share\n",
      "2019-09-19  오후 05:25                45 nuuid.ini\n",
      "2020-07-25  오후 12:40    <DIR>          OneDrive\n",
      "2019-05-05  오후 10:14    <DIR>          Pictures\n",
      "2021-02-22  오후 07:29            36,336 PROJECT_2.ipynb\n",
      "2021-02-17  오후 04:58            41,539 samsung.png\n",
      "2021-01-30  오후 11:40    <DIR>          Saved Games\n",
      "2021-02-18  오후 05:12    <DIR>          seaborn-data\n",
      "2019-05-05  오후 10:14    <DIR>          Searches\n",
      "2019-02-02  오후 03:53            57,732 seoul_municipalities_geo_simple.json\n",
      "2021-02-04  오후 01:43           532,463 seoul-covid19-11_28_.csv\n",
      "2021-02-06  오후 07:11            28,629 test.csv\n",
      "2021-02-06  오후 07:11            61,194 train.csv\n",
      "2021-02-16  오후 05:27             2,034 Untitled.ipynb\n",
      "2021-02-17  오후 09:31           108,972 Untitled1.ipynb\n",
      "2021-02-18  오후 02:08         3,615,130 Untitled2.ipynb\n",
      "2019-09-19  오후 05:25                53 useruid.ini\n",
      "2021-02-22  오전 12:11    <DIR>          Videos\n",
      "2021-02-17  오후 03:56           397,431 VIX 지수와 관련 종목.ipynb\n",
      "2019-11-08  오후 10:04    <DIR>          vmlogs\n",
      "2021-02-17  오후 04:53             7,205 기간별수익률데이터(2019.12.30).xlsx\n",
      "2020-01-07  오후 11:18       264,920,940 상가업소정보_201912_01.csv\n",
      "2021-02-17  오후 04:54           146,303 섹터 평균 수익률과 개별 종목의 수익률 구하기.ipynb\n",
      "2021-02-17  오후 05:04            59,856 수정주가.ipynb\n",
      "2021-02-17  오후 05:19           414,434 여러 종목의 가격을 한번에.ipynb\n",
      "2019-04-09  오후 07:19            14,336 이력서.hwp\n",
      "2019-10-18  오전 12:40             2,163 전국 평균 분양가격(2013년 9월부터 2015년 8월까지).csv\n",
      "2021-02-15  오후 05:52            31,068 종목 뉴스 게시판 정보 가져오기.ipynb\n",
      "2020-02-28  오후 02:13           162,510 주택도시보증공사_전국 평균 분양가격(2019년 12월).csv\n",
      "2019-10-18  오전 12:42           149,663 주택도시보증공사_전국 평균 분양가격(2019년 8월)_20190917.csv\n",
      "2021-02-02  오후 02:35             1,187 주피터 노트북 사용법.ipynb\n",
      "2021-02-04  오후 08:26           308,771 판다스 10분 완성.ipynb\n",
      "              61개 파일       2,560,623,377 바이트\n",
      "              34개 디렉터리  22,991,867,904 바이트 남음\n"
     ]
    }
   ],
   "source": [
    "%ls "
   ]
  },
  {
   "cell_type": "code",
   "execution_count": 4,
   "metadata": {},
   "outputs": [
    {
     "data": {
      "text/plain": [
       "(24697792, 12)"
      ]
     },
     "execution_count": 4,
     "metadata": {},
     "output_type": "execute_result"
    }
   ],
   "source": [
    "df = pd.read_csv(\"Card.csv\")\n",
    "df.shape"
   ]
  },
  {
   "cell_type": "markdown",
   "metadata": {},
   "source": [
    "# 데이터 메모리 최소화 작업"
   ]
  },
  {
   "cell_type": "code",
   "execution_count": 5,
   "metadata": {},
   "outputs": [
    {
     "name": "stdout",
     "output_type": "stream",
     "text": [
      "<class 'pandas.core.frame.DataFrame'>\n",
      "RangeIndex: 24697792 entries, 0 to 24697791\n",
      "Data columns (total 12 columns):\n",
      " #   Column        Dtype \n",
      "---  ------        ----- \n",
      " 0   REG_YYMM      int64 \n",
      " 1   CARD_SIDO_NM  object\n",
      " 2   CARD_CCG_NM   object\n",
      " 3   STD_CLSS_NM   object\n",
      " 4   HOM_SIDO_NM   object\n",
      " 5   HOM_CCG_NM    object\n",
      " 6   AGE           object\n",
      " 7   SEX_CTGO_CD   int64 \n",
      " 8   FLC           int64 \n",
      " 9   CSTMR_CNT     int64 \n",
      " 10  AMT           int64 \n",
      " 11  CNT           int64 \n",
      "dtypes: int64(6), object(6)\n",
      "memory usage: 2.2+ GB\n"
     ]
    }
   ],
   "source": [
    "df.info()"
   ]
  },
  {
   "cell_type": "code",
   "execution_count": 6,
   "metadata": {},
   "outputs": [],
   "source": [
    "df['SEX_CTGO_CD']=df['SEX_CTGO_CD'].astype('category')"
   ]
  },
  {
   "cell_type": "code",
   "execution_count": 7,
   "metadata": {},
   "outputs": [],
   "source": [
    "df['CNT']=df['CNT'].astype('int32')"
   ]
  },
  {
   "cell_type": "code",
   "execution_count": 8,
   "metadata": {},
   "outputs": [],
   "source": [
    "df['FLC']=df['FLC'].astype('category')"
   ]
  },
  {
   "cell_type": "code",
   "execution_count": 9,
   "metadata": {},
   "outputs": [],
   "source": [
    "df['CSTMR_CNT']=df['CSTMR_CNT'].astype('int32')"
   ]
  },
  {
   "cell_type": "code",
   "execution_count": 10,
   "metadata": {},
   "outputs": [],
   "source": [
    "df['REG_YYMM']=df['REG_YYMM'].astype('int32')"
   ]
  },
  {
   "cell_type": "code",
   "execution_count": 11,
   "metadata": {},
   "outputs": [],
   "source": [
    "pd.options.display.float_format = '{:.2f}'.format"
   ]
  },
  {
   "cell_type": "code",
   "execution_count": 12,
   "metadata": {
    "scrolled": true
   },
   "outputs": [
    {
     "data": {
      "text/html": [
       "<div>\n",
       "<style scoped>\n",
       "    .dataframe tbody tr th:only-of-type {\n",
       "        vertical-align: middle;\n",
       "    }\n",
       "\n",
       "    .dataframe tbody tr th {\n",
       "        vertical-align: top;\n",
       "    }\n",
       "\n",
       "    .dataframe thead th {\n",
       "        text-align: right;\n",
       "    }\n",
       "</style>\n",
       "<table border=\"1\" class=\"dataframe\">\n",
       "  <thead>\n",
       "    <tr style=\"text-align: right;\">\n",
       "      <th></th>\n",
       "      <th>REG_YYMM</th>\n",
       "      <th>CSTMR_CNT</th>\n",
       "      <th>AMT</th>\n",
       "      <th>CNT</th>\n",
       "    </tr>\n",
       "  </thead>\n",
       "  <tbody>\n",
       "    <tr>\n",
       "      <th>count</th>\n",
       "      <td>24697792.00</td>\n",
       "      <td>24697792.00</td>\n",
       "      <td>24697792.00</td>\n",
       "      <td>24697792.00</td>\n",
       "    </tr>\n",
       "    <tr>\n",
       "      <th>mean</th>\n",
       "      <td>201923.06</td>\n",
       "      <td>61.97</td>\n",
       "      <td>2441352.94</td>\n",
       "      <td>126.04</td>\n",
       "    </tr>\n",
       "    <tr>\n",
       "      <th>std</th>\n",
       "      <td>36.20</td>\n",
       "      <td>355.92</td>\n",
       "      <td>17260959.04</td>\n",
       "      <td>966.94</td>\n",
       "    </tr>\n",
       "    <tr>\n",
       "      <th>min</th>\n",
       "      <td>201901.00</td>\n",
       "      <td>3.00</td>\n",
       "      <td>20.00</td>\n",
       "      <td>1.00</td>\n",
       "    </tr>\n",
       "    <tr>\n",
       "      <th>25%</th>\n",
       "      <td>201904.00</td>\n",
       "      <td>4.00</td>\n",
       "      <td>90200.00</td>\n",
       "      <td>5.00</td>\n",
       "    </tr>\n",
       "    <tr>\n",
       "      <th>50%</th>\n",
       "      <td>201908.00</td>\n",
       "      <td>8.00</td>\n",
       "      <td>252680.00</td>\n",
       "      <td>12.00</td>\n",
       "    </tr>\n",
       "    <tr>\n",
       "      <th>75%</th>\n",
       "      <td>201911.00</td>\n",
       "      <td>24.00</td>\n",
       "      <td>843337.25</td>\n",
       "      <td>40.00</td>\n",
       "    </tr>\n",
       "    <tr>\n",
       "      <th>max</th>\n",
       "      <td>202003.00</td>\n",
       "      <td>32813.00</td>\n",
       "      <td>2349523701.00</td>\n",
       "      <td>120357.00</td>\n",
       "    </tr>\n",
       "  </tbody>\n",
       "</table>\n",
       "</div>"
      ],
      "text/plain": [
       "         REG_YYMM   CSTMR_CNT           AMT         CNT\n",
       "count 24697792.00 24697792.00   24697792.00 24697792.00\n",
       "mean    201923.06       61.97    2441352.94      126.04\n",
       "std         36.20      355.92   17260959.04      966.94\n",
       "min     201901.00        3.00         20.00        1.00\n",
       "25%     201904.00        4.00      90200.00        5.00\n",
       "50%     201908.00        8.00     252680.00       12.00\n",
       "75%     201911.00       24.00     843337.25       40.00\n",
       "max     202003.00    32813.00 2349523701.00   120357.00"
      ]
     },
     "execution_count": 12,
     "metadata": {},
     "output_type": "execute_result"
    }
   ],
   "source": [
    "df.describe()"
   ]
  },
  {
   "cell_type": "code",
   "execution_count": 22,
   "metadata": {},
   "outputs": [
    {
     "name": "stdout",
     "output_type": "stream",
     "text": [
      "<class 'pandas.core.frame.DataFrame'>\n",
      "RangeIndex: 24697792 entries, 0 to 24697791\n",
      "Data columns (total 12 columns):\n",
      " #   Column        Dtype   \n",
      "---  ------        -----   \n",
      " 0   REG_YYMM      int32   \n",
      " 1   CARD_SIDO_NM  object  \n",
      " 2   CARD_CCG_NM   object  \n",
      " 3   STD_CLSS_NM   object  \n",
      " 4   HOM_SIDO_NM   object  \n",
      " 5   HOM_CCG_NM    object  \n",
      " 6   AGE           object  \n",
      " 7   SEX_CTGO_CD   category\n",
      " 8   FLC           category\n",
      " 9   CSTMR_CNT     int32   \n",
      " 10  AMT           int64   \n",
      " 11  CNT           int32   \n",
      "dtypes: category(2), int32(3), int64(1), object(6)\n",
      "memory usage: 1.6+ GB\n"
     ]
    }
   ],
   "source": [
    "df.info()"
   ]
  },
  {
   "cell_type": "markdown",
   "metadata": {},
   "source": [
    "# 결측치 처리 "
   ]
  },
  {
   "cell_type": "code",
   "execution_count": 13,
   "metadata": {
    "scrolled": true
   },
   "outputs": [
    {
     "data": {
      "text/plain": [
       "REG_YYMM             0\n",
       "CARD_SIDO_NM         0\n",
       "CARD_CCG_NM      87213\n",
       "STD_CLSS_NM          0\n",
       "HOM_SIDO_NM          0\n",
       "HOM_CCG_NM      147787\n",
       "AGE                  0\n",
       "SEX_CTGO_CD          0\n",
       "FLC                  0\n",
       "CSTMR_CNT            0\n",
       "AMT                  0\n",
       "CNT                  0\n",
       "dtype: int64"
      ]
     },
     "execution_count": 13,
     "metadata": {},
     "output_type": "execute_result"
    }
   ],
   "source": [
    "df.isnull().sum()"
   ]
  },
  {
   "cell_type": "code",
   "execution_count": 14,
   "metadata": {
    "scrolled": true
   },
   "outputs": [
    {
     "data": {
      "text/plain": [
       "<AxesSubplot:>"
      ]
     },
     "execution_count": 14,
     "metadata": {},
     "output_type": "execute_result"
    },
    {
     "data": {
      "image/png": "[encoded data removed]",
      "text/plain": [
       "<Figure size 432x288 with 1 Axes>"
      ]
     },
     "metadata": {
      "needs_background": "light"
     },
     "output_type": "display_data"
    }
   ],
   "source": [
    "df.isnull().sum().plot.barh()"
   ]
  },
  {
   "cell_type": "code",
   "execution_count": 15,
   "metadata": {},
   "outputs": [
    {
     "data": {
      "text/plain": [
       "세종    147787\n",
       "Name: HOM_SIDO_NM, dtype: int64"
      ]
     },
     "execution_count": 15,
     "metadata": {},
     "output_type": "execute_result"
    }
   ],
   "source": [
    "df[df['HOM_CCG_NM'].isnull()]['HOM_SIDO_NM'].value_counts()"
   ]
  },
  {
   "cell_type": "code",
   "execution_count": 16,
   "metadata": {},
   "outputs": [],
   "source": [
    "df['HOM_CCG_NM']=df['HOM_CCG_NM'].fillna('세종시')"
   ]
  },
  {
   "cell_type": "code",
   "execution_count": 17,
   "metadata": {},
   "outputs": [
    {
     "data": {
      "text/plain": [
       "REG_YYMM            0\n",
       "CARD_SIDO_NM        0\n",
       "CARD_CCG_NM     87213\n",
       "STD_CLSS_NM         0\n",
       "HOM_SIDO_NM         0\n",
       "HOM_CCG_NM          0\n",
       "AGE                 0\n",
       "SEX_CTGO_CD         0\n",
       "FLC                 0\n",
       "CSTMR_CNT           0\n",
       "AMT                 0\n",
       "CNT                 0\n",
       "dtype: int64"
      ]
     },
     "execution_count": 17,
     "metadata": {},
     "output_type": "execute_result"
    }
   ],
   "source": [
    "df.isnull().sum()"
   ]
  },
  {
   "cell_type": "code",
   "execution_count": 18,
   "metadata": {},
   "outputs": [
    {
     "data": {
      "text/plain": [
       "세종    87213\n",
       "Name: CARD_SIDO_NM, dtype: int64"
      ]
     },
     "execution_count": 18,
     "metadata": {},
     "output_type": "execute_result"
    }
   ],
   "source": [
    "df[df['CARD_CCG_NM'].isnull()]['CARD_SIDO_NM'].value_counts()"
   ]
  },
  {
   "cell_type": "code",
   "execution_count": 19,
   "metadata": {},
   "outputs": [],
   "source": [
    "df['CARD_CCG_NM']=df['CARD_CCG_NM'].fillna('세종시')"
   ]
  },
  {
   "cell_type": "code",
   "execution_count": 20,
   "metadata": {
    "scrolled": true
   },
   "outputs": [
    {
     "data": {
      "text/plain": [
       "REG_YYMM        0\n",
       "CARD_SIDO_NM    0\n",
       "CARD_CCG_NM     0\n",
       "STD_CLSS_NM     0\n",
       "HOM_SIDO_NM     0\n",
       "HOM_CCG_NM      0\n",
       "AGE             0\n",
       "SEX_CTGO_CD     0\n",
       "FLC             0\n",
       "CSTMR_CNT       0\n",
       "AMT             0\n",
       "CNT             0\n",
       "dtype: int64"
      ]
     },
     "execution_count": 20,
     "metadata": {},
     "output_type": "execute_result"
    }
   ],
   "source": [
    "df.isnull().sum()"
   ]
  },
  {
   "cell_type": "markdown",
   "metadata": {},
   "source": [
    "# 이상치 확인"
   ]
  },
  {
   "cell_type": "code",
   "execution_count": 21,
   "metadata": {},
   "outputs": [
    {
     "data": {
      "text/html": [
       "<div>\n",
       "<style scoped>\n",
       "    .dataframe tbody tr th:only-of-type {\n",
       "        vertical-align: middle;\n",
       "    }\n",
       "\n",
       "    .dataframe tbody tr th {\n",
       "        vertical-align: top;\n",
       "    }\n",
       "\n",
       "    .dataframe thead th {\n",
       "        text-align: right;\n",
       "    }\n",
       "</style>\n",
       "<table border=\"1\" class=\"dataframe\">\n",
       "  <thead>\n",
       "    <tr style=\"text-align: right;\">\n",
       "      <th></th>\n",
       "      <th>REG_YYMM</th>\n",
       "      <th>CSTMR_CNT</th>\n",
       "      <th>AMT</th>\n",
       "      <th>CNT</th>\n",
       "    </tr>\n",
       "  </thead>\n",
       "  <tbody>\n",
       "    <tr>\n",
       "      <th>count</th>\n",
       "      <td>24697792.00</td>\n",
       "      <td>24697792.00</td>\n",
       "      <td>24697792.00</td>\n",
       "      <td>24697792.00</td>\n",
       "    </tr>\n",
       "    <tr>\n",
       "      <th>mean</th>\n",
       "      <td>201923.06</td>\n",
       "      <td>61.97</td>\n",
       "      <td>2441352.94</td>\n",
       "      <td>126.04</td>\n",
       "    </tr>\n",
       "    <tr>\n",
       "      <th>std</th>\n",
       "      <td>36.20</td>\n",
       "      <td>355.92</td>\n",
       "      <td>17260959.04</td>\n",
       "      <td>966.94</td>\n",
       "    </tr>\n",
       "    <tr>\n",
       "      <th>min</th>\n",
       "      <td>201901.00</td>\n",
       "      <td>3.00</td>\n",
       "      <td>20.00</td>\n",
       "      <td>1.00</td>\n",
       "    </tr>\n",
       "    <tr>\n",
       "      <th>25%</th>\n",
       "      <td>201904.00</td>\n",
       "      <td>4.00</td>\n",
       "      <td>90200.00</td>\n",
       "      <td>5.00</td>\n",
       "    </tr>\n",
       "    <tr>\n",
       "      <th>50%</th>\n",
       "      <td>201908.00</td>\n",
       "      <td>8.00</td>\n",
       "      <td>252680.00</td>\n",
       "      <td>12.00</td>\n",
       "    </tr>\n",
       "    <tr>\n",
       "      <th>75%</th>\n",
       "      <td>201911.00</td>\n",
       "      <td>24.00</td>\n",
       "      <td>843337.25</td>\n",
       "      <td>40.00</td>\n",
       "    </tr>\n",
       "    <tr>\n",
       "      <th>max</th>\n",
       "      <td>202003.00</td>\n",
       "      <td>32813.00</td>\n",
       "      <td>2349523701.00</td>\n",
       "      <td>120357.00</td>\n",
       "    </tr>\n",
       "  </tbody>\n",
       "</table>\n",
       "</div>"
      ],
      "text/plain": [
       "         REG_YYMM   CSTMR_CNT           AMT         CNT\n",
       "count 24697792.00 24697792.00   24697792.00 24697792.00\n",
       "mean    201923.06       61.97    2441352.94      126.04\n",
       "std         36.20      355.92   17260959.04      966.94\n",
       "min     201901.00        3.00         20.00        1.00\n",
       "25%     201904.00        4.00      90200.00        5.00\n",
       "50%     201908.00        8.00     252680.00       12.00\n",
       "75%     201911.00       24.00     843337.25       40.00\n",
       "max     202003.00    32813.00 2349523701.00   120357.00"
      ]
     },
     "execution_count": 21,
     "metadata": {},
     "output_type": "execute_result"
    }
   ],
   "source": [
    "df.describe()"
   ]
  },
  {
   "cell_type": "code",
   "execution_count": 23,
   "metadata": {},
   "outputs": [
    {
     "data": {
      "text/html": [
       "<div>\n",
       "<style scoped>\n",
       "    .dataframe tbody tr th:only-of-type {\n",
       "        vertical-align: middle;\n",
       "    }\n",
       "\n",
       "    .dataframe tbody tr th {\n",
       "        vertical-align: top;\n",
       "    }\n",
       "\n",
       "    .dataframe thead th {\n",
       "        text-align: right;\n",
       "    }\n",
       "</style>\n",
       "<table border=\"1\" class=\"dataframe\">\n",
       "  <thead>\n",
       "    <tr style=\"text-align: right;\">\n",
       "      <th></th>\n",
       "      <th>REG_YYMM</th>\n",
       "      <th>CARD_SIDO_NM</th>\n",
       "      <th>CARD_CCG_NM</th>\n",
       "      <th>STD_CLSS_NM</th>\n",
       "      <th>HOM_SIDO_NM</th>\n",
       "      <th>HOM_CCG_NM</th>\n",
       "      <th>AGE</th>\n",
       "      <th>SEX_CTGO_CD</th>\n",
       "      <th>FLC</th>\n",
       "      <th>CSTMR_CNT</th>\n",
       "      <th>AMT</th>\n",
       "      <th>CNT</th>\n",
       "    </tr>\n",
       "  </thead>\n",
       "  <tbody>\n",
       "    <tr>\n",
       "      <th>0</th>\n",
       "      <td>201901</td>\n",
       "      <td>강원</td>\n",
       "      <td>강릉시</td>\n",
       "      <td>건강보조식품 소매업</td>\n",
       "      <td>강원</td>\n",
       "      <td>강릉시</td>\n",
       "      <td>20s</td>\n",
       "      <td>1</td>\n",
       "      <td>1</td>\n",
       "      <td>4</td>\n",
       "      <td>311200</td>\n",
       "      <td>4</td>\n",
       "    </tr>\n",
       "  </tbody>\n",
       "</table>\n",
       "</div>"
      ],
      "text/plain": [
       "   REG_YYMM CARD_SIDO_NM CARD_CCG_NM STD_CLSS_NM HOM_SIDO_NM HOM_CCG_NM  AGE  \\\n",
       "0    201901           강원         강릉시  건강보조식품 소매업          강원        강릉시  20s   \n",
       "\n",
       "  SEX_CTGO_CD FLC  CSTMR_CNT     AMT  CNT  \n",
       "0           1   1          4  311200    4  "
      ]
     },
     "execution_count": 23,
     "metadata": {},
     "output_type": "execute_result"
    }
   ],
   "source": [
    "df.head(1)"
   ]
  },
  {
   "cell_type": "code",
   "execution_count": null,
   "metadata": {},
   "outputs": [],
   "source": []
  },
  {
   "cell_type": "code",
   "execution_count": null,
   "metadata": {},
   "outputs": [],
   "source": []
  },
  {
   "cell_type": "code",
   "execution_count": null,
   "metadata": {},
   "outputs": [],
   "source": []
  },
  {
   "cell_type": "code",
   "execution_count": null,
   "metadata": {},
   "outputs": [],
   "source": []
  },
  {
   "cell_type": "code",
   "execution_count": null,
   "metadata": {},
   "outputs": [],
   "source": []
  },
  {
   "cell_type": "code",
   "execution_count": null,
   "metadata": {},
   "outputs": [],
   "source": []
  },
  {
   "cell_type": "code",
   "execution_count": null,
   "metadata": {},
   "outputs": [],
   "source": []
  },
  {
   "cell_type": "code",
   "execution_count": null,
   "metadata": {},
   "outputs": [],
   "source": []
  },
  {
   "cell_type": "markdown",
   "metadata": {},
   "source": [
    "# EDA"
   ]
  },
  {
   "cell_type": "code",
   "execution_count": 50,
   "metadata": {
    "scrolled": true
   },
   "outputs": [
    {
     "data": {
      "text/plain": [
       "<AxesSubplot:xlabel='CARD_SIDO_NM'>"
      ]
     },
     "execution_count": 50,
     "metadata": {},
     "output_type": "execute_result"
    },
    {
     "data": {
      "image/png": "[encoded data removed]",
      "text/plain": [
       "<Figure size 1440x720 with 1 Axes>"
      ]
     },
     "metadata": {
      "needs_background": "light"
     },
     "output_type": "display_data"
    }
   ],
   "source": [
    "df.groupby('CARD_SIDO_NM')['AMT'].sum().plot.bar(figsize=(20,10))"
   ]
  },
  {
   "cell_type": "code",
   "execution_count": 51,
   "metadata": {},
   "outputs": [
    {
     "ename": "ValueError",
     "evalue": "Cannot pass values for both `x` and `y`",
     "output_type": "error",
     "traceback": [
      "\u001b[1;31m---------------------------------------------------------------------------\u001b[0m",
      "\u001b[1;31mValueError\u001b[0m                                Traceback (most recent call last)",
      "\u001b[1;32m<ipython-input-51-24cddd02fba4>\u001b[0m in \u001b[0;36m<module>\u001b[1;34m\u001b[0m\n\u001b[1;32m----> 1\u001b[1;33m \u001b[0msns\u001b[0m\u001b[1;33m.\u001b[0m\u001b[0mcountplot\u001b[0m\u001b[1;33m(\u001b[0m\u001b[0mx\u001b[0m\u001b[1;33m=\u001b[0m\u001b[1;34m'CARD_SIDO_NM'\u001b[0m\u001b[1;33m,\u001b[0m\u001b[0my\u001b[0m\u001b[1;33m=\u001b[0m\u001b[1;34m'AMT'\u001b[0m\u001b[1;33m,\u001b[0m\u001b[0mdata\u001b[0m\u001b[1;33m=\u001b[0m\u001b[0mdf\u001b[0m\u001b[1;33m)\u001b[0m\u001b[1;33m\u001b[0m\u001b[1;33m\u001b[0m\u001b[0m\n\u001b[0m",
      "\u001b[1;32mC:\\ProgramData\\Anaconda3\\lib\\site-packages\\seaborn\\_decorators.py\u001b[0m in \u001b[0;36minner_f\u001b[1;34m(*args, **kwargs)\u001b[0m\n\u001b[0;32m     44\u001b[0m             )\n\u001b[0;32m     45\u001b[0m         \u001b[0mkwargs\u001b[0m\u001b[1;33m.\u001b[0m\u001b[0mupdate\u001b[0m\u001b[1;33m(\u001b[0m\u001b[1;33m{\u001b[0m\u001b[0mk\u001b[0m\u001b[1;33m:\u001b[0m \u001b[0marg\u001b[0m \u001b[1;32mfor\u001b[0m \u001b[0mk\u001b[0m\u001b[1;33m,\u001b[0m \u001b[0marg\u001b[0m \u001b[1;32min\u001b[0m \u001b[0mzip\u001b[0m\u001b[1;33m(\u001b[0m\u001b[0msig\u001b[0m\u001b[1;33m.\u001b[0m\u001b[0mparameters\u001b[0m\u001b[1;33m,\u001b[0m \u001b[0margs\u001b[0m\u001b[1;33m)\u001b[0m\u001b[1;33m}\u001b[0m\u001b[1;33m)\u001b[0m\u001b[1;33m\u001b[0m\u001b[1;33m\u001b[0m\u001b[0m\n\u001b[1;32m---> 46\u001b[1;33m         \u001b[1;32mreturn\u001b[0m \u001b[0mf\u001b[0m\u001b[1;33m(\u001b[0m\u001b[1;33m**\u001b[0m\u001b[0mkwargs\u001b[0m\u001b[1;33m)\u001b[0m\u001b[1;33m\u001b[0m\u001b[1;33m\u001b[0m\u001b[0m\n\u001b[0m\u001b[0;32m     47\u001b[0m     \u001b[1;32mreturn\u001b[0m \u001b[0minner_f\u001b[0m\u001b[1;33m\u001b[0m\u001b[1;33m\u001b[0m\u001b[0m\n\u001b[0;32m     48\u001b[0m \u001b[1;33m\u001b[0m\u001b[0m\n",
      "\u001b[1;32mC:\\ProgramData\\Anaconda3\\lib\\site-packages\\seaborn\\categorical.py\u001b[0m in \u001b[0;36mcountplot\u001b[1;34m(x, y, hue, data, order, hue_order, orient, color, palette, saturation, dodge, ax, **kwargs)\u001b[0m\n\u001b[0;32m   3581\u001b[0m         \u001b[0my\u001b[0m \u001b[1;33m=\u001b[0m \u001b[0mx\u001b[0m\u001b[1;33m\u001b[0m\u001b[1;33m\u001b[0m\u001b[0m\n\u001b[0;32m   3582\u001b[0m     \u001b[1;32melif\u001b[0m \u001b[0mx\u001b[0m \u001b[1;32mis\u001b[0m \u001b[1;32mnot\u001b[0m \u001b[1;32mNone\u001b[0m \u001b[1;32mand\u001b[0m \u001b[0my\u001b[0m \u001b[1;32mis\u001b[0m \u001b[1;32mnot\u001b[0m \u001b[1;32mNone\u001b[0m\u001b[1;33m:\u001b[0m\u001b[1;33m\u001b[0m\u001b[1;33m\u001b[0m\u001b[0m\n\u001b[1;32m-> 3583\u001b[1;33m         \u001b[1;32mraise\u001b[0m \u001b[0mValueError\u001b[0m\u001b[1;33m(\u001b[0m\u001b[1;34m\"Cannot pass values for both `x` and `y`\"\u001b[0m\u001b[1;33m)\u001b[0m\u001b[1;33m\u001b[0m\u001b[1;33m\u001b[0m\u001b[0m\n\u001b[0m\u001b[0;32m   3584\u001b[0m \u001b[1;33m\u001b[0m\u001b[0m\n\u001b[0;32m   3585\u001b[0m     plotter = _CountPlotter(\n",
      "\u001b[1;31mValueError\u001b[0m: Cannot pass values for both `x` and `y`"
     ]
    }
   ],
   "source": [
    "sns.countplot(x='CARD_SIDO_NM',y='AMT',data=df)"
   ]
  },
  {
   "cell_type": "code",
   "execution_count": null,
   "metadata": {},
   "outputs": [],
   "source": []
  }
 ],
 "metadata": {
  "kernelspec": {
   "display_name": "Python 3",
   "language": "python",
   "name": "python3"
  },
  "language_info": {
   "codemirror_mode": {
    "name": "ipython",
    "version": 3
   },
   "file_extension": ".py",
   "mimetype": "text/x-python",
   "name": "python",
   "nbconvert_exporter": "python",
   "pygments_lexer": "ipython3",
   "version": "3.8.5"
  },
  "toc": {
   "base_numbering": 1,
   "nav_menu": {},
   "number_sections": true,
   "sideBar": true,
   "skip_h1_title": false,
   "title_cell": "Table of Contents",
   "title_sidebar": "Contents",
   "toc_cell": false,
   "toc_position": {},
   "toc_section_display": true,
   "toc_window_display": false
  }
 },
 "nbformat": 4,
 "nbformat_minor": 4
}
