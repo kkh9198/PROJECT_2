{
 "cells": [
  {
   "cell_type": "code",
   "execution_count": 36,
   "metadata": {},
   "outputs": [],
   "source": [
    "import numpy as np\n",
    "import pandas as pd\n",
    "import matplotlib as mpl\n",
    "import matplotlib.pyplot as plt\n",
    "import matplotlib.patches as mpatches\n",
    "import matplotlib.gridspec as gridspec\n",
    "import statsmodels.api as sm\n",
    "\n",
    "import sklearn\n",
    "from sklearn.ensemble import RandomForestRegressor\n",
    "from sklearn.preprocessing import LabelEncoder\n",
    "\n",
    "from matplotlib.offsetbox import AnchoredText\n",
    "from mpl_toolkits.axes_grid1 import make_axes_locatable\n",
    "\n",
    "import seaborn as sns\n",
    "import warnings\n",
    "warnings.filterwarnings(action='ignore')\n",
    "\n",
    "plt.rc(\"font\", family=\"Malgun Gothic\")\n",
    "plt.rc(\"axes\", unicode_minus=False)"
   ]
  },
  {
   "cell_type": "code",
   "execution_count": 37,
   "metadata": {},
   "outputs": [],
   "source": [
    "df_1=pd.read_csv('Seoul_full.csv')"
   ]
  },
  {
   "cell_type": "code",
   "execution_count": 38,
   "metadata": {},
   "outputs": [],
   "source": [
    "df_2=pd.read_csv('Seoul_full_test.csv')"
   ]
  },
  {
   "cell_type": "code",
   "execution_count": 39,
   "metadata": {},
   "outputs": [],
   "source": [
    "dtypes = df_1.dtypes\n",
    "encoders = {}\n",
    "for column in df_1.columns:\n",
    "    if str(dtypes[column]) == 'object':\n",
    "        encoder = LabelEncoder()\n",
    "        encoder.fit(df_1[column])\n",
    "        encoders[column] = encoder\n",
    "        \n",
    "df_1_num = df_1.copy()        \n",
    "for column in encoders.keys():\n",
    "    encoder = encoders[column]\n",
    "    df_1_num[column] = encoder.transform(df_1[column])"
   ]
  },
  {
   "cell_type": "code",
   "execution_count": 40,
   "metadata": {},
   "outputs": [],
   "source": [
    "dtypes = df_2.dtypes\n",
    "encoders = {}\n",
    "for column in df_2.columns:\n",
    "    if str(dtypes[column]) == 'object':\n",
    "        encoder = LabelEncoder()\n",
    "        encoder.fit(df_2[column])\n",
    "        encoders[column] = encoder\n",
    "        \n",
    "df_2_num = df_2.copy()        \n",
    "for column in encoders.keys():\n",
    "    encoder = encoders[column]\n",
    "    df_2_num[column] = encoder.transform(df_2[column])"
   ]
  },
  {
   "cell_type": "code",
   "execution_count": 41,
   "metadata": {},
   "outputs": [],
   "source": [
    "y_train=df_1_num.loc[:,'이용금액']\n",
    "X_train=df_1_num.loc[:,df_1_num.columns !='이용금액']\n",
    "\n",
    "y_test=df_2_num.loc[:,'이용금액']\n",
    "X_test=df_2_num.loc[:,df_2_num.columns !='이용금액']"
   ]
  },
  {
   "cell_type": "code",
   "execution_count": 42,
   "metadata": {},
   "outputs": [
    {
     "data": {
      "text/html": [
       "<div>\n",
       "<style scoped>\n",
       "    .dataframe tbody tr th:only-of-type {\n",
       "        vertical-align: middle;\n",
       "    }\n",
       "\n",
       "    .dataframe tbody tr th {\n",
       "        vertical-align: top;\n",
       "    }\n",
       "\n",
       "    .dataframe thead th {\n",
       "        text-align: right;\n",
       "    }\n",
       "</style>\n",
       "<table border=\"1\" class=\"dataframe\">\n",
       "  <thead>\n",
       "    <tr style=\"text-align: right;\">\n",
       "      <th></th>\n",
       "      <th>년</th>\n",
       "      <th>월</th>\n",
       "      <th>매장_시군구</th>\n",
       "      <th>업종명</th>\n",
       "      <th>성별</th>\n",
       "      <th>가구생애주기</th>\n",
       "      <th>이용고객수</th>\n",
       "      <th>이용건수</th>\n",
       "      <th>유입</th>\n",
       "      <th>확진자수</th>\n",
       "    </tr>\n",
       "  </thead>\n",
       "  <tbody>\n",
       "    <tr>\n",
       "      <th>0</th>\n",
       "      <td>2020</td>\n",
       "      <td>4</td>\n",
       "      <td>0</td>\n",
       "      <td>0</td>\n",
       "      <td>1</td>\n",
       "      <td>1</td>\n",
       "      <td>39</td>\n",
       "      <td>39</td>\n",
       "      <td>7</td>\n",
       "      <td>23.0</td>\n",
       "    </tr>\n",
       "    <tr>\n",
       "      <th>1</th>\n",
       "      <td>2020</td>\n",
       "      <td>4</td>\n",
       "      <td>0</td>\n",
       "      <td>0</td>\n",
       "      <td>1</td>\n",
       "      <td>2</td>\n",
       "      <td>63</td>\n",
       "      <td>69</td>\n",
       "      <td>6</td>\n",
       "      <td>23.0</td>\n",
       "    </tr>\n",
       "    <tr>\n",
       "      <th>2</th>\n",
       "      <td>2020</td>\n",
       "      <td>4</td>\n",
       "      <td>0</td>\n",
       "      <td>0</td>\n",
       "      <td>1</td>\n",
       "      <td>3</td>\n",
       "      <td>47</td>\n",
       "      <td>49</td>\n",
       "      <td>4</td>\n",
       "      <td>23.0</td>\n",
       "    </tr>\n",
       "    <tr>\n",
       "      <th>3</th>\n",
       "      <td>2020</td>\n",
       "      <td>4</td>\n",
       "      <td>0</td>\n",
       "      <td>0</td>\n",
       "      <td>1</td>\n",
       "      <td>4</td>\n",
       "      <td>49</td>\n",
       "      <td>78</td>\n",
       "      <td>4</td>\n",
       "      <td>23.0</td>\n",
       "    </tr>\n",
       "    <tr>\n",
       "      <th>4</th>\n",
       "      <td>2020</td>\n",
       "      <td>4</td>\n",
       "      <td>0</td>\n",
       "      <td>0</td>\n",
       "      <td>1</td>\n",
       "      <td>5</td>\n",
       "      <td>44</td>\n",
       "      <td>54</td>\n",
       "      <td>3</td>\n",
       "      <td>23.0</td>\n",
       "    </tr>\n",
       "    <tr>\n",
       "      <th>...</th>\n",
       "      <td>...</td>\n",
       "      <td>...</td>\n",
       "      <td>...</td>\n",
       "      <td>...</td>\n",
       "      <td>...</td>\n",
       "      <td>...</td>\n",
       "      <td>...</td>\n",
       "      <td>...</td>\n",
       "      <td>...</td>\n",
       "      <td>...</td>\n",
       "    </tr>\n",
       "    <tr>\n",
       "      <th>6739</th>\n",
       "      <td>2020</td>\n",
       "      <td>4</td>\n",
       "      <td>24</td>\n",
       "      <td>38</td>\n",
       "      <td>2</td>\n",
       "      <td>1</td>\n",
       "      <td>562</td>\n",
       "      <td>655</td>\n",
       "      <td>10</td>\n",
       "      <td>3.0</td>\n",
       "    </tr>\n",
       "    <tr>\n",
       "      <th>6740</th>\n",
       "      <td>2020</td>\n",
       "      <td>4</td>\n",
       "      <td>24</td>\n",
       "      <td>38</td>\n",
       "      <td>2</td>\n",
       "      <td>2</td>\n",
       "      <td>512</td>\n",
       "      <td>592</td>\n",
       "      <td>11</td>\n",
       "      <td>3.0</td>\n",
       "    </tr>\n",
       "    <tr>\n",
       "      <th>6741</th>\n",
       "      <td>2020</td>\n",
       "      <td>4</td>\n",
       "      <td>24</td>\n",
       "      <td>38</td>\n",
       "      <td>2</td>\n",
       "      <td>3</td>\n",
       "      <td>327</td>\n",
       "      <td>399</td>\n",
       "      <td>7</td>\n",
       "      <td>3.0</td>\n",
       "    </tr>\n",
       "    <tr>\n",
       "      <th>6742</th>\n",
       "      <td>2020</td>\n",
       "      <td>4</td>\n",
       "      <td>24</td>\n",
       "      <td>38</td>\n",
       "      <td>2</td>\n",
       "      <td>4</td>\n",
       "      <td>1143</td>\n",
       "      <td>1333</td>\n",
       "      <td>18</td>\n",
       "      <td>3.0</td>\n",
       "    </tr>\n",
       "    <tr>\n",
       "      <th>6743</th>\n",
       "      <td>2020</td>\n",
       "      <td>4</td>\n",
       "      <td>24</td>\n",
       "      <td>38</td>\n",
       "      <td>2</td>\n",
       "      <td>5</td>\n",
       "      <td>1076</td>\n",
       "      <td>1283</td>\n",
       "      <td>18</td>\n",
       "      <td>3.0</td>\n",
       "    </tr>\n",
       "  </tbody>\n",
       "</table>\n",
       "<p>6744 rows × 10 columns</p>\n",
       "</div>"
      ],
      "text/plain": [
       "         년  월  매장_시군구  업종명  성별  가구생애주기  이용고객수  이용건수  유입  확진자수\n",
       "0     2020  4       0    0   1       1     39    39   7  23.0\n",
       "1     2020  4       0    0   1       2     63    69   6  23.0\n",
       "2     2020  4       0    0   1       3     47    49   4  23.0\n",
       "3     2020  4       0    0   1       4     49    78   4  23.0\n",
       "4     2020  4       0    0   1       5     44    54   3  23.0\n",
       "...    ... ..     ...  ...  ..     ...    ...   ...  ..   ...\n",
       "6739  2020  4      24   38   2       1    562   655  10   3.0\n",
       "6740  2020  4      24   38   2       2    512   592  11   3.0\n",
       "6741  2020  4      24   38   2       3    327   399   7   3.0\n",
       "6742  2020  4      24   38   2       4   1143  1333  18   3.0\n",
       "6743  2020  4      24   38   2       5   1076  1283  18   3.0\n",
       "\n",
       "[6744 rows x 10 columns]"
      ]
     },
     "execution_count": 42,
     "metadata": {},
     "output_type": "execute_result"
    }
   ],
   "source": [
    "X_test"
   ]
  },
  {
   "cell_type": "code",
   "execution_count": 43,
   "metadata": {},
   "outputs": [],
   "source": [
    "X=pd.concat([X_train,X_test])\n",
    "y=pd.concat([y_train,y_test])"
   ]
  },
  {
   "cell_type": "code",
   "execution_count": null,
   "metadata": {},
   "outputs": [],
   "source": []
  },
  {
   "cell_type": "code",
   "execution_count": 44,
   "metadata": {},
   "outputs": [
    {
     "data": {
      "text/plain": [
       "LinearRegression()"
      ]
     },
     "execution_count": 44,
     "metadata": {},
     "output_type": "execute_result"
    }
   ],
   "source": [
    "# define regressor type, and fit with train set\n",
    "from sklearn.linear_model import LinearRegression\n",
    "\n",
    "regressor = LinearRegression()\n",
    "regressor.fit(X_train, y_train)"
   ]
  },
  {
   "cell_type": "code",
   "execution_count": 45,
   "metadata": {
    "scrolled": true
   },
   "outputs": [
    {
     "data": {
      "text/plain": [
       "array([-3.04021001e+06, -1.35452741e+05, -1.19996018e+06, -1.02832854e+05,\n",
       "       -1.31401496e+07,  1.88244693e+07,  7.45719233e+03,  5.35127805e+03,\n",
       "        3.33983953e+06, -2.81056177e+05])"
      ]
     },
     "execution_count": 45,
     "metadata": {},
     "output_type": "execute_result"
    }
   ],
   "source": [
    "regressor.coef_"
   ]
  },
  {
   "cell_type": "code",
   "execution_count": 46,
   "metadata": {},
   "outputs": [],
   "source": [
    "y_pred = regressor.predict(X_test)"
   ]
  },
  {
   "cell_type": "code",
   "execution_count": 47,
   "metadata": {
    "scrolled": true
   },
   "outputs": [
    {
     "data": {
      "text/plain": [
       "Text(0.5, 0, 'True (ground truth)')"
      ]
     },
     "execution_count": 47,
     "metadata": {},
     "output_type": "execute_result"
    },
    {
     "data": {
      "image/png": "[encoded data removed]",
      "text/plain": [
       "<Figure size 432x288 with 1 Axes>"
      ]
     },
     "metadata": {
      "needs_background": "light"
     },
     "output_type": "display_data"
    }
   ],
   "source": [
    "plt.scatter(y_test, y_pred, color = 'r')\n",
    "plt.ylabel('Model Predictions')\n",
    "plt.xlabel('True (ground truth)')"
   ]
  },
  {
   "cell_type": "code",
   "execution_count": 49,
   "metadata": {},
   "outputs": [
    {
     "name": "stdout",
     "output_type": "stream",
     "text": [
      "0.783820182256408\n"
     ]
    }
   ],
   "source": [
    "print(regressor.score(X_train, y_train))"
   ]
  },
  {
   "cell_type": "code",
   "execution_count": 14,
   "metadata": {},
   "outputs": [
    {
     "name": "stdout",
     "output_type": "stream",
     "text": [
      "RMSE = 161063170.12060872 \n",
      "MSE = 2.5941344769300144e+16 \n",
      "MAE = 73543854.57618052 \n",
      "R2 = 0.813863587532134 \n",
      "Adjusted R2 = 0.8135871336297608 \n",
      "Mean Absolute Percentage Error = 2876.405977629468 %\n"
     ]
    }
   ],
   "source": [
    "from sklearn.metrics import r2_score, mean_absolute_error, mean_squared_error\n",
    "from math import sqrt\n",
    "\n",
    "k = X_test.shape[1]\n",
    "n = len(X_test)\n",
    "\n",
    "# RMSE(평균 제곱근 오차(Root Mean Square Error))\n",
    "# https://en.wikipedia.org/wiki/Root-mean-square_deviation\n",
    "RMSE = np.sqrt(mean_squared_error(y_test, y_pred))\n",
    "\n",
    "MSE = mean_squared_error(y_test, y_pred)\n",
    "MAE = mean_absolute_error(y_test, y_pred)\n",
    "r2 = r2_score(y_test, y_pred)\n",
    "adj_r2 = 1-(1-r2)*(n-1)/(n-k-1)\n",
    "MAPE = np.mean( np.abs((y_test - y_pred) / y_test ) ) * 100\n",
    "\n",
    "print('RMSE =',RMSE, \n",
    "      '\\nMSE =',MSE, \n",
    "      '\\nMAE =',MAE, \n",
    "      '\\nR2 =', r2, \n",
    "      '\\nAdjusted R2 =', adj_r2, \n",
    "      '\\nMean Absolute Percentage Error =', MAPE, '%') \n"
   ]
  },
  {
   "cell_type": "code",
   "execution_count": 15,
   "metadata": {},
   "outputs": [
    {
     "data": {
      "text/html": [
       "<div>\n",
       "<style scoped>\n",
       "    .dataframe tbody tr th:only-of-type {\n",
       "        vertical-align: middle;\n",
       "    }\n",
       "\n",
       "    .dataframe tbody tr th {\n",
       "        vertical-align: top;\n",
       "    }\n",
       "\n",
       "    .dataframe thead th {\n",
       "        text-align: right;\n",
       "    }\n",
       "</style>\n",
       "<table border=\"1\" class=\"dataframe\">\n",
       "  <thead>\n",
       "    <tr style=\"text-align: right;\">\n",
       "      <th></th>\n",
       "      <th>Coefficients</th>\n",
       "      <th>Standard Errors</th>\n",
       "      <th>t values</th>\n",
       "      <th>Probabilities</th>\n",
       "    </tr>\n",
       "  </thead>\n",
       "  <tbody>\n",
       "    <tr>\n",
       "      <th>constant</th>\n",
       "      <td>6.102645e+09</td>\n",
       "      <td>4.920</td>\n",
       "      <td>1.240259e+09</td>\n",
       "      <td>0.000</td>\n",
       "    </tr>\n",
       "    <tr>\n",
       "      <th>년</th>\n",
       "      <td>-3.040210e+06</td>\n",
       "      <td>1572.048</td>\n",
       "      <td>-1.933917e+03</td>\n",
       "      <td>0.000</td>\n",
       "    </tr>\n",
       "    <tr>\n",
       "      <th>월</th>\n",
       "      <td>-1.354527e+05</td>\n",
       "      <td>178724.203</td>\n",
       "      <td>-7.580000e-01</td>\n",
       "      <td>0.449</td>\n",
       "    </tr>\n",
       "    <tr>\n",
       "      <th>매장_시군구</th>\n",
       "      <td>-1.199960e+06</td>\n",
       "      <td>88250.324</td>\n",
       "      <td>-1.359700e+01</td>\n",
       "      <td>0.000</td>\n",
       "    </tr>\n",
       "    <tr>\n",
       "      <th>업종명</th>\n",
       "      <td>-1.028329e+05</td>\n",
       "      <td>59908.224</td>\n",
       "      <td>-1.717000e+00</td>\n",
       "      <td>0.086</td>\n",
       "    </tr>\n",
       "    <tr>\n",
       "      <th>성별</th>\n",
       "      <td>-1.314015e+07</td>\n",
       "      <td>1283908.414</td>\n",
       "      <td>-1.023400e+01</td>\n",
       "      <td>0.000</td>\n",
       "    </tr>\n",
       "    <tr>\n",
       "      <th>가구생애주기</th>\n",
       "      <td>1.882447e+07</td>\n",
       "      <td>462556.257</td>\n",
       "      <td>4.069700e+01</td>\n",
       "      <td>0.000</td>\n",
       "    </tr>\n",
       "    <tr>\n",
       "      <th>이용고객수</th>\n",
       "      <td>7.457192e+03</td>\n",
       "      <td>114.168</td>\n",
       "      <td>6.531800e+01</td>\n",
       "      <td>0.000</td>\n",
       "    </tr>\n",
       "    <tr>\n",
       "      <th>이용건수</th>\n",
       "      <td>5.351278e+03</td>\n",
       "      <td>32.910</td>\n",
       "      <td>1.626030e+02</td>\n",
       "      <td>0.000</td>\n",
       "    </tr>\n",
       "    <tr>\n",
       "      <th>유입</th>\n",
       "      <td>3.339840e+06</td>\n",
       "      <td>40901.950</td>\n",
       "      <td>8.165500e+01</td>\n",
       "      <td>0.000</td>\n",
       "    </tr>\n",
       "    <tr>\n",
       "      <th>확진자수</th>\n",
       "      <td>-2.810562e+05</td>\n",
       "      <td>106122.447</td>\n",
       "      <td>-2.648000e+00</td>\n",
       "      <td>0.008</td>\n",
       "    </tr>\n",
       "  </tbody>\n",
       "</table>\n",
       "</div>"
      ],
      "text/plain": [
       "          Coefficients  Standard Errors      t values  Probabilities\n",
       "constant  6.102645e+09            4.920  1.240259e+09          0.000\n",
       "년        -3.040210e+06         1572.048 -1.933917e+03          0.000\n",
       "월        -1.354527e+05       178724.203 -7.580000e-01          0.449\n",
       "매장_시군구   -1.199960e+06        88250.324 -1.359700e+01          0.000\n",
       "업종명      -1.028329e+05        59908.224 -1.717000e+00          0.086\n",
       "성별       -1.314015e+07      1283908.414 -1.023400e+01          0.000\n",
       "가구생애주기    1.882447e+07       462556.257  4.069700e+01          0.000\n",
       "이용고객수     7.457192e+03          114.168  6.531800e+01          0.000\n",
       "이용건수      5.351278e+03           32.910  1.626030e+02          0.000\n",
       "유입        3.339840e+06        40901.950  8.165500e+01          0.000\n",
       "확진자수     -2.810562e+05       106122.447 -2.648000e+00          0.008"
      ]
     },
     "execution_count": 15,
     "metadata": {},
     "output_type": "execute_result"
    }
   ],
   "source": [
    "from scipy import stats\n",
    "# https://stackoverflow.com/questions/27928275/find-p-value-significance-in-scikit-learn-linearregression\n",
    "\n",
    "params = np.append(regressor.intercept_,regressor.coef_)\n",
    "predictions = regressor.predict(X_train)\n",
    "\n",
    "newX = pd.DataFrame({\"Constant\":np.ones(len(X_train))}).join(pd.DataFrame(X_train.reset_index(drop=True)))\n",
    "MSE = (sum((y_train-predictions)**2))/(len(newX)-len(newX.columns))\n",
    "\n",
    "# Note if you don't want to use a DataFrame replace the two lines above with\n",
    "# newX = np.append(np.ones((len(X_train),1)), X, axis=1)\n",
    "# MSE = (sum((y_train-predictions)**2))/(len(newX)-len(newX[0]))\n",
    "\n",
    "var_b = MSE*(np.linalg.pinv(np.dot(newX.T,newX)).diagonal())\n",
    "sd_b = np.sqrt(var_b)\n",
    "ts_b = params/ sd_b\n",
    "\n",
    "p_values =[2*(1-stats.t.cdf(np.abs(i),(len(newX)-len(newX.values[0])))) for i in ts_b]\n",
    "\n",
    "\n",
    "sd_b = np.round(sd_b,3)\n",
    "ts_b = np.round(ts_b,3)\n",
    "p_values = np.round(p_values,3)\n",
    "params = np.round(params,4)\n",
    "\n",
    "df_summary = pd.DataFrame()\n",
    "df_summary[\"Coefficients\"],df_summary[\"Standard Errors\"],df_summary[\"t values\"],df_summary[\"Probabilities\"] = [params,sd_b,ts_b,p_values]\n",
    "df_summary.index = ['constant'] + list(X_train.columns)\n",
    "df_summary"
   ]
  },
  {
   "cell_type": "code",
   "execution_count": null,
   "metadata": {},
   "outputs": [],
   "source": []
  },
  {
   "cell_type": "markdown",
   "metadata": {},
   "source": [
    "* P값이 유의유준 이상인 월을 제거한 모형\n"
   ]
  },
  {
   "cell_type": "code",
   "execution_count": 25,
   "metadata": {},
   "outputs": [],
   "source": [
    "del df_1['월']\n",
    "del df_2['월']"
   ]
  },
  {
   "cell_type": "code",
   "execution_count": 26,
   "metadata": {},
   "outputs": [],
   "source": [
    "dtypes = df_1.dtypes\n",
    "encoders = {}\n",
    "for column in df_1.columns:\n",
    "    if str(dtypes[column]) == 'object':\n",
    "        encoder = LabelEncoder()\n",
    "        encoder.fit(df_1[column])\n",
    "        encoders[column] = encoder\n",
    "        \n",
    "df_1_num = df_1.copy()        \n",
    "for column in encoders.keys():\n",
    "    encoder = encoders[column]\n",
    "    df_1_num[column] = encoder.transform(df_1[column])\n",
    "\n",
    "dtypes = df_2.dtypes\n",
    "encoders = {}\n",
    "for column in df_2.columns:\n",
    "    if str(dtypes[column]) == 'object':\n",
    "        encoder = LabelEncoder()\n",
    "        encoder.fit(df_2[column])\n",
    "        encoders[column] = encoder\n",
    "        \n",
    "df_2_num = df_2.copy()        \n",
    "for column in encoders.keys():\n",
    "    encoder = encoders[column]\n",
    "    df_2_num[column] = encoder.transform(df_2[column])"
   ]
  },
  {
   "cell_type": "code",
   "execution_count": 27,
   "metadata": {},
   "outputs": [],
   "source": [
    "y_train=df_1_num.loc[:,'이용금액']\n",
    "X_train=df_1_num.loc[:,df_1_num.columns !='이용금액']\n",
    "\n",
    "y_test=df_2_num.loc[:,'이용금액']\n",
    "X_test=df_2_num.loc[:,df_2_num.columns !='이용금액']"
   ]
  },
  {
   "cell_type": "code",
   "execution_count": 28,
   "metadata": {},
   "outputs": [],
   "source": [
    "X=pd.concat([X_train,X_test])\n",
    "y=pd.concat([y_train,y_test])"
   ]
  },
  {
   "cell_type": "code",
   "execution_count": 29,
   "metadata": {},
   "outputs": [
    {
     "data": {
      "text/plain": [
       "LinearRegression()"
      ]
     },
     "execution_count": 29,
     "metadata": {},
     "output_type": "execute_result"
    }
   ],
   "source": [
    "regressor = LinearRegression()\n",
    "regressor.fit(X_train, y_train)"
   ]
  },
  {
   "cell_type": "code",
   "execution_count": 30,
   "metadata": {
    "scrolled": true
   },
   "outputs": [
    {
     "data": {
      "text/plain": [
       "array([-2.38699572e+06, -1.19956765e+06, -1.02709160e+05, -1.31399395e+07,\n",
       "        1.88244951e+07,  7.45730155e+03,  5.35122420e+03,  3.33969736e+06,\n",
       "       -2.67366965e+05])"
      ]
     },
     "execution_count": 30,
     "metadata": {},
     "output_type": "execute_result"
    }
   ],
   "source": [
    "regressor.coef_"
   ]
  },
  {
   "cell_type": "code",
   "execution_count": 31,
   "metadata": {},
   "outputs": [],
   "source": [
    "y_pred = regressor.predict(X_test)"
   ]
  },
  {
   "cell_type": "code",
   "execution_count": 32,
   "metadata": {
    "scrolled": true
   },
   "outputs": [
    {
     "data": {
      "text/plain": [
       "Text(0.5, 0, 'True (ground truth)')"
      ]
     },
     "execution_count": 32,
     "metadata": {},
     "output_type": "execute_result"
    },
    {
     "data": {
      "image/png": "[encoded data removed]",
      "text/plain": [
       "<Figure size 432x288 with 1 Axes>"
      ]
     },
     "metadata": {
      "needs_background": "light"
     },
     "output_type": "display_data"
    }
   ],
   "source": [
    "plt.scatter(y_test, y_pred, color = 'r')\n",
    "plt.ylabel('Model Predictions')\n",
    "plt.xlabel('True (ground truth)')"
   ]
  },
  {
   "cell_type": "code",
   "execution_count": 33,
   "metadata": {},
   "outputs": [
    {
     "name": "stdout",
     "output_type": "stream",
     "text": [
      "RMSE = 161065570.6352006 \n",
      "MSE = 2.594211804404279e+16 \n",
      "MAE = 73586575.21114275 \n",
      "R2 = 0.8138580390693334 \n",
      "Adjusted R2 = 0.8136092600897706 \n",
      "Mean Absolute Percentage Error = 2862.6525631672425 %\n"
     ]
    }
   ],
   "source": [
    "from sklearn.metrics import r2_score, mean_absolute_error, mean_squared_error\n",
    "from math import sqrt\n",
    "\n",
    "k = X_test.shape[1]\n",
    "n = len(X_test)\n",
    "\n",
    "# RMSE(평균 제곱근 오차(Root Mean Square Error))\n",
    "# https://en.wikipedia.org/wiki/Root-mean-square_deviation\n",
    "RMSE = np.sqrt(mean_squared_error(y_test, y_pred))\n",
    "\n",
    "MSE = mean_squared_error(y_test, y_pred)\n",
    "MAE = mean_absolute_error(y_test, y_pred)\n",
    "r2 = r2_score(y_test, y_pred)\n",
    "adj_r2 = 1-(1-r2)*(n-1)/(n-k-1)\n",
    "MAPE = np.mean( np.abs((y_test - y_pred) / y_test ) ) * 100\n",
    "\n",
    "print('RMSE =',RMSE, \n",
    "      '\\nMSE =',MSE, \n",
    "      '\\nMAE =',MAE, \n",
    "      '\\nR2 =', r2, \n",
    "      '\\nAdjusted R2 =', adj_r2, \n",
    "      '\\nMean Absolute Percentage Error =', MAPE, '%') "
   ]
  },
  {
   "cell_type": "code",
   "execution_count": 34,
   "metadata": {
    "scrolled": true
   },
   "outputs": [
    {
     "data": {
      "text/html": [
       "<div>\n",
       "<style scoped>\n",
       "    .dataframe tbody tr th:only-of-type {\n",
       "        vertical-align: middle;\n",
       "    }\n",
       "\n",
       "    .dataframe tbody tr th {\n",
       "        vertical-align: top;\n",
       "    }\n",
       "\n",
       "    .dataframe thead th {\n",
       "        text-align: right;\n",
       "    }\n",
       "</style>\n",
       "<table border=\"1\" class=\"dataframe\">\n",
       "  <thead>\n",
       "    <tr style=\"text-align: right;\">\n",
       "      <th></th>\n",
       "      <th>Coefficients</th>\n",
       "      <th>Standard Errors</th>\n",
       "      <th>t values</th>\n",
       "      <th>Probabilities</th>\n",
       "    </tr>\n",
       "  </thead>\n",
       "  <tbody>\n",
       "    <tr>\n",
       "      <th>constant</th>\n",
       "      <td>4.782879e+09</td>\n",
       "      <td>1.139</td>\n",
       "      <td>4.200063e+09</td>\n",
       "      <td>0.000</td>\n",
       "    </tr>\n",
       "    <tr>\n",
       "      <th>년</th>\n",
       "      <td>-2.386996e+06</td>\n",
       "      <td>1490.541</td>\n",
       "      <td>-1.601430e+03</td>\n",
       "      <td>0.000</td>\n",
       "    </tr>\n",
       "    <tr>\n",
       "      <th>매장_시군구</th>\n",
       "      <td>-1.199568e+06</td>\n",
       "      <td>88249.958</td>\n",
       "      <td>-1.359300e+01</td>\n",
       "      <td>0.000</td>\n",
       "    </tr>\n",
       "    <tr>\n",
       "      <th>업종명</th>\n",
       "      <td>-1.027092e+05</td>\n",
       "      <td>59906.813</td>\n",
       "      <td>-1.714000e+00</td>\n",
       "      <td>0.086</td>\n",
       "    </tr>\n",
       "    <tr>\n",
       "      <th>성별</th>\n",
       "      <td>-1.313994e+07</td>\n",
       "      <td>1283903.993</td>\n",
       "      <td>-1.023400e+01</td>\n",
       "      <td>0.000</td>\n",
       "    </tr>\n",
       "    <tr>\n",
       "      <th>가구생애주기</th>\n",
       "      <td>1.882450e+07</td>\n",
       "      <td>462551.238</td>\n",
       "      <td>4.069700e+01</td>\n",
       "      <td>0.000</td>\n",
       "    </tr>\n",
       "    <tr>\n",
       "      <th>이용고객수</th>\n",
       "      <td>7.457301e+03</td>\n",
       "      <td>114.167</td>\n",
       "      <td>6.531900e+01</td>\n",
       "      <td>0.000</td>\n",
       "    </tr>\n",
       "    <tr>\n",
       "      <th>이용건수</th>\n",
       "      <td>5.351224e+03</td>\n",
       "      <td>32.910</td>\n",
       "      <td>1.626020e+02</td>\n",
       "      <td>0.000</td>\n",
       "    </tr>\n",
       "    <tr>\n",
       "      <th>유입</th>\n",
       "      <td>3.339697e+06</td>\n",
       "      <td>40897.468</td>\n",
       "      <td>8.166000e+01</td>\n",
       "      <td>0.000</td>\n",
       "    </tr>\n",
       "    <tr>\n",
       "      <th>확진자수</th>\n",
       "      <td>-2.673670e+05</td>\n",
       "      <td>105881.972</td>\n",
       "      <td>-2.525000e+00</td>\n",
       "      <td>0.012</td>\n",
       "    </tr>\n",
       "  </tbody>\n",
       "</table>\n",
       "</div>"
      ],
      "text/plain": [
       "          Coefficients  Standard Errors      t values  Probabilities\n",
       "constant  4.782879e+09            1.139  4.200063e+09          0.000\n",
       "년        -2.386996e+06         1490.541 -1.601430e+03          0.000\n",
       "매장_시군구   -1.199568e+06        88249.958 -1.359300e+01          0.000\n",
       "업종명      -1.027092e+05        59906.813 -1.714000e+00          0.086\n",
       "성별       -1.313994e+07      1283903.993 -1.023400e+01          0.000\n",
       "가구생애주기    1.882450e+07       462551.238  4.069700e+01          0.000\n",
       "이용고객수     7.457301e+03          114.167  6.531900e+01          0.000\n",
       "이용건수      5.351224e+03           32.910  1.626020e+02          0.000\n",
       "유입        3.339697e+06        40897.468  8.166000e+01          0.000\n",
       "확진자수     -2.673670e+05       105881.972 -2.525000e+00          0.012"
      ]
     },
     "execution_count": 34,
     "metadata": {},
     "output_type": "execute_result"
    }
   ],
   "source": [
    "from scipy import stats\n",
    "# https://stackoverflow.com/questions/27928275/find-p-value-significance-in-scikit-learn-linearregression\n",
    "\n",
    "params = np.append(regressor.intercept_,regressor.coef_)\n",
    "predictions = regressor.predict(X_train)\n",
    "\n",
    "newX = pd.DataFrame({\"Constant\":np.ones(len(X_train))}).join(pd.DataFrame(X_train.reset_index(drop=True)))\n",
    "MSE = (sum((y_train-predictions)**2))/(len(newX)-len(newX.columns))\n",
    "\n",
    "# Note if you don't want to use a DataFrame replace the two lines above with\n",
    "# newX = np.append(np.ones((len(X_train),1)), X, axis=1)\n",
    "# MSE = (sum((y_train-predictions)**2))/(len(newX)-len(newX[0]))\n",
    "\n",
    "var_b = MSE*(np.linalg.pinv(np.dot(newX.T,newX)).diagonal())\n",
    "sd_b = np.sqrt(var_b)\n",
    "ts_b = params/ sd_b\n",
    "\n",
    "p_values =[2*(1-stats.t.cdf(np.abs(i),(len(newX)-len(newX.values[0])))) for i in ts_b]\n",
    "\n",
    "\n",
    "sd_b = np.round(sd_b,3)\n",
    "ts_b = np.round(ts_b,3)\n",
    "p_values = np.round(p_values,3)\n",
    "params = np.round(params,4)\n",
    "\n",
    "df_summary = pd.DataFrame()\n",
    "df_summary[\"Coefficients\"],df_summary[\"Standard Errors\"],df_summary[\"t values\"],df_summary[\"Probabilities\"] = [params,sd_b,ts_b,p_values]\n",
    "df_summary.index = ['constant'] + list(X_train.columns)\n",
    "df_summary"
   ]
  },
  {
   "cell_type": "code",
   "execution_count": null,
   "metadata": {},
   "outputs": [],
   "source": []
  }
 ],
 "metadata": {
  "kernelspec": {
   "display_name": "Python 3",
   "language": "python",
   "name": "python3"
  },
  "language_info": {
   "codemirror_mode": {
    "name": "ipython",
    "version": 3
   },
   "file_extension": ".py",
   "mimetype": "text/x-python",
   "name": "python",
   "nbconvert_exporter": "python",
   "pygments_lexer": "ipython3",
   "version": "3.8.5"
  },
  "toc": {
   "base_numbering": 1,
   "nav_menu": {},
   "number_sections": true,
   "sideBar": true,
   "skip_h1_title": false,
   "title_cell": "Table of Contents",
   "title_sidebar": "Contents",
   "toc_cell": false,
   "toc_position": {},
   "toc_section_display": true,
   "toc_window_display": false
  }
 },
 "nbformat": 4,
 "nbformat_minor": 4
}
