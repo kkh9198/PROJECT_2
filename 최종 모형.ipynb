{
 "cells": [
  {
   "cell_type": "code",
   "execution_count": 2,
   "metadata": {},
   "outputs": [],
   "source": [
    "import numpy as np\n",
    "import pandas as pd\n",
    "import matplotlib as mpl\n",
    "import matplotlib.pyplot as plt\n",
    "import matplotlib.patches as mpatches\n",
    "import matplotlib.gridspec as gridspec\n",
    "import statsmodels.api as sm\n",
    "\n",
    "import sklearn\n",
    "from sklearn.ensemble import RandomForestRegressor\n",
    "from sklearn.preprocessing import LabelEncoder\n",
    "\n",
    "from matplotlib.offsetbox import AnchoredText\n",
    "from mpl_toolkits.axes_grid1 import make_axes_locatable\n",
    "\n",
    "import seaborn as sns\n",
    "import warnings\n",
    "warnings.filterwarnings(action='ignore')\n",
    "\n",
    "plt.rc(\"font\", family=\"Malgun Gothic\")\n",
    "plt.rc(\"axes\", unicode_minus=False)"
   ]
  },
  {
   "cell_type": "code",
   "execution_count": 4,
   "metadata": {},
   "outputs": [],
   "source": [
    "df1=pd.read_csv('project2/Seoul.csv')"
   ]
  },
  {
   "cell_type": "code",
   "execution_count": 5,
   "metadata": {},
   "outputs": [],
   "source": [
    "df2=pd.read_csv('project2/Seoul_Test.csv')"
   ]
  },
  {
   "cell_type": "code",
   "execution_count": 6,
   "metadata": {},
   "outputs": [],
   "source": [
    "df1 = df1.append(df2,ignore_index=True)"
   ]
  },
  {
   "cell_type": "code",
   "execution_count": 8,
   "metadata": {},
   "outputs": [
    {
     "data": {
      "text/html": [
       "<div>\n",
       "<style scoped>\n",
       "    .dataframe tbody tr th:only-of-type {\n",
       "        vertical-align: middle;\n",
       "    }\n",
       "\n",
       "    .dataframe tbody tr th {\n",
       "        vertical-align: top;\n",
       "    }\n",
       "\n",
       "    .dataframe thead th {\n",
       "        text-align: right;\n",
       "    }\n",
       "</style>\n",
       "<table border=\"1\" class=\"dataframe\">\n",
       "  <thead>\n",
       "    <tr style=\"text-align: right;\">\n",
       "      <th></th>\n",
       "      <th>연월</th>\n",
       "      <th>매장_시도</th>\n",
       "      <th>매장_시군구</th>\n",
       "      <th>업종명</th>\n",
       "      <th>고객_시도</th>\n",
       "      <th>고객_시군구</th>\n",
       "      <th>연령대</th>\n",
       "      <th>성별</th>\n",
       "      <th>가구생애주기</th>\n",
       "      <th>이용고객수</th>\n",
       "      <th>이용금액</th>\n",
       "      <th>이용건수</th>\n",
       "    </tr>\n",
       "  </thead>\n",
       "  <tbody>\n",
       "    <tr>\n",
       "      <th>0</th>\n",
       "      <td>2019-01-01</td>\n",
       "      <td>서울</td>\n",
       "      <td>강남구</td>\n",
       "      <td>건강보조식품 소매업</td>\n",
       "      <td>강원</td>\n",
       "      <td>강릉시</td>\n",
       "      <td>60s</td>\n",
       "      <td>2</td>\n",
       "      <td>5</td>\n",
       "      <td>7</td>\n",
       "      <td>1181300</td>\n",
       "      <td>8</td>\n",
       "    </tr>\n",
       "    <tr>\n",
       "      <th>1</th>\n",
       "      <td>2019-01-01</td>\n",
       "      <td>서울</td>\n",
       "      <td>강남구</td>\n",
       "      <td>건강보조식품 소매업</td>\n",
       "      <td>강원</td>\n",
       "      <td>속초시</td>\n",
       "      <td>50s</td>\n",
       "      <td>2</td>\n",
       "      <td>4</td>\n",
       "      <td>3</td>\n",
       "      <td>756000</td>\n",
       "      <td>4</td>\n",
       "    </tr>\n",
       "    <tr>\n",
       "      <th>2</th>\n",
       "      <td>2019-01-01</td>\n",
       "      <td>서울</td>\n",
       "      <td>강남구</td>\n",
       "      <td>건강보조식품 소매업</td>\n",
       "      <td>강원</td>\n",
       "      <td>원주시</td>\n",
       "      <td>50s</td>\n",
       "      <td>2</td>\n",
       "      <td>4</td>\n",
       "      <td>6</td>\n",
       "      <td>2480710</td>\n",
       "      <td>14</td>\n",
       "    </tr>\n",
       "    <tr>\n",
       "      <th>3</th>\n",
       "      <td>2019-01-01</td>\n",
       "      <td>서울</td>\n",
       "      <td>강남구</td>\n",
       "      <td>건강보조식품 소매업</td>\n",
       "      <td>강원</td>\n",
       "      <td>원주시</td>\n",
       "      <td>60s</td>\n",
       "      <td>2</td>\n",
       "      <td>5</td>\n",
       "      <td>6</td>\n",
       "      <td>3604450</td>\n",
       "      <td>7</td>\n",
       "    </tr>\n",
       "    <tr>\n",
       "      <th>4</th>\n",
       "      <td>2019-01-01</td>\n",
       "      <td>서울</td>\n",
       "      <td>강남구</td>\n",
       "      <td>건강보조식품 소매업</td>\n",
       "      <td>강원</td>\n",
       "      <td>춘천시</td>\n",
       "      <td>50s</td>\n",
       "      <td>2</td>\n",
       "      <td>4</td>\n",
       "      <td>4</td>\n",
       "      <td>1952750</td>\n",
       "      <td>11</td>\n",
       "    </tr>\n",
       "  </tbody>\n",
       "</table>\n",
       "</div>"
      ],
      "text/plain": [
       "          연월 매장_시도 매장_시군구         업종명 고객_시도 고객_시군구  연령대  성별  가구생애주기  이용고객수  \\\n",
       "0 2019-01-01    서울    강남구  건강보조식품 소매업    강원    강릉시  60s   2       5      7   \n",
       "1 2019-01-01    서울    강남구  건강보조식품 소매업    강원    속초시  50s   2       4      3   \n",
       "2 2019-01-01    서울    강남구  건강보조식품 소매업    강원    원주시  50s   2       4      6   \n",
       "3 2019-01-01    서울    강남구  건강보조식품 소매업    강원    원주시  60s   2       5      6   \n",
       "4 2019-01-01    서울    강남구  건강보조식품 소매업    강원    춘천시  50s   2       4      4   \n",
       "\n",
       "      이용금액  이용건수  \n",
       "0  1181300     8  \n",
       "1   756000     4  \n",
       "2  2480710    14  \n",
       "3  3604450     7  \n",
       "4  1952750    11  "
      ]
     },
     "execution_count": 8,
     "metadata": {},
     "output_type": "execute_result"
    }
   ],
   "source": [
    "df1[\"연월\"] = pd.to_datetime(df1[\"연월\"],format='%Y%m')\n",
    "df1.head()"
   ]
  },
  {
   "cell_type": "code",
   "execution_count": 20,
   "metadata": {},
   "outputs": [
    {
     "data": {
      "text/plain": [
       "array(['서울'], dtype=object)"
      ]
     },
     "execution_count": 20,
     "metadata": {},
     "output_type": "execute_result"
    }
   ],
   "source": [
    "df1['매장_시도'].unique()"
   ]
  },
  {
   "cell_type": "code",
   "execution_count": 19,
   "metadata": {
    "scrolled": true
   },
   "outputs": [
    {
     "data": {
      "text/plain": [
       "array(['강남구', '강동구', '강북구', '강서구', '관악구', '광진구', '구로구', '금천구', '노원구',\n",
       "       '도봉구', '동대문구', '동작구', '마포구', '서대문구', '서초구', '성동구', '성북구', '송파구',\n",
       "       '양천구', '영등포구', '용산구', '은평구', '종로구', '중구', '중랑구'], dtype=object)"
      ]
     },
     "execution_count": 19,
     "metadata": {},
     "output_type": "execute_result"
    }
   ],
   "source": [
    "df1['매장_시군구'].unique()"
   ]
  },
  {
   "cell_type": "code",
   "execution_count": null,
   "metadata": {},
   "outputs": [],
   "source": []
  },
  {
   "cell_type": "code",
   "execution_count": 9,
   "metadata": {},
   "outputs": [
    {
     "data": {
      "text/html": [
       "<div>\n",
       "<style scoped>\n",
       "    .dataframe tbody tr th:only-of-type {\n",
       "        vertical-align: middle;\n",
       "    }\n",
       "\n",
       "    .dataframe tbody tr th {\n",
       "        vertical-align: top;\n",
       "    }\n",
       "\n",
       "    .dataframe thead th {\n",
       "        text-align: right;\n",
       "    }\n",
       "</style>\n",
       "<table border=\"1\" class=\"dataframe\">\n",
       "  <thead>\n",
       "    <tr style=\"text-align: right;\">\n",
       "      <th></th>\n",
       "      <th>연월</th>\n",
       "      <th>매장_시도</th>\n",
       "      <th>매장_시군구</th>\n",
       "      <th>업종명</th>\n",
       "      <th>고객_시도</th>\n",
       "      <th>고객_시군구</th>\n",
       "      <th>연령대</th>\n",
       "      <th>성별</th>\n",
       "      <th>가구생애주기</th>\n",
       "      <th>이용고객수</th>\n",
       "      <th>이용금액</th>\n",
       "      <th>이용건수</th>\n",
       "    </tr>\n",
       "  </thead>\n",
       "  <tbody>\n",
       "    <tr>\n",
       "      <th>0</th>\n",
       "      <td>2019-01-01</td>\n",
       "      <td>서울</td>\n",
       "      <td>강남구</td>\n",
       "      <td>건강보조식품 소매업</td>\n",
       "      <td>강원</td>\n",
       "      <td>강릉시</td>\n",
       "      <td>60</td>\n",
       "      <td>2</td>\n",
       "      <td>5</td>\n",
       "      <td>7</td>\n",
       "      <td>1181300</td>\n",
       "      <td>8</td>\n",
       "    </tr>\n",
       "    <tr>\n",
       "      <th>1</th>\n",
       "      <td>2019-01-01</td>\n",
       "      <td>서울</td>\n",
       "      <td>강남구</td>\n",
       "      <td>건강보조식품 소매업</td>\n",
       "      <td>강원</td>\n",
       "      <td>속초시</td>\n",
       "      <td>50</td>\n",
       "      <td>2</td>\n",
       "      <td>4</td>\n",
       "      <td>3</td>\n",
       "      <td>756000</td>\n",
       "      <td>4</td>\n",
       "    </tr>\n",
       "    <tr>\n",
       "      <th>2</th>\n",
       "      <td>2019-01-01</td>\n",
       "      <td>서울</td>\n",
       "      <td>강남구</td>\n",
       "      <td>건강보조식품 소매업</td>\n",
       "      <td>강원</td>\n",
       "      <td>원주시</td>\n",
       "      <td>50</td>\n",
       "      <td>2</td>\n",
       "      <td>4</td>\n",
       "      <td>6</td>\n",
       "      <td>2480710</td>\n",
       "      <td>14</td>\n",
       "    </tr>\n",
       "    <tr>\n",
       "      <th>3</th>\n",
       "      <td>2019-01-01</td>\n",
       "      <td>서울</td>\n",
       "      <td>강남구</td>\n",
       "      <td>건강보조식품 소매업</td>\n",
       "      <td>강원</td>\n",
       "      <td>원주시</td>\n",
       "      <td>60</td>\n",
       "      <td>2</td>\n",
       "      <td>5</td>\n",
       "      <td>6</td>\n",
       "      <td>3604450</td>\n",
       "      <td>7</td>\n",
       "    </tr>\n",
       "    <tr>\n",
       "      <th>4</th>\n",
       "      <td>2019-01-01</td>\n",
       "      <td>서울</td>\n",
       "      <td>강남구</td>\n",
       "      <td>건강보조식품 소매업</td>\n",
       "      <td>강원</td>\n",
       "      <td>춘천시</td>\n",
       "      <td>50</td>\n",
       "      <td>2</td>\n",
       "      <td>4</td>\n",
       "      <td>4</td>\n",
       "      <td>1952750</td>\n",
       "      <td>11</td>\n",
       "    </tr>\n",
       "  </tbody>\n",
       "</table>\n",
       "</div>"
      ],
      "text/plain": [
       "          연월 매장_시도 매장_시군구         업종명 고객_시도 고객_시군구  연령대  성별  가구생애주기  이용고객수  \\\n",
       "0 2019-01-01    서울    강남구  건강보조식품 소매업    강원    강릉시   60   2       5      7   \n",
       "1 2019-01-01    서울    강남구  건강보조식품 소매업    강원    속초시   50   2       4      3   \n",
       "2 2019-01-01    서울    강남구  건강보조식품 소매업    강원    원주시   50   2       4      6   \n",
       "3 2019-01-01    서울    강남구  건강보조식품 소매업    강원    원주시   60   2       5      6   \n",
       "4 2019-01-01    서울    강남구  건강보조식품 소매업    강원    춘천시   50   2       4      4   \n",
       "\n",
       "      이용금액  이용건수  \n",
       "0  1181300     8  \n",
       "1   756000     4  \n",
       "2  2480710    14  \n",
       "3  3604450     7  \n",
       "4  1952750    11  "
      ]
     },
     "execution_count": 9,
     "metadata": {},
     "output_type": "execute_result"
    }
   ],
   "source": [
    "df1['연령대'] = df1['연령대'].str.rstrip('s').astype('int')\n",
    "df1.head()"
   ]
  },
  {
   "cell_type": "code",
   "execution_count": 10,
   "metadata": {},
   "outputs": [
    {
     "data": {
      "text/plain": [
       "2019-01-01    422792\n",
       "2019-02-01    405164\n",
       "2019-03-01    429994\n",
       "2019-04-01    424973\n",
       "2019-05-01    444836\n",
       "2019-06-01    434237\n",
       "2019-07-01    434803\n",
       "2019-08-01    437459\n",
       "2019-09-01    423804\n",
       "2019-10-01    435724\n",
       "2019-11-01    420767\n",
       "2019-12-01    433798\n",
       "2020-01-01    416459\n",
       "2020-02-01    359041\n",
       "2020-03-01    335651\n",
       "2020-04-01    348300\n",
       "Name: 연월, dtype: int64"
      ]
     },
     "execution_count": 10,
     "metadata": {},
     "output_type": "execute_result"
    }
   ],
   "source": [
    "df1.연월.value_counts().sort_index()"
   ]
  },
  {
   "cell_type": "code",
   "execution_count": 11,
   "metadata": {},
   "outputs": [],
   "source": [
    "df1['연월1'] = df1['연월']"
   ]
  },
  {
   "cell_type": "code",
   "execution_count": 12,
   "metadata": {},
   "outputs": [],
   "source": [
    "df1.연월1 = df1.연월1.replace(df1.연월1.value_counts().sort_index().index[0],1)\n",
    "df1.연월1 = df1.연월1.replace(df1.연월1.value_counts().sort_index().index[1],2)\n",
    "df1.연월1 = df1.연월1.replace(df1.연월1.value_counts().sort_index().index[2],3)\n",
    "df1.연월1 = df1.연월1.replace(df1.연월1.value_counts().sort_index().index[3],4)\n",
    "df1.연월1 = df1.연월1.replace(df1.연월1.value_counts().sort_index().index[4],5)\n",
    "df1.연월1 = df1.연월1.replace(df1.연월1.value_counts().sort_index().index[5],6)\n",
    "df1.연월1 = df1.연월1.replace(df1.연월1.value_counts().sort_index().index[6],7)\n",
    "df1.연월1 = df1.연월1.replace(df1.연월1.value_counts().sort_index().index[7],8)\n",
    "df1.연월1 = df1.연월1.replace(df1.연월1.value_counts().sort_index().index[8],9)\n",
    "df1.연월1 = df1.연월1.replace(df1.연월1.value_counts().sort_index().index[9],10)\n",
    "df1.연월1 = df1.연월1.replace(df1.연월1.value_counts().sort_index().index[10],11)\n",
    "df1.연월1 = df1.연월1.replace(df1.연월1.value_counts().sort_index().index[11],12)\n",
    "df1.연월1 = df1.연월1.replace(df1.연월1.value_counts().sort_index().index[12],13)\n",
    "df1.연월1 = df1.연월1.replace(df1.연월1.value_counts().sort_index().index[13],14)\n",
    "df1.연월1 = df1.연월1.replace(df1.연월1.value_counts().sort_index().index[14],15)\n",
    "df1.연월1 = df1.연월1.replace(df1.연월1.value_counts().sort_index().index[15],16)"
   ]
  },
  {
   "cell_type": "code",
   "execution_count": 13,
   "metadata": {},
   "outputs": [],
   "source": [
    "df1.연월1 = df1.연월1.astype(int)"
   ]
  },
  {
   "cell_type": "code",
   "execution_count": 16,
   "metadata": {},
   "outputs": [
    {
     "data": {
      "text/plain": [
       "강원     146353\n",
       "경기    2008246\n",
       "경남     185824\n",
       "경북     153958\n",
       "광주     102617\n",
       "대구     142069\n",
       "대전     106469\n",
       "부산     231624\n",
       "서울    2494747\n",
       "세종      29975\n",
       "울산      71219\n",
       "인천     351445\n",
       "전남     112013\n",
       "전북     122429\n",
       "제주      54445\n",
       "충남     174664\n",
       "충북     119705\n",
       "Name: 고객_시도, dtype: int64"
      ]
     },
     "execution_count": 16,
     "metadata": {},
     "output_type": "execute_result"
    }
   ],
   "source": [
    "df1.고객_시도.value_counts().sort_index()"
   ]
  },
  {
   "cell_type": "code",
   "execution_count": 17,
   "metadata": {},
   "outputs": [],
   "source": [
    "df1['고객_시도1'] = df1['고객_시도']"
   ]
  },
  {
   "cell_type": "code",
   "execution_count": 19,
   "metadata": {
    "scrolled": true
   },
   "outputs": [],
   "source": [
    "df1.고객_시도1 = df1.고객_시도1.replace('강원', 1)\n",
    "df1.고객_시도1 = df1.고객_시도1.replace('경기', 2)\n",
    "df1.고객_시도1 = df1.고객_시도1.replace('경남', 3)\n",
    "df1.고객_시도1 = df1.고객_시도1.replace('경북', 4)\n",
    "df1.고객_시도1 = df1.고객_시도1.replace('광주', 5)\n",
    "df1.고객_시도1 = df1.고객_시도1.replace('대구', 6)\n",
    "df1.고객_시도1 = df1.고객_시도1.replace('대전', 7)\n",
    "df1.고객_시도1 = df1.고객_시도1.replace('부산', 8)\n",
    "df1.고객_시도1 = df1.고객_시도1.replace('서울', 9)\n",
    "df1.고객_시도1 = df1.고객_시도1.replace('세종', 10)\n",
    "df1.고객_시도1 = df1.고객_시도1.replace('울산', 11)\n",
    "df1.고객_시도1 = df1.고객_시도1.replace('인천', 12)\n",
    "df1.고객_시도1 = df1.고객_시도1.replace('전남', 13)\n",
    "df1.고객_시도1 = df1.고객_시도1.replace('전북', 14)\n",
    "df1.고객_시도1 = df1.고객_시도1.replace('제주', 15)\n",
    "df1.고객_시도1 = df1.고객_시도1.replace('충남', 16)\n",
    "df1.고객_시도1 = df1.고객_시도1.replace('충북', 17)"
   ]
  },
  {
   "cell_type": "code",
   "execution_count": 20,
   "metadata": {},
   "outputs": [],
   "source": [
    "df1['업종명1'] = df1['업종명']"
   ]
  },
  {
   "cell_type": "code",
   "execution_count": 21,
   "metadata": {},
   "outputs": [
    {
     "data": {
      "text/plain": [
       "39"
      ]
     },
     "execution_count": 21,
     "metadata": {},
     "output_type": "execute_result"
    }
   ],
   "source": [
    "len(df1.업종명.value_counts().sort_index().index)"
   ]
  },
  {
   "cell_type": "code",
   "execution_count": 22,
   "metadata": {},
   "outputs": [],
   "source": [
    "for i in range(len(df1.업종명.value_counts().sort_index().index)) :\n",
    "    df1.업종명1 = df1.업종명1.replace(df1.업종명.value_counts().sort_index().index[i],i+1)"
   ]
  },
  {
   "cell_type": "code",
   "execution_count": 23,
   "metadata": {},
   "outputs": [
    {
     "data": {
      "text/html": [
       "<div>\n",
       "<style scoped>\n",
       "    .dataframe tbody tr th:only-of-type {\n",
       "        vertical-align: middle;\n",
       "    }\n",
       "\n",
       "    .dataframe tbody tr th {\n",
       "        vertical-align: top;\n",
       "    }\n",
       "\n",
       "    .dataframe thead th {\n",
       "        text-align: right;\n",
       "    }\n",
       "</style>\n",
       "<table border=\"1\" class=\"dataframe\">\n",
       "  <thead>\n",
       "    <tr style=\"text-align: right;\">\n",
       "      <th></th>\n",
       "      <th>연월</th>\n",
       "      <th>매장_시도</th>\n",
       "      <th>매장_시군구</th>\n",
       "      <th>업종명</th>\n",
       "      <th>고객_시도</th>\n",
       "      <th>고객_시군구</th>\n",
       "      <th>연령대</th>\n",
       "      <th>성별</th>\n",
       "      <th>가구생애주기</th>\n",
       "      <th>이용고객수</th>\n",
       "      <th>이용금액</th>\n",
       "      <th>이용건수</th>\n",
       "      <th>연월1</th>\n",
       "      <th>고객_시도1</th>\n",
       "      <th>업종명1</th>\n",
       "    </tr>\n",
       "  </thead>\n",
       "  <tbody>\n",
       "    <tr>\n",
       "      <th>0</th>\n",
       "      <td>2019-01-01</td>\n",
       "      <td>서울</td>\n",
       "      <td>강남구</td>\n",
       "      <td>건강보조식품 소매업</td>\n",
       "      <td>강원</td>\n",
       "      <td>강릉시</td>\n",
       "      <td>60</td>\n",
       "      <td>2</td>\n",
       "      <td>5</td>\n",
       "      <td>7</td>\n",
       "      <td>1181300</td>\n",
       "      <td>8</td>\n",
       "      <td>1</td>\n",
       "      <td>1</td>\n",
       "      <td>1</td>\n",
       "    </tr>\n",
       "    <tr>\n",
       "      <th>1</th>\n",
       "      <td>2019-01-01</td>\n",
       "      <td>서울</td>\n",
       "      <td>강남구</td>\n",
       "      <td>건강보조식품 소매업</td>\n",
       "      <td>강원</td>\n",
       "      <td>속초시</td>\n",
       "      <td>50</td>\n",
       "      <td>2</td>\n",
       "      <td>4</td>\n",
       "      <td>3</td>\n",
       "      <td>756000</td>\n",
       "      <td>4</td>\n",
       "      <td>1</td>\n",
       "      <td>1</td>\n",
       "      <td>1</td>\n",
       "    </tr>\n",
       "    <tr>\n",
       "      <th>2</th>\n",
       "      <td>2019-01-01</td>\n",
       "      <td>서울</td>\n",
       "      <td>강남구</td>\n",
       "      <td>건강보조식품 소매업</td>\n",
       "      <td>강원</td>\n",
       "      <td>원주시</td>\n",
       "      <td>50</td>\n",
       "      <td>2</td>\n",
       "      <td>4</td>\n",
       "      <td>6</td>\n",
       "      <td>2480710</td>\n",
       "      <td>14</td>\n",
       "      <td>1</td>\n",
       "      <td>1</td>\n",
       "      <td>1</td>\n",
       "    </tr>\n",
       "    <tr>\n",
       "      <th>3</th>\n",
       "      <td>2019-01-01</td>\n",
       "      <td>서울</td>\n",
       "      <td>강남구</td>\n",
       "      <td>건강보조식품 소매업</td>\n",
       "      <td>강원</td>\n",
       "      <td>원주시</td>\n",
       "      <td>60</td>\n",
       "      <td>2</td>\n",
       "      <td>5</td>\n",
       "      <td>6</td>\n",
       "      <td>3604450</td>\n",
       "      <td>7</td>\n",
       "      <td>1</td>\n",
       "      <td>1</td>\n",
       "      <td>1</td>\n",
       "    </tr>\n",
       "    <tr>\n",
       "      <th>4</th>\n",
       "      <td>2019-01-01</td>\n",
       "      <td>서울</td>\n",
       "      <td>강남구</td>\n",
       "      <td>건강보조식품 소매업</td>\n",
       "      <td>강원</td>\n",
       "      <td>춘천시</td>\n",
       "      <td>50</td>\n",
       "      <td>2</td>\n",
       "      <td>4</td>\n",
       "      <td>4</td>\n",
       "      <td>1952750</td>\n",
       "      <td>11</td>\n",
       "      <td>1</td>\n",
       "      <td>1</td>\n",
       "      <td>1</td>\n",
       "    </tr>\n",
       "    <tr>\n",
       "      <th>...</th>\n",
       "      <td>...</td>\n",
       "      <td>...</td>\n",
       "      <td>...</td>\n",
       "      <td>...</td>\n",
       "      <td>...</td>\n",
       "      <td>...</td>\n",
       "      <td>...</td>\n",
       "      <td>...</td>\n",
       "      <td>...</td>\n",
       "      <td>...</td>\n",
       "      <td>...</td>\n",
       "      <td>...</td>\n",
       "      <td>...</td>\n",
       "      <td>...</td>\n",
       "      <td>...</td>\n",
       "    </tr>\n",
       "    <tr>\n",
       "      <th>6607797</th>\n",
       "      <td>2020-04-01</td>\n",
       "      <td>서울</td>\n",
       "      <td>중랑구</td>\n",
       "      <td>화장품 및 방향제 소매업</td>\n",
       "      <td>인천</td>\n",
       "      <td>연수구</td>\n",
       "      <td>40</td>\n",
       "      <td>2</td>\n",
       "      <td>3</td>\n",
       "      <td>7</td>\n",
       "      <td>46000</td>\n",
       "      <td>9</td>\n",
       "      <td>16</td>\n",
       "      <td>12</td>\n",
       "      <td>39</td>\n",
       "    </tr>\n",
       "    <tr>\n",
       "      <th>6607798</th>\n",
       "      <td>2020-04-01</td>\n",
       "      <td>서울</td>\n",
       "      <td>중랑구</td>\n",
       "      <td>화장품 및 방향제 소매업</td>\n",
       "      <td>인천</td>\n",
       "      <td>연수구</td>\n",
       "      <td>50</td>\n",
       "      <td>2</td>\n",
       "      <td>4</td>\n",
       "      <td>4</td>\n",
       "      <td>64000</td>\n",
       "      <td>5</td>\n",
       "      <td>16</td>\n",
       "      <td>12</td>\n",
       "      <td>39</td>\n",
       "    </tr>\n",
       "    <tr>\n",
       "      <th>6607799</th>\n",
       "      <td>2020-04-01</td>\n",
       "      <td>서울</td>\n",
       "      <td>중랑구</td>\n",
       "      <td>화장품 및 방향제 소매업</td>\n",
       "      <td>인천</td>\n",
       "      <td>연수구</td>\n",
       "      <td>60</td>\n",
       "      <td>1</td>\n",
       "      <td>5</td>\n",
       "      <td>3</td>\n",
       "      <td>72900</td>\n",
       "      <td>5</td>\n",
       "      <td>16</td>\n",
       "      <td>12</td>\n",
       "      <td>39</td>\n",
       "    </tr>\n",
       "    <tr>\n",
       "      <th>6607800</th>\n",
       "      <td>2020-04-01</td>\n",
       "      <td>서울</td>\n",
       "      <td>중랑구</td>\n",
       "      <td>화장품 및 방향제 소매업</td>\n",
       "      <td>인천</td>\n",
       "      <td>연수구</td>\n",
       "      <td>60</td>\n",
       "      <td>2</td>\n",
       "      <td>5</td>\n",
       "      <td>9</td>\n",
       "      <td>64800</td>\n",
       "      <td>9</td>\n",
       "      <td>16</td>\n",
       "      <td>12</td>\n",
       "      <td>39</td>\n",
       "    </tr>\n",
       "    <tr>\n",
       "      <th>6607801</th>\n",
       "      <td>2020-04-01</td>\n",
       "      <td>서울</td>\n",
       "      <td>중랑구</td>\n",
       "      <td>화장품 및 방향제 소매업</td>\n",
       "      <td>인천</td>\n",
       "      <td>연수구</td>\n",
       "      <td>70</td>\n",
       "      <td>1</td>\n",
       "      <td>5</td>\n",
       "      <td>8</td>\n",
       "      <td>126300</td>\n",
       "      <td>9</td>\n",
       "      <td>16</td>\n",
       "      <td>12</td>\n",
       "      <td>39</td>\n",
       "    </tr>\n",
       "  </tbody>\n",
       "</table>\n",
       "<p>6607802 rows × 15 columns</p>\n",
       "</div>"
      ],
      "text/plain": [
       "                연월 매장_시도 매장_시군구            업종명 고객_시도 고객_시군구  연령대  성별  가구생애주기  \\\n",
       "0       2019-01-01    서울    강남구     건강보조식품 소매업    강원    강릉시   60   2       5   \n",
       "1       2019-01-01    서울    강남구     건강보조식품 소매업    강원    속초시   50   2       4   \n",
       "2       2019-01-01    서울    강남구     건강보조식품 소매업    강원    원주시   50   2       4   \n",
       "3       2019-01-01    서울    강남구     건강보조식품 소매업    강원    원주시   60   2       5   \n",
       "4       2019-01-01    서울    강남구     건강보조식품 소매업    강원    춘천시   50   2       4   \n",
       "...            ...   ...    ...            ...   ...    ...  ...  ..     ...   \n",
       "6607797 2020-04-01    서울    중랑구  화장품 및 방향제 소매업    인천    연수구   40   2       3   \n",
       "6607798 2020-04-01    서울    중랑구  화장품 및 방향제 소매업    인천    연수구   50   2       4   \n",
       "6607799 2020-04-01    서울    중랑구  화장품 및 방향제 소매업    인천    연수구   60   1       5   \n",
       "6607800 2020-04-01    서울    중랑구  화장품 및 방향제 소매업    인천    연수구   60   2       5   \n",
       "6607801 2020-04-01    서울    중랑구  화장품 및 방향제 소매업    인천    연수구   70   1       5   \n",
       "\n",
       "         이용고객수     이용금액  이용건수  연월1  고객_시도1  업종명1  \n",
       "0            7  1181300     8    1       1     1  \n",
       "1            3   756000     4    1       1     1  \n",
       "2            6  2480710    14    1       1     1  \n",
       "3            6  3604450     7    1       1     1  \n",
       "4            4  1952750    11    1       1     1  \n",
       "...        ...      ...   ...  ...     ...   ...  \n",
       "6607797      7    46000     9   16      12    39  \n",
       "6607798      4    64000     5   16      12    39  \n",
       "6607799      3    72900     5   16      12    39  \n",
       "6607800      9    64800     9   16      12    39  \n",
       "6607801      8   126300     9   16      12    39  \n",
       "\n",
       "[6607802 rows x 15 columns]"
      ]
     },
     "execution_count": 23,
     "metadata": {},
     "output_type": "execute_result"
    }
   ],
   "source": [
    "df1"
   ]
  },
  {
   "cell_type": "code",
   "execution_count": null,
   "metadata": {},
   "outputs": [],
   "source": [
    "df1.to_csv('모델링용.csv')"
   ]
  },
  {
   "cell_type": "code",
   "execution_count": 118,
   "metadata": {},
   "outputs": [],
   "source": [
    "df1 = pd.read_csv('모델링용.csv')"
   ]
  },
  {
   "cell_type": "code",
   "execution_count": 105,
   "metadata": {},
   "outputs": [],
   "source": [
    "d = pd.DataFrame(df1['이용금액'].groupby([df1['연월1'],df1['고객_시도1'],df1['업종명1']]).sum())"
   ]
  },
  {
   "cell_type": "code",
   "execution_count": null,
   "metadata": {},
   "outputs": [],
   "source": [
    "d.to_csv('모델링용2.csv',encoding = 'utf-8')  "
   ]
  },
  {
   "cell_type": "code",
   "execution_count": 119,
   "metadata": {},
   "outputs": [],
   "source": [
    "df2 = pd.read_csv('모델링용2.csv') "
   ]
  },
  {
   "cell_type": "code",
   "execution_count": 120,
   "metadata": {},
   "outputs": [],
   "source": [
    "X = df2"
   ]
  },
  {
   "cell_type": "code",
   "execution_count": 121,
   "metadata": {},
   "outputs": [],
   "source": [
    "train_df = X.sample( frac = 0.8, random_state = 0 )\n",
    "test_df = X.drop( train_df.index )"
   ]
  },
  {
   "cell_type": "code",
   "execution_count": 122,
   "metadata": {},
   "outputs": [],
   "source": [
    "y_train = train_df.pop( '이용금액' )\n",
    "y_test = test_df.pop( '이용금액' )"
   ]
  },
  {
   "cell_type": "code",
   "execution_count": 123,
   "metadata": {},
   "outputs": [],
   "source": [
    "X_train = np.asarray( train_df)\n",
    "X_test = np.asarray( test_df )"
   ]
  },
  {
   "cell_type": "code",
   "execution_count": 124,
   "metadata": {},
   "outputs": [],
   "source": [
    "X_train = np.array( X_train )\n",
    "X_test = np.array( X_test )"
   ]
  },
  {
   "cell_type": "code",
   "execution_count": 125,
   "metadata": {},
   "outputs": [],
   "source": [
    "y_train = np.array( y_train )\n",
    "y_test = np.array( y_test )"
   ]
  },
  {
   "cell_type": "code",
   "execution_count": null,
   "metadata": {},
   "outputs": [],
   "source": []
  },
  {
   "cell_type": "code",
   "execution_count": null,
   "metadata": {},
   "outputs": [],
   "source": []
  },
  {
   "cell_type": "code",
   "execution_count": null,
   "metadata": {},
   "outputs": [],
   "source": []
  },
  {
   "cell_type": "code",
   "execution_count": null,
   "metadata": {},
   "outputs": [],
   "source": []
  },
  {
   "cell_type": "code",
   "execution_count": 127,
   "metadata": {},
   "outputs": [],
   "source": [
    "import xgboost\n",
    "model = xgboost.XGBRegressor(learning_rate=0.1,\n",
    "                             max_depth=50,\n",
    "                             n_estimators=1000) "
   ]
  },
  {
   "cell_type": "code",
   "execution_count": 128,
   "metadata": {},
   "outputs": [
    {
     "data": {
      "text/plain": [
       "XGBRegressor(base_score=0.5, booster='gbtree', colsample_bylevel=1,\n",
       "             colsample_bynode=1, colsample_bytree=1, gamma=0, gpu_id=-1,\n",
       "             importance_type='gain', interaction_constraints='',\n",
       "             learning_rate=0.1, max_delta_step=0, max_depth=50,\n",
       "             min_child_weight=1, missing=nan, monotone_constraints='()',\n",
       "             n_estimators=1000, n_jobs=4, num_parallel_tree=1, random_state=0,\n",
       "             reg_alpha=0, reg_lambda=1, scale_pos_weight=1, subsample=1,\n",
       "             tree_method='exact', validate_parameters=1, verbosity=None)"
      ]
     },
     "execution_count": 128,
     "metadata": {},
     "output_type": "execute_result"
    }
   ],
   "source": [
    "model.fit(X_train,y_train)"
   ]
  },
  {
   "cell_type": "code",
   "execution_count": 129,
   "metadata": {},
   "outputs": [
    {
     "data": {
      "image/png": "[encoded data removed]",
      "text/plain": [
       "<Figure size 432x288 with 1 Axes>"
      ]
     },
     "metadata": {
      "needs_background": "light"
     },
     "output_type": "display_data"
    }
   ],
   "source": [
    "sns.scatterplot(y_test, model.predict(X_test));"
   ]
  },
  {
   "cell_type": "code",
   "execution_count": 17,
   "metadata": {},
   "outputs": [],
   "source": [
    "predictions = [round(value) for value in model.predict(X_test)]\n",
    "from sklearn.metrics import explained_variance_score, mean_squared_error, mean_absolute_error, r2_score"
   ]
  },
  {
   "cell_type": "code",
   "execution_count": 18,
   "metadata": {},
   "outputs": [
    {
     "name": "stdout",
     "output_type": "stream",
     "text": [
      "explained_variance_score: 0.9899647115799959\n",
      "mean_squared_errors: 1.1273750099334717e+18\n",
      "r2_score: 0.9899484193366147\n"
     ]
    }
   ],
   "source": [
    "print('explained_variance_score: {}'.format(explained_variance_score(y_test, model.predict(X_test))))\n",
    "print('mean_squared_errors: {}'.format(mean_squared_error(y_test, model.predict(X_test))))\n",
    "print('r2_score: {}'.format(r2_score(y_test, model.predict(X_test))))"
   ]
  },
  {
   "cell_type": "code",
   "execution_count": 133,
   "metadata": {},
   "outputs": [],
   "source": [
    "from xgboost import plot_importance"
   ]
  },
  {
   "cell_type": "code",
   "execution_count": 141,
   "metadata": {},
   "outputs": [],
   "source": [
    "aa=pd.read_csv('project2/Seoul.csv')"
   ]
  },
  {
   "cell_type": "code",
   "execution_count": 145,
   "metadata": {},
   "outputs": [],
   "source": []
  },
  {
   "cell_type": "code",
   "execution_count": 148,
   "metadata": {},
   "outputs": [
    {
     "data": {
      "text/plain": [
       "array([[12, 13, 21],\n",
       "       [ 6,  8, 30],\n",
       "       [13, 15,  6],\n",
       "       ...,\n",
       "       [ 3,  4, 26],\n",
       "       [11, 11,  1],\n",
       "       [ 6, 12,  7]], dtype=int64)"
      ]
     },
     "execution_count": 148,
     "metadata": {},
     "output_type": "execute_result"
    }
   ],
   "source": []
  },
  {
   "cell_type": "code",
   "execution_count": 168,
   "metadata": {},
   "outputs": [],
   "source": [
    "forest=RandomForestRegressor(n_estimators=1000, criterion='mse')"
   ]
  },
  {
   "cell_type": "code",
   "execution_count": 169,
   "metadata": {},
   "outputs": [
    {
     "data": {
      "text/plain": [
       "RandomForestRegressor(n_estimators=1000)"
      ]
     },
     "execution_count": 169,
     "metadata": {},
     "output_type": "execute_result"
    }
   ],
   "source": [
    "forest.fit(X_train,y_train)"
   ]
  },
  {
   "cell_type": "code",
   "execution_count": 170,
   "metadata": {},
   "outputs": [
    {
     "data": {
      "text/plain": [
       "0.009846896834895268"
      ]
     },
     "execution_count": 170,
     "metadata": {},
     "output_type": "execute_result"
    }
   ],
   "source": [
    "mean_squared_error(y_test, forest.predict(X_test))"
   ]
  },
  {
   "cell_type": "code",
   "execution_count": 171,
   "metadata": {},
   "outputs": [
    {
     "name": "stdout",
     "output_type": "stream",
     "text": [
      "R2- Train: 0.999, Test: 0.993\n"
     ]
    }
   ],
   "source": [
    "y_train_pred=forest.predict(X_train)\n",
    "y_test_pred=forest.predict(X_test)\n",
    "\n",
    "r2_train=r2_score(y_train,y_train_pred)\n",
    "\n",
    "r2_test=r2_score(y_test,y_test_pred)\n",
    "print('R2- Train: %.3f, Test: %.3f'%(r2_train,r2_test))"
   ]
  },
  {
   "cell_type": "code",
   "execution_count": 157,
   "metadata": {},
   "outputs": [
    {
     "data": {
      "image/png": "[encoded data removed]",
      "text/plain": [
       "<Figure size 432x288 with 1 Axes>"
      ]
     },
     "metadata": {
      "needs_background": "light"
     },
     "output_type": "display_data"
    }
   ],
   "source": [
    "sns.scatterplot(y_test, forest.predict(X_test));"
   ]
  },
  {
   "cell_type": "code",
   "execution_count": 41,
   "metadata": {
    "scrolled": true
   },
   "outputs": [],
   "source": [
    "submission= pd.read_excel('submission2.xlsx') "
   ]
  },
  {
   "cell_type": "code",
   "execution_count": 42,
   "metadata": {},
   "outputs": [
    {
     "data": {
      "text/html": [
       "<div>\n",
       "<style scoped>\n",
       "    .dataframe tbody tr th:only-of-type {\n",
       "        vertical-align: middle;\n",
       "    }\n",
       "\n",
       "    .dataframe tbody tr th {\n",
       "        vertical-align: top;\n",
       "    }\n",
       "\n",
       "    .dataframe thead th {\n",
       "        text-align: right;\n",
       "    }\n",
       "</style>\n",
       "<table border=\"1\" class=\"dataframe\">\n",
       "  <thead>\n",
       "    <tr style=\"text-align: right;\">\n",
       "      <th></th>\n",
       "      <th>id</th>\n",
       "      <th>REG_YYMM</th>\n",
       "      <th>CARD_SIDO_NM</th>\n",
       "      <th>STD_CLSS_NM</th>\n",
       "      <th>AMT</th>\n",
       "    </tr>\n",
       "  </thead>\n",
       "  <tbody>\n",
       "    <tr>\n",
       "      <th>0</th>\n",
       "      <td>0</td>\n",
       "      <td>202004</td>\n",
       "      <td>강남구</td>\n",
       "      <td>건강보조식품 소매업</td>\n",
       "      <td>0</td>\n",
       "    </tr>\n",
       "    <tr>\n",
       "      <th>1</th>\n",
       "      <td>1</td>\n",
       "      <td>202004</td>\n",
       "      <td>강남구</td>\n",
       "      <td>골프장 운영업</td>\n",
       "      <td>0</td>\n",
       "    </tr>\n",
       "    <tr>\n",
       "      <th>2</th>\n",
       "      <td>2</td>\n",
       "      <td>202004</td>\n",
       "      <td>강남구</td>\n",
       "      <td>과실 및 채소 소매업</td>\n",
       "      <td>0</td>\n",
       "    </tr>\n",
       "    <tr>\n",
       "      <th>3</th>\n",
       "      <td>3</td>\n",
       "      <td>202004</td>\n",
       "      <td>강남구</td>\n",
       "      <td>관광 민예품 및 선물용품 소매업</td>\n",
       "      <td>0</td>\n",
       "    </tr>\n",
       "    <tr>\n",
       "      <th>4</th>\n",
       "      <td>4</td>\n",
       "      <td>202004</td>\n",
       "      <td>강남구</td>\n",
       "      <td>그외 기타 분류안된 오락관련 서비스업</td>\n",
       "      <td>0</td>\n",
       "    </tr>\n",
       "    <tr>\n",
       "      <th>...</th>\n",
       "      <td>...</td>\n",
       "      <td>...</td>\n",
       "      <td>...</td>\n",
       "      <td>...</td>\n",
       "      <td>...</td>\n",
       "    </tr>\n",
       "    <tr>\n",
       "      <th>1020</th>\n",
       "      <td>1020</td>\n",
       "      <td>202004</td>\n",
       "      <td>중랑구</td>\n",
       "      <td>피자 햄버거 샌드위치 및 유사 음식점업</td>\n",
       "      <td>0</td>\n",
       "    </tr>\n",
       "    <tr>\n",
       "      <th>1021</th>\n",
       "      <td>1021</td>\n",
       "      <td>202004</td>\n",
       "      <td>중랑구</td>\n",
       "      <td>한식 음식점업</td>\n",
       "      <td>0</td>\n",
       "    </tr>\n",
       "    <tr>\n",
       "      <th>1022</th>\n",
       "      <td>1022</td>\n",
       "      <td>202004</td>\n",
       "      <td>중랑구</td>\n",
       "      <td>호텔업</td>\n",
       "      <td>0</td>\n",
       "    </tr>\n",
       "    <tr>\n",
       "      <th>1023</th>\n",
       "      <td>1023</td>\n",
       "      <td>202004</td>\n",
       "      <td>중랑구</td>\n",
       "      <td>화장품 및 방향제 소매업</td>\n",
       "      <td>0</td>\n",
       "    </tr>\n",
       "    <tr>\n",
       "      <th>1024</th>\n",
       "      <td>1024</td>\n",
       "      <td>202004</td>\n",
       "      <td>중랑구</td>\n",
       "      <td>휴양콘도 운영업</td>\n",
       "      <td>0</td>\n",
       "    </tr>\n",
       "  </tbody>\n",
       "</table>\n",
       "<p>1025 rows × 5 columns</p>\n",
       "</div>"
      ],
      "text/plain": [
       "        id  REG_YYMM CARD_SIDO_NM            STD_CLSS_NM  AMT\n",
       "0        0    202004          강남구             건강보조식품 소매업    0\n",
       "1        1    202004          강남구                골프장 운영업    0\n",
       "2        2    202004          강남구            과실 및 채소 소매업    0\n",
       "3        3    202004          강남구      관광 민예품 및 선물용품 소매업    0\n",
       "4        4    202004          강남구   그외 기타 분류안된 오락관련 서비스업    0\n",
       "...    ...       ...          ...                    ...  ...\n",
       "1020  1020    202004          중랑구  피자 햄버거 샌드위치 및 유사 음식점업    0\n",
       "1021  1021    202004          중랑구                한식 음식점업    0\n",
       "1022  1022    202004          중랑구                    호텔업    0\n",
       "1023  1023    202004          중랑구          화장품 및 방향제 소매업    0\n",
       "1024  1024    202004          중랑구               휴양콘도 운영업    0\n",
       "\n",
       "[1025 rows x 5 columns]"
      ]
     },
     "execution_count": 42,
     "metadata": {},
     "output_type": "execute_result"
    }
   ],
   "source": [
    "submission"
   ]
  },
  {
   "cell_type": "code",
   "execution_count": 44,
   "metadata": {},
   "outputs": [],
   "source": [
    "# 모델이 넣을 변수 모양을 만들기 위해 파생변수 생성\n",
    "submission['업종명'] = submission['STD_CLSS_NM']\n",
    "submission['연월'] = submission['REG_YYMM']\n",
    "submission['매장_시군구'] = submission['CARD_SIDO_NM']  "
   ]
  },
  {
   "cell_type": "code",
   "execution_count": 45,
   "metadata": {},
   "outputs": [],
   "source": [
    "for i in range(len(submission.STD_CLSS_NM.value_counts().sort_index().index)) :\n",
    "    submission.업종명 = submission.업종명.replace(submission.STD_CLSS_NM.value_counts().sort_index().index[i],i+1)"
   ]
  },
  {
   "cell_type": "code",
   "execution_count": 47,
   "metadata": {
    "scrolled": true
   },
   "outputs": [],
   "source": [
    "for i in range(len(submission.CARD_SIDO_NM.value_counts().sort_index().index)) :\n",
    "    submission.매장_시군구 = submission.매장_시군구.replace(submission.CARD_SIDO_NM.value_counts().sort_index().index[i],i+1)"
   ]
  },
  {
   "cell_type": "code",
   "execution_count": 49,
   "metadata": {},
   "outputs": [],
   "source": [
    "submission.연월 = submission.연월.replace(submission.연월.value_counts().sort_index().index[0],16)"
   ]
  },
  {
   "cell_type": "code",
   "execution_count": 50,
   "metadata": {},
   "outputs": [
    {
     "data": {
      "text/plain": [
       "0       16\n",
       "1       16\n",
       "2       16\n",
       "3       16\n",
       "4       16\n",
       "        ..\n",
       "1020    16\n",
       "1021    16\n",
       "1022    16\n",
       "1023    16\n",
       "1024    16\n",
       "Name: 연월, Length: 1025, dtype: int64"
      ]
     },
     "execution_count": 50,
     "metadata": {},
     "output_type": "execute_result"
    }
   ],
   "source": [
    "submission.연월"
   ]
  },
  {
   "cell_type": "code",
   "execution_count": 53,
   "metadata": {},
   "outputs": [],
   "source": [
    "pred = submission[['연월','매장_시군구','업종명']]  "
   ]
  },
  {
   "cell_type": "code",
   "execution_count": 54,
   "metadata": {},
   "outputs": [],
   "source": [
    "pred = np.asarray(pred)\n",
    "pred = np.array(pred)"
   ]
  },
  {
   "cell_type": "code",
   "execution_count": 55,
   "metadata": {},
   "outputs": [],
   "source": [
    "submission.AMT = list(model.predict(pred).round(0).astype(int))"
   ]
  },
  {
   "cell_type": "code",
   "execution_count": 56,
   "metadata": {
    "scrolled": true
   },
   "outputs": [
    {
     "data": {
      "text/plain": [
       "0        1\n",
       "1        1\n",
       "2        1\n",
       "3        1\n",
       "4        1\n",
       "        ..\n",
       "1020    25\n",
       "1021    25\n",
       "1022    25\n",
       "1023    25\n",
       "1024    25\n",
       "Name: 매장_시군구, Length: 1025, dtype: int64"
      ]
     },
     "execution_count": 56,
     "metadata": {},
     "output_type": "execute_result"
    }
   ],
   "source": [
    "submission.pop('업종명')\n",
    "submission.pop('연월')\n",
    "submission.pop('매장_시군구')"
   ]
  },
  {
   "cell_type": "code",
   "execution_count": 173,
   "metadata": {
    "scrolled": true
   },
   "outputs": [
    {
     "data": {
      "text/html": [
       "<div>\n",
       "<style scoped>\n",
       "    .dataframe tbody tr th:only-of-type {\n",
       "        vertical-align: middle;\n",
       "    }\n",
       "\n",
       "    .dataframe tbody tr th {\n",
       "        vertical-align: top;\n",
       "    }\n",
       "\n",
       "    .dataframe thead th {\n",
       "        text-align: right;\n",
       "    }\n",
       "</style>\n",
       "<table border=\"1\" class=\"dataframe\">\n",
       "  <thead>\n",
       "    <tr style=\"text-align: right;\">\n",
       "      <th></th>\n",
       "      <th>id</th>\n",
       "      <th>REG_YYMM</th>\n",
       "      <th>CARD_SIDO_NM</th>\n",
       "      <th>STD_CLSS_NM</th>\n",
       "      <th>AMT</th>\n",
       "      <th>시군구</th>\n",
       "      <th>업종명</th>\n",
       "      <th>연월</th>\n",
       "      <th>매장_시군구</th>\n",
       "    </tr>\n",
       "  </thead>\n",
       "  <tbody>\n",
       "    <tr>\n",
       "      <th>0</th>\n",
       "      <td>0</td>\n",
       "      <td>202004</td>\n",
       "      <td>강남구</td>\n",
       "      <td>건강보조식품 소매업</td>\n",
       "      <td>599999</td>\n",
       "      <td>강남구</td>\n",
       "      <td>1</td>\n",
       "      <td>16</td>\n",
       "      <td>1</td>\n",
       "    </tr>\n",
       "    <tr>\n",
       "      <th>1</th>\n",
       "      <td>1</td>\n",
       "      <td>202004</td>\n",
       "      <td>강남구</td>\n",
       "      <td>골프장 운영업</td>\n",
       "      <td>599999</td>\n",
       "      <td>강남구</td>\n",
       "      <td>2</td>\n",
       "      <td>16</td>\n",
       "      <td>1</td>\n",
       "    </tr>\n",
       "    <tr>\n",
       "      <th>2</th>\n",
       "      <td>2</td>\n",
       "      <td>202004</td>\n",
       "      <td>강남구</td>\n",
       "      <td>과실 및 채소 소매업</td>\n",
       "      <td>6403896</td>\n",
       "      <td>강남구</td>\n",
       "      <td>3</td>\n",
       "      <td>16</td>\n",
       "      <td>1</td>\n",
       "    </tr>\n",
       "    <tr>\n",
       "      <th>3</th>\n",
       "      <td>3</td>\n",
       "      <td>202004</td>\n",
       "      <td>강남구</td>\n",
       "      <td>관광 민예품 및 선물용품 소매업</td>\n",
       "      <td>386000</td>\n",
       "      <td>강남구</td>\n",
       "      <td>4</td>\n",
       "      <td>16</td>\n",
       "      <td>1</td>\n",
       "    </tr>\n",
       "    <tr>\n",
       "      <th>4</th>\n",
       "      <td>4</td>\n",
       "      <td>202004</td>\n",
       "      <td>강남구</td>\n",
       "      <td>그외 기타 분류안된 오락관련 서비스업</td>\n",
       "      <td>461651776</td>\n",
       "      <td>강남구</td>\n",
       "      <td>5</td>\n",
       "      <td>16</td>\n",
       "      <td>1</td>\n",
       "    </tr>\n",
       "    <tr>\n",
       "      <th>5</th>\n",
       "      <td>5</td>\n",
       "      <td>202004</td>\n",
       "      <td>강남구</td>\n",
       "      <td>그외 기타 스포츠시설 운영업</td>\n",
       "      <td>461651776</td>\n",
       "      <td>강남구</td>\n",
       "      <td>6</td>\n",
       "      <td>16</td>\n",
       "      <td>1</td>\n",
       "    </tr>\n",
       "    <tr>\n",
       "      <th>6</th>\n",
       "      <td>6</td>\n",
       "      <td>202004</td>\n",
       "      <td>강남구</td>\n",
       "      <td>그외 기타 종합 소매업</td>\n",
       "      <td>63865592</td>\n",
       "      <td>강남구</td>\n",
       "      <td>7</td>\n",
       "      <td>16</td>\n",
       "      <td>1</td>\n",
       "    </tr>\n",
       "    <tr>\n",
       "      <th>7</th>\n",
       "      <td>7</td>\n",
       "      <td>202004</td>\n",
       "      <td>강남구</td>\n",
       "      <td>기타 대형 종합 소매업</td>\n",
       "      <td>2526999</td>\n",
       "      <td>강남구</td>\n",
       "      <td>8</td>\n",
       "      <td>16</td>\n",
       "      <td>1</td>\n",
       "    </tr>\n",
       "    <tr>\n",
       "      <th>8</th>\n",
       "      <td>8</td>\n",
       "      <td>202004</td>\n",
       "      <td>강남구</td>\n",
       "      <td>기타 수상오락 서비스업</td>\n",
       "      <td>2526999</td>\n",
       "      <td>강남구</td>\n",
       "      <td>9</td>\n",
       "      <td>16</td>\n",
       "      <td>1</td>\n",
       "    </tr>\n",
       "    <tr>\n",
       "      <th>9</th>\n",
       "      <td>9</td>\n",
       "      <td>202004</td>\n",
       "      <td>강남구</td>\n",
       "      <td>기타 외국식 음식점업</td>\n",
       "      <td>507500</td>\n",
       "      <td>강남구</td>\n",
       "      <td>10</td>\n",
       "      <td>16</td>\n",
       "      <td>1</td>\n",
       "    </tr>\n",
       "  </tbody>\n",
       "</table>\n",
       "</div>"
      ],
      "text/plain": [
       "   id  REG_YYMM CARD_SIDO_NM           STD_CLSS_NM        AMT  시군구  업종명  연월  \\\n",
       "0   0    202004          강남구            건강보조식품 소매업     599999  강남구    1  16   \n",
       "1   1    202004          강남구               골프장 운영업     599999  강남구    2  16   \n",
       "2   2    202004          강남구           과실 및 채소 소매업    6403896  강남구    3  16   \n",
       "3   3    202004          강남구     관광 민예품 및 선물용품 소매업     386000  강남구    4  16   \n",
       "4   4    202004          강남구  그외 기타 분류안된 오락관련 서비스업  461651776  강남구    5  16   \n",
       "5   5    202004          강남구       그외 기타 스포츠시설 운영업  461651776  강남구    6  16   \n",
       "6   6    202004          강남구          그외 기타 종합 소매업   63865592  강남구    7  16   \n",
       "7   7    202004          강남구          기타 대형 종합 소매업    2526999  강남구    8  16   \n",
       "8   8    202004          강남구          기타 수상오락 서비스업    2526999  강남구    9  16   \n",
       "9   9    202004          강남구           기타 외국식 음식점업     507500  강남구   10  16   \n",
       "\n",
       "   매장_시군구  \n",
       "0       1  \n",
       "1       1  \n",
       "2       1  \n",
       "3       1  \n",
       "4       1  \n",
       "5       1  \n",
       "6       1  \n",
       "7       1  \n",
       "8       1  \n",
       "9       1  "
      ]
     },
     "execution_count": 173,
     "metadata": {},
     "output_type": "execute_result"
    }
   ],
   "source": [
    "submission.head(10)"
   ]
  },
  {
   "cell_type": "code",
   "execution_count": 62,
   "metadata": {},
   "outputs": [],
   "source": [
    "model1 = LinearRegression()"
   ]
  },
  {
   "cell_type": "code",
   "execution_count": 63,
   "metadata": {},
   "outputs": [
    {
     "data": {
      "text/plain": [
       "LinearRegression()"
      ]
     },
     "execution_count": 63,
     "metadata": {},
     "output_type": "execute_result"
    }
   ],
   "source": [
    "model1.fit(X_train, y_train)"
   ]
  },
  {
   "cell_type": "code",
   "execution_count": 61,
   "metadata": {},
   "outputs": [],
   "source": [
    "from sklearn.linear_model import LinearRegression"
   ]
  },
  {
   "cell_type": "code",
   "execution_count": 64,
   "metadata": {},
   "outputs": [
    {
     "data": {
      "text/plain": [
       "array([1.12894204e+09, 2.40550486e+09, 2.51651032e+09, ...,\n",
       "       9.45570566e+08, 1.72260880e+09, 1.83361426e+09])"
      ]
     },
     "execution_count": 64,
     "metadata": {},
     "output_type": "execute_result"
    }
   ],
   "source": [
    "model1.predict(X_test)"
   ]
  },
  {
   "cell_type": "code",
   "execution_count": 93,
   "metadata": {},
   "outputs": [
    {
     "data": {
      "text/plain": [
       "array([ -4571916.98481525, -76552958.9480134 ,  55502731.04803278])"
      ]
     },
     "execution_count": 93,
     "metadata": {},
     "output_type": "execute_result"
    }
   ],
   "source": [
    "model1.coef_"
   ]
  },
  {
   "cell_type": "code",
   "execution_count": 65,
   "metadata": {},
   "outputs": [
    {
     "data": {
      "image/png": "[encoded data removed]",
      "text/plain": [
       "<Figure size 432x288 with 1 Axes>"
      ]
     },
     "metadata": {
      "needs_background": "light"
     },
     "output_type": "display_data"
    }
   ],
   "source": [
    "# 예측값과 실제값을 산점도로 비교\n",
    "plt.scatter(y_test, model1.predict(X_test), alpha=0.4)\n",
    "plt.xlabel(\"Actual\")\n",
    "plt.ylabel(\"Predicted\")\n",
    "plt.show()"
   ]
  },
  {
   "cell_type": "code",
   "execution_count": 66,
   "metadata": {},
   "outputs": [
    {
     "name": "stdout",
     "output_type": "stream",
     "text": [
      "0.006780940376536648\n"
     ]
    }
   ],
   "source": [
    "print(model1.score(X_train, y_train))"
   ]
  },
  {
   "cell_type": "code",
   "execution_count": 159,
   "metadata": {},
   "outputs": [],
   "source": [
    "df2 = pd.read_csv('모델링용2.csv') "
   ]
  },
  {
   "cell_type": "code",
   "execution_count": 160,
   "metadata": {},
   "outputs": [
    {
     "data": {
      "text/html": [
       "<div>\n",
       "<style scoped>\n",
       "    .dataframe tbody tr th:only-of-type {\n",
       "        vertical-align: middle;\n",
       "    }\n",
       "\n",
       "    .dataframe tbody tr th {\n",
       "        vertical-align: top;\n",
       "    }\n",
       "\n",
       "    .dataframe thead th {\n",
       "        text-align: right;\n",
       "    }\n",
       "</style>\n",
       "<table border=\"1\" class=\"dataframe\">\n",
       "  <thead>\n",
       "    <tr style=\"text-align: right;\">\n",
       "      <th></th>\n",
       "      <th>count</th>\n",
       "      <th>mean</th>\n",
       "      <th>std</th>\n",
       "      <th>min</th>\n",
       "      <th>25%</th>\n",
       "      <th>50%</th>\n",
       "      <th>75%</th>\n",
       "      <th>max</th>\n",
       "    </tr>\n",
       "  </thead>\n",
       "  <tbody>\n",
       "    <tr>\n",
       "      <th>연월1</th>\n",
       "      <td>9276.0</td>\n",
       "      <td>8.405563e+00</td>\n",
       "      <td>4.573052e+00</td>\n",
       "      <td>1.0</td>\n",
       "      <td>4.0</td>\n",
       "      <td>8.0</td>\n",
       "      <td>12.0</td>\n",
       "      <td>1.600000e+01</td>\n",
       "    </tr>\n",
       "    <tr>\n",
       "      <th>고객_시도1</th>\n",
       "      <td>9276.0</td>\n",
       "      <td>8.943295e+00</td>\n",
       "      <td>4.896120e+00</td>\n",
       "      <td>1.0</td>\n",
       "      <td>5.0</td>\n",
       "      <td>9.0</td>\n",
       "      <td>13.0</td>\n",
       "      <td>1.700000e+01</td>\n",
       "    </tr>\n",
       "    <tr>\n",
       "      <th>업종명1</th>\n",
       "      <td>9276.0</td>\n",
       "      <td>2.119394e+01</td>\n",
       "      <td>1.103280e+01</td>\n",
       "      <td>1.0</td>\n",
       "      <td>12.0</td>\n",
       "      <td>22.0</td>\n",
       "      <td>30.0</td>\n",
       "      <td>3.900000e+01</td>\n",
       "    </tr>\n",
       "    <tr>\n",
       "      <th>이용금액</th>\n",
       "      <td>9276.0</td>\n",
       "      <td>1.668571e+09</td>\n",
       "      <td>9.070539e+09</td>\n",
       "      <td>3000.0</td>\n",
       "      <td>6533120.0</td>\n",
       "      <td>68465277.5</td>\n",
       "      <td>424656313.5</td>\n",
       "      <td>1.750131e+11</td>\n",
       "    </tr>\n",
       "  </tbody>\n",
       "</table>\n",
       "</div>"
      ],
      "text/plain": [
       "         count          mean           std     min        25%         50%  \\\n",
       "연월1     9276.0  8.405563e+00  4.573052e+00     1.0        4.0         8.0   \n",
       "고객_시도1  9276.0  8.943295e+00  4.896120e+00     1.0        5.0         9.0   \n",
       "업종명1    9276.0  2.119394e+01  1.103280e+01     1.0       12.0        22.0   \n",
       "이용금액    9276.0  1.668571e+09  9.070539e+09  3000.0  6533120.0  68465277.5   \n",
       "\n",
       "                75%           max  \n",
       "연월1            12.0  1.600000e+01  \n",
       "고객_시도1         13.0  1.700000e+01  \n",
       "업종명1           30.0  3.900000e+01  \n",
       "이용금액    424656313.5  1.750131e+11  "
      ]
     },
     "execution_count": 160,
     "metadata": {},
     "output_type": "execute_result"
    }
   ],
   "source": [
    "df2_stats = df2.describe()\n",
    "df2_stats = df2_stats.transpose()\n",
    "df2_stats"
   ]
  },
  {
   "cell_type": "code",
   "execution_count": 161,
   "metadata": {},
   "outputs": [],
   "source": [
    "def normalization( x ):\n",
    "  return ( x - df2_stats[ 'mean' ] ) / df2_stats[ 'std' ]"
   ]
  },
  {
   "cell_type": "code",
   "execution_count": 162,
   "metadata": {},
   "outputs": [
    {
     "data": {
      "text/html": [
       "<div>\n",
       "<style scoped>\n",
       "    .dataframe tbody tr th:only-of-type {\n",
       "        vertical-align: middle;\n",
       "    }\n",
       "\n",
       "    .dataframe tbody tr th {\n",
       "        vertical-align: top;\n",
       "    }\n",
       "\n",
       "    .dataframe thead th {\n",
       "        text-align: right;\n",
       "    }\n",
       "</style>\n",
       "<table border=\"1\" class=\"dataframe\">\n",
       "  <thead>\n",
       "    <tr style=\"text-align: right;\">\n",
       "      <th></th>\n",
       "      <th>연월1</th>\n",
       "      <th>고객_시도1</th>\n",
       "      <th>업종명1</th>\n",
       "      <th>이용금액</th>\n",
       "    </tr>\n",
       "  </thead>\n",
       "  <tbody>\n",
       "    <tr>\n",
       "      <th>0</th>\n",
       "      <td>1</td>\n",
       "      <td>1</td>\n",
       "      <td>1</td>\n",
       "      <td>-0.182673</td>\n",
       "    </tr>\n",
       "    <tr>\n",
       "      <th>1</th>\n",
       "      <td>1</td>\n",
       "      <td>1</td>\n",
       "      <td>3</td>\n",
       "      <td>-0.183846</td>\n",
       "    </tr>\n",
       "    <tr>\n",
       "      <th>2</th>\n",
       "      <td>1</td>\n",
       "      <td>1</td>\n",
       "      <td>4</td>\n",
       "      <td>-0.183887</td>\n",
       "    </tr>\n",
       "    <tr>\n",
       "      <th>3</th>\n",
       "      <td>1</td>\n",
       "      <td>1</td>\n",
       "      <td>6</td>\n",
       "      <td>-0.134666</td>\n",
       "    </tr>\n",
       "    <tr>\n",
       "      <th>4</th>\n",
       "      <td>1</td>\n",
       "      <td>1</td>\n",
       "      <td>7</td>\n",
       "      <td>-0.162537</td>\n",
       "    </tr>\n",
       "    <tr>\n",
       "      <th>...</th>\n",
       "      <td>...</td>\n",
       "      <td>...</td>\n",
       "      <td>...</td>\n",
       "      <td>...</td>\n",
       "    </tr>\n",
       "    <tr>\n",
       "      <th>9271</th>\n",
       "      <td>16</td>\n",
       "      <td>17</td>\n",
       "      <td>35</td>\n",
       "      <td>0.015746</td>\n",
       "    </tr>\n",
       "    <tr>\n",
       "      <th>9272</th>\n",
       "      <td>16</td>\n",
       "      <td>17</td>\n",
       "      <td>36</td>\n",
       "      <td>-0.180255</td>\n",
       "    </tr>\n",
       "    <tr>\n",
       "      <th>9273</th>\n",
       "      <td>16</td>\n",
       "      <td>17</td>\n",
       "      <td>37</td>\n",
       "      <td>-0.162000</td>\n",
       "    </tr>\n",
       "    <tr>\n",
       "      <th>9274</th>\n",
       "      <td>16</td>\n",
       "      <td>17</td>\n",
       "      <td>38</td>\n",
       "      <td>-0.183504</td>\n",
       "    </tr>\n",
       "    <tr>\n",
       "      <th>9275</th>\n",
       "      <td>16</td>\n",
       "      <td>17</td>\n",
       "      <td>39</td>\n",
       "      <td>-0.164073</td>\n",
       "    </tr>\n",
       "  </tbody>\n",
       "</table>\n",
       "<p>9276 rows × 4 columns</p>\n",
       "</div>"
      ],
      "text/plain": [
       "      연월1  고객_시도1  업종명1      이용금액\n",
       "0       1       1     1 -0.182673\n",
       "1       1       1     3 -0.183846\n",
       "2       1       1     4 -0.183887\n",
       "3       1       1     6 -0.134666\n",
       "4       1       1     7 -0.162537\n",
       "...   ...     ...   ...       ...\n",
       "9271   16      17    35  0.015746\n",
       "9272   16      17    36 -0.180255\n",
       "9273   16      17    37 -0.162000\n",
       "9274   16      17    38 -0.183504\n",
       "9275   16      17    39 -0.164073\n",
       "\n",
       "[9276 rows x 4 columns]"
      ]
     },
     "execution_count": 162,
     "metadata": {},
     "output_type": "execute_result"
    }
   ],
   "source": [
    "# 정규화 실시 \n",
    "df3 = normalization(df2)\n",
    "df2['이용금액'] = df3['이용금액']\n",
    "df2"
   ]
  },
  {
   "cell_type": "code",
   "execution_count": 163,
   "metadata": {},
   "outputs": [],
   "source": [
    "# train, test 데이터로 나누기\n",
    "train_df2 = df2.sample( frac = 0.8, random_state = 0 )\n",
    "test_df2 = df2.drop( train_df2.index )"
   ]
  },
  {
   "cell_type": "code",
   "execution_count": 164,
   "metadata": {},
   "outputs": [],
   "source": [
    "# y데이터 분리\n",
    "y_train = train_df2.pop( '이용금액' )\n",
    "y_test = test_df2.pop( '이용금액' )"
   ]
  },
  {
   "cell_type": "code",
   "execution_count": 165,
   "metadata": {},
   "outputs": [],
   "source": [
    "# X,y 데이터를 NumPy 배열로 변경\n",
    "X_train = np.asarray( train_df2)\n",
    "X_test = np.asarray( test_df2)"
   ]
  },
  {
   "cell_type": "code",
   "execution_count": 166,
   "metadata": {},
   "outputs": [],
   "source": [
    "X_train = np.array( train_df2)\n",
    "X_test = np.array( test_df2)"
   ]
  },
  {
   "cell_type": "code",
   "execution_count": 167,
   "metadata": {},
   "outputs": [],
   "source": [
    "y_train = np.array( y_train )\n",
    "y_test = np.array( y_test )"
   ]
  },
  {
   "cell_type": "code",
   "execution_count": null,
   "metadata": {},
   "outputs": [],
   "source": []
  },
  {
   "cell_type": "code",
   "execution_count": 76,
   "metadata": {},
   "outputs": [],
   "source": [
    "modelB = xgboost.XGBRegressor(learning_rate=0.1,\n",
    "                             max_depth=50,\n",
    "                              n_estimators=1000) "
   ]
  },
  {
   "cell_type": "code",
   "execution_count": 77,
   "metadata": {},
   "outputs": [
    {
     "data": {
      "text/plain": [
       "XGBRegressor(base_score=0.5, booster='gbtree', colsample_bylevel=1,\n",
       "             colsample_bynode=1, colsample_bytree=1, gamma=0, gpu_id=-1,\n",
       "             importance_type='gain', interaction_constraints='',\n",
       "             learning_rate=0.1, max_delta_step=0, max_depth=50,\n",
       "             min_child_weight=1, missing=nan, monotone_constraints='()',\n",
       "             n_estimators=1000, n_jobs=4, num_parallel_tree=1, random_state=0,\n",
       "             reg_alpha=0, reg_lambda=1, scale_pos_weight=1, subsample=1,\n",
       "             tree_method='exact', validate_parameters=1, verbosity=None)"
      ]
     },
     "execution_count": 77,
     "metadata": {},
     "output_type": "execute_result"
    }
   ],
   "source": [
    "modelB.fit(X_train,y_train)"
   ]
  },
  {
   "cell_type": "code",
   "execution_count": 78,
   "metadata": {},
   "outputs": [
    {
     "data": {
      "text/plain": [
       "<AxesSubplot:>"
      ]
     },
     "execution_count": 78,
     "metadata": {},
     "output_type": "execute_result"
    },
    {
     "data": {
      "image/png": "[encoded data removed]",
      "text/plain": [
       "<Figure size 432x288 with 1 Axes>"
      ]
     },
     "metadata": {
      "needs_background": "light"
     },
     "output_type": "display_data"
    }
   ],
   "source": [
    "sns.scatterplot(y_test, modelB.predict(X_test))"
   ]
  },
  {
   "cell_type": "code",
   "execution_count": 79,
   "metadata": {},
   "outputs": [],
   "source": [
    "predictions = [round(value) for value in modelB.predict(X_test)]"
   ]
  },
  {
   "cell_type": "code",
   "execution_count": 80,
   "metadata": {},
   "outputs": [
    {
     "name": "stdout",
     "output_type": "stream",
     "text": [
      "explained_variance_score: 0.9901808222782266\n",
      "mean_squared_errors: 0.013399948689118351\n",
      "r2_score: 0.990170412556166\n"
     ]
    }
   ],
   "source": [
    "print('explained_variance_score: {}'.format(explained_variance_score(y_test, modelB.predict(X_test))))\n",
    "print('mean_squared_errors: {}'.format(mean_squared_error(y_test, modelB.predict(X_test))))\n",
    "print('r2_score: {}'.format(r2_score(y_test, modelB.predict(X_test))))"
   ]
  },
  {
   "cell_type": "code",
   "execution_count": 107,
   "metadata": {
    "scrolled": true
   },
   "outputs": [
    {
     "data": {
      "text/html": [
       "<div>\n",
       "<style scoped>\n",
       "    .dataframe tbody tr th:only-of-type {\n",
       "        vertical-align: middle;\n",
       "    }\n",
       "\n",
       "    .dataframe tbody tr th {\n",
       "        vertical-align: top;\n",
       "    }\n",
       "\n",
       "    .dataframe thead th {\n",
       "        text-align: right;\n",
       "    }\n",
       "</style>\n",
       "<table border=\"1\" class=\"dataframe\">\n",
       "  <thead>\n",
       "    <tr style=\"text-align: right;\">\n",
       "      <th></th>\n",
       "      <th>id</th>\n",
       "      <th>REG_YYMM</th>\n",
       "      <th>CARD_SIDO_NM</th>\n",
       "      <th>STD_CLSS_NM</th>\n",
       "      <th>AMT</th>\n",
       "      <th>시군구</th>\n",
       "      <th>업종명</th>\n",
       "      <th>연월</th>\n",
       "      <th>매장_시군구</th>\n",
       "    </tr>\n",
       "  </thead>\n",
       "  <tbody>\n",
       "    <tr>\n",
       "      <th>943</th>\n",
       "      <td>943</td>\n",
       "      <td>202004</td>\n",
       "      <td>중구</td>\n",
       "      <td>건강보조식품 소매업</td>\n",
       "      <td>776171</td>\n",
       "      <td>중구</td>\n",
       "      <td>1</td>\n",
       "      <td>16</td>\n",
       "      <td>24</td>\n",
       "    </tr>\n",
       "    <tr>\n",
       "      <th>944</th>\n",
       "      <td>944</td>\n",
       "      <td>202004</td>\n",
       "      <td>중구</td>\n",
       "      <td>골프장 운영업</td>\n",
       "      <td>3270640</td>\n",
       "      <td>중구</td>\n",
       "      <td>2</td>\n",
       "      <td>16</td>\n",
       "      <td>24</td>\n",
       "    </tr>\n",
       "    <tr>\n",
       "      <th>945</th>\n",
       "      <td>945</td>\n",
       "      <td>202004</td>\n",
       "      <td>중구</td>\n",
       "      <td>과실 및 채소 소매업</td>\n",
       "      <td>7242627</td>\n",
       "      <td>중구</td>\n",
       "      <td>3</td>\n",
       "      <td>16</td>\n",
       "      <td>24</td>\n",
       "    </tr>\n",
       "    <tr>\n",
       "      <th>946</th>\n",
       "      <td>946</td>\n",
       "      <td>202004</td>\n",
       "      <td>중구</td>\n",
       "      <td>관광 민예품 및 선물용품 소매업</td>\n",
       "      <td>-16281</td>\n",
       "      <td>중구</td>\n",
       "      <td>4</td>\n",
       "      <td>16</td>\n",
       "      <td>24</td>\n",
       "    </tr>\n",
       "    <tr>\n",
       "      <th>947</th>\n",
       "      <td>947</td>\n",
       "      <td>202004</td>\n",
       "      <td>중구</td>\n",
       "      <td>그외 기타 분류안된 오락관련 서비스업</td>\n",
       "      <td>6725838</td>\n",
       "      <td>중구</td>\n",
       "      <td>5</td>\n",
       "      <td>16</td>\n",
       "      <td>24</td>\n",
       "    </tr>\n",
       "    <tr>\n",
       "      <th>948</th>\n",
       "      <td>948</td>\n",
       "      <td>202004</td>\n",
       "      <td>중구</td>\n",
       "      <td>그외 기타 스포츠시설 운영업</td>\n",
       "      <td>627754496</td>\n",
       "      <td>중구</td>\n",
       "      <td>6</td>\n",
       "      <td>16</td>\n",
       "      <td>24</td>\n",
       "    </tr>\n",
       "    <tr>\n",
       "      <th>949</th>\n",
       "      <td>949</td>\n",
       "      <td>202004</td>\n",
       "      <td>중구</td>\n",
       "      <td>그외 기타 종합 소매업</td>\n",
       "      <td>54077608</td>\n",
       "      <td>중구</td>\n",
       "      <td>7</td>\n",
       "      <td>16</td>\n",
       "      <td>24</td>\n",
       "    </tr>\n",
       "    <tr>\n",
       "      <th>950</th>\n",
       "      <td>950</td>\n",
       "      <td>202004</td>\n",
       "      <td>중구</td>\n",
       "      <td>기타 대형 종합 소매업</td>\n",
       "      <td>2154702</td>\n",
       "      <td>중구</td>\n",
       "      <td>8</td>\n",
       "      <td>16</td>\n",
       "      <td>24</td>\n",
       "    </tr>\n",
       "    <tr>\n",
       "      <th>951</th>\n",
       "      <td>951</td>\n",
       "      <td>202004</td>\n",
       "      <td>중구</td>\n",
       "      <td>기타 수상오락 서비스업</td>\n",
       "      <td>2154702</td>\n",
       "      <td>중구</td>\n",
       "      <td>9</td>\n",
       "      <td>16</td>\n",
       "      <td>24</td>\n",
       "    </tr>\n",
       "    <tr>\n",
       "      <th>952</th>\n",
       "      <td>952</td>\n",
       "      <td>202004</td>\n",
       "      <td>중구</td>\n",
       "      <td>기타 외국식 음식점업</td>\n",
       "      <td>69195</td>\n",
       "      <td>중구</td>\n",
       "      <td>10</td>\n",
       "      <td>16</td>\n",
       "      <td>24</td>\n",
       "    </tr>\n",
       "    <tr>\n",
       "      <th>953</th>\n",
       "      <td>953</td>\n",
       "      <td>202004</td>\n",
       "      <td>중구</td>\n",
       "      <td>기타 주점업</td>\n",
       "      <td>571892544</td>\n",
       "      <td>중구</td>\n",
       "      <td>11</td>\n",
       "      <td>16</td>\n",
       "      <td>24</td>\n",
       "    </tr>\n",
       "    <tr>\n",
       "      <th>954</th>\n",
       "      <td>954</td>\n",
       "      <td>202004</td>\n",
       "      <td>중구</td>\n",
       "      <td>기타음식료품위주종합소매업</td>\n",
       "      <td>5555142</td>\n",
       "      <td>중구</td>\n",
       "      <td>12</td>\n",
       "      <td>16</td>\n",
       "      <td>24</td>\n",
       "    </tr>\n",
       "    <tr>\n",
       "      <th>955</th>\n",
       "      <td>955</td>\n",
       "      <td>202004</td>\n",
       "      <td>중구</td>\n",
       "      <td>내항 여객 운송업</td>\n",
       "      <td>2190194</td>\n",
       "      <td>중구</td>\n",
       "      <td>13</td>\n",
       "      <td>16</td>\n",
       "      <td>24</td>\n",
       "    </tr>\n",
       "    <tr>\n",
       "      <th>956</th>\n",
       "      <td>956</td>\n",
       "      <td>202004</td>\n",
       "      <td>중구</td>\n",
       "      <td>마사지업</td>\n",
       "      <td>2430858</td>\n",
       "      <td>중구</td>\n",
       "      <td>14</td>\n",
       "      <td>16</td>\n",
       "      <td>24</td>\n",
       "    </tr>\n",
       "    <tr>\n",
       "      <th>957</th>\n",
       "      <td>957</td>\n",
       "      <td>202004</td>\n",
       "      <td>중구</td>\n",
       "      <td>면세점</td>\n",
       "      <td>112982960</td>\n",
       "      <td>중구</td>\n",
       "      <td>15</td>\n",
       "      <td>16</td>\n",
       "      <td>24</td>\n",
       "    </tr>\n",
       "    <tr>\n",
       "      <th>958</th>\n",
       "      <td>958</td>\n",
       "      <td>202004</td>\n",
       "      <td>중구</td>\n",
       "      <td>버스 운송업</td>\n",
       "      <td>198689120</td>\n",
       "      <td>중구</td>\n",
       "      <td>16</td>\n",
       "      <td>16</td>\n",
       "      <td>24</td>\n",
       "    </tr>\n",
       "    <tr>\n",
       "      <th>959</th>\n",
       "      <td>959</td>\n",
       "      <td>202004</td>\n",
       "      <td>중구</td>\n",
       "      <td>비알콜 음료점업</td>\n",
       "      <td>5925981</td>\n",
       "      <td>중구</td>\n",
       "      <td>17</td>\n",
       "      <td>16</td>\n",
       "      <td>24</td>\n",
       "    </tr>\n",
       "    <tr>\n",
       "      <th>960</th>\n",
       "      <td>960</td>\n",
       "      <td>202004</td>\n",
       "      <td>중구</td>\n",
       "      <td>빵 및 과자류 소매업</td>\n",
       "      <td>57143600</td>\n",
       "      <td>중구</td>\n",
       "      <td>18</td>\n",
       "      <td>16</td>\n",
       "      <td>24</td>\n",
       "    </tr>\n",
       "    <tr>\n",
       "      <th>961</th>\n",
       "      <td>961</td>\n",
       "      <td>202004</td>\n",
       "      <td>중구</td>\n",
       "      <td>서양식 음식점업</td>\n",
       "      <td>611999</td>\n",
       "      <td>중구</td>\n",
       "      <td>19</td>\n",
       "      <td>16</td>\n",
       "      <td>24</td>\n",
       "    </tr>\n",
       "    <tr>\n",
       "      <th>962</th>\n",
       "      <td>962</td>\n",
       "      <td>202004</td>\n",
       "      <td>중구</td>\n",
       "      <td>수산물 소매업</td>\n",
       "      <td>23849830</td>\n",
       "      <td>중구</td>\n",
       "      <td>20</td>\n",
       "      <td>16</td>\n",
       "      <td>24</td>\n",
       "    </tr>\n",
       "    <tr>\n",
       "      <th>963</th>\n",
       "      <td>963</td>\n",
       "      <td>202004</td>\n",
       "      <td>중구</td>\n",
       "      <td>슈퍼마켓</td>\n",
       "      <td>116308448</td>\n",
       "      <td>중구</td>\n",
       "      <td>21</td>\n",
       "      <td>16</td>\n",
       "      <td>24</td>\n",
       "    </tr>\n",
       "    <tr>\n",
       "      <th>964</th>\n",
       "      <td>964</td>\n",
       "      <td>202004</td>\n",
       "      <td>중구</td>\n",
       "      <td>스포츠 및 레크레이션 용품 임대업</td>\n",
       "      <td>794999</td>\n",
       "      <td>중구</td>\n",
       "      <td>22</td>\n",
       "      <td>16</td>\n",
       "      <td>24</td>\n",
       "    </tr>\n",
       "    <tr>\n",
       "      <th>965</th>\n",
       "      <td>965</td>\n",
       "      <td>202004</td>\n",
       "      <td>중구</td>\n",
       "      <td>여관업</td>\n",
       "      <td>189500</td>\n",
       "      <td>중구</td>\n",
       "      <td>23</td>\n",
       "      <td>16</td>\n",
       "      <td>24</td>\n",
       "    </tr>\n",
       "    <tr>\n",
       "      <th>966</th>\n",
       "      <td>966</td>\n",
       "      <td>202004</td>\n",
       "      <td>중구</td>\n",
       "      <td>여행사업</td>\n",
       "      <td>341861</td>\n",
       "      <td>중구</td>\n",
       "      <td>24</td>\n",
       "      <td>16</td>\n",
       "      <td>24</td>\n",
       "    </tr>\n",
       "    <tr>\n",
       "      <th>967</th>\n",
       "      <td>967</td>\n",
       "      <td>202004</td>\n",
       "      <td>중구</td>\n",
       "      <td>욕탕업</td>\n",
       "      <td>432700</td>\n",
       "      <td>중구</td>\n",
       "      <td>25</td>\n",
       "      <td>16</td>\n",
       "      <td>24</td>\n",
       "    </tr>\n",
       "    <tr>\n",
       "      <th>968</th>\n",
       "      <td>968</td>\n",
       "      <td>202004</td>\n",
       "      <td>중구</td>\n",
       "      <td>육류 소매업</td>\n",
       "      <td>55000</td>\n",
       "      <td>중구</td>\n",
       "      <td>26</td>\n",
       "      <td>16</td>\n",
       "      <td>24</td>\n",
       "    </tr>\n",
       "    <tr>\n",
       "      <th>969</th>\n",
       "      <td>969</td>\n",
       "      <td>202004</td>\n",
       "      <td>중구</td>\n",
       "      <td>일반유흥 주점업</td>\n",
       "      <td>9597726</td>\n",
       "      <td>중구</td>\n",
       "      <td>27</td>\n",
       "      <td>16</td>\n",
       "      <td>24</td>\n",
       "    </tr>\n",
       "    <tr>\n",
       "      <th>970</th>\n",
       "      <td>970</td>\n",
       "      <td>202004</td>\n",
       "      <td>중구</td>\n",
       "      <td>일식 음식점업</td>\n",
       "      <td>480450</td>\n",
       "      <td>중구</td>\n",
       "      <td>28</td>\n",
       "      <td>16</td>\n",
       "      <td>24</td>\n",
       "    </tr>\n",
       "    <tr>\n",
       "      <th>971</th>\n",
       "      <td>971</td>\n",
       "      <td>202004</td>\n",
       "      <td>중구</td>\n",
       "      <td>자동차 임대업</td>\n",
       "      <td>268600</td>\n",
       "      <td>중구</td>\n",
       "      <td>29</td>\n",
       "      <td>16</td>\n",
       "      <td>24</td>\n",
       "    </tr>\n",
       "    <tr>\n",
       "      <th>972</th>\n",
       "      <td>972</td>\n",
       "      <td>202004</td>\n",
       "      <td>중구</td>\n",
       "      <td>전시 및 행사 대행업</td>\n",
       "      <td>40568416</td>\n",
       "      <td>중구</td>\n",
       "      <td>30</td>\n",
       "      <td>16</td>\n",
       "      <td>24</td>\n",
       "    </tr>\n",
       "    <tr>\n",
       "      <th>973</th>\n",
       "      <td>973</td>\n",
       "      <td>202004</td>\n",
       "      <td>중구</td>\n",
       "      <td>정기 항공 운송업</td>\n",
       "      <td>4199698</td>\n",
       "      <td>중구</td>\n",
       "      <td>31</td>\n",
       "      <td>16</td>\n",
       "      <td>24</td>\n",
       "    </tr>\n",
       "    <tr>\n",
       "      <th>974</th>\n",
       "      <td>974</td>\n",
       "      <td>202004</td>\n",
       "      <td>중구</td>\n",
       "      <td>중식 음식점업</td>\n",
       "      <td>88424</td>\n",
       "      <td>중구</td>\n",
       "      <td>32</td>\n",
       "      <td>16</td>\n",
       "      <td>24</td>\n",
       "    </tr>\n",
       "    <tr>\n",
       "      <th>975</th>\n",
       "      <td>975</td>\n",
       "      <td>202004</td>\n",
       "      <td>중구</td>\n",
       "      <td>차량용 가스 충전업</td>\n",
       "      <td>25424030</td>\n",
       "      <td>중구</td>\n",
       "      <td>33</td>\n",
       "      <td>16</td>\n",
       "      <td>24</td>\n",
       "    </tr>\n",
       "    <tr>\n",
       "      <th>976</th>\n",
       "      <td>976</td>\n",
       "      <td>202004</td>\n",
       "      <td>중구</td>\n",
       "      <td>차량용 주유소 운영업</td>\n",
       "      <td>131826768</td>\n",
       "      <td>중구</td>\n",
       "      <td>34</td>\n",
       "      <td>16</td>\n",
       "      <td>24</td>\n",
       "    </tr>\n",
       "    <tr>\n",
       "      <th>977</th>\n",
       "      <td>977</td>\n",
       "      <td>202004</td>\n",
       "      <td>중구</td>\n",
       "      <td>체인화 편의점</td>\n",
       "      <td>2065552512</td>\n",
       "      <td>중구</td>\n",
       "      <td>35</td>\n",
       "      <td>16</td>\n",
       "      <td>24</td>\n",
       "    </tr>\n",
       "    <tr>\n",
       "      <th>978</th>\n",
       "      <td>978</td>\n",
       "      <td>202004</td>\n",
       "      <td>중구</td>\n",
       "      <td>택시 운송업</td>\n",
       "      <td>33562784</td>\n",
       "      <td>중구</td>\n",
       "      <td>36</td>\n",
       "      <td>16</td>\n",
       "      <td>24</td>\n",
       "    </tr>\n",
       "    <tr>\n",
       "      <th>979</th>\n",
       "      <td>979</td>\n",
       "      <td>202004</td>\n",
       "      <td>중구</td>\n",
       "      <td>피자 햄버거 샌드위치 및 유사 음식점업</td>\n",
       "      <td>185795008</td>\n",
       "      <td>중구</td>\n",
       "      <td>37</td>\n",
       "      <td>16</td>\n",
       "      <td>24</td>\n",
       "    </tr>\n",
       "    <tr>\n",
       "      <th>980</th>\n",
       "      <td>980</td>\n",
       "      <td>202004</td>\n",
       "      <td>중구</td>\n",
       "      <td>한식 음식점업</td>\n",
       "      <td>4090749</td>\n",
       "      <td>중구</td>\n",
       "      <td>38</td>\n",
       "      <td>16</td>\n",
       "      <td>24</td>\n",
       "    </tr>\n",
       "    <tr>\n",
       "      <th>981</th>\n",
       "      <td>981</td>\n",
       "      <td>202004</td>\n",
       "      <td>중구</td>\n",
       "      <td>호텔업</td>\n",
       "      <td>180337376</td>\n",
       "      <td>중구</td>\n",
       "      <td>39</td>\n",
       "      <td>16</td>\n",
       "      <td>24</td>\n",
       "    </tr>\n",
       "    <tr>\n",
       "      <th>982</th>\n",
       "      <td>982</td>\n",
       "      <td>202004</td>\n",
       "      <td>중구</td>\n",
       "      <td>화장품 및 방향제 소매업</td>\n",
       "      <td>180337376</td>\n",
       "      <td>중구</td>\n",
       "      <td>40</td>\n",
       "      <td>16</td>\n",
       "      <td>24</td>\n",
       "    </tr>\n",
       "    <tr>\n",
       "      <th>983</th>\n",
       "      <td>983</td>\n",
       "      <td>202004</td>\n",
       "      <td>중구</td>\n",
       "      <td>휴양콘도 운영업</td>\n",
       "      <td>180337376</td>\n",
       "      <td>중구</td>\n",
       "      <td>41</td>\n",
       "      <td>16</td>\n",
       "      <td>24</td>\n",
       "    </tr>\n",
       "  </tbody>\n",
       "</table>\n",
       "</div>"
      ],
      "text/plain": [
       "      id  REG_YYMM CARD_SIDO_NM            STD_CLSS_NM         AMT 시군구  업종명  \\\n",
       "943  943    202004           중구             건강보조식품 소매업      776171  중구    1   \n",
       "944  944    202004           중구                골프장 운영업     3270640  중구    2   \n",
       "945  945    202004           중구            과실 및 채소 소매업     7242627  중구    3   \n",
       "946  946    202004           중구      관광 민예품 및 선물용품 소매업      -16281  중구    4   \n",
       "947  947    202004           중구   그외 기타 분류안된 오락관련 서비스업     6725838  중구    5   \n",
       "948  948    202004           중구        그외 기타 스포츠시설 운영업   627754496  중구    6   \n",
       "949  949    202004           중구           그외 기타 종합 소매업    54077608  중구    7   \n",
       "950  950    202004           중구           기타 대형 종합 소매업     2154702  중구    8   \n",
       "951  951    202004           중구           기타 수상오락 서비스업     2154702  중구    9   \n",
       "952  952    202004           중구            기타 외국식 음식점업       69195  중구   10   \n",
       "953  953    202004           중구                 기타 주점업   571892544  중구   11   \n",
       "954  954    202004           중구          기타음식료품위주종합소매업     5555142  중구   12   \n",
       "955  955    202004           중구              내항 여객 운송업     2190194  중구   13   \n",
       "956  956    202004           중구                   마사지업     2430858  중구   14   \n",
       "957  957    202004           중구                    면세점   112982960  중구   15   \n",
       "958  958    202004           중구                 버스 운송업   198689120  중구   16   \n",
       "959  959    202004           중구               비알콜 음료점업     5925981  중구   17   \n",
       "960  960    202004           중구            빵 및 과자류 소매업    57143600  중구   18   \n",
       "961  961    202004           중구               서양식 음식점업      611999  중구   19   \n",
       "962  962    202004           중구                수산물 소매업    23849830  중구   20   \n",
       "963  963    202004           중구                   슈퍼마켓   116308448  중구   21   \n",
       "964  964    202004           중구     스포츠 및 레크레이션 용품 임대업      794999  중구   22   \n",
       "965  965    202004           중구                    여관업      189500  중구   23   \n",
       "966  966    202004           중구                   여행사업      341861  중구   24   \n",
       "967  967    202004           중구                    욕탕업      432700  중구   25   \n",
       "968  968    202004           중구                 육류 소매업       55000  중구   26   \n",
       "969  969    202004           중구               일반유흥 주점업     9597726  중구   27   \n",
       "970  970    202004           중구                일식 음식점업      480450  중구   28   \n",
       "971  971    202004           중구                자동차 임대업      268600  중구   29   \n",
       "972  972    202004           중구            전시 및 행사 대행업    40568416  중구   30   \n",
       "973  973    202004           중구              정기 항공 운송업     4199698  중구   31   \n",
       "974  974    202004           중구                중식 음식점업       88424  중구   32   \n",
       "975  975    202004           중구             차량용 가스 충전업    25424030  중구   33   \n",
       "976  976    202004           중구            차량용 주유소 운영업   131826768  중구   34   \n",
       "977  977    202004           중구                체인화 편의점  2065552512  중구   35   \n",
       "978  978    202004           중구                 택시 운송업    33562784  중구   36   \n",
       "979  979    202004           중구  피자 햄버거 샌드위치 및 유사 음식점업   185795008  중구   37   \n",
       "980  980    202004           중구                한식 음식점업     4090749  중구   38   \n",
       "981  981    202004           중구                    호텔업   180337376  중구   39   \n",
       "982  982    202004           중구          화장품 및 방향제 소매업   180337376  중구   40   \n",
       "983  983    202004           중구               휴양콘도 운영업   180337376  중구   41   \n",
       "\n",
       "     연월  매장_시군구  \n",
       "943  16      24  \n",
       "944  16      24  \n",
       "945  16      24  \n",
       "946  16      24  \n",
       "947  16      24  \n",
       "948  16      24  \n",
       "949  16      24  \n",
       "950  16      24  \n",
       "951  16      24  \n",
       "952  16      24  \n",
       "953  16      24  \n",
       "954  16      24  \n",
       "955  16      24  \n",
       "956  16      24  \n",
       "957  16      24  \n",
       "958  16      24  \n",
       "959  16      24  \n",
       "960  16      24  \n",
       "961  16      24  \n",
       "962  16      24  \n",
       "963  16      24  \n",
       "964  16      24  \n",
       "965  16      24  \n",
       "966  16      24  \n",
       "967  16      24  \n",
       "968  16      24  \n",
       "969  16      24  \n",
       "970  16      24  \n",
       "971  16      24  \n",
       "972  16      24  \n",
       "973  16      24  \n",
       "974  16      24  \n",
       "975  16      24  \n",
       "976  16      24  \n",
       "977  16      24  \n",
       "978  16      24  \n",
       "979  16      24  \n",
       "980  16      24  \n",
       "981  16      24  \n",
       "982  16      24  \n",
       "983  16      24  "
      ]
     },
     "execution_count": 107,
     "metadata": {},
     "output_type": "execute_result"
    }
   ],
   "source": []
  },
  {
   "cell_type": "code",
   "execution_count": 82,
   "metadata": {},
   "outputs": [],
   "source": [
    "submission['업종명'] = submission['STD_CLSS_NM']\n",
    "submission['연월'] = submission['REG_YYMM']\n",
    "submission['매장_시군구'] = submission['CARD_SIDO_NM']"
   ]
  },
  {
   "cell_type": "code",
   "execution_count": 83,
   "metadata": {},
   "outputs": [],
   "source": [
    "for i in range(len(submission.STD_CLSS_NM.value_counts().sort_index().index)) :\n",
    "    submission.업종명 = submission.업종명.replace(submission.STD_CLSS_NM.value_counts().sort_index().index[i],i+1)"
   ]
  },
  {
   "cell_type": "code",
   "execution_count": 85,
   "metadata": {},
   "outputs": [],
   "source": [
    "for i in range(len(submission.CARD_SIDO_NM.value_counts().sort_index().index)) :\n",
    "    submission.매장_시군구 = submission.매장_시군구.replace(submission.CARD_SIDO_NM.value_counts().sort_index().index[i],i+1)"
   ]
  },
  {
   "cell_type": "code",
   "execution_count": 84,
   "metadata": {},
   "outputs": [],
   "source": [
    "submission.연월 = submission.연월.replace(submission.연월.value_counts().sort_index().index[0],16)"
   ]
  },
  {
   "cell_type": "code",
   "execution_count": 87,
   "metadata": {},
   "outputs": [],
   "source": [
    "# 모델에 넣을 변수만 추출후 NumPy 배열로 변경\n",
    "pred = submission[['연월','매장_시군구','업종명']]\n",
    "pred = np.asarray(pred)\n",
    "pred = np.array(pred)"
   ]
  },
  {
   "cell_type": "code",
   "execution_count": 88,
   "metadata": {},
   "outputs": [
    {
     "data": {
      "text/plain": [
       "array([-0.18418004, -0.18086289, -0.17943183, ..., -0.16479176,\n",
       "       -0.16479176, -0.16479176], dtype=float32)"
      ]
     },
     "execution_count": 88,
     "metadata": {},
     "output_type": "execute_result"
    }
   ],
   "source": [
    "prd = modelB.predict(pred)  # 예측값 알아보기\n",
    "prd"
   ]
  },
  {
   "cell_type": "code",
   "execution_count": 106,
   "metadata": {},
   "outputs": [
    {
     "data": {
      "text/html": [
       "<div>\n",
       "<style scoped>\n",
       "    .dataframe tbody tr th:only-of-type {\n",
       "        vertical-align: middle;\n",
       "    }\n",
       "\n",
       "    .dataframe tbody tr th {\n",
       "        vertical-align: top;\n",
       "    }\n",
       "\n",
       "    .dataframe thead th {\n",
       "        text-align: right;\n",
       "    }\n",
       "</style>\n",
       "<table border=\"1\" class=\"dataframe\">\n",
       "  <thead>\n",
       "    <tr style=\"text-align: right;\">\n",
       "      <th></th>\n",
       "      <th>0</th>\n",
       "    </tr>\n",
       "  </thead>\n",
       "  <tbody>\n",
       "    <tr>\n",
       "      <th>0</th>\n",
       "      <td>-2040704.0</td>\n",
       "    </tr>\n",
       "    <tr>\n",
       "      <th>1</th>\n",
       "      <td>28047488.0</td>\n",
       "    </tr>\n",
       "    <tr>\n",
       "      <th>2</th>\n",
       "      <td>41028096.0</td>\n",
       "    </tr>\n",
       "    <tr>\n",
       "      <th>3</th>\n",
       "      <td>-448256.0</td>\n",
       "    </tr>\n",
       "    <tr>\n",
       "      <th>4</th>\n",
       "      <td>310757248.0</td>\n",
       "    </tr>\n",
       "    <tr>\n",
       "      <th>...</th>\n",
       "      <td>...</td>\n",
       "    </tr>\n",
       "    <tr>\n",
       "      <th>1020</th>\n",
       "      <td>262405888.0</td>\n",
       "    </tr>\n",
       "    <tr>\n",
       "      <th>1021</th>\n",
       "      <td>-529536.0</td>\n",
       "    </tr>\n",
       "    <tr>\n",
       "      <th>1022</th>\n",
       "      <td>173821312.0</td>\n",
       "    </tr>\n",
       "    <tr>\n",
       "      <th>1023</th>\n",
       "      <td>173821312.0</td>\n",
       "    </tr>\n",
       "    <tr>\n",
       "      <th>1024</th>\n",
       "      <td>173821312.0</td>\n",
       "    </tr>\n",
       "  </tbody>\n",
       "</table>\n",
       "<p>1025 rows × 1 columns</p>\n",
       "</div>"
      ],
      "text/plain": [
       "                0\n",
       "0      -2040704.0\n",
       "1      28047488.0\n",
       "2      41028096.0\n",
       "3       -448256.0\n",
       "4     310757248.0\n",
       "...           ...\n",
       "1020  262405888.0\n",
       "1021    -529536.0\n",
       "1022  173821312.0\n",
       "1023  173821312.0\n",
       "1024  173821312.0\n",
       "\n",
       "[1025 rows x 1 columns]"
      ]
     },
     "execution_count": 106,
     "metadata": {},
     "output_type": "execute_result"
    }
   ],
   "source": [
    "# 예측값이 정규화된 형태라 정규화 역과정을 통해 실제 예측값으로 변경 후 확인\n",
    "sub = pd.DataFrame(prd*d['이용금액'].std() + d['이용금액'].mean())\n",
    "sub"
   ]
  },
  {
   "cell_type": "code",
   "execution_count": null,
   "metadata": {},
   "outputs": [],
   "source": []
  }
 ],
 "metadata": {
  "kernelspec": {
   "display_name": "Python 3",
   "language": "python",
   "name": "python3"
  },
  "language_info": {
   "codemirror_mode": {
    "name": "ipython",
    "version": 3
   },
   "file_extension": ".py",
   "mimetype": "text/x-python",
   "name": "python",
   "nbconvert_exporter": "python",
   "pygments_lexer": "ipython3",
   "version": "3.8.5"
  },
  "toc": {
   "base_numbering": 1,
   "nav_menu": {},
   "number_sections": true,
   "sideBar": true,
   "skip_h1_title": false,
   "title_cell": "Table of Contents",
   "title_sidebar": "Contents",
   "toc_cell": false,
   "toc_position": {},
   "toc_section_display": true,
   "toc_window_display": false
  }
 },
 "nbformat": 4,
 "nbformat_minor": 4
}
